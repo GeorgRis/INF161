{
 "cells": [
  {
   "cell_type": "markdown",
   "metadata": {},
   "source": [
    "## Iris klassifikasjon\n",
    "\n",
    "Iris datasettet består av 150 datapunkter som beskriver blomster. Det inneholder tre forskjellige spesies av iris blomsterfamilien."
   ]
  },
  {
   "cell_type": "code",
   "execution_count": null,
   "metadata": {},
   "outputs": [],
   "source": [
    "# imports\n",
    "import numpy as np\n",
    "import pandas as pd\n",
    "from scipy import stats\n",
    "\n",
    "from sklearn.datasets import load_iris\n",
    "from sklearn.model_selection import train_test_split\n",
    "from sklearn.decomposition import PCA \n",
    "from sklearn.neighbors import KNeighborsClassifier\n",
    "from sklearn.metrics import accuracy_score\n",
    "\n",
    "import plotly.express as px\n",
    "import plotly.graph_objects as go"
   ]
  },
  {
   "cell_type": "code",
   "execution_count": null,
   "metadata": {},
   "outputs": [],
   "source": [
    "# lese inn data\n",
    "iris = load_iris()\n",
    "X, y = iris.data, iris.target"
   ]
  },
  {
   "cell_type": "markdown",
   "metadata": {},
   "source": [
    "Her deler vi data i 60% treningsdata, 20% valideringsdata og 20% testdata. "
   ]
  },
  {
   "cell_type": "code",
   "execution_count": null,
   "metadata": {},
   "outputs": [],
   "source": [
    "# dele data i trenings, validerings og testdata\n",
    "# generer X_train, X_val, X_test, y_train, y_val, y_test\n",
    "___"
   ]
  },
  {
   "cell_type": "markdown",
   "metadata": {},
   "source": [
    "Regn ut de første to prinsipale komponenter PC1 og PC2 på treningsdata. Lag et dataframe `pca_df` med to kolonner `PC1` og `PC2` som inneholder de transformerte data. Så lag en scatterfigur med PC1 på x-aksen, PC2 på y-aksen, fargelagt etter type irisplante. Tips: Bruk [`sklearn.decomposition.PCA`](https://scikit-learn.org/stable/modules/generated/sklearn.decomposition.PCA.html). Du har allerede gjort dette i visualiserings-aktivitetet. "
   ]
  },
  {
   "cell_type": "code",
   "execution_count": null,
   "metadata": {},
   "outputs": [],
   "source": [
    "# PCA \n",
    "pca = ___\n",
    "pca_df = ___\n",
    "\n",
    "# Scatterplot\n",
    "fig = ___\n",
    "fig.show()"
   ]
  },
  {
   "cell_type": "markdown",
   "metadata": {},
   "source": [
    "Bruk en statistisk test for å se om det er forskjeller i PC1 og PC2 mellom de ulike klassene. "
   ]
  },
  {
   "cell_type": "code",
   "execution_count": null,
   "metadata": {},
   "outputs": [],
   "source": [
    "for pca_dim in [0, 1]:\n",
    "    for class1 in range(3):\n",
    "        for class2 in range(class1):\n",
    "            pval = ___\n",
    "            print(pval)"
   ]
  },
  {
   "cell_type": "markdown",
   "metadata": {},
   "source": [
    "Lag en k-nærmeste nabo klassifikasjonsmodell for k=1, k=5, k=10, k=20, k=30 på de prinsipale komponentene. Tegn en contour-figur for å se hva som blir klassifisert som hvilken klasse. Hva skjer når k blir større? Tips: Et eksempel er vist under. "
   ]
  },
  {
   "cell_type": "code",
   "execution_count": null,
   "metadata": {},
   "outputs": [],
   "source": [
    "# tilpass 1-NN klassifikasjonsmodell\n",
    "clf = KNeighborsClassifier(n_neighbors=1)\n",
    "clf.fit(pca.transform(X_train), y_train)\n",
    "\n",
    "# lag en grid \n",
    "grid_margins = (np.arange(-4, 4.01, 0.02), \n",
    "                np.arange(-1.5, 1.51, 0.02))\n",
    "lens = [len(margin) for margin in grid_margins]\n",
    "lens.reverse()\n",
    "grid = np.stack(np.meshgrid(*grid_margins), -1).reshape(-1, len(grid_margins))\n",
    "\n",
    "# klassifiser på grid\n",
    "grid_predictions = clf.predict(grid)\n",
    "decision_boundaries = grid_predictions.reshape(lens)"
   ]
  },
  {
   "cell_type": "code",
   "execution_count": null,
   "metadata": {},
   "outputs": [],
   "source": [
    "# Scatterplott av data\n",
    "fig = px.scatter(data_frame=pca_df, \n",
    "                 x='PC1', \n",
    "                 y='PC2', \n",
    "                 color=y_train, \n",
    "                 color_continuous_scale= [(0, '#0173b2'), (0.33, '#0173b2'),\n",
    "                                          (0.33, '#029e73'), (0.67, '#029e73'),\n",
    "                                          (0.67, '#de8f05'), (1, '#de8f05')])\n",
    "# legg til contourplott\n",
    "fig.add_trace(go.Contour(\n",
    "    z=decision_boundaries,\n",
    "    x=grid_margins[0],\n",
    "    y=grid_margins[1], \n",
    "    colorscale = [(0, '#b2d4e7'), (0.5, '#b4e1d4'), (1, '#f2ceb2')],\n",
    "    line_smoothing=0,\n",
    "    showscale=False))\n",
    "\n",
    "# endre layout og vis figuren\n",
    "fig.update_layout(template=\"plotly_white\", \n",
    "                  coloraxis_colorbar=dict(\n",
    "                      title=\"Species\",\n",
    "                      tickvals=[0.3,1,1.7],\n",
    "                      ticktext=iris.target_names,\n",
    "                      lenmode=\"pixels\", \n",
    "                      len=200))\n",
    "fig.show()"
   ]
  },
  {
   "cell_type": "code",
   "execution_count": null,
   "metadata": {},
   "outputs": [],
   "source": [
    "classifiers = {n_neighbors: ___ for n_neighbors in [1, 5, 10, 20, 30]}\n",
    "for key, clf in classifiers.items():\n",
    "    ___"
   ]
  },
  {
   "cell_type": "markdown",
   "metadata": {},
   "source": [
    "Regn ut nøyaktighet av alle modellene dine på valideringsdata. Du må bruke PCA som er trent på treningsdata og bruke transform-metoden på valideringsdata. "
   ]
  },
  {
   "cell_type": "code",
   "execution_count": null,
   "metadata": {},
   "outputs": [],
   "source": [
    "# nøyaktighet på valideringsdata\n",
    "validation_acc = ___\n",
    "validation_acc"
   ]
  },
  {
   "cell_type": "markdown",
   "metadata": {},
   "source": [
    "Regn ut gerneraliseringsevnen av modellen vår på testdata. "
   ]
  },
  {
   "cell_type": "code",
   "execution_count": null,
   "metadata": {},
   "outputs": [],
   "source": [
    "# generaliseringsevnen\n",
    "best_model = ___\n",
    "generalisation_acc = ___"
   ]
  }
 ],
 "metadata": {
  "celltoolbar": "Tags",
  "kernelspec": {
   "display_name": "Python 3 (ipykernel)",
   "language": "python",
   "name": "python3"
  },
  "language_info": {
   "codemirror_mode": {
    "name": "ipython",
    "version": 3
   },
   "file_extension": ".py",
   "mimetype": "text/x-python",
   "name": "python",
   "nbconvert_exporter": "python",
   "pygments_lexer": "ipython3",
   "version": "3.11.3"
  }
 },
 "nbformat": 4,
 "nbformat_minor": 2
}
