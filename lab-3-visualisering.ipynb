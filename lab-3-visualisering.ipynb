{
 "cells": [
  {
   "cell_type": "markdown",
   "metadata": {},
   "source": [
    "## Iris data\n",
    "\n",
    "Iris-blomsterdatasettet er et multivariat datasett introdusert av den britiske statistikeren og biologen Ronald Fisher i sin artikkel fra 1936. Det har blitt et populært dataset for å teste ut nye metoder. Datasettet inneholder 3 klasser, hvor hver klasse refererer til en type irisplante. Her utforsker vi datasettet med forskjellige visualiseringsmetoder. \n",
    "\n",
    "Som alltid laster vi først inn pakkene vi trenger. "
   ]
  },
  {
   "cell_type": "code",
   "execution_count": null,
   "metadata": {},
   "outputs": [],
   "source": [
    "import numpy as np\n",
    "import pandas as pd \n",
    "from sklearn.datasets import load_iris\n",
    "from sklearn.decomposition import PCA \n",
    "\n",
    "import plotly.express as px\n",
    "import plotly.graph_objects as go"
   ]
  },
  {
   "cell_type": "markdown",
   "metadata": {},
   "source": [
    "Så leser vi inn data og forbereder den til analysen. "
   ]
  },
  {
   "cell_type": "code",
   "execution_count": null,
   "metadata": {},
   "outputs": [],
   "source": [
    "# Read the file into a variable iris_data\n",
    "iris = load_iris()\n",
    "iris_data = pd.DataFrame(iris['data'], columns=iris['feature_names'])\n",
    "iris_labels = iris.target_names[iris['target']]\n",
    "\n",
    "# Print the first 5 rows of the data\n",
    "iris_data.head()"
   ]
  },
  {
   "cell_type": "markdown",
   "metadata": {},
   "source": [
    "**En egenskap om gangen**:\n",
    "\n",
    "Først ser vi på en egenskap i datasettet om gangen. \n",
    "Lag et histogram av alle kolonner i datasettet. Tips: Bruk [`plotly.express.histogram`](https://plotly.com/python/histograms/). "
   ]
  },
  {
   "cell_type": "code",
   "execution_count": null,
   "metadata": {},
   "outputs": [],
   "source": [
    "# Histogramer\n",
    "for col in iris_data.columns:\n",
    "    fig = px.histogram(___)\n",
    "    fig.show()"
   ]
  },
  {
   "cell_type": "markdown",
   "metadata": {},
   "source": [
    "Nå vil vi legge til en ekstra dimensjon ved å bruke farge. Fargelegg histogramene etter spesies. "
   ]
  },
  {
   "cell_type": "code",
   "execution_count": null,
   "metadata": {},
   "outputs": [],
   "source": [
    "# Histogramer farget etter spesies\n",
    "for col in iris_data.columns:\n",
    "    fig = px.histogram(___)\n",
    "    fig.show()"
   ]
  },
  {
   "cell_type": "markdown",
   "metadata": {},
   "source": [
    "Så skal vi se på tre egenskaper samtidig. Lag en figur med sepal width på x-aksen, sepal length på y-aksen, fargelagt etter type irisplante, der vi har et punkt for hver plante i datasettet. Tips: Bruk [`plotly.express.scatter`](https://plotly.com/python-api-reference/generated/plotly.express.scatter.html). "
   ]
  },
  {
   "cell_type": "code",
   "execution_count": null,
   "metadata": {},
   "outputs": [],
   "source": [
    "# Scatterplot\n",
    "fig = px.scatter(___)\n",
    "fig.show()"
   ]
  },
  {
   "cell_type": "markdown",
   "metadata": {},
   "source": [
    "I stedet for en scatterplott vil vi noen ganger heller se på 2-dimensjonal tetthet. Lag en 2-dimensjonal tetthetsfigur (contour plot) med `sepal width (cm)` på x-aksen og `sepal length (cm)` på y-aksen. Tips: Bruk [`plotly.express.density_contour`](https://plotly.com/python-api-reference/generated/plotly.express.density_contour.html). "
   ]
  },
  {
   "cell_type": "code",
   "execution_count": null,
   "metadata": {},
   "outputs": [],
   "source": [
    "# Tetthet\n",
    "fig = px.density_contour(___)\n",
    "fig.show()"
   ]
  },
  {
   "cell_type": "markdown",
   "metadata": {},
   "source": [
    "Det blir litt enklere å lese hvis vi ikke bare har konturer, men fargelegger etter tetthet. For å gjøre det, kan vi bruke [`plotly.graph_objects.Figure.update_traces`](https://plotly.com/python-api-reference/generated/plotly.graph_objects.Figure.html#plotly.graph_objects.Figure.update_traces)-metoden med argumentene `contours_coloring=\"fill\"` og for eksempel `colorscale = 'Blues'`. De argumentene kan være vanskelig å finne i dokumentasjonen og det er ofte nødvendig å søke på nettet for å finne slike løsninger. "
   ]
  },
  {
   "cell_type": "code",
   "execution_count": null,
   "metadata": {},
   "outputs": [],
   "source": [
    "# Tetthet\n",
    "fig = px.density_contour(___)\n",
    "fig.update_traces(contours_coloring=\"fill\", \n",
    "                  colorscale = 'Blues')\n",
    "fig.show()"
   ]
  },
  {
   "cell_type": "markdown",
   "metadata": {},
   "source": [
    "Til slutt ser vi på to metoder for å se på alle variablene samtidig. Regn ut de første to prinsipale komponenter PC1 og PC2. Så lag en scatterfigur med PC1 på x-aksen, PC2 på y-aksen, fargelagt etter type irisplante. Tips: Bruk [`sklearn.decomposition.PCA`](https://scikit-learn.org/stable/modules/generated/sklearn.decomposition.PCA.html). Som vi har sett tidligere er sklearn sine metoder er alle bygget opp på en lignende måte. Først må vi lage en modell (`init`-metode), så må vi tilpasse modellen til treningsdata (`fit`-metode) og til slutt kan vi bruke den til å predikere (`predict`-metode) for nye data eller transformere (`transform`-metode) nye data. "
   ]
  },
  {
   "cell_type": "code",
   "execution_count": null,
   "metadata": {
    "tags": [
     "solution"
    ]
   },
   "outputs": [],
   "source": [
    "# PCA \n",
    "pca = PCA(n_components=2)\n",
    "pca.fit(iris_data)\n",
    "pca_df = pd.DataFrame(pca.transform(iris_data), \n",
    "                      columns=['PC1', 'PC2'])\n",
    "# Scatterplot\n",
    "fig = px.scatter(data_frame=pca_df, \n",
    "                 x='PC1', \n",
    "                 y='PC2', \n",
    "                 color=iris_labels,\n",
    "                 labels={'color':'Type'})\n",
    "fig.show()"
   ]
  },
  {
   "cell_type": "markdown",
   "metadata": {},
   "source": [
    "Hvis vi har så få koordinater som her kan det være et alternativ til PCA å bruke parallele koordinater. Bruk parallele koordinater for å visualisere iris data. Tips: Bruk [`plotly.express.parallel_coordinates`](https://plotly.com/python-api-reference/generated/plotly.express.parallel_coordinates.html). "
   ]
  },
  {
   "cell_type": "code",
   "execution_count": null,
   "metadata": {},
   "outputs": [],
   "source": [
    "# Parallele koordinater\n",
    "fig = px.parallel_coordinates(___)\n",
    "\n",
    "fig.show()"
   ]
  },
  {
   "cell_type": "markdown",
   "metadata": {},
   "source": [
    "Fargelegg figuren med parallele koordinater etter type irisplante. Merk at [`plotly.express.parallel_coordinates`](https://plotly.com/python-api-reference/generated/plotly.express.parallel_coordinates.html) ikke er tenkt for å brukes med kategoriske farger. For å få det til likevel, så kan vi bruke en kontinuerlig fargeskala som er stykkevis konstant. Vi må også bruke en numerisk variabel for å fargelegge etter i stedet for den kontinuerlige variablen vi har brukt til nå. "
   ]
  },
  {
   "cell_type": "code",
   "execution_count": null,
   "metadata": {},
   "outputs": [],
   "source": [
    "# Parallele koordinater\n",
    "fig = px.parallel_coordinates(___,\n",
    "                              color=___, # må være numerisk\n",
    "                              color_continuous_scale=[(0.00, \"#8DD3C7\"),   (0.33, \"#8DD3C7\"),\n",
    "                                                      (0.33, \"#FFFFB3\"), (0.67, \"#FFFFB3\"),\n",
    "                                                      (0.67, \"#BEBADA\"),  (1.00, \"#BEBADA\")]\n",
    "                             )\n",
    "fig.update_layout(coloraxis_colorbar=dict(\n",
    "    title=\"Spesies\", \n",
    "    tickvals=[0.33, 1, 1.67], \n",
    "    ticktext=iris.target_names\n",
    "))\n",
    "\n",
    "fig.show()"
   ]
  },
  {
   "cell_type": "markdown",
   "metadata": {},
   "source": [
    "## Museum data\n",
    "\n",
    "Museum datasettet (data/museum.csv) inneholder data om museumsbesøk mellom januar 2014 og juni 2021. Data er hentet fra [Los Angeles open data](https://data.lacity.org/Arts-Culture/Museum-Visitors/trxm-jn3c). Målet er å lage en figur av utviklingen av museumsbesøk de siste 7 årene. \n",
    "\n",
    "Begynn ved å lese inn data og se på de første radene. "
   ]
  },
  {
   "cell_type": "code",
   "execution_count": null,
   "metadata": {},
   "outputs": [],
   "source": [
    "museum_data = ___\n",
    "museum_data.head()"
   ]
  },
  {
   "cell_type": "markdown",
   "metadata": {},
   "source": [
    "Ved bruk av kolonnen `Month`, lag en ny kolonne `Date` som er har `dtype` `pandas.datetime`. Fjern deretter kolonnen `Month`. "
   ]
  },
  {
   "cell_type": "code",
   "execution_count": null,
   "metadata": {},
   "outputs": [],
   "source": [
    "# lag kolonnen Date\n",
    "museum_data['Date'] = ___\n",
    "# fjern kolonnen Month\n",
    "___"
   ]
  },
  {
   "cell_type": "markdown",
   "metadata": {},
   "source": [
    "Forandre data sånn at du har tre kolonner med dato, museum navn og antal besøkende. Tips: Bruk [`pandas.melt`](https://pandas.pydata.org/docs/reference/api/pandas.melt.html). Sorter deretter etter dato og museum navn. "
   ]
  },
  {
   "cell_type": "code",
   "execution_count": null,
   "metadata": {},
   "outputs": [],
   "source": [
    "# omformater data\n",
    "museum_reshaped = pd.melt(___)\n",
    "# sorter \n",
    "museum_reshaped.sort_values(___)"
   ]
  },
  {
   "cell_type": "markdown",
   "metadata": {},
   "source": [
    "Se på de første radene av det nye datasettet. "
   ]
  },
  {
   "cell_type": "code",
   "execution_count": null,
   "metadata": {},
   "outputs": [],
   "source": [
    "museum_reshaped.head()"
   ]
  },
  {
   "cell_type": "markdown",
   "metadata": {},
   "source": [
    "Velg ut en informativ figurtype og lag en figur som viser utviklingen av museumsbesøk i datasettet. "
   ]
  },
  {
   "cell_type": "code",
   "execution_count": null,
   "metadata": {},
   "outputs": [],
   "source": [
    "# Visualisering\n",
    "fig = ___\n",
    "fig.show()"
   ]
  },
  {
   "cell_type": "markdown",
   "metadata": {},
   "source": [
    "Hva legger du merke til i figuren du lagde? Nevn minst tre ting. "
   ]
  },
  {
   "cell_type": "markdown",
   "metadata": {},
   "source": [
    "..."
   ]
  },
  {
   "cell_type": "markdown",
   "metadata": {},
   "source": [
    "## Titanic data\n",
    "\n",
    "Titanic datasettet (data/titanic.csv) har vi sett på flere ganger i løpet av kurset. Her skal vi lage noen flere visualiseringer som relaterer prisen til andre variabler. \n",
    "\n",
    "Les inn data og se på de første radene av datasettet. "
   ]
  },
  {
   "cell_type": "code",
   "execution_count": null,
   "metadata": {},
   "outputs": [],
   "source": [
    "# lese inn data og se på de første radene. \n",
    "titanic = ___\n",
    "___"
   ]
  },
  {
   "cell_type": "markdown",
   "metadata": {},
   "source": [
    "Lag en meningsfull figur som viser kjønn (`Sex`) og pris (`Fare`) av titanic-passasjerene.\n",
    "\n",
    "Er det noen forskjeller mellom prisene som kvinner og men betaler?"
   ]
  },
  {
   "cell_type": "code",
   "execution_count": null,
   "metadata": {},
   "outputs": [],
   "source": [
    "# Visualisering av kjønn og pris\n",
    "fig = ___\n",
    "fig.show()"
   ]
  },
  {
   "cell_type": "markdown",
   "metadata": {},
   "source": [
    "Variasjonen i prisen er større blant kvinner enn blant menn. Typisk betaler kvinner mer enn menn. "
   ]
  },
  {
   "cell_type": "markdown",
   "metadata": {},
   "source": [
    "Vi har sett i forelesninen at det er store forskjeller mellom kjønn og klassen (`Pclass`). Kan det forklare forskjellen mellom kjønn og prisen? Lag en figur for å se på de tre variablene samtidig. \n",
    "\n",
    "På første forsøk er det kanskje ikke like lett å se forskjellen i alle klassene. Hva kan du gjøre for å få alle klassene til å vises like godt?\n",
    "\n",
    "Er det fortsatt forskjeller mellom kjønn og pris? I så fall, er det de samme forskjellene som vi så på i spørsmål før?"
   ]
  },
  {
   "cell_type": "code",
   "execution_count": null,
   "metadata": {},
   "outputs": [],
   "source": [
    "# Visualisering av kjønn, pris og klasse\n",
    "fig = ___\n",
    "fig.show()"
   ]
  },
  {
   "cell_type": "markdown",
   "metadata": {},
   "source": [
    "..."
   ]
  }
 ],
 "metadata": {
  "celltoolbar": "Tags",
  "kernelspec": {
   "display_name": "Python 3 (ipykernel)",
   "language": "python",
   "name": "python3"
  },
  "language_info": {
   "codemirror_mode": {
    "name": "ipython",
    "version": 3
   },
   "file_extension": ".py",
   "mimetype": "text/x-python",
   "name": "python",
   "nbconvert_exporter": "python",
   "pygments_lexer": "ipython3",
   "version": "3.11.3"
  }
 },
 "nbformat": 4,
 "nbformat_minor": 2
}
