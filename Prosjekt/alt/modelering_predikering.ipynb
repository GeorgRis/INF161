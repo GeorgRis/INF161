{
 "cells": [
  {
   "cell_type": "code",
   "execution_count": 39,
   "metadata": {},
   "outputs": [],
   "source": [
    "# Imports\n",
    "import pandas as pd\n",
    "import seaborn as sns\n",
    "import matplotlib.pyplot as plt\n",
    "from sklearn.model_selection import train_test_split, GridSearchCV\n",
    "from sklearn.ensemble import RandomForestRegressor, GradientBoostingRegressor\n",
    "from sklearn.tree import DecisionTreeRegressor\n",
    "from sklearn.pipeline import Pipeline, make_pipeline\n",
    "from sklearn.compose import ColumnTransformer\n",
    "from sklearn.preprocessing import StandardScaler, OneHotEncoder\n",
    "from sklearn.impute import KNNImputer\n",
    "from sklearn.preprocessing import FunctionTransformer\n",
    "from sklearn.metrics import mean_squared_error#, root_mean_squared_error\n",
    "from sklearn.linear_model import LinearRegression, Ridge\n",
    "from sklearn.preprocessing import PolynomialFeatures\n",
    "import numpy as np\n",
    "\n",
    "# Plotting\n",
    "from plotly.subplots import make_subplots\n",
    "import plotly.graph_objects as go\n",
    "import plotly.express as px\n"
   ]
  },
  {
   "cell_type": "code",
   "execution_count": 40,
   "metadata": {},
   "outputs": [],
   "source": [
    "# Hente inn datasettet\n",
    "combined_df = pd.read_csv('combined.csv')"
   ]
  },
  {
   "cell_type": "code",
   "execution_count": 41,
   "metadata": {},
   "outputs": [
    {
     "data": {
      "text/html": [
       "<div>\n",
       "<style scoped>\n",
       "    .dataframe tbody tr th:only-of-type {\n",
       "        vertical-align: middle;\n",
       "    }\n",
       "\n",
       "    .dataframe tbody tr th {\n",
       "        vertical-align: top;\n",
       "    }\n",
       "\n",
       "    .dataframe thead th {\n",
       "        text-align: right;\n",
       "    }\n",
       "</style>\n",
       "<table border=\"1\" class=\"dataframe\">\n",
       "  <thead>\n",
       "    <tr style=\"text-align: right;\">\n",
       "      <th></th>\n",
       "      <th>pasient_id</th>\n",
       "      <th>alder</th>\n",
       "      <th>kjønn</th>\n",
       "      <th>utdanning</th>\n",
       "      <th>inntekt</th>\n",
       "      <th>etnisitet</th>\n",
       "      <th>sykehusdød</th>\n",
       "      <th>oppholdslengde</th>\n",
       "      <th>blodtrykk</th>\n",
       "      <th>hvite_blodlegemer</th>\n",
       "      <th>...</th>\n",
       "      <th>adl_stedfortreder</th>\n",
       "      <th>fysiologisk_score</th>\n",
       "      <th>apache_fysiologisk_score</th>\n",
       "      <th>overlevelsesestimat_2mnd</th>\n",
       "      <th>overlevelsesestimat_6mnd</th>\n",
       "      <th>diabetes</th>\n",
       "      <th>demens</th>\n",
       "      <th>kreft</th>\n",
       "      <th>lege_overlevelsesestimat_2mnd</th>\n",
       "      <th>lege_overlevelsesestimat_6mnd</th>\n",
       "    </tr>\n",
       "  </thead>\n",
       "  <tbody>\n",
       "    <tr>\n",
       "      <th>0</th>\n",
       "      <td>2</td>\n",
       "      <td>60.33899</td>\n",
       "      <td>female</td>\n",
       "      <td>12.0</td>\n",
       "      <td>$11-$25k</td>\n",
       "      <td>white</td>\n",
       "      <td>1</td>\n",
       "      <td>4.0</td>\n",
       "      <td>43.0</td>\n",
       "      <td>17.097656</td>\n",
       "      <td>...</td>\n",
       "      <td>1.0</td>\n",
       "      <td>52.695312</td>\n",
       "      <td>74.0</td>\n",
       "      <td>0.001000</td>\n",
       "      <td>0.000000</td>\n",
       "      <td>0</td>\n",
       "      <td>0</td>\n",
       "      <td>no</td>\n",
       "      <td>0.00</td>\n",
       "      <td>0.0</td>\n",
       "    </tr>\n",
       "    <tr>\n",
       "      <th>1</th>\n",
       "      <td>3</td>\n",
       "      <td>52.74698</td>\n",
       "      <td>female</td>\n",
       "      <td>12.0</td>\n",
       "      <td>under $11k</td>\n",
       "      <td>white</td>\n",
       "      <td>0</td>\n",
       "      <td>17.0</td>\n",
       "      <td>70.0</td>\n",
       "      <td>8.500000</td>\n",
       "      <td>...</td>\n",
       "      <td>0.0</td>\n",
       "      <td>20.500000</td>\n",
       "      <td>45.0</td>\n",
       "      <td>0.790894</td>\n",
       "      <td>0.664917</td>\n",
       "      <td>0</td>\n",
       "      <td>0</td>\n",
       "      <td>no</td>\n",
       "      <td>0.75</td>\n",
       "      <td>0.5</td>\n",
       "    </tr>\n",
       "    <tr>\n",
       "      <th>2</th>\n",
       "      <td>4</td>\n",
       "      <td>42.38498</td>\n",
       "      <td>female</td>\n",
       "      <td>11.0</td>\n",
       "      <td>under $11k</td>\n",
       "      <td>white</td>\n",
       "      <td>0</td>\n",
       "      <td>3.0</td>\n",
       "      <td>75.0</td>\n",
       "      <td>9.099609</td>\n",
       "      <td>...</td>\n",
       "      <td>0.0</td>\n",
       "      <td>20.097656</td>\n",
       "      <td>19.0</td>\n",
       "      <td>0.698975</td>\n",
       "      <td>0.411987</td>\n",
       "      <td>0</td>\n",
       "      <td>0</td>\n",
       "      <td>metastatic</td>\n",
       "      <td>0.90</td>\n",
       "      <td>0.5</td>\n",
       "    </tr>\n",
       "    <tr>\n",
       "      <th>3</th>\n",
       "      <td>6</td>\n",
       "      <td>93.01599</td>\n",
       "      <td>male</td>\n",
       "      <td>14.0</td>\n",
       "      <td>NaN</td>\n",
       "      <td>white</td>\n",
       "      <td>1</td>\n",
       "      <td>4.0</td>\n",
       "      <td>110.0</td>\n",
       "      <td>10.398438</td>\n",
       "      <td>...</td>\n",
       "      <td>1.0</td>\n",
       "      <td>19.398438</td>\n",
       "      <td>27.0</td>\n",
       "      <td>0.284973</td>\n",
       "      <td>0.214996</td>\n",
       "      <td>0</td>\n",
       "      <td>0</td>\n",
       "      <td>no</td>\n",
       "      <td>0.00</td>\n",
       "      <td>0.0</td>\n",
       "    </tr>\n",
       "    <tr>\n",
       "      <th>4</th>\n",
       "      <td>7</td>\n",
       "      <td>62.37097</td>\n",
       "      <td>male</td>\n",
       "      <td>14.0</td>\n",
       "      <td>$25-$50k</td>\n",
       "      <td>white</td>\n",
       "      <td>0</td>\n",
       "      <td>9.0</td>\n",
       "      <td>78.0</td>\n",
       "      <td>11.699219</td>\n",
       "      <td>...</td>\n",
       "      <td>1.0</td>\n",
       "      <td>17.296875</td>\n",
       "      <td>46.0</td>\n",
       "      <td>0.892944</td>\n",
       "      <td>0.820923</td>\n",
       "      <td>0</td>\n",
       "      <td>0</td>\n",
       "      <td>no</td>\n",
       "      <td>NaN</td>\n",
       "      <td>0.7</td>\n",
       "    </tr>\n",
       "  </tbody>\n",
       "</table>\n",
       "<p>5 rows × 38 columns</p>\n",
       "</div>"
      ],
      "text/plain": [
       "   pasient_id     alder   kjønn  utdanning     inntekt etnisitet  sykehusdød  \\\n",
       "0           2  60.33899  female       12.0    $11-$25k     white           1   \n",
       "1           3  52.74698  female       12.0  under $11k     white           0   \n",
       "2           4  42.38498  female       11.0  under $11k     white           0   \n",
       "3           6  93.01599    male       14.0         NaN     white           1   \n",
       "4           7  62.37097    male       14.0    $25-$50k     white           0   \n",
       "\n",
       "   oppholdslengde  blodtrykk  hvite_blodlegemer  ...  adl_stedfortreder  \\\n",
       "0             4.0       43.0          17.097656  ...                1.0   \n",
       "1            17.0       70.0           8.500000  ...                0.0   \n",
       "2             3.0       75.0           9.099609  ...                0.0   \n",
       "3             4.0      110.0          10.398438  ...                1.0   \n",
       "4             9.0       78.0          11.699219  ...                1.0   \n",
       "\n",
       "   fysiologisk_score  apache_fysiologisk_score  overlevelsesestimat_2mnd  \\\n",
       "0          52.695312                      74.0                  0.001000   \n",
       "1          20.500000                      45.0                  0.790894   \n",
       "2          20.097656                      19.0                  0.698975   \n",
       "3          19.398438                      27.0                  0.284973   \n",
       "4          17.296875                      46.0                  0.892944   \n",
       "\n",
       "   overlevelsesestimat_6mnd  diabetes  demens       kreft  \\\n",
       "0                  0.000000         0       0          no   \n",
       "1                  0.664917         0       0          no   \n",
       "2                  0.411987         0       0  metastatic   \n",
       "3                  0.214996         0       0          no   \n",
       "4                  0.820923         0       0          no   \n",
       "\n",
       "   lege_overlevelsesestimat_2mnd  lege_overlevelsesestimat_6mnd  \n",
       "0                           0.00                            0.0  \n",
       "1                           0.75                            0.5  \n",
       "2                           0.90                            0.5  \n",
       "3                           0.00                            0.0  \n",
       "4                            NaN                            0.7  \n",
       "\n",
       "[5 rows x 38 columns]"
      ]
     },
     "execution_count": 41,
     "metadata": {},
     "output_type": "execute_result"
    }
   ],
   "source": [
    "# Sjekker om er riktig\n",
    "combined_df.drop('Unnamed: 0', axis=1, inplace=True)\n",
    "combined_df.drop('dnr_status', axis=1, inplace=True)\n",
    "combined_df.drop('dnr_dag', axis=1, inplace=True)\n",
    "combined_df.drop('adl_pasient', axis=1, inplace=True)\n",
    "\n",
    "combined_df.head()"
   ]
  },
  {
   "cell_type": "markdown",
   "metadata": {},
   "source": [
    "# Data preprocess"
   ]
  },
  {
   "cell_type": "code",
   "execution_count": 42,
   "metadata": {},
   "outputs": [],
   "source": [
    "# Preprocess the data\n",
    "X = combined_df.drop(['pasient_id', 'oppholdslengde'], axis=1)\n",
    "y = combined_df['oppholdslengde']"
   ]
  },
  {
   "cell_type": "code",
   "execution_count": 43,
   "metadata": {},
   "outputs": [],
   "source": [
    "X_train_temp, X_test, y_train_temp, y_test = train_test_split(X, y, test_size=0.2, random_state=24)\n",
    "X_train, X_val, y_train, y_val = train_test_split(X_train_temp, y_train_temp, test_size=0.25, random_state=24)"
   ]
  },
  {
   "cell_type": "markdown",
   "metadata": {},
   "source": [
    "# Grunnlinje"
   ]
  },
  {
   "cell_type": "code",
   "execution_count": 44,
   "metadata": {},
   "outputs": [
    {
     "name": "stdout",
     "output_type": "stream",
     "text": [
      "Grunnlinje modell - Validerings RMSE: 25.05\n"
     ]
    },
    {
     "name": "stderr",
     "output_type": "stream",
     "text": [
      "c:\\Users\\georg\\anaconda3\\envs\\INF161\\Lib\\site-packages\\sklearn\\metrics\\_regression.py:492: FutureWarning:\n",
      "\n",
      "'squared' is deprecated in version 1.4 and will be removed in 1.6. To calculate the root mean squared error, use the function'root_mean_squared_error'.\n",
      "\n"
     ]
    }
   ],
   "source": [
    "# Lager en grunnlinje modell som bruker gjennomsnittet av målte verdiene som prediksjon\n",
    "def grunlinje_model(X_train, y_train, X_val):\n",
    "    # Regner ut gjennomsnittet av målte verdiene\n",
    "    grunnlinje_pred = np.mean(y_train)\n",
    "    \n",
    "    # Bruker gjennomsnittet som prediksjon for alle verdier i valideringssettet\n",
    "    y_val_pred = np.full_like(y_val, grunnlinje_pred)\n",
    "        \n",
    "    return y_val_pred\n",
    "\n",
    "    # Regner ut RMSE for grunnlinje modellen\n",
    "grunlinje_rmse = mean_squared_error(y_val, grunlinje_model(X_train, y_train, X_val), squared=False)\n",
    "print(f'Grunnlinje modell - Validerings RMSE: {grunlinje_rmse:.2f}')    "
   ]
  },
  {
   "cell_type": "markdown",
   "metadata": {},
   "source": [
    "# Possible to make into bins of 5 for \"better result\""
   ]
  },
  {
   "cell_type": "code",
   "execution_count": 45,
   "metadata": {},
   "outputs": [
    {
     "data": {
      "text/plain": [
       "'max_y = y.max()\\nnum_bins = int(np.ceil(max_y / 5))  # calculate the number of bins needed\\n\\nbins = np.arange(0, max_y + 5, 5)  # create bin boundaries\\nlabels = np.arange(num_bins)  # create labels for the bins\\n\\ny_binned = pd.cut(y, bins=bins, labels=labels, include_lowest=True)\\ny = y_binned.astype(int)'"
      ]
     },
     "execution_count": 45,
     "metadata": {},
     "output_type": "execute_result"
    }
   ],
   "source": [
    "\"\"\"max_y = y.max()\n",
    "num_bins = int(np.ceil(max_y / 5))  # calculate the number of bins needed\n",
    "\n",
    "bins = np.arange(0, max_y + 5, 5)  # create bin boundaries\n",
    "labels = np.arange(num_bins)  # create labels for the bins\n",
    "\n",
    "y_binned = pd.cut(y, bins=bins, labels=labels, include_lowest=True)\n",
    "y = y_binned.astype(int)\"\"\""
   ]
  },
  {
   "cell_type": "markdown",
   "metadata": {},
   "source": [
    "# Lage forskjellige strategier"
   ]
  },
  {
   "cell_type": "code",
   "execution_count": 46,
   "metadata": {},
   "outputs": [],
   "source": [
    "# Istede for SimpleImputer. For lettere oversikt\n",
    "def drop_nan(X, y):\n",
    "    X_strategy = X.dropna()\n",
    "    y_strategy = y.loc[X_strategy.index]\n",
    "    return X_strategy, y_strategy\n",
    "\n",
    "def drop_cols(X, y, threshold=4000):\n",
    "    nan_counts = X.isnull().sum()\n",
    "    X_strategy = X.drop(columns=nan_counts[nan_counts > threshold].index)\n",
    "    X_strategy = X_strategy.fillna(0)\n",
    "    y_strategy = y\n",
    "    return X_strategy, y_strategy\n",
    "\n",
    "def fill_median(X, y):\n",
    "    X_fill_median = X.copy()\n",
    "    median_cols = X_fill_median.select_dtypes(include=['int64', 'float64']).columns\n",
    "    X_fill_median[median_cols] = X_fill_median[median_cols].fillna(X_fill_median[median_cols].median())\n",
    "    X_strategy = X_fill_median\n",
    "    y_strategy = y\n",
    "    return X_strategy, y_strategy\n",
    "\n",
    "def fill_zero(X, y):\n",
    "    X_strategy = X.fillna(0)\n",
    "    y_strategy = y\n",
    "    return X_strategy, y_strategy\n",
    "\n",
    "def knn_imputation(X, y):\n",
    "    # One-hot encode categorical variabler\n",
    "    categorical_cols = X.select_dtypes(include=['object']).columns\n",
    "    encoder = OneHotEncoder()\n",
    "    X_encoded = pd.get_dummies(X, columns=categorical_cols, drop_first=True)\n",
    "    \n",
    "    # Impute missing values using KNNImputer\n",
    "    imputer = KNNImputer(n_neighbors=1)\n",
    "    X_imputed = imputer.fit_transform(X_encoded)\n",
    "    X_imputed = pd.DataFrame(X_imputed, columns=X_encoded.columns)\n",
    "    \n",
    "    return X_imputed, y"
   ]
  },
  {
   "cell_type": "markdown",
   "metadata": {},
   "source": [
    "# Define models"
   ]
  },
  {
   "cell_type": "code",
   "execution_count": 47,
   "metadata": {},
   "outputs": [],
   "source": [
    "# Definerer model pipelines\n",
    "model_pipelines = {\n",
    "    'Random Forest': RandomForestRegressor(n_estimators=100, random_state=24),\n",
    "    'Gradient Boosting': GradientBoostingRegressor(n_estimators=100, random_state=24),\n",
    "    'Decision Tree': DecisionTreeRegressor(random_state=24),\n",
    "    'Linear Regression': LinearRegression(),\n",
    "    'Polynomial Regression': make_pipeline(PolynomialFeatures(degree=2), LinearRegression()),\n",
    "    'Ridge Regression': Ridge(alpha=1.0)\n",
    "}\n",
    "\n",
    "def create_model_pipeline(model_name, preprocessor):\n",
    "    model_pipeline = Pipeline(steps=[\n",
    "        ('preprocessor', preprocessor),\n",
    "        ('model', model_pipelines[model_name])\n",
    "    ])\n",
    "    return model_pipeline"
   ]
  },
  {
   "cell_type": "markdown",
   "metadata": {},
   "source": [
    "# Define Preprocess data og strategier"
   ]
  },
  {
   "cell_type": "code",
   "execution_count": 48,
   "metadata": {},
   "outputs": [],
   "source": [
    "# Definerer strategier og modeller\n",
    "strategies = ['drop_nan', 'drop_cols', 'fill_median', 'knn_imputation', 'fill_zero']\n",
    "models = list(model_pipelines.keys())\n",
    "\n",
    "# Lager en dictionary for å lagre resultatene\n",
    "results = {}\n",
    "\n",
    "# Funksjon for å preprocessere data basert på strategien\n",
    "def preprocess_data(strategy, X, y):\n",
    "    if strategy == 'drop_nan':\n",
    "        return drop_nan(X, y)\n",
    "    elif strategy == 'drop_cols':\n",
    "        return drop_cols(X, y)\n",
    "    elif strategy == 'fill_median':\n",
    "        return fill_median(X, y)\n",
    "    elif strategy == 'fill_zero':\n",
    "        return fill_zero(X, y)\n",
    "    elif strategy == 'knn_imputation':\n",
    "        return knn_imputation(X, y)\n",
    "    \n",
    "# Funksjon for å dele opp data i trenings-, validerings- og testsett\n",
    "def split_data(X, y, test_size=0.2, val_size=0.25, random_state=24):\n",
    "    X_train_temp, X_test, y_train_temp, y_test = train_test_split(X, y, test_size=test_size, random_state=random_state)\n",
    "    X_train, X_val, y_train, y_val = train_test_split(X_train_temp, y_train_temp, test_size=val_size, random_state=random_state)\n",
    "    return X_train, X_val, X_test, y_train, y_val, y_test"
   ]
  },
  {
   "cell_type": "markdown",
   "metadata": {},
   "source": [
    "# Definere en corr matrix for ekstra visualesering"
   ]
  },
  {
   "cell_type": "code",
   "execution_count": 49,
   "metadata": {},
   "outputs": [],
   "source": [
    "# Funksjon for å lage en varmekart for korrelasjonsmatrisen\n",
    "def plot_corr_matrix(X_strategy, strategy):\n",
    "    numeric_cols = X_strategy.select_dtypes(include=['int64', 'float64']).columns\n",
    "    corr_matrix = X_strategy[numeric_cols].corr()\n",
    "\n",
    "    fig = go.Figure(data=go.Heatmap(\n",
    "        z=corr_matrix.values,\n",
    "        x=corr_matrix.columns,\n",
    "        y=corr_matrix.columns,\n",
    "        zmin=-1, zmax=1\n",
    "    ))\n",
    "    \n",
    "    # Tilpasse layout\n",
    "    fig.update_layout(\n",
    "        title=f'{strategy} - Korrelasjonsmatrise',\n",
    "        xaxis_nticks=len(corr_matrix.columns),\n",
    "        yaxis_nticks=len(corr_matrix.columns),\n",
    "        autosize=False,\n",
    "        width=800,\n",
    "        height=800\n",
    "    )\n",
    "    fig.show()\n"
   ]
  },
  {
   "cell_type": "markdown",
   "metadata": {},
   "source": [
    "# Definere preprosess til modellene"
   ]
  },
  {
   "cell_type": "code",
   "execution_count": 50,
   "metadata": {},
   "outputs": [],
   "source": [
    "# Funksjon for å lage preprocessing-pipeline\n",
    "def create_preprocessor(X_strategy):\n",
    "    categorical_cols = X_strategy.select_dtypes(exclude=['int64', 'float64']).columns\n",
    "    numerical_cols = X_strategy.select_dtypes(include=['int64', 'float64']).columns\n",
    "\n",
    "    categorical_transformer = Pipeline(steps=[\n",
    "        ('converter', FunctionTransformer(lambda x: x.astype(str))),  \n",
    "        ('onehot', OneHotEncoder(handle_unknown='ignore'))\n",
    "    ])\n",
    "    numerical_transformer = Pipeline(steps=[\n",
    "        ('scaler', StandardScaler())\n",
    "    ])\n",
    "\n",
    "    preprocessor = ColumnTransformer(\n",
    "        transformers=[\n",
    "            ('num', numerical_transformer, numerical_cols),\n",
    "            ('cat', categorical_transformer, categorical_cols)\n",
    "        ]\n",
    "    )\n",
    "    \n",
    "    return preprocessor"
   ]
  },
  {
   "cell_type": "markdown",
   "metadata": {},
   "source": [
    "# Tren og evaluer modell med logging av evaluering."
   ]
  },
  {
   "cell_type": "code",
   "execution_count": 51,
   "metadata": {},
   "outputs": [],
   "source": [
    "# Funksjon for å trene og evaluere modeller\n",
    "def train_and_evaluate_models(X_train, y_train, X_val, y_val, models, preprocessor):\n",
    "    best_rmse = float('inf')\n",
    "    best_model_name = None\n",
    "    best_model_pipeline = None\n",
    "\n",
    "    for model_name in models:\n",
    "        model_pipeline = create_model_pipeline(model_name, preprocessor)\n",
    "        model_pipeline.fit(X_train, y_train)\n",
    "        y_val_pred = model_pipeline.predict(X_val)\n",
    "        rmse_val = mean_squared_error(y_val, y_val_pred, squared=False)\n",
    "        \n",
    "        print(f'{model_name}: {rmse_val:.2f}')\n",
    "        \n",
    "        if rmse_val < best_rmse:\n",
    "            best_rmse = rmse_val\n",
    "            best_model_name = model_name\n",
    "            best_model_pipeline = model_pipeline\n",
    "\n",
    "    return best_model_name, best_model_pipeline, best_rmse\n",
    "\n",
    "\n",
    "# Funksjon for å logge og vise resultater\n",
    "def log_results(strategy, best_model_name, best_rmse, within_10_diff_percent, rmse_full, within_10_diff_percent_full, results, best_model_pipeline):\n",
    "    results[strategy] = {\n",
    "        'best_model': best_model_name,\n",
    "        'validation_rmse': best_rmse,\n",
    "        'model_pipeline': best_model_pipeline,  # Store the actual model pipeline\n",
    "        'within_10_diff_percent': within_10_diff_percent,\n",
    "        'full_dataset_rmse': rmse_full,\n",
    "        'within_10_diff_percent_full': within_10_diff_percent_full\n",
    "    }\n",
    "\n",
    "    print(f'{strategy} - Best Model: {best_model_name}')\n",
    "    print(f'{strategy} - Validation RMSE: {best_rmse:.2f}')\n",
    "    print(f'{strategy} - Within 10 diff: {within_10_diff_percent:.2f}%')\n",
    "    print(f'{strategy} - Full Dataset RMSE: {rmse_full:.2f}')\n",
    "    print(f'{strategy} - Within 10 diff (Full Dataset): {within_10_diff_percent_full:.2f}%')\n"
   ]
  },
  {
   "cell_type": "markdown",
   "metadata": {},
   "source": [
    "# Evaluere og teste alle modellene"
   ]
  },
  {
   "cell_type": "code",
   "execution_count": 52,
   "metadata": {},
   "outputs": [
    {
     "data": {
      "application/vnd.plotly.v1+json": {
       "config": {
        "plotlyServerURL": "https://plot.ly"
       },
       "data": [
        {
         "type": "heatmap",
         "x": [
          "alder",
          "utdanning",
          "sykehusdød",
          "blodtrykk",
          "hvite_blodlegemer",
          "hjertefrekvens",
          "respirasjonsfrekvens",
          "kroppstemperatur",
          "lungefunksjon",
          "serumalbumin",
          "bilirubin",
          "kreatinin",
          "natrium",
          "blod_ph",
          "glukose",
          "blodurea_nitrogen",
          "urinmengde",
          "dødsfall",
          "antall_komorbiditeter",
          "koma_score",
          "adl_stedfortreder",
          "fysiologisk_score",
          "apache_fysiologisk_score",
          "overlevelsesestimat_2mnd",
          "overlevelsesestimat_6mnd",
          "diabetes",
          "demens",
          "lege_overlevelsesestimat_2mnd",
          "lege_overlevelsesestimat_6mnd"
         ],
         "y": [
          "alder",
          "utdanning",
          "sykehusdød",
          "blodtrykk",
          "hvite_blodlegemer",
          "hjertefrekvens",
          "respirasjonsfrekvens",
          "kroppstemperatur",
          "lungefunksjon",
          "serumalbumin",
          "bilirubin",
          "kreatinin",
          "natrium",
          "blod_ph",
          "glukose",
          "blodurea_nitrogen",
          "urinmengde",
          "dødsfall",
          "antall_komorbiditeter",
          "koma_score",
          "adl_stedfortreder",
          "fysiologisk_score",
          "apache_fysiologisk_score",
          "overlevelsesestimat_2mnd",
          "overlevelsesestimat_6mnd",
          "diabetes",
          "demens",
          "lege_overlevelsesestimat_2mnd",
          "lege_overlevelsesestimat_6mnd"
         ],
         "z": [
          [
           1,
           -0.11000196351310909,
           0.016747702934044834,
           -0.05702307232105367,
           -0.003364324120318569,
           -0.088340058658529,
           -0.025500987507729188,
           -0.08252774075514871,
           0.03126603154483055,
           -0.01635050796963703,
           -0.05443044262874912,
           0.05660012800463962,
           -0.015813595575929793,
           -0.05727502388147396,
           -0.0069808645307436745,
           0.043686267549951495,
           -0.03169962657169285,
           0.18510545425000097,
           0.18045127191361113,
           0.004962592436199725,
           0.09859934400931929,
           -0.10529133930102626,
           -0.05688090521140665,
           -0.18539524457086393,
           -0.22749699713379162,
           0.0927964349968924,
           0.18863333614011288,
           -0.0721070846509616,
           -0.13629517393045984
          ],
          [
           -0.11000196351310909,
           1,
           0.0028062806027271195,
           -0.09523459085739959,
           -0.016441706330771796,
           -0.04696001919209586,
           0.022990530461903105,
           -0.015220498147601267,
           -0.014202380791965919,
           0.012468247820084296,
           0.035895957956885126,
           0.010248944262390652,
           0.0016668245133422358,
           0.017972191291312025,
           -0.0635007027673224,
           -0.015268706669895174,
           0.008314769912349354,
           0.0008057562307101405,
           -0.11894621676930377,
           -0.015931855571257415,
           -0.04477945435184533,
           0.016754851761229945,
           0.017342522128958954,
           -0.0026920446507988126,
           0.0007716958702554157,
           -0.10579605030562247,
           0.025410869050878915,
           0.01275062665111065,
           -0.007671549594778881
          ],
          [
           0.016747702934044834,
           0.0028062806027271195,
           1,
           -0.0519992272901582,
           -0.0571551818130915,
           -0.009175280013334803,
           -0.010944426066836993,
           0.035501610901966185,
           0.005158573742231212,
           -0.004530320498115831,
           0.12646961105285215,
           -0.023748789669626104,
           -0.008831495376753488,
           0.021253568341717877,
           -0.008889063382740862,
           -0.014307244803883446,
           -0.054127230716698185,
           0.44682029824462866,
           -0.057356962958230666,
           0.28152255971435985,
           0.027633834408662697,
           0.42137649686703804,
           0.4766228041384437,
           -0.4773306560039555,
           -0.41730423281328,
           -0.03193269426832675,
           -0.03732201676498643,
           -0.44996739137580544,
           -0.3733150296685559
          ],
          [
           -0.05702307232105367,
           -0.09523459085739959,
           -0.0519992272901582,
           1,
           0.009760698345379893,
           0.06686386977183625,
           0.06912172440012668,
           0.040058802461502674,
           0.12856917184802227,
           0.113999522976391,
           -0.08471088694684349,
           -0.1176378552677637,
           0.0353655188428788,
           0.19454456858034097,
           0.08449067873147824,
           -0.1534103811366065,
           0.18675624134222818,
           0.0008852192539704808,
           -0.02696382697291245,
           -0.0015861597499423916,
           0.000679403768453545,
           -0.06268710207673542,
           -0.05266153626257207,
           0.050295939003547466,
           0.04136931239218118,
           0.0024874000723939214,
           -0.025866996484098872,
           0.009872173343495728,
           0.01614620614062063
          ],
          [
           -0.003364324120318569,
           -0.016441706330771796,
           -0.0571551818130915,
           0.009760698345379893,
           1,
           0.1044016297002447,
           0.0035191244944337797,
           0.0880245863705866,
           -0.10568087727678833,
           -0.1356258984193803,
           0.018470102856652546,
           0.12219311601902326,
           -0.04570335378619173,
           -0.0744867624496368,
           0.05698997182056456,
           0.1628765630700062,
           -0.0995390516051678,
           -0.024233944715589005,
           -0.003278047486830377,
           -0.08029506644566899,
           0.01877666683783713,
           -0.037493824348851304,
           -0.03622226401568485,
           0.07496013312384797,
           0.06594352090431782,
           0.011746968274490099,
           -0.022008323538060724,
           0.036819498096817095,
           0.03170189278154538
          ],
          [
           -0.088340058658529,
           -0.04696001919209586,
           -0.009175280013334803,
           0.06686386977183625,
           0.1044016297002447,
           1,
           0.16264149047421525,
           0.2651875937907309,
           -0.14775483140694712,
           -0.19526427839145838,
           0.07343159542970522,
           -0.0531406441687457,
           0.05797118195963865,
           0.026898401310459594,
           0.07024698725750106,
           -0.03164131021458086,
           0.03909041279001122,
           -0.007048365132161843,
           -0.06304312289726396,
           0.03792144473101759,
           -0.029150697168408304,
           0.01382507002531458,
           0.011895736261567242,
           0.017190973017680043,
           0.0376160875112371,
           -0.0362432742152311,
           -0.011307919977834112,
           0.006401305819607037,
           0.015324221459771381
          ],
          [
           -0.025500987507729188,
           0.022990530461903105,
           -0.010944426066836993,
           0.06912172440012668,
           0.0035191244944337797,
           0.16264149047421525,
           1,
           0.014010021321654801,
           -0.059472180653173105,
           -0.018296882981189012,
           -0.033831984616535325,
           -0.09974581950874815,
           0.029905453763830497,
           0.11215776751501157,
           -0.004741512548435092,
           -0.056911115108411715,
           0.06499797051289015,
           0.004258862868151437,
           -0.03761271120452789,
           0.010902255591229777,
           -0.04386504619865944,
           -0.07911186287076212,
           -0.07986673990754525,
           0.07106446195983078,
           0.0848414678297083,
           -0.014735935992520217,
           -0.04904299758762635,
           0.029758996632157596,
           0.034965560683479585
          ],
          [
           -0.08252774075514871,
           -0.015220498147601267,
           0.035501610901966185,
           0.040058802461502674,
           0.0880245863705866,
           0.2651875937907309,
           0.014010021321654801,
           1,
           -0.13120209229114543,
           -0.08606359084784233,
           -0.04009131287020757,
           -0.03399036439324539,
           0.08037895365959155,
           0.10616821775963499,
           -0.007309591723857567,
           -0.0648948081241203,
           0.1343762691240221,
           -0.008938509305915205,
           0.006455755436568721,
           0.0897522869412604,
           0.037553958477357714,
           0.05059590055861261,
           0.045950629633131596,
           -0.024456908637312473,
           0.0023352396067907177,
           -0.06939935889777235,
           0.10048511104022145,
           -0.043209357955211185,
           -0.013092542622564688
          ],
          [
           0.03126603154483055,
           -0.014202380791965919,
           0.005158573742231212,
           0.12856917184802227,
           -0.10568087727678833,
           -0.14775483140694712,
           -0.059472180653173105,
           -0.13120209229114543,
           1,
           0.08126095857661374,
           -0.008828079759691736,
           0.004095627304575434,
           -0.04751845823163523,
           0.09485613150090139,
           -0.04519765485032151,
           -0.02849751253348577,
           0.033890464576096284,
           -0.006792352069231389,
           0.017396121982047496,
           -0.0005341397197363101,
           0.02818215443721478,
           -0.008513043087512587,
           -0.01671835136050649,
           -0.0072574908628006305,
           -0.023838617852197503,
           0.03922738879709217,
           -0.01359054267791273,
           -0.018066047567685022,
           -0.027029483410555416
          ],
          [
           -0.01635050796963703,
           0.012468247820084296,
           -0.004530320498115831,
           0.113999522976391,
           -0.1356258984193803,
           -0.19526427839145838,
           -0.018296882981189012,
           -0.08606359084784233,
           0.08126095857661374,
           1,
           -0.09470460854097973,
           -0.06008872415050051,
           0.04160901433912863,
           0.016644008585185444,
           0.06452317849666021,
           -0.07638815836726301,
           -0.061225621551288925,
           -0.03913220628758931,
           0.06278821225737498,
           0.017724157586679824,
           -0.02342819456289119,
           0.02456559983423361,
           0.012709068853966145,
           -0.01974921923620756,
           -0.02181327827283296,
           0.024784169624813807,
           0.00825135638714664,
           -0.035160535130389296,
           -0.041692315398223566
          ],
          [
           -0.05443044262874912,
           0.035895957956885126,
           0.12646961105285215,
           -0.08471088694684349,
           0.018470102856652546,
           0.07343159542970522,
           -0.033831984616535325,
           -0.04009131287020757,
           -0.008828079759691736,
           -0.09470460854097973,
           1,
           0.14333542798031407,
           0.07258488233356691,
           -0.02047000385550593,
           -0.042652610622841924,
           0.22362809905321238,
           -0.06521943681252934,
           0.04438154059611038,
           -0.003648600156917638,
           0.11028525398910193,
           -0.023676439759374508,
           0.1080558221231737,
           0.08082761996349305,
           -0.11167769033200237,
           -0.10460195948338295,
           -0.04180317420717663,
           -0.00633263572063025,
           -0.056961007836338715,
           -0.048318507129004935
          ],
          [
           0.05660012800463962,
           0.010248944262390652,
           -0.023748789669626104,
           -0.1176378552677637,
           0.12219311601902326,
           -0.0531406441687457,
           -0.09974581950874815,
           -0.03399036439324539,
           0.004095627304575434,
           -0.06008872415050051,
           0.14333542798031407,
           1,
           -0.014413588381560228,
           -0.18787790959232897,
           0.08767613423126848,
           0.6946665520840882,
           -0.32496119138089574,
           -0.018823724569615036,
           -0.012778640244543909,
           -0.026737224446198086,
           0.02483152653215788,
           0.030998657268603187,
           0.007175487241641306,
           -0.041590717392343,
           -0.04865566795991378,
           -0.0052779654785432475,
           0.07486492905538931,
           -0.020173031865388488,
           -0.005381091047111391
          ],
          [
           -0.015813595575929793,
           0.0016668245133422358,
           -0.008831495376753488,
           0.0353655188428788,
           -0.04570335378619173,
           0.05797118195963865,
           0.029905453763830497,
           0.08037895365959155,
           -0.04751845823163523,
           0.04160901433912863,
           0.07258488233356691,
           -0.014413588381560228,
           1,
           -0.008777140623746526,
           -0.0010546461094909883,
           0.06452650905572184,
           0.07696531024848881,
           -0.040569570455375424,
           -0.020304672892659616,
           0.009883847383684937,
           -0.02854279374757344,
           0.0435063184275374,
           0.03202395287842103,
           -0.027730229411163123,
           -0.022766498111147903,
           -0.05240103608768012,
           0.04227562202278369,
           -0.0028930683046618946,
           -0.010958031861618757
          ],
          [
           -0.05727502388147396,
           0.017972191291312025,
           0.021253568341717877,
           0.19454456858034097,
           -0.0744867624496368,
           0.026898401310459594,
           0.11215776751501157,
           0.10616821775963499,
           0.09485613150090139,
           0.016644008585185444,
           -0.02047000385550593,
           -0.18787790959232897,
           -0.008777140623746526,
           1,
           0.02868158009541264,
           -0.15548829942736075,
           0.08954602087290364,
           0.006132149571707277,
           0.01968124958684183,
           0.026165546661417904,
           0.0666431877281343,
           -0.0004180861201301109,
           0.030039446334997492,
           0.03406586357920254,
           0.044957960836740446,
           0.03620093125702711,
           -0.03135109131425299,
           -0.015806763803659665,
           0.000511004943957573
          ],
          [
           -0.0069808645307436745,
           -0.0635007027673224,
           -0.008889063382740862,
           0.08449067873147824,
           0.05698997182056456,
           0.07024698725750106,
           -0.004741512548435092,
           -0.007309591723857567,
           -0.04519765485032151,
           0.06452317849666021,
           -0.042652610622841924,
           0.08767613423126848,
           -0.0010546461094909883,
           0.02868158009541264,
           1,
           0.12369453324903996,
           -0.017986204807552295,
           0.0014581980281769998,
           0.045894943356986476,
           0.010942737276706074,
           0.00630700026645603,
           0.002577962171019369,
           0.0271232092830496,
           -0.0043244486909335645,
           -0.007179902992670728,
           0.06711519443223132,
           -0.03846142362705891,
           0.00962708454583525,
           0.004865524951655766
          ],
          [
           0.043686267549951495,
           -0.015268706669895174,
           -0.014307244803883446,
           -0.1534103811366065,
           0.1628765630700062,
           -0.03164131021458086,
           -0.056911115108411715,
           -0.0648948081241203,
           -0.02849751253348577,
           -0.07638815836726301,
           0.22362809905321238,
           0.6946665520840882,
           0.06452650905572184,
           -0.15548829942736075,
           0.12369453324903996,
           1,
           -0.2774769740544349,
           -0.02211847673006702,
           0.0251725814470437,
           -0.02418205329014097,
           0.021871000217910632,
           0.05201599187153931,
           0.02599324686621491,
           -0.037966781417709386,
           -0.03668280443135506,
           0.05724773139787159,
           0.018934140999539027,
           -0.020295772213133525,
           -0.00392267767247194
          ],
          [
           -0.03169962657169285,
           0.008314769912349354,
           -0.054127230716698185,
           0.18675624134222818,
           -0.0995390516051678,
           0.03909041279001122,
           0.06499797051289015,
           0.1343762691240221,
           0.033890464576096284,
           -0.061225621551288925,
           -0.06521943681252934,
           -0.32496119138089574,
           0.07696531024848881,
           0.08954602087290364,
           -0.017986204807552295,
           -0.2774769740544349,
           1,
           -0.04721371283215086,
           -0.0297854315806352,
           0.04269223339268636,
           -0.05291450050240181,
           -0.019926023593398165,
           -0.01101695894566577,
           0.021895766062300728,
           0.028122355285220006,
           0.010753637147506925,
           -0.0586792044608755,
           0.019782990484670318,
           0.017951207747815646
          ],
          [
           0.18510545425000097,
           0.0008057562307101405,
           0.44682029824462866,
           0.0008852192539704808,
           -0.024233944715589005,
           -0.007048365132161843,
           0.004258862868151437,
           -0.008938509305915205,
           -0.006792352069231389,
           -0.03913220628758931,
           0.04438154059611038,
           -0.018823724569615036,
           -0.040569570455375424,
           0.006132149571707277,
           0.0014581980281769998,
           -0.02211847673006702,
           -0.04721371283215086,
           1,
           0.07093012355856713,
           0.12540223740593964,
           0.11307237566346902,
           0.18979938177419683,
           0.1862403919890487,
           -0.39258933333471313,
           -0.4495464834695363,
           0.0050733336659426346,
           0.0017864720521773856,
           -0.3761884715789489,
           -0.4380960743856115
          ],
          [
           0.18045127191361113,
           -0.11894621676930377,
           -0.057356962958230666,
           -0.02696382697291245,
           -0.003278047486830377,
           -0.06304312289726396,
           -0.03761271120452789,
           0.006455755436568721,
           0.017396121982047496,
           0.06278821225737498,
           -0.003648600156917638,
           -0.012778640244543909,
           -0.020304672892659616,
           0.01968124958684183,
           0.045894943356986476,
           0.0251725814470437,
           -0.0297854315806352,
           0.07093012355856713,
           1,
           -0.09035721248137611,
           0.17282360487869716,
           -0.01318473566615924,
           0.03545551669308235,
           0.036163682581385,
           0.006593073374063743,
           0.489526261592664,
           0.16921782796414317,
           -0.027053580851035874,
           -0.0576039456089867
          ],
          [
           0.004962592436199725,
           -0.015931855571257415,
           0.28152255971435985,
           -0.0015861597499423916,
           -0.08029506644566899,
           0.03792144473101759,
           0.010902255591229777,
           0.0897522869412604,
           -0.0005341397197363101,
           0.017724157586679824,
           0.11028525398910193,
           -0.026737224446198086,
           0.009883847383684937,
           0.026165546661417904,
           0.010942737276706074,
           -0.02418205329014097,
           0.04269223339268636,
           0.12540223740593964,
           -0.09035721248137611,
           1,
           0.08029511625277261,
           0.22603048690724514,
           0.2712893425142112,
           -0.5479296410848082,
           -0.4548389597313693,
           0.03186462592305377,
           0.06288955458989978,
           -0.38266663994111316,
           -0.3036277091046668
          ],
          [
           0.09859934400931929,
           -0.04477945435184533,
           0.027633834408662697,
           0.000679403768453545,
           0.01877666683783713,
           -0.029150697168408304,
           -0.04386504619865944,
           0.037553958477357714,
           0.02818215443721478,
           -0.02342819456289119,
           -0.023676439759374508,
           0.02483152653215788,
           -0.02854279374757344,
           0.0666431877281343,
           0.00630700026645603,
           0.021871000217910632,
           -0.05291450050240181,
           0.11307237566346902,
           0.17282360487869716,
           0.08029511625277261,
           1,
           0.11729149909058721,
           0.09892800648605028,
           -0.13608911014555963,
           -0.1389246465742627,
           0.1094587369654479,
           0.28368959616934025,
           -0.15876174872653734,
           -0.1612526310789835
          ],
          [
           -0.10529133930102626,
           0.016754851761229945,
           0.42137649686703804,
           -0.06268710207673542,
           -0.037493824348851304,
           0.01382507002531458,
           -0.07911186287076212,
           0.05059590055861261,
           -0.008513043087512587,
           0.02456559983423361,
           0.1080558221231737,
           0.030998657268603187,
           0.0435063184275374,
           -0.0004180861201301109,
           0.002577962171019369,
           0.05201599187153931,
           -0.019926023593398165,
           0.18979938177419683,
           -0.01318473566615924,
           0.22603048690724514,
           0.11729149909058721,
           1,
           0.7887514312322199,
           -0.7388104618085272,
           -0.665557409944753,
           -0.02548759918469014,
           -0.008155626976128722,
           -0.3825926557539693,
           -0.29113596614117365
          ],
          [
           -0.05688090521140665,
           0.017342522128958954,
           0.4766228041384437,
           -0.05266153626257207,
           -0.03622226401568485,
           0.011895736261567242,
           -0.07986673990754525,
           0.045950629633131596,
           -0.01671835136050649,
           0.012709068853966145,
           0.08082761996349305,
           0.007175487241641306,
           0.03202395287842103,
           0.030039446334997492,
           0.0271232092830496,
           0.02599324686621491,
           -0.01101695894566577,
           0.1862403919890487,
           0.03545551669308235,
           0.2712893425142112,
           0.09892800648605028,
           0.7887514312322199,
           1,
           -0.6022914485656519,
           -0.49474769399362645,
           0.08770217828514945,
           0.017072686507202686,
           -0.40545295151455446,
           -0.2707360076827994
          ],
          [
           -0.18539524457086393,
           -0.0026920446507988126,
           -0.4773306560039555,
           0.050295939003547466,
           0.07496013312384797,
           0.017190973017680043,
           0.07106446195983078,
           -0.024456908637312473,
           -0.0072574908628006305,
           -0.01974921923620756,
           -0.11167769033200237,
           -0.041590717392343,
           -0.027730229411163123,
           0.03406586357920254,
           -0.0043244486909335645,
           -0.037966781417709386,
           0.021895766062300728,
           -0.39258933333471313,
           0.036163682581385,
           -0.5479296410848082,
           -0.13608911014555963,
           -0.7388104618085272,
           -0.6022914485656519,
           1,
           0.9612759354713369,
           0.05830330991725508,
           -0.03848942962098051,
           0.5619276391539938,
           0.5296981624523496
          ],
          [
           -0.22749699713379162,
           0.0007716958702554157,
           -0.41730423281328,
           0.04136931239218118,
           0.06594352090431782,
           0.0376160875112371,
           0.0848414678297083,
           0.0023352396067907177,
           -0.023838617852197503,
           -0.02181327827283296,
           -0.10460195948338295,
           -0.04865566795991378,
           -0.022766498111147903,
           0.044957960836740446,
           -0.007179902992670728,
           -0.03668280443135506,
           0.028122355285220006,
           -0.4495464834695363,
           0.006593073374063743,
           -0.4548389597313693,
           -0.1389246465742627,
           -0.665557409944753,
           -0.49474769399362645,
           0.9612759354713369,
           1,
           0.07228712021962168,
           -0.022611154391048886,
           0.5254776240423384,
           0.5482866377472667
          ],
          [
           0.0927964349968924,
           -0.10579605030562247,
           -0.03193269426832675,
           0.0024874000723939214,
           0.011746968274490099,
           -0.0362432742152311,
           -0.014735935992520217,
           -0.06939935889777235,
           0.03922738879709217,
           0.024784169624813807,
           -0.04180317420717663,
           -0.0052779654785432475,
           -0.05240103608768012,
           0.03620093125702711,
           0.06711519443223132,
           0.05724773139787159,
           0.010753637147506925,
           0.0050733336659426346,
           0.489526261592664,
           0.03186462592305377,
           0.1094587369654479,
           -0.02548759918469014,
           0.08770217828514945,
           0.05830330991725508,
           0.07228712021962168,
           1,
           0.07378218633622503,
           0.015147488588367208,
           0.030395496914731753
          ],
          [
           0.18863333614011288,
           0.025410869050878915,
           -0.03732201676498643,
           -0.025866996484098872,
           -0.022008323538060724,
           -0.011307919977834112,
           -0.04904299758762635,
           0.10048511104022145,
           -0.01359054267791273,
           0.00825135638714664,
           -0.00633263572063025,
           0.07486492905538931,
           0.04227562202278369,
           -0.03135109131425299,
           -0.03846142362705891,
           0.018934140999539027,
           -0.0586792044608755,
           0.0017864720521773856,
           0.16921782796414317,
           0.06288955458989978,
           0.28368959616934025,
           -0.008155626976128722,
           0.017072686507202686,
           -0.03848942962098051,
           -0.022611154391048886,
           0.07378218633622503,
           1,
           0.02483217854176521,
           0.022491678039887157
          ],
          [
           -0.0721070846509616,
           0.01275062665111065,
           -0.44996739137580544,
           0.009872173343495728,
           0.036819498096817095,
           0.006401305819607037,
           0.029758996632157596,
           -0.043209357955211185,
           -0.018066047567685022,
           -0.035160535130389296,
           -0.056961007836338715,
           -0.020173031865388488,
           -0.0028930683046618946,
           -0.015806763803659665,
           0.00962708454583525,
           -0.020295772213133525,
           0.019782990484670318,
           -0.3761884715789489,
           -0.027053580851035874,
           -0.38266663994111316,
           -0.15876174872653734,
           -0.3825926557539693,
           -0.40545295151455446,
           0.5619276391539938,
           0.5254776240423384,
           0.015147488588367208,
           0.02483217854176521,
           1,
           0.8982186404762861
          ],
          [
           -0.13629517393045984,
           -0.007671549594778881,
           -0.3733150296685559,
           0.01614620614062063,
           0.03170189278154538,
           0.015324221459771381,
           0.034965560683479585,
           -0.013092542622564688,
           -0.027029483410555416,
           -0.041692315398223566,
           -0.048318507129004935,
           -0.005381091047111391,
           -0.010958031861618757,
           0.000511004943957573,
           0.004865524951655766,
           -0.00392267767247194,
           0.017951207747815646,
           -0.4380960743856115,
           -0.0576039456089867,
           -0.3036277091046668,
           -0.1612526310789835,
           -0.29113596614117365,
           -0.2707360076827994,
           0.5296981624523496,
           0.5482866377472667,
           0.030395496914731753,
           0.022491678039887157,
           0.8982186404762861,
           1
          ]
         ],
         "zmax": 1,
         "zmin": -1
        }
       ],
       "layout": {
        "autosize": false,
        "height": 800,
        "template": {
         "data": {
          "bar": [
           {
            "error_x": {
             "color": "#2a3f5f"
            },
            "error_y": {
             "color": "#2a3f5f"
            },
            "marker": {
             "line": {
              "color": "#E5ECF6",
              "width": 0.5
             },
             "pattern": {
              "fillmode": "overlay",
              "size": 10,
              "solidity": 0.2
             }
            },
            "type": "bar"
           }
          ],
          "barpolar": [
           {
            "marker": {
             "line": {
              "color": "#E5ECF6",
              "width": 0.5
             },
             "pattern": {
              "fillmode": "overlay",
              "size": 10,
              "solidity": 0.2
             }
            },
            "type": "barpolar"
           }
          ],
          "carpet": [
           {
            "aaxis": {
             "endlinecolor": "#2a3f5f",
             "gridcolor": "white",
             "linecolor": "white",
             "minorgridcolor": "white",
             "startlinecolor": "#2a3f5f"
            },
            "baxis": {
             "endlinecolor": "#2a3f5f",
             "gridcolor": "white",
             "linecolor": "white",
             "minorgridcolor": "white",
             "startlinecolor": "#2a3f5f"
            },
            "type": "carpet"
           }
          ],
          "choropleth": [
           {
            "colorbar": {
             "outlinewidth": 0,
             "ticks": ""
            },
            "type": "choropleth"
           }
          ],
          "contour": [
           {
            "colorbar": {
             "outlinewidth": 0,
             "ticks": ""
            },
            "colorscale": [
             [
              0,
              "#0d0887"
             ],
             [
              0.1111111111111111,
              "#46039f"
             ],
             [
              0.2222222222222222,
              "#7201a8"
             ],
             [
              0.3333333333333333,
              "#9c179e"
             ],
             [
              0.4444444444444444,
              "#bd3786"
             ],
             [
              0.5555555555555556,
              "#d8576b"
             ],
             [
              0.6666666666666666,
              "#ed7953"
             ],
             [
              0.7777777777777778,
              "#fb9f3a"
             ],
             [
              0.8888888888888888,
              "#fdca26"
             ],
             [
              1,
              "#f0f921"
             ]
            ],
            "type": "contour"
           }
          ],
          "contourcarpet": [
           {
            "colorbar": {
             "outlinewidth": 0,
             "ticks": ""
            },
            "type": "contourcarpet"
           }
          ],
          "heatmap": [
           {
            "colorbar": {
             "outlinewidth": 0,
             "ticks": ""
            },
            "colorscale": [
             [
              0,
              "#0d0887"
             ],
             [
              0.1111111111111111,
              "#46039f"
             ],
             [
              0.2222222222222222,
              "#7201a8"
             ],
             [
              0.3333333333333333,
              "#9c179e"
             ],
             [
              0.4444444444444444,
              "#bd3786"
             ],
             [
              0.5555555555555556,
              "#d8576b"
             ],
             [
              0.6666666666666666,
              "#ed7953"
             ],
             [
              0.7777777777777778,
              "#fb9f3a"
             ],
             [
              0.8888888888888888,
              "#fdca26"
             ],
             [
              1,
              "#f0f921"
             ]
            ],
            "type": "heatmap"
           }
          ],
          "heatmapgl": [
           {
            "colorbar": {
             "outlinewidth": 0,
             "ticks": ""
            },
            "colorscale": [
             [
              0,
              "#0d0887"
             ],
             [
              0.1111111111111111,
              "#46039f"
             ],
             [
              0.2222222222222222,
              "#7201a8"
             ],
             [
              0.3333333333333333,
              "#9c179e"
             ],
             [
              0.4444444444444444,
              "#bd3786"
             ],
             [
              0.5555555555555556,
              "#d8576b"
             ],
             [
              0.6666666666666666,
              "#ed7953"
             ],
             [
              0.7777777777777778,
              "#fb9f3a"
             ],
             [
              0.8888888888888888,
              "#fdca26"
             ],
             [
              1,
              "#f0f921"
             ]
            ],
            "type": "heatmapgl"
           }
          ],
          "histogram": [
           {
            "marker": {
             "pattern": {
              "fillmode": "overlay",
              "size": 10,
              "solidity": 0.2
             }
            },
            "type": "histogram"
           }
          ],
          "histogram2d": [
           {
            "colorbar": {
             "outlinewidth": 0,
             "ticks": ""
            },
            "colorscale": [
             [
              0,
              "#0d0887"
             ],
             [
              0.1111111111111111,
              "#46039f"
             ],
             [
              0.2222222222222222,
              "#7201a8"
             ],
             [
              0.3333333333333333,
              "#9c179e"
             ],
             [
              0.4444444444444444,
              "#bd3786"
             ],
             [
              0.5555555555555556,
              "#d8576b"
             ],
             [
              0.6666666666666666,
              "#ed7953"
             ],
             [
              0.7777777777777778,
              "#fb9f3a"
             ],
             [
              0.8888888888888888,
              "#fdca26"
             ],
             [
              1,
              "#f0f921"
             ]
            ],
            "type": "histogram2d"
           }
          ],
          "histogram2dcontour": [
           {
            "colorbar": {
             "outlinewidth": 0,
             "ticks": ""
            },
            "colorscale": [
             [
              0,
              "#0d0887"
             ],
             [
              0.1111111111111111,
              "#46039f"
             ],
             [
              0.2222222222222222,
              "#7201a8"
             ],
             [
              0.3333333333333333,
              "#9c179e"
             ],
             [
              0.4444444444444444,
              "#bd3786"
             ],
             [
              0.5555555555555556,
              "#d8576b"
             ],
             [
              0.6666666666666666,
              "#ed7953"
             ],
             [
              0.7777777777777778,
              "#fb9f3a"
             ],
             [
              0.8888888888888888,
              "#fdca26"
             ],
             [
              1,
              "#f0f921"
             ]
            ],
            "type": "histogram2dcontour"
           }
          ],
          "mesh3d": [
           {
            "colorbar": {
             "outlinewidth": 0,
             "ticks": ""
            },
            "type": "mesh3d"
           }
          ],
          "parcoords": [
           {
            "line": {
             "colorbar": {
              "outlinewidth": 0,
              "ticks": ""
             }
            },
            "type": "parcoords"
           }
          ],
          "pie": [
           {
            "automargin": true,
            "type": "pie"
           }
          ],
          "scatter": [
           {
            "fillpattern": {
             "fillmode": "overlay",
             "size": 10,
             "solidity": 0.2
            },
            "type": "scatter"
           }
          ],
          "scatter3d": [
           {
            "line": {
             "colorbar": {
              "outlinewidth": 0,
              "ticks": ""
             }
            },
            "marker": {
             "colorbar": {
              "outlinewidth": 0,
              "ticks": ""
             }
            },
            "type": "scatter3d"
           }
          ],
          "scattercarpet": [
           {
            "marker": {
             "colorbar": {
              "outlinewidth": 0,
              "ticks": ""
             }
            },
            "type": "scattercarpet"
           }
          ],
          "scattergeo": [
           {
            "marker": {
             "colorbar": {
              "outlinewidth": 0,
              "ticks": ""
             }
            },
            "type": "scattergeo"
           }
          ],
          "scattergl": [
           {
            "marker": {
             "colorbar": {
              "outlinewidth": 0,
              "ticks": ""
             }
            },
            "type": "scattergl"
           }
          ],
          "scattermapbox": [
           {
            "marker": {
             "colorbar": {
              "outlinewidth": 0,
              "ticks": ""
             }
            },
            "type": "scattermapbox"
           }
          ],
          "scatterpolar": [
           {
            "marker": {
             "colorbar": {
              "outlinewidth": 0,
              "ticks": ""
             }
            },
            "type": "scatterpolar"
           }
          ],
          "scatterpolargl": [
           {
            "marker": {
             "colorbar": {
              "outlinewidth": 0,
              "ticks": ""
             }
            },
            "type": "scatterpolargl"
           }
          ],
          "scatterternary": [
           {
            "marker": {
             "colorbar": {
              "outlinewidth": 0,
              "ticks": ""
             }
            },
            "type": "scatterternary"
           }
          ],
          "surface": [
           {
            "colorbar": {
             "outlinewidth": 0,
             "ticks": ""
            },
            "colorscale": [
             [
              0,
              "#0d0887"
             ],
             [
              0.1111111111111111,
              "#46039f"
             ],
             [
              0.2222222222222222,
              "#7201a8"
             ],
             [
              0.3333333333333333,
              "#9c179e"
             ],
             [
              0.4444444444444444,
              "#bd3786"
             ],
             [
              0.5555555555555556,
              "#d8576b"
             ],
             [
              0.6666666666666666,
              "#ed7953"
             ],
             [
              0.7777777777777778,
              "#fb9f3a"
             ],
             [
              0.8888888888888888,
              "#fdca26"
             ],
             [
              1,
              "#f0f921"
             ]
            ],
            "type": "surface"
           }
          ],
          "table": [
           {
            "cells": {
             "fill": {
              "color": "#EBF0F8"
             },
             "line": {
              "color": "white"
             }
            },
            "header": {
             "fill": {
              "color": "#C8D4E3"
             },
             "line": {
              "color": "white"
             }
            },
            "type": "table"
           }
          ]
         },
         "layout": {
          "annotationdefaults": {
           "arrowcolor": "#2a3f5f",
           "arrowhead": 0,
           "arrowwidth": 1
          },
          "autotypenumbers": "strict",
          "coloraxis": {
           "colorbar": {
            "outlinewidth": 0,
            "ticks": ""
           }
          },
          "colorscale": {
           "diverging": [
            [
             0,
             "#8e0152"
            ],
            [
             0.1,
             "#c51b7d"
            ],
            [
             0.2,
             "#de77ae"
            ],
            [
             0.3,
             "#f1b6da"
            ],
            [
             0.4,
             "#fde0ef"
            ],
            [
             0.5,
             "#f7f7f7"
            ],
            [
             0.6,
             "#e6f5d0"
            ],
            [
             0.7,
             "#b8e186"
            ],
            [
             0.8,
             "#7fbc41"
            ],
            [
             0.9,
             "#4d9221"
            ],
            [
             1,
             "#276419"
            ]
           ],
           "sequential": [
            [
             0,
             "#0d0887"
            ],
            [
             0.1111111111111111,
             "#46039f"
            ],
            [
             0.2222222222222222,
             "#7201a8"
            ],
            [
             0.3333333333333333,
             "#9c179e"
            ],
            [
             0.4444444444444444,
             "#bd3786"
            ],
            [
             0.5555555555555556,
             "#d8576b"
            ],
            [
             0.6666666666666666,
             "#ed7953"
            ],
            [
             0.7777777777777778,
             "#fb9f3a"
            ],
            [
             0.8888888888888888,
             "#fdca26"
            ],
            [
             1,
             "#f0f921"
            ]
           ],
           "sequentialminus": [
            [
             0,
             "#0d0887"
            ],
            [
             0.1111111111111111,
             "#46039f"
            ],
            [
             0.2222222222222222,
             "#7201a8"
            ],
            [
             0.3333333333333333,
             "#9c179e"
            ],
            [
             0.4444444444444444,
             "#bd3786"
            ],
            [
             0.5555555555555556,
             "#d8576b"
            ],
            [
             0.6666666666666666,
             "#ed7953"
            ],
            [
             0.7777777777777778,
             "#fb9f3a"
            ],
            [
             0.8888888888888888,
             "#fdca26"
            ],
            [
             1,
             "#f0f921"
            ]
           ]
          },
          "colorway": [
           "#636efa",
           "#EF553B",
           "#00cc96",
           "#ab63fa",
           "#FFA15A",
           "#19d3f3",
           "#FF6692",
           "#B6E880",
           "#FF97FF",
           "#FECB52"
          ],
          "font": {
           "color": "#2a3f5f"
          },
          "geo": {
           "bgcolor": "white",
           "lakecolor": "white",
           "landcolor": "#E5ECF6",
           "showlakes": true,
           "showland": true,
           "subunitcolor": "white"
          },
          "hoverlabel": {
           "align": "left"
          },
          "hovermode": "closest",
          "mapbox": {
           "style": "light"
          },
          "paper_bgcolor": "white",
          "plot_bgcolor": "#E5ECF6",
          "polar": {
           "angularaxis": {
            "gridcolor": "white",
            "linecolor": "white",
            "ticks": ""
           },
           "bgcolor": "#E5ECF6",
           "radialaxis": {
            "gridcolor": "white",
            "linecolor": "white",
            "ticks": ""
           }
          },
          "scene": {
           "xaxis": {
            "backgroundcolor": "#E5ECF6",
            "gridcolor": "white",
            "gridwidth": 2,
            "linecolor": "white",
            "showbackground": true,
            "ticks": "",
            "zerolinecolor": "white"
           },
           "yaxis": {
            "backgroundcolor": "#E5ECF6",
            "gridcolor": "white",
            "gridwidth": 2,
            "linecolor": "white",
            "showbackground": true,
            "ticks": "",
            "zerolinecolor": "white"
           },
           "zaxis": {
            "backgroundcolor": "#E5ECF6",
            "gridcolor": "white",
            "gridwidth": 2,
            "linecolor": "white",
            "showbackground": true,
            "ticks": "",
            "zerolinecolor": "white"
           }
          },
          "shapedefaults": {
           "line": {
            "color": "#2a3f5f"
           }
          },
          "ternary": {
           "aaxis": {
            "gridcolor": "white",
            "linecolor": "white",
            "ticks": ""
           },
           "baxis": {
            "gridcolor": "white",
            "linecolor": "white",
            "ticks": ""
           },
           "bgcolor": "#E5ECF6",
           "caxis": {
            "gridcolor": "white",
            "linecolor": "white",
            "ticks": ""
           }
          },
          "title": {
           "x": 0.05
          },
          "xaxis": {
           "automargin": true,
           "gridcolor": "white",
           "linecolor": "white",
           "ticks": "",
           "title": {
            "standoff": 15
           },
           "zerolinecolor": "white",
           "zerolinewidth": 2
          },
          "yaxis": {
           "automargin": true,
           "gridcolor": "white",
           "linecolor": "white",
           "ticks": "",
           "title": {
            "standoff": 15
           },
           "zerolinecolor": "white",
           "zerolinewidth": 2
          }
         }
        },
        "title": {
         "text": "drop_nan - Korrelasjonsmatrise"
        },
        "width": 800,
        "xaxis": {
         "nticks": 29
        },
        "yaxis": {
         "nticks": 29
        }
       }
      }
     },
     "metadata": {},
     "output_type": "display_data"
    },
    {
     "name": "stderr",
     "output_type": "stream",
     "text": [
      "c:\\Users\\georg\\anaconda3\\envs\\INF161\\Lib\\site-packages\\sklearn\\metrics\\_regression.py:492: FutureWarning:\n",
      "\n",
      "'squared' is deprecated in version 1.4 and will be removed in 1.6. To calculate the root mean squared error, use the function'root_mean_squared_error'.\n",
      "\n"
     ]
    },
    {
     "name": "stdout",
     "output_type": "stream",
     "text": [
      "Random Forest: 18.65\n"
     ]
    },
    {
     "name": "stderr",
     "output_type": "stream",
     "text": [
      "c:\\Users\\georg\\anaconda3\\envs\\INF161\\Lib\\site-packages\\sklearn\\metrics\\_regression.py:492: FutureWarning:\n",
      "\n",
      "'squared' is deprecated in version 1.4 and will be removed in 1.6. To calculate the root mean squared error, use the function'root_mean_squared_error'.\n",
      "\n",
      "c:\\Users\\georg\\anaconda3\\envs\\INF161\\Lib\\site-packages\\sklearn\\metrics\\_regression.py:492: FutureWarning:\n",
      "\n",
      "'squared' is deprecated in version 1.4 and will be removed in 1.6. To calculate the root mean squared error, use the function'root_mean_squared_error'.\n",
      "\n",
      "c:\\Users\\georg\\anaconda3\\envs\\INF161\\Lib\\site-packages\\sklearn\\metrics\\_regression.py:492: FutureWarning:\n",
      "\n",
      "'squared' is deprecated in version 1.4 and will be removed in 1.6. To calculate the root mean squared error, use the function'root_mean_squared_error'.\n",
      "\n"
     ]
    },
    {
     "name": "stdout",
     "output_type": "stream",
     "text": [
      "Gradient Boosting: 17.93\n",
      "Decision Tree: 26.77\n",
      "Linear Regression: 17.78\n",
      "Polynomial Regression: 36.45\n",
      "Ridge Regression: 17.67\n",
      "drop_nan - Best Model: Ridge Regression\n",
      "drop_nan - Validation RMSE: 17.67\n",
      "drop_nan - Within 10 diff: 58.17%\n",
      "drop_nan - Full Dataset RMSE: 20.75\n",
      "drop_nan - Within 10 diff (Full Dataset): 61.43%\n"
     ]
    },
    {
     "name": "stderr",
     "output_type": "stream",
     "text": [
      "c:\\Users\\georg\\anaconda3\\envs\\INF161\\Lib\\site-packages\\sklearn\\metrics\\_regression.py:492: FutureWarning:\n",
      "\n",
      "'squared' is deprecated in version 1.4 and will be removed in 1.6. To calculate the root mean squared error, use the function'root_mean_squared_error'.\n",
      "\n",
      "c:\\Users\\georg\\anaconda3\\envs\\INF161\\Lib\\site-packages\\sklearn\\metrics\\_regression.py:492: FutureWarning:\n",
      "\n",
      "'squared' is deprecated in version 1.4 and will be removed in 1.6. To calculate the root mean squared error, use the function'root_mean_squared_error'.\n",
      "\n",
      "c:\\Users\\georg\\anaconda3\\envs\\INF161\\Lib\\site-packages\\sklearn\\metrics\\_regression.py:492: FutureWarning:\n",
      "\n",
      "'squared' is deprecated in version 1.4 and will be removed in 1.6. To calculate the root mean squared error, use the function'root_mean_squared_error'.\n",
      "\n"
     ]
    },
    {
     "data": {
      "application/vnd.plotly.v1+json": {
       "config": {
        "plotlyServerURL": "https://plot.ly"
       },
       "data": [
        {
         "type": "heatmap",
         "x": [
          "alder",
          "utdanning",
          "sykehusdød",
          "blodtrykk",
          "hvite_blodlegemer",
          "hjertefrekvens",
          "respirasjonsfrekvens",
          "kroppstemperatur",
          "lungefunksjon",
          "serumalbumin",
          "bilirubin",
          "kreatinin",
          "natrium",
          "blod_ph",
          "glukose",
          "blodurea_nitrogen",
          "dødsfall",
          "antall_komorbiditeter",
          "koma_score",
          "adl_stedfortreder",
          "fysiologisk_score",
          "apache_fysiologisk_score",
          "overlevelsesestimat_2mnd",
          "overlevelsesestimat_6mnd",
          "diabetes",
          "demens",
          "lege_overlevelsesestimat_2mnd",
          "lege_overlevelsesestimat_6mnd"
         ],
         "y": [
          "alder",
          "utdanning",
          "sykehusdød",
          "blodtrykk",
          "hvite_blodlegemer",
          "hjertefrekvens",
          "respirasjonsfrekvens",
          "kroppstemperatur",
          "lungefunksjon",
          "serumalbumin",
          "bilirubin",
          "kreatinin",
          "natrium",
          "blod_ph",
          "glukose",
          "blodurea_nitrogen",
          "dødsfall",
          "antall_komorbiditeter",
          "koma_score",
          "adl_stedfortreder",
          "fysiologisk_score",
          "apache_fysiologisk_score",
          "overlevelsesestimat_2mnd",
          "overlevelsesestimat_6mnd",
          "diabetes",
          "demens",
          "lege_overlevelsesestimat_2mnd",
          "lege_overlevelsesestimat_6mnd"
         ],
         "z": [
          [
           1,
           -0.12286749268854281,
           0.040476951484547045,
           -0.03915868305518392,
           0.0020243363046296135,
           -0.137382819336006,
           -0.017053146211615744,
           -0.09538469251592005,
           0.019159308787779876,
           0.0023921522635200906,
           -0.12558735012803043,
           0.0036563716459309926,
           0.0157770277049918,
           0.013759713433225775,
           0.013235179368323177,
           0.02487928566754674,
           0.18038483654488208,
           0.1297297701688885,
           0.011990015162198834,
           0.07222730782284253,
           -0.11870426194275767,
           -0.032132970581235,
           -0.15595419519269313,
           -0.19524826335511175,
           0.094858986159418,
           0.1978181948528905,
           -0.051503016323680706,
           -0.09069721457901249
          ],
          [
           -0.12286749268854281,
           1,
           -0.09405088859189063,
           0.00261134369971748,
           -0.024344645018079827,
           -0.004177260893575756,
           -0.02220078226220975,
           -0.007160277479672733,
           -0.021173147739567136,
           0.010538779129905985,
           0.015073961252546926,
           0.0019569672517772982,
           -0.012288739545149292,
           -0.03674914925905487,
           0.049540893617338495,
           0.04813388870485514,
           -0.05631019621855961,
           -0.024166525722888636,
           -0.09875569327436022,
           0.07102517589522245,
           -0.05400497046998447,
           -0.0667893967527763,
           0.09209103952672548,
           0.07709556065999723,
           -0.026858389723155976,
           -0.06190199474429742,
           0.11619330903773606,
           0.10310775180539453
          ],
          [
           0.040476951484547045,
           -0.09405088859189063,
           1,
           -0.08752894017164899,
           0.08363861349336223,
           0.0924064045625286,
           0.019893000914114167,
           0.062467706257655,
           0.02495114781098991,
           -0.050887966239082594,
           0.14723785981688364,
           0.10141271417583261,
           0.023909837492450573,
           0.1179192451080565,
           -0.008161571734888993,
           0.006807471626845207,
           0.4033659956251786,
           -0.0809355817424367,
           0.3817949869055247,
           0.05094942190799444,
           0.4688638653364822,
           0.47959363102975755,
           -0.5640062015157723,
           -0.5042443648871296,
           -0.01920731961377726,
           0.02422895496981598,
           -0.36991012330855216,
           -0.3459020375531091
          ],
          [
           -0.03915868305518392,
           0.00261134369971748,
           -0.08752894017164899,
           1,
           -0.03366607940390971,
           0.07218455310542876,
           0.07217655629785134,
           -0.003456446211272317,
           0.062268459211262374,
           0.03965230439335018,
           -0.0791137566788665,
           -0.09357145984504499,
           0.06677143163479594,
           -0.012732645338237761,
           0.043314464206476826,
           -0.06196600420085671,
           -0.02596075782479218,
           -0.013602483927293274,
           -0.05670912373543327,
           0.02682603725203627,
           -0.21228086913184394,
           -0.16945249978089777,
           0.1565866756896592,
           0.13458688622043613,
           -0.0024240124606405454,
           0.005835184429224562,
           0.07556538034356357,
           0.07245012034774898
          ],
          [
           0.0020243363046296135,
           -0.024344645018079827,
           0.08363861349336223,
           -0.03366607940390971,
           1,
           0.12628641014644332,
           0.024804056438488944,
           0.1024990844059791,
           0.07059782184570794,
           -0.006372505684073008,
           0.07504160110591436,
           0.12112100621139273,
           0.0029733312560603366,
           0.20553592595096884,
           0.0665873353546768,
           0.1104333841640777,
           -0.004532804238728345,
           -0.010100342794359875,
           0.08023844258895645,
           -0.0020830027482549814,
           0.12811407751165096,
           0.11249263724301303,
           -0.10559070535857595,
           -0.08358412064748809,
           0.026518411873626035,
           0.004384931584369713,
           -0.06636030469083613,
           -0.04487036352350711
          ],
          [
           -0.137382819336006,
           -0.004177260893575756,
           0.0924064045625286,
           0.07218455310542876,
           0.12628641014644332,
           1,
           0.21416798097061882,
           0.26383108425288326,
           0.06214613078139435,
           0.0002877037800274424,
           0.09915947180048093,
           0.0105294626725023,
           0.027730731798197114,
           0.1993200717006643,
           0.015039233023692476,
           0.006037670568495601,
           -0.0033732439084007177,
           -0.06802918227443715,
           0.02282113923407513,
           0.015497289648446048,
           0.13355913171367437,
           0.15227425493311597,
           -0.11876975671959317,
           -0.11027568022632768,
           -0.06636668315898493,
           -0.027388332006809447,
           -0.06092004336817969,
           -0.04382494490983215
          ],
          [
           -0.017053146211615744,
           -0.02220078226220975,
           0.019893000914114167,
           0.07217655629785134,
           0.024804056438488944,
           0.21416798097061882,
           1,
           0.07681270925329911,
           0.031162956230657398,
           0.002227219833139363,
           0.02647102759877946,
           -0.03475506122727607,
           0.025222353546131976,
           0.09660564646580554,
           -0.024972327561808446,
           -0.0223872490935972,
           0.007467089722202525,
           0.005236290796543093,
           -0.001403803280597339,
           0.0029136543917565884,
           0.046766398688197944,
           0.1087357466756462,
           -0.04800073000881247,
           -0.043830529316373934,
           -0.03660184848757685,
           0.0077512788380473055,
           -0.019898738712794323,
           -0.01792777171626319
          ],
          [
           -0.09538469251592005,
           -0.007160277479672733,
           0.062467706257655,
           -0.003456446211272317,
           0.1024990844059791,
           0.26383108425288326,
           0.07681270925329911,
           1,
           0.030527242287804637,
           -0.04934290690438824,
           0.02137629435888282,
           0.0018425666383327251,
           0.11040771024978636,
           0.17830685462402404,
           0.031200450976948874,
           -0.006300498669483638,
           -0.025755738525934952,
           -0.10938128600791361,
           0.09718634002384317,
           -0.011808387028541357,
           0.0605078801676737,
           0.07779032485819938,
           -0.06899615201033933,
           -0.04357300895163096,
           -0.015079117983468508,
           -0.00357197327673661,
           -0.054877358661787494,
           -0.036495256916732215
          ],
          [
           0.019159308787779876,
           -0.021173147739567136,
           0.02495114781098991,
           0.062268459211262374,
           0.07059782184570794,
           0.06214613078139435,
           0.031162956230657398,
           0.030527242287804637,
           1,
           -0.016850445842737205,
           0.004370896574825435,
           0.08507156325926668,
           0.06635994258601356,
           0.7301732207819632,
           0.039423195711658136,
           0.04746467319863571,
           -0.04212784529617674,
           0.04092749770327536,
           0.06071721661129648,
           0.044998853969750244,
           0.014226673455510258,
           0.05209319019937119,
           0.006838030376849495,
           0.045368771990017535,
           0.046516501787536566,
           0.012404120810703554,
           -0.006992234772667003,
           0.019933063625124047
          ],
          [
           0.0023921522635200906,
           0.010538779129905985,
           -0.050887966239082594,
           0.03965230439335018,
           -0.006372505684073008,
           0.0002877037800274424,
           0.002227219833139363,
           -0.04934290690438824,
           -0.016850445842737205,
           1,
           0.07757108237583328,
           -0.0018687958700567445,
           -0.0036586228752458275,
           -0.036735641911485636,
           -0.03968957050562965,
           -0.04407607474546571,
           -0.016877695135807006,
           0.03823320111725511,
           -0.04222106310041533,
           -0.0011649440234929778,
           -0.05662207683640639,
           -0.009565823009568422,
           0.051619560482623,
           0.05157226090845207,
           -0.005086241273086935,
           -0.0036624490832042325,
           0.06532014689114655,
           0.05495480954763857
          ],
          [
           -0.12558735012803043,
           0.015073961252546926,
           0.14723785981688364,
           -0.0791137566788665,
           0.07504160110591436,
           0.09915947180048093,
           0.02647102759877946,
           0.02137629435888282,
           0.004370896574825435,
           0.07757108237583328,
           1,
           0.1701002487404852,
           0.03084566969462891,
           0.046872474962549496,
           -0.008176377600538859,
           0.11641745923089869,
           0.026625039222574063,
           0.003255014732940028,
           0.09451722529681143,
           -0.004736311836248531,
           0.23085560903066316,
           0.23144394497563067,
           -0.18489232203288986,
           -0.16846780232978595,
           -0.03978714337460596,
           -0.03560185668961332,
           -0.08868092400962758,
           -0.08021626525193323
          ],
          [
           0.0036563716459309926,
           0.0019569672517772982,
           0.10141271417583261,
           -0.09357145984504499,
           0.12112100621139273,
           0.0105294626725023,
           -0.03475506122727607,
           0.0018425666383327251,
           0.08507156325926668,
           -0.0018687958700567445,
           0.1701002487404852,
           1,
           0.019666890780732162,
           0.13634363457086468,
           0.04185779539776606,
           0.38906149994666706,
           0.021691930684939135,
           0.03221764112451068,
           0.0707522402987743,
           -0.013292894665655084,
           0.18619031545777057,
           0.24118992580204043,
           -0.14852875807233132,
           -0.12213506227883147,
           0.0586337134540694,
           -0.0051554034201031895,
           -0.06050833896782532,
           -0.04691892323723931
          ],
          [
           0.0157770277049918,
           -0.012288739545149292,
           0.023909837492450573,
           0.06677143163479594,
           0.0029733312560603366,
           0.027730731798197114,
           0.025222353546131976,
           0.11040771024978636,
           0.06635994258601356,
           -0.0036586228752458275,
           0.03084566969462891,
           0.019666890780732162,
           1,
           0.12271320405226066,
           0.04420370248371383,
           0.08941898745236686,
           -0.019915017727150243,
           -0.02634416553142343,
           0.07868146462819202,
           0.010791801699177168,
           -0.010507368388901662,
           0.034465276520411106,
           -0.010486723488186049,
           0.00811980244214841,
           0.009267689946876958,
           0.033035384634412523,
           -0.003935235696204316,
           0.0074307606626081634
          ],
          [
           0.013759713433225775,
           -0.03674914925905487,
           0.1179192451080565,
           -0.012732645338237761,
           0.20553592595096884,
           0.1993200717006643,
           0.09660564646580554,
           0.17830685462402404,
           0.7301732207819632,
           -0.036735641911485636,
           0.046872474962549496,
           0.13634363457086468,
           0.12271320405226066,
           1,
           0.08276320158937345,
           0.10442750058429905,
           -0.052965858613768874,
           -0.0026252466727014518,
           0.10993873464508425,
           0.0357959023142861,
           0.17209521539401076,
           0.19025364285407048,
           -0.11846306182198377,
           -0.053656445908417096,
           0.034933977986463215,
           0.019409184863267873,
           -0.059248595027920924,
           -0.012960799619471382
          ],
          [
           0.013235179368323177,
           0.049540893617338495,
           -0.008161571734888993,
           0.043314464206476826,
           0.0665873353546768,
           0.015039233023692476,
           -0.024972327561808446,
           0.031200450976948874,
           0.039423195711658136,
           -0.03968957050562965,
           -0.008176377600538859,
           0.04185779539776606,
           0.04420370248371383,
           0.08276320158937345,
           1,
           0.5537593125833123,
           -0.09416226276300255,
           0.03836886101229706,
           0.025457795500550162,
           0.014138987740184466,
           0.011022307385442895,
           0.04343828694564335,
           -0.01617386904829658,
           -0.005737146021067964,
           0.049130014398654505,
           0.025513104970785377,
           0.04609351618536277,
           0.060868843631491316
          ],
          [
           0.02487928566754674,
           0.04813388870485514,
           0.006807471626845207,
           -0.06196600420085671,
           0.1104333841640777,
           0.006037670568495601,
           -0.0223872490935972,
           -0.006300498669483638,
           0.04746467319863571,
           -0.04407607474546571,
           0.11641745923089869,
           0.38906149994666706,
           0.08941898745236686,
           0.10442750058429905,
           0.5537593125833123,
           1,
           -0.07327651902793697,
           0.05123928992394739,
           0.024640802904589174,
           0.0072291292755360045,
           0.03852678474438613,
           0.06916598699217404,
           -0.04230772636179204,
           -0.03296034549686269,
           0.04595583724022829,
           0.014405659645640232,
           0.043514310635954005,
           0.05649041719732322
          ],
          [
           0.18038483654488208,
           -0.05631019621855961,
           0.4033659956251786,
           -0.02596075782479218,
           -0.004532804238728345,
           -0.0033732439084007177,
           0.007467089722202525,
           -0.025755738525934952,
           -0.04212784529617674,
           -0.016877695135807006,
           0.026625039222574063,
           0.021691930684939135,
           -0.019915017727150243,
           -0.052965858613768874,
           -0.09416226276300255,
           -0.07327651902793697,
           1,
           0.05677550992546858,
           0.13643446222851086,
           0.09048930081138037,
           0.15731461518755716,
           0.15826461117626212,
           -0.3261751765784931,
           -0.3793702863248929,
           0.005251329039053851,
           0.03885505398486532,
           -0.20821608195143346,
           -0.28458515248948063
          ],
          [
           0.1297297701688885,
           -0.024166525722888636,
           -0.0809355817424367,
           -0.013602483927293274,
           -0.010100342794359875,
           -0.06802918227443715,
           0.005236290796543093,
           -0.10938128600791361,
           0.04092749770327536,
           0.03823320111725511,
           0.003255014732940028,
           0.03221764112451068,
           -0.02634416553142343,
           -0.0026252466727014518,
           0.03836886101229706,
           0.05123928992394739,
           0.05677550992546858,
           1,
           -0.12673193482884296,
           0.1040662025978713,
           -0.05561784032729177,
           0.013853523987550754,
           0.10602781951716267,
           0.09410692619352021,
           0.389890526488137,
           0.13865141083286206,
           0.07001404951786629,
           0.050262905161748875
          ],
          [
           0.011990015162198834,
           -0.09875569327436022,
           0.3817949869055247,
           -0.05670912373543327,
           0.08023844258895645,
           0.02282113923407513,
           -0.001403803280597339,
           0.09718634002384317,
           0.06071721661129648,
           -0.04222106310041533,
           0.09451722529681143,
           0.0707522402987743,
           0.07868146462819202,
           0.10993873464508425,
           0.025457795500550162,
           0.024640802904589174,
           0.13643446222851086,
           -0.12673193482884296,
           1,
           0.042990525213195664,
           0.28790583422656285,
           0.2892782680695248,
           -0.5960529941258196,
           -0.5046911720322793,
           -0.0028524535754236064,
           0.07513770581774179,
           -0.2984971620188539,
           -0.2575109039582892
          ],
          [
           0.07222730782284253,
           0.07102517589522245,
           0.05094942190799444,
           0.02682603725203627,
           -0.0020830027482549814,
           0.015497289648446048,
           0.0029136543917565884,
           -0.011808387028541357,
           0.044998853969750244,
           -0.0011649440234929778,
           -0.004736311836248531,
           -0.013292894665655084,
           0.010791801699177168,
           0.0357959023142861,
           0.014138987740184466,
           0.0072291292755360045,
           0.09048930081138037,
           0.1040662025978713,
           0.042990525213195664,
           1,
           0.05245199263673536,
           0.06290703231094456,
           -0.0698715421578107,
           -0.06876325942905596,
           0.06518381298934484,
           0.14909428198669206,
           -0.022582909220622897,
           -0.03534240055751159
          ],
          [
           -0.11870426194275767,
           -0.05400497046998447,
           0.4688638653364822,
           -0.21228086913184394,
           0.12811407751165096,
           0.13355913171367437,
           0.046766398688197944,
           0.0605078801676737,
           0.014226673455510258,
           -0.05662207683640639,
           0.23085560903066316,
           0.18619031545777057,
           -0.010507368388901662,
           0.17209521539401076,
           0.011022307385442895,
           0.03852678474438613,
           0.15731461518755716,
           -0.05561784032729177,
           0.28790583422656285,
           0.05245199263673536,
           1,
           0.7990801123386913,
           -0.7581244972362323,
           -0.6842932153797899,
           0.008527871741297731,
           -0.012156291547702945,
           -0.29625619062558595,
           -0.25024632273905745
          ],
          [
           -0.032132970581235,
           -0.0667893967527763,
           0.47959363102975755,
           -0.16945249978089777,
           0.11249263724301303,
           0.15227425493311597,
           0.1087357466756462,
           0.07779032485819938,
           0.05209319019937119,
           -0.009565823009568422,
           0.23144394497563067,
           0.24118992580204043,
           0.034465276520411106,
           0.19025364285407048,
           0.04343828694564335,
           0.06916598699217404,
           0.15826461117626212,
           0.013853523987550754,
           0.2892782680695248,
           0.06290703231094456,
           0.7990801123386913,
           1,
           -0.6547577202976425,
           -0.5560729462362776,
           0.08366768064550555,
           0.009770388310752465,
           -0.28666411773017353,
           -0.2287694105475617
          ],
          [
           -0.15595419519269313,
           0.09209103952672548,
           -0.5640062015157723,
           0.1565866756896592,
           -0.10559070535857595,
           -0.11876975671959317,
           -0.04800073000881247,
           -0.06899615201033933,
           0.006838030376849495,
           0.051619560482623,
           -0.18489232203288986,
           -0.14852875807233132,
           -0.010486723488186049,
           -0.11846306182198377,
           -0.01617386904829658,
           -0.04230772636179204,
           -0.3261751765784931,
           0.10602781951716267,
           -0.5960529941258196,
           -0.0698715421578107,
           -0.7581244972362323,
           -0.6547577202976425,
           1,
           0.9604599286612453,
           0.030562715990085722,
           -0.0496802156781888,
           0.405961076073556,
           0.4005885212055293
          ],
          [
           -0.19524826335511175,
           0.07709556065999723,
           -0.5042443648871296,
           0.13458688622043613,
           -0.08358412064748809,
           -0.11027568022632768,
           -0.043830529316373934,
           -0.04357300895163096,
           0.045368771990017535,
           0.05157226090845207,
           -0.16846780232978595,
           -0.12213506227883147,
           0.00811980244214841,
           -0.053656445908417096,
           -0.005737146021067964,
           -0.03296034549686269,
           -0.3793702863248929,
           0.09410692619352021,
           -0.5046911720322793,
           -0.06876325942905596,
           -0.6842932153797899,
           -0.5560729462362776,
           0.9604599286612453,
           1,
           0.05307521487990728,
           -0.03994549547214809,
           0.384380353350126,
           0.4140600823352441
          ],
          [
           0.094858986159418,
           -0.026858389723155976,
           -0.01920731961377726,
           -0.0024240124606405454,
           0.026518411873626035,
           -0.06636668315898493,
           -0.03660184848757685,
           -0.015079117983468508,
           0.046516501787536566,
           -0.005086241273086935,
           -0.03978714337460596,
           0.0586337134540694,
           0.009267689946876958,
           0.034933977986463215,
           0.049130014398654505,
           0.04595583724022829,
           0.005251329039053851,
           0.389890526488137,
           -0.0028524535754236064,
           0.06518381298934484,
           0.008527871741297731,
           0.08366768064550555,
           0.030562715990085722,
           0.05307521487990728,
           1,
           0.025707417629028822,
           0.0354902559327897,
           0.04305419458802323
          ],
          [
           0.1978181948528905,
           -0.06190199474429742,
           0.02422895496981598,
           0.005835184429224562,
           0.004384931584369713,
           -0.027388332006809447,
           0.0077512788380473055,
           -0.00357197327673661,
           0.012404120810703554,
           -0.0036624490832042325,
           -0.03560185668961332,
           -0.0051554034201031895,
           0.033035384634412523,
           0.019409184863267873,
           0.025513104970785377,
           0.014405659645640232,
           0.03885505398486532,
           0.13865141083286206,
           0.07513770581774179,
           0.14909428198669206,
           -0.012156291547702945,
           0.009770388310752465,
           -0.0496802156781888,
           -0.03994549547214809,
           0.025707417629028822,
           1,
           -0.014452432983569677,
           -0.022634930810060433
          ],
          [
           -0.051503016323680706,
           0.11619330903773606,
           -0.36991012330855216,
           0.07556538034356357,
           -0.06636030469083613,
           -0.06092004336817969,
           -0.019898738712794323,
           -0.054877358661787494,
           -0.006992234772667003,
           0.06532014689114655,
           -0.08868092400962758,
           -0.06050833896782532,
           -0.003935235696204316,
           -0.059248595027920924,
           0.04609351618536277,
           0.043514310635954005,
           -0.20821608195143346,
           0.07001404951786629,
           -0.2984971620188539,
           -0.022582909220622897,
           -0.29625619062558595,
           -0.28666411773017353,
           0.405961076073556,
           0.384380353350126,
           0.0354902559327897,
           -0.014452432983569677,
           1,
           0.9274773570528415
          ],
          [
           -0.09069721457901249,
           0.10310775180539453,
           -0.3459020375531091,
           0.07245012034774898,
           -0.04487036352350711,
           -0.04382494490983215,
           -0.01792777171626319,
           -0.036495256916732215,
           0.019933063625124047,
           0.05495480954763857,
           -0.08021626525193323,
           -0.04691892323723931,
           0.0074307606626081634,
           -0.012960799619471382,
           0.060868843631491316,
           0.05649041719732322,
           -0.28458515248948063,
           0.050262905161748875,
           -0.2575109039582892,
           -0.03534240055751159,
           -0.25024632273905745,
           -0.2287694105475617,
           0.4005885212055293,
           0.4140600823352441,
           0.04305419458802323,
           -0.022634930810060433,
           0.9274773570528415,
           1
          ]
         ],
         "zmax": 1,
         "zmin": -1
        }
       ],
       "layout": {
        "autosize": false,
        "height": 800,
        "template": {
         "data": {
          "bar": [
           {
            "error_x": {
             "color": "#2a3f5f"
            },
            "error_y": {
             "color": "#2a3f5f"
            },
            "marker": {
             "line": {
              "color": "#E5ECF6",
              "width": 0.5
             },
             "pattern": {
              "fillmode": "overlay",
              "size": 10,
              "solidity": 0.2
             }
            },
            "type": "bar"
           }
          ],
          "barpolar": [
           {
            "marker": {
             "line": {
              "color": "#E5ECF6",
              "width": 0.5
             },
             "pattern": {
              "fillmode": "overlay",
              "size": 10,
              "solidity": 0.2
             }
            },
            "type": "barpolar"
           }
          ],
          "carpet": [
           {
            "aaxis": {
             "endlinecolor": "#2a3f5f",
             "gridcolor": "white",
             "linecolor": "white",
             "minorgridcolor": "white",
             "startlinecolor": "#2a3f5f"
            },
            "baxis": {
             "endlinecolor": "#2a3f5f",
             "gridcolor": "white",
             "linecolor": "white",
             "minorgridcolor": "white",
             "startlinecolor": "#2a3f5f"
            },
            "type": "carpet"
           }
          ],
          "choropleth": [
           {
            "colorbar": {
             "outlinewidth": 0,
             "ticks": ""
            },
            "type": "choropleth"
           }
          ],
          "contour": [
           {
            "colorbar": {
             "outlinewidth": 0,
             "ticks": ""
            },
            "colorscale": [
             [
              0,
              "#0d0887"
             ],
             [
              0.1111111111111111,
              "#46039f"
             ],
             [
              0.2222222222222222,
              "#7201a8"
             ],
             [
              0.3333333333333333,
              "#9c179e"
             ],
             [
              0.4444444444444444,
              "#bd3786"
             ],
             [
              0.5555555555555556,
              "#d8576b"
             ],
             [
              0.6666666666666666,
              "#ed7953"
             ],
             [
              0.7777777777777778,
              "#fb9f3a"
             ],
             [
              0.8888888888888888,
              "#fdca26"
             ],
             [
              1,
              "#f0f921"
             ]
            ],
            "type": "contour"
           }
          ],
          "contourcarpet": [
           {
            "colorbar": {
             "outlinewidth": 0,
             "ticks": ""
            },
            "type": "contourcarpet"
           }
          ],
          "heatmap": [
           {
            "colorbar": {
             "outlinewidth": 0,
             "ticks": ""
            },
            "colorscale": [
             [
              0,
              "#0d0887"
             ],
             [
              0.1111111111111111,
              "#46039f"
             ],
             [
              0.2222222222222222,
              "#7201a8"
             ],
             [
              0.3333333333333333,
              "#9c179e"
             ],
             [
              0.4444444444444444,
              "#bd3786"
             ],
             [
              0.5555555555555556,
              "#d8576b"
             ],
             [
              0.6666666666666666,
              "#ed7953"
             ],
             [
              0.7777777777777778,
              "#fb9f3a"
             ],
             [
              0.8888888888888888,
              "#fdca26"
             ],
             [
              1,
              "#f0f921"
             ]
            ],
            "type": "heatmap"
           }
          ],
          "heatmapgl": [
           {
            "colorbar": {
             "outlinewidth": 0,
             "ticks": ""
            },
            "colorscale": [
             [
              0,
              "#0d0887"
             ],
             [
              0.1111111111111111,
              "#46039f"
             ],
             [
              0.2222222222222222,
              "#7201a8"
             ],
             [
              0.3333333333333333,
              "#9c179e"
             ],
             [
              0.4444444444444444,
              "#bd3786"
             ],
             [
              0.5555555555555556,
              "#d8576b"
             ],
             [
              0.6666666666666666,
              "#ed7953"
             ],
             [
              0.7777777777777778,
              "#fb9f3a"
             ],
             [
              0.8888888888888888,
              "#fdca26"
             ],
             [
              1,
              "#f0f921"
             ]
            ],
            "type": "heatmapgl"
           }
          ],
          "histogram": [
           {
            "marker": {
             "pattern": {
              "fillmode": "overlay",
              "size": 10,
              "solidity": 0.2
             }
            },
            "type": "histogram"
           }
          ],
          "histogram2d": [
           {
            "colorbar": {
             "outlinewidth": 0,
             "ticks": ""
            },
            "colorscale": [
             [
              0,
              "#0d0887"
             ],
             [
              0.1111111111111111,
              "#46039f"
             ],
             [
              0.2222222222222222,
              "#7201a8"
             ],
             [
              0.3333333333333333,
              "#9c179e"
             ],
             [
              0.4444444444444444,
              "#bd3786"
             ],
             [
              0.5555555555555556,
              "#d8576b"
             ],
             [
              0.6666666666666666,
              "#ed7953"
             ],
             [
              0.7777777777777778,
              "#fb9f3a"
             ],
             [
              0.8888888888888888,
              "#fdca26"
             ],
             [
              1,
              "#f0f921"
             ]
            ],
            "type": "histogram2d"
           }
          ],
          "histogram2dcontour": [
           {
            "colorbar": {
             "outlinewidth": 0,
             "ticks": ""
            },
            "colorscale": [
             [
              0,
              "#0d0887"
             ],
             [
              0.1111111111111111,
              "#46039f"
             ],
             [
              0.2222222222222222,
              "#7201a8"
             ],
             [
              0.3333333333333333,
              "#9c179e"
             ],
             [
              0.4444444444444444,
              "#bd3786"
             ],
             [
              0.5555555555555556,
              "#d8576b"
             ],
             [
              0.6666666666666666,
              "#ed7953"
             ],
             [
              0.7777777777777778,
              "#fb9f3a"
             ],
             [
              0.8888888888888888,
              "#fdca26"
             ],
             [
              1,
              "#f0f921"
             ]
            ],
            "type": "histogram2dcontour"
           }
          ],
          "mesh3d": [
           {
            "colorbar": {
             "outlinewidth": 0,
             "ticks": ""
            },
            "type": "mesh3d"
           }
          ],
          "parcoords": [
           {
            "line": {
             "colorbar": {
              "outlinewidth": 0,
              "ticks": ""
             }
            },
            "type": "parcoords"
           }
          ],
          "pie": [
           {
            "automargin": true,
            "type": "pie"
           }
          ],
          "scatter": [
           {
            "fillpattern": {
             "fillmode": "overlay",
             "size": 10,
             "solidity": 0.2
            },
            "type": "scatter"
           }
          ],
          "scatter3d": [
           {
            "line": {
             "colorbar": {
              "outlinewidth": 0,
              "ticks": ""
             }
            },
            "marker": {
             "colorbar": {
              "outlinewidth": 0,
              "ticks": ""
             }
            },
            "type": "scatter3d"
           }
          ],
          "scattercarpet": [
           {
            "marker": {
             "colorbar": {
              "outlinewidth": 0,
              "ticks": ""
             }
            },
            "type": "scattercarpet"
           }
          ],
          "scattergeo": [
           {
            "marker": {
             "colorbar": {
              "outlinewidth": 0,
              "ticks": ""
             }
            },
            "type": "scattergeo"
           }
          ],
          "scattergl": [
           {
            "marker": {
             "colorbar": {
              "outlinewidth": 0,
              "ticks": ""
             }
            },
            "type": "scattergl"
           }
          ],
          "scattermapbox": [
           {
            "marker": {
             "colorbar": {
              "outlinewidth": 0,
              "ticks": ""
             }
            },
            "type": "scattermapbox"
           }
          ],
          "scatterpolar": [
           {
            "marker": {
             "colorbar": {
              "outlinewidth": 0,
              "ticks": ""
             }
            },
            "type": "scatterpolar"
           }
          ],
          "scatterpolargl": [
           {
            "marker": {
             "colorbar": {
              "outlinewidth": 0,
              "ticks": ""
             }
            },
            "type": "scatterpolargl"
           }
          ],
          "scatterternary": [
           {
            "marker": {
             "colorbar": {
              "outlinewidth": 0,
              "ticks": ""
             }
            },
            "type": "scatterternary"
           }
          ],
          "surface": [
           {
            "colorbar": {
             "outlinewidth": 0,
             "ticks": ""
            },
            "colorscale": [
             [
              0,
              "#0d0887"
             ],
             [
              0.1111111111111111,
              "#46039f"
             ],
             [
              0.2222222222222222,
              "#7201a8"
             ],
             [
              0.3333333333333333,
              "#9c179e"
             ],
             [
              0.4444444444444444,
              "#bd3786"
             ],
             [
              0.5555555555555556,
              "#d8576b"
             ],
             [
              0.6666666666666666,
              "#ed7953"
             ],
             [
              0.7777777777777778,
              "#fb9f3a"
             ],
             [
              0.8888888888888888,
              "#fdca26"
             ],
             [
              1,
              "#f0f921"
             ]
            ],
            "type": "surface"
           }
          ],
          "table": [
           {
            "cells": {
             "fill": {
              "color": "#EBF0F8"
             },
             "line": {
              "color": "white"
             }
            },
            "header": {
             "fill": {
              "color": "#C8D4E3"
             },
             "line": {
              "color": "white"
             }
            },
            "type": "table"
           }
          ]
         },
         "layout": {
          "annotationdefaults": {
           "arrowcolor": "#2a3f5f",
           "arrowhead": 0,
           "arrowwidth": 1
          },
          "autotypenumbers": "strict",
          "coloraxis": {
           "colorbar": {
            "outlinewidth": 0,
            "ticks": ""
           }
          },
          "colorscale": {
           "diverging": [
            [
             0,
             "#8e0152"
            ],
            [
             0.1,
             "#c51b7d"
            ],
            [
             0.2,
             "#de77ae"
            ],
            [
             0.3,
             "#f1b6da"
            ],
            [
             0.4,
             "#fde0ef"
            ],
            [
             0.5,
             "#f7f7f7"
            ],
            [
             0.6,
             "#e6f5d0"
            ],
            [
             0.7,
             "#b8e186"
            ],
            [
             0.8,
             "#7fbc41"
            ],
            [
             0.9,
             "#4d9221"
            ],
            [
             1,
             "#276419"
            ]
           ],
           "sequential": [
            [
             0,
             "#0d0887"
            ],
            [
             0.1111111111111111,
             "#46039f"
            ],
            [
             0.2222222222222222,
             "#7201a8"
            ],
            [
             0.3333333333333333,
             "#9c179e"
            ],
            [
             0.4444444444444444,
             "#bd3786"
            ],
            [
             0.5555555555555556,
             "#d8576b"
            ],
            [
             0.6666666666666666,
             "#ed7953"
            ],
            [
             0.7777777777777778,
             "#fb9f3a"
            ],
            [
             0.8888888888888888,
             "#fdca26"
            ],
            [
             1,
             "#f0f921"
            ]
           ],
           "sequentialminus": [
            [
             0,
             "#0d0887"
            ],
            [
             0.1111111111111111,
             "#46039f"
            ],
            [
             0.2222222222222222,
             "#7201a8"
            ],
            [
             0.3333333333333333,
             "#9c179e"
            ],
            [
             0.4444444444444444,
             "#bd3786"
            ],
            [
             0.5555555555555556,
             "#d8576b"
            ],
            [
             0.6666666666666666,
             "#ed7953"
            ],
            [
             0.7777777777777778,
             "#fb9f3a"
            ],
            [
             0.8888888888888888,
             "#fdca26"
            ],
            [
             1,
             "#f0f921"
            ]
           ]
          },
          "colorway": [
           "#636efa",
           "#EF553B",
           "#00cc96",
           "#ab63fa",
           "#FFA15A",
           "#19d3f3",
           "#FF6692",
           "#B6E880",
           "#FF97FF",
           "#FECB52"
          ],
          "font": {
           "color": "#2a3f5f"
          },
          "geo": {
           "bgcolor": "white",
           "lakecolor": "white",
           "landcolor": "#E5ECF6",
           "showlakes": true,
           "showland": true,
           "subunitcolor": "white"
          },
          "hoverlabel": {
           "align": "left"
          },
          "hovermode": "closest",
          "mapbox": {
           "style": "light"
          },
          "paper_bgcolor": "white",
          "plot_bgcolor": "#E5ECF6",
          "polar": {
           "angularaxis": {
            "gridcolor": "white",
            "linecolor": "white",
            "ticks": ""
           },
           "bgcolor": "#E5ECF6",
           "radialaxis": {
            "gridcolor": "white",
            "linecolor": "white",
            "ticks": ""
           }
          },
          "scene": {
           "xaxis": {
            "backgroundcolor": "#E5ECF6",
            "gridcolor": "white",
            "gridwidth": 2,
            "linecolor": "white",
            "showbackground": true,
            "ticks": "",
            "zerolinecolor": "white"
           },
           "yaxis": {
            "backgroundcolor": "#E5ECF6",
            "gridcolor": "white",
            "gridwidth": 2,
            "linecolor": "white",
            "showbackground": true,
            "ticks": "",
            "zerolinecolor": "white"
           },
           "zaxis": {
            "backgroundcolor": "#E5ECF6",
            "gridcolor": "white",
            "gridwidth": 2,
            "linecolor": "white",
            "showbackground": true,
            "ticks": "",
            "zerolinecolor": "white"
           }
          },
          "shapedefaults": {
           "line": {
            "color": "#2a3f5f"
           }
          },
          "ternary": {
           "aaxis": {
            "gridcolor": "white",
            "linecolor": "white",
            "ticks": ""
           },
           "baxis": {
            "gridcolor": "white",
            "linecolor": "white",
            "ticks": ""
           },
           "bgcolor": "#E5ECF6",
           "caxis": {
            "gridcolor": "white",
            "linecolor": "white",
            "ticks": ""
           }
          },
          "title": {
           "x": 0.05
          },
          "xaxis": {
           "automargin": true,
           "gridcolor": "white",
           "linecolor": "white",
           "ticks": "",
           "title": {
            "standoff": 15
           },
           "zerolinecolor": "white",
           "zerolinewidth": 2
          },
          "yaxis": {
           "automargin": true,
           "gridcolor": "white",
           "linecolor": "white",
           "ticks": "",
           "title": {
            "standoff": 15
           },
           "zerolinecolor": "white",
           "zerolinewidth": 2
          }
         }
        },
        "title": {
         "text": "drop_cols - Korrelasjonsmatrise"
        },
        "width": 800,
        "xaxis": {
         "nticks": 28
        },
        "yaxis": {
         "nticks": 28
        }
       }
      }
     },
     "metadata": {},
     "output_type": "display_data"
    },
    {
     "name": "stderr",
     "output_type": "stream",
     "text": [
      "c:\\Users\\georg\\anaconda3\\envs\\INF161\\Lib\\site-packages\\sklearn\\metrics\\_regression.py:492: FutureWarning:\n",
      "\n",
      "'squared' is deprecated in version 1.4 and will be removed in 1.6. To calculate the root mean squared error, use the function'root_mean_squared_error'.\n",
      "\n"
     ]
    },
    {
     "name": "stdout",
     "output_type": "stream",
     "text": [
      "Random Forest: 23.11\n"
     ]
    },
    {
     "name": "stderr",
     "output_type": "stream",
     "text": [
      "c:\\Users\\georg\\anaconda3\\envs\\INF161\\Lib\\site-packages\\sklearn\\metrics\\_regression.py:492: FutureWarning:\n",
      "\n",
      "'squared' is deprecated in version 1.4 and will be removed in 1.6. To calculate the root mean squared error, use the function'root_mean_squared_error'.\n",
      "\n",
      "c:\\Users\\georg\\anaconda3\\envs\\INF161\\Lib\\site-packages\\sklearn\\metrics\\_regression.py:492: FutureWarning:\n",
      "\n",
      "'squared' is deprecated in version 1.4 and will be removed in 1.6. To calculate the root mean squared error, use the function'root_mean_squared_error'.\n",
      "\n",
      "c:\\Users\\georg\\anaconda3\\envs\\INF161\\Lib\\site-packages\\sklearn\\metrics\\_regression.py:492: FutureWarning:\n",
      "\n",
      "'squared' is deprecated in version 1.4 and will be removed in 1.6. To calculate the root mean squared error, use the function'root_mean_squared_error'.\n",
      "\n"
     ]
    },
    {
     "name": "stdout",
     "output_type": "stream",
     "text": [
      "Gradient Boosting: 22.96\n",
      "Decision Tree: 29.42\n",
      "Linear Regression: 23.40\n",
      "Polynomial Regression: 39783906212.06\n",
      "Ridge Regression: 23.40\n",
      "drop_cols - Best Model: Gradient Boosting\n",
      "drop_cols - Validation RMSE: 22.96\n",
      "drop_cols - Within 10 diff: 65.78%\n",
      "drop_cols - Full Dataset RMSE: 18.55\n",
      "drop_cols - Within 10 diff (Full Dataset): 65.47%\n"
     ]
    },
    {
     "name": "stderr",
     "output_type": "stream",
     "text": [
      "c:\\Users\\georg\\anaconda3\\envs\\INF161\\Lib\\site-packages\\sklearn\\metrics\\_regression.py:492: FutureWarning:\n",
      "\n",
      "'squared' is deprecated in version 1.4 and will be removed in 1.6. To calculate the root mean squared error, use the function'root_mean_squared_error'.\n",
      "\n",
      "c:\\Users\\georg\\anaconda3\\envs\\INF161\\Lib\\site-packages\\sklearn\\metrics\\_regression.py:492: FutureWarning:\n",
      "\n",
      "'squared' is deprecated in version 1.4 and will be removed in 1.6. To calculate the root mean squared error, use the function'root_mean_squared_error'.\n",
      "\n",
      "c:\\Users\\georg\\anaconda3\\envs\\INF161\\Lib\\site-packages\\sklearn\\metrics\\_regression.py:492: FutureWarning:\n",
      "\n",
      "'squared' is deprecated in version 1.4 and will be removed in 1.6. To calculate the root mean squared error, use the function'root_mean_squared_error'.\n",
      "\n"
     ]
    },
    {
     "data": {
      "application/vnd.plotly.v1+json": {
       "config": {
        "plotlyServerURL": "https://plot.ly"
       },
       "data": [
        {
         "type": "heatmap",
         "x": [
          "alder",
          "utdanning",
          "sykehusdød",
          "blodtrykk",
          "hvite_blodlegemer",
          "hjertefrekvens",
          "respirasjonsfrekvens",
          "kroppstemperatur",
          "lungefunksjon",
          "serumalbumin",
          "bilirubin",
          "kreatinin",
          "natrium",
          "blod_ph",
          "glukose",
          "blodurea_nitrogen",
          "urinmengde",
          "dødsfall",
          "antall_komorbiditeter",
          "koma_score",
          "adl_stedfortreder",
          "fysiologisk_score",
          "apache_fysiologisk_score",
          "overlevelsesestimat_2mnd",
          "overlevelsesestimat_6mnd",
          "diabetes",
          "demens",
          "lege_overlevelsesestimat_2mnd",
          "lege_overlevelsesestimat_6mnd"
         ],
         "y": [
          "alder",
          "utdanning",
          "sykehusdød",
          "blodtrykk",
          "hvite_blodlegemer",
          "hjertefrekvens",
          "respirasjonsfrekvens",
          "kroppstemperatur",
          "lungefunksjon",
          "serumalbumin",
          "bilirubin",
          "kreatinin",
          "natrium",
          "blod_ph",
          "glukose",
          "blodurea_nitrogen",
          "urinmengde",
          "dødsfall",
          "antall_komorbiditeter",
          "koma_score",
          "adl_stedfortreder",
          "fysiologisk_score",
          "apache_fysiologisk_score",
          "overlevelsesestimat_2mnd",
          "overlevelsesestimat_6mnd",
          "diabetes",
          "demens",
          "lege_overlevelsesestimat_2mnd",
          "lege_overlevelsesestimat_6mnd"
         ],
         "z": [
          [
           1,
           -0.11444690568885654,
           0.040476951484547045,
           -0.03915868305518392,
           0.005030678397434251,
           -0.137382819336006,
           -0.017053146211615744,
           -0.09538469251592005,
           0.017174261604870112,
           0.06186574203140387,
           -0.12112766224304185,
           0.0037480787967366213,
           0.0157770277049918,
           -0.02294095405761744,
           0.0035026469536857782,
           0.02356272173694349,
           -0.02785941836653439,
           0.18038483654488208,
           0.1297297701688885,
           0.011990015162198834,
           0.07757093971887012,
           -0.11870426194275767,
           -0.032132970581235,
           -0.15595419519269313,
           -0.19524826335511175,
           0.094858986159418,
           0.1978181948528905,
           -0.07723914221838367,
           -0.11757222189534479
          ],
          [
           -0.11444690568885654,
           1,
           0.015820619524386195,
           -0.028726097155090197,
           -0.004337528709458049,
           0.004332354285427117,
           -0.022138804339578873,
           0.02995125890662242,
           -0.023999383280982733,
           -0.019709772648975152,
           0.03626563909024797,
           0.0044258511112914255,
           0.00009049537307761997,
           0.02413888094200922,
           0.0025089935807445646,
           0.012109771465478565,
           0.008969294064294347,
           0.005396317541052066,
           -0.09765924165052987,
           0.004932154772778345,
           -0.06643855561761315,
           0.02486901131999765,
           0.0018918826424529286,
           -0.025833500606579095,
           -0.031583094746736845,
           -0.06224870501343562,
           -0.009689005461338294,
           0.008711535641157375,
           -0.0064946543709981045
          ],
          [
           0.040476951484547045,
           0.015820619524386195,
           1,
           -0.08752894017164899,
           0.07741742765614656,
           0.0924064045625286,
           0.019893000914114167,
           0.062467706257655,
           -0.08654791494009667,
           -0.11336506414485133,
           0.14754992294641714,
           0.10037774050698543,
           0.023909837492450573,
           -0.0423891536696236,
           0.007877587041203237,
           0.01843842310844388,
           -0.011339189764092112,
           0.4033659956251786,
           -0.0809355817424367,
           0.3817949869055247,
           0.06406526629032201,
           0.4688638653364822,
           0.47959363102975755,
           -0.5640062015157723,
           -0.5042443648871296,
           -0.01920731961377726,
           0.02422895496981598,
           -0.44882568252188576,
           -0.39156689875116885
          ],
          [
           -0.03915868305518392,
           -0.028726097155090197,
           -0.08752894017164899,
           1,
           -0.034909807562513134,
           0.07218455310542876,
           0.07217655629785134,
           -0.003456446211272317,
           0.1076658106542537,
           0.08585547721387872,
           -0.08125793645230855,
           -0.09401284095899416,
           0.06677143163479594,
           0.10498295419356399,
           0.029199538286716866,
           -0.09297134360887092,
           0.1021672262563895,
           -0.02596075782479218,
           -0.013602483927293274,
           -0.05670912373543327,
           0.015635592587845696,
           -0.21228086913184394,
           -0.16945249978089777,
           0.1565866756896592,
           0.13458688622043613,
           -0.0024240124606405454,
           0.005835184429224562,
           0.061737745363088486,
           0.061693691597441654
          ],
          [
           0.005030678397434251,
           -0.004337528709458049,
           0.07741742765614656,
           -0.034909807562513134,
           1,
           0.11665638738495603,
           0.023160070560166068,
           0.09546998860528828,
           -0.10623237591540581,
           -0.10123283690300379,
           0.06859123990144468,
           0.11358397842769437,
           0.0034177464893510303,
           -0.04060753093395968,
           0.06448810470212607,
           0.11742468790280863,
           -0.06973890760593389,
           -0.003072298335530556,
           -0.010072196055361636,
           0.08015106380818868,
           -0.004224777498502097,
           0.12092386431142409,
           0.10424429438817799,
           -0.10202545208151603,
           -0.08226429413214885,
           0.026924808036614456,
           0.006261611829604795,
           -0.07239597178971452,
           -0.04312346793754346
          ],
          [
           -0.137382819336006,
           0.004332354285427117,
           0.0924064045625286,
           0.07218455310542876,
           0.11665638738495603,
           1,
           0.21416798097061882,
           0.26383108425288326,
           -0.11227810529212023,
           -0.14354195141818762,
           0.09492211503657987,
           0.008560763124044787,
           0.027730731798197114,
           0.007576986999048111,
           0.03790072097572772,
           0.016249353948855103,
           0.022959771814540952,
           -0.0033732439084007177,
           -0.06802918227443715,
           0.02282113923407513,
           0.01215923866535973,
           0.13355913171367437,
           0.15227425493311597,
           -0.11876975671959317,
           -0.11027568022632768,
           -0.06636668315898493,
           -0.027388332006809447,
           -0.07973763371944825,
           -0.051401132641599775
          ],
          [
           -0.017053146211615744,
           -0.022138804339578873,
           0.019893000914114167,
           0.07217655629785134,
           0.023160070560166068,
           0.21416798097061882,
           1,
           0.07681270925329911,
           -0.04996944674083458,
           -0.008809128318092795,
           0.025801700806518706,
           -0.03564050716893073,
           0.025222353546131976,
           0.01015014461402554,
           0.005699329302105397,
           -0.004474230455204486,
           0.000953084144782776,
           0.007467089722202525,
           0.005236290796543093,
           -0.001403803280597339,
           0.0037958825120422766,
           0.046766398688197944,
           0.1087357466756462,
           -0.04800073000881247,
           -0.043830529316373934,
           -0.03660184848757685,
           0.0077512788380473055,
           -0.03239006978329357,
           -0.025939240728953667
          ],
          [
           -0.09538469251592005,
           0.02995125890662242,
           0.062467706257655,
           -0.003456446211272317,
           0.09546998860528828,
           0.26383108425288326,
           0.07681270925329911,
           1,
           -0.1355074944458437,
           -0.11716289516563164,
           0.0231727612289835,
           0.001660412218556205,
           0.11040771024978636,
           0.05394274738493535,
           0.048500361059769764,
           -0.010872910425639426,
           0.0717835970876474,
           -0.025755738525934952,
           -0.10938128600791361,
           0.09718634002384317,
           -0.014326986196576075,
           0.0605078801676737,
           0.07779032485819938,
           -0.06899615201033933,
           -0.04357300895163096,
           -0.015079117983468508,
           -0.00357197327673661,
           -0.06631889142242502,
           -0.03896611205899962
          ],
          [
           0.017174261604870112,
           -0.023999383280982733,
           -0.08654791494009667,
           0.1076658106542537,
           -0.10623237591540581,
           -0.11227810529212023,
           -0.04996944674083458,
           -0.1355074944458437,
           1,
           0.0784837734624872,
           -0.04114026048821914,
           -0.016860599366323472,
           -0.026825670171861042,
           0.12395731845937097,
           -0.010487813022886093,
           -0.027904742615698523,
           -0.019235466848866706,
           -0.008834464103320028,
           0.06446757511157249,
           -0.02510969506967594,
           0.027628428288534502,
           -0.1586825923147562,
           -0.12205120206480255,
           0.13405120134393467,
           0.1231504720914758,
           0.032973374372480824,
           -0.0020117388807613557,
           0.06968347202606492,
           0.05390340439542163
          ],
          [
           0.06186574203140387,
           -0.019709772648975152,
           -0.11336506414485133,
           0.08585547721387872,
           -0.10123283690300379,
           -0.14354195141818762,
           -0.008809128318092795,
           -0.11716289516563164,
           0.0784837734624872,
           1,
           -0.10097746191367335,
           -0.05389973213514564,
           0.001074694386107258,
           0.005566806925467301,
           -0.041537531200557316,
           -0.05703840917653655,
           0.016775983052352592,
           0.009874720904823915,
           0.05017585396567239,
           -0.05085806122548116,
           -0.04281062077327276,
           -0.17198982757573275,
           -0.14530724740296802,
           0.13248606929337733,
           0.11680106841880547,
           -0.009611335329452712,
           -0.006077083315442416,
           0.08986972765348437,
           0.05301427240169686
          ],
          [
           -0.12112766224304185,
           0.03626563909024797,
           0.14754992294641714,
           -0.08125793645230855,
           0.06859123990144468,
           0.09492211503657987,
           0.025801700806518706,
           0.0231727612289835,
           -0.04114026048821914,
           -0.10097746191367335,
           1,
           0.16744489581945735,
           0.03154826891776326,
           0.0001935967206248556,
           0.006011799144768923,
           0.1561115733672016,
           -0.05690177155533956,
           0.026477401685391286,
           0.00047571276572404693,
           0.09507067044449106,
           -0.0037305513368034744,
           0.23240512218431827,
           0.22977667060826143,
           -0.1864477932022409,
           -0.17019523253869104,
           -0.03978329134788313,
           -0.03531894881679325,
           -0.08614907413076779,
           -0.07518302328809931
          ],
          [
           0.0037480787967366213,
           0.0044258511112914255,
           0.10037774050698543,
           -0.09401284095899416,
           0.11358397842769437,
           0.008560763124044787,
           -0.03564050716893073,
           0.001660412218556205,
           -0.016860599366323472,
           -0.05389973213514564,
           0.16744489581945735,
           1,
           0.021468713729670075,
           -0.16975962891298013,
           0.05200726745230434,
           0.48617778433657377,
           -0.20857157565993462,
           0.022656786794996678,
           0.03059551516045282,
           0.0713223207834941,
           -0.014690666660240728,
           0.1844681096574539,
           0.2392788396252906,
           -0.14828855953683467,
           -0.12244743251396903,
           0.0588439951872122,
           -0.005616844804319191,
           -0.06097578494707464,
           -0.042901758832339404
          ],
          [
           0.0157770277049918,
           0.00009049537307761997,
           0.023909837492450573,
           0.06677143163479594,
           0.0034177464893510303,
           0.027730731798197114,
           0.025222353546131976,
           0.11040771024978636,
           -0.026825670171861042,
           0.001074694386107258,
           0.03154826891776326,
           0.021468713729670075,
           1,
           -0.04886092603062754,
           0.015159801546577891,
           0.09031840470894026,
           0.0172229860391036,
           -0.019915017727150243,
           -0.02634416553142343,
           0.07868146462819202,
           0.011794639715323352,
           -0.010507368388901662,
           0.034465276520411106,
           -0.010486723488186049,
           0.00811980244214841,
           0.009267689946876958,
           0.033035384634412523,
           -0.02193724997248791,
           -0.0020950053786193802
          ],
          [
           -0.02294095405761744,
           0.02413888094200922,
           -0.0423891536696236,
           0.10498295419356399,
           -0.04060753093395968,
           0.007576986999048111,
           0.01015014461402554,
           0.05394274738493535,
           0.12395731845937097,
           0.005566806925467301,
           0.0001935967206248556,
           -0.16975962891298013,
           -0.04886092603062754,
           1,
           -0.03799294373717415,
           -0.09233024064096618,
           0.07949211015536244,
           -0.010688731594263371,
           -0.013385691219689761,
           -0.0200035227644969,
           -0.0014163069906165265,
           -0.08586474759590948,
           -0.0865682580887524,
           0.057291720164713206,
           0.04727532483324829,
           -0.007567670704225654,
           -0.025260384151244798,
           0.024274275576256825,
           0.01990909211655162
          ],
          [
           0.0035026469536857782,
           0.0025089935807445646,
           0.007877587041203237,
           0.029199538286716866,
           0.06448810470212607,
           0.03790072097572772,
           0.005699329302105397,
           0.048500361059769764,
           -0.010487813022886093,
           -0.041537531200557316,
           0.006011799144768923,
           0.05200726745230434,
           0.015159801546577891,
           -0.03799294373717415,
           1,
           0.1790264993869186,
           0.022376142297133944,
           -0.01797837516907498,
           0.00813099446249386,
           0.02219459062894616,
           -0.004842794518161616,
           0.013997443129735611,
           0.02937561852300685,
           -0.020222873580216332,
           -0.015887268436851915,
           0.0258748616276185,
           0.009005214891505254,
           -0.012511217718323118,
           -0.0011496854397814774
          ],
          [
           0.02356272173694349,
           0.012109771465478565,
           0.01843842310844388,
           -0.09297134360887092,
           0.11742468790280863,
           0.016249353948855103,
           -0.004474230455204486,
           -0.010872910425639426,
           -0.027904742615698523,
           -0.05703840917653655,
           0.1561115733672016,
           0.48617778433657377,
           0.09031840470894026,
           -0.09233024064096618,
           0.1790264993869186,
           1,
           -0.2048189608817783,
           -0.019516540474013147,
           0.034553560987513804,
           0.02021734581539798,
           -0.00035817187508337757,
           0.04533029358262946,
           0.06627074128009237,
           -0.0485865161862249,
           -0.04265048386440278,
           0.03227856507925936,
           0.0005615197888072374,
           -0.021527885399024792,
           -0.0019587453251504665
          ],
          [
           -0.02785941836653439,
           0.008969294064294347,
           -0.011339189764092112,
           0.1021672262563895,
           -0.06973890760593389,
           0.022959771814540952,
           0.000953084144782776,
           0.0717835970876474,
           -0.019235466848866706,
           0.016775983052352592,
           -0.05690177155533956,
           -0.20857157565993462,
           0.0172229860391036,
           0.07949211015536244,
           0.022376142297133944,
           -0.2048189608817783,
           1,
           -0.013221109961304867,
           -0.018063602843382466,
           0.005466528141183752,
           -0.016519860124991605,
           -0.014287051002271947,
           -0.0254357883169237,
           0.008541309326905323,
           0.006099952156117767,
           -0.009119666385276627,
           -0.031149076196016593,
           0.003097649058488781,
           0.004747470581354033
          ],
          [
           0.18038483654488208,
           0.005396317541052066,
           0.4033659956251786,
           -0.02596075782479218,
           -0.003072298335530556,
           -0.0033732439084007177,
           0.007467089722202525,
           -0.025755738525934952,
           -0.008834464103320028,
           0.009874720904823915,
           0.026477401685391286,
           0.022656786794996678,
           -0.019915017727150243,
           -0.010688731594263371,
           -0.01797837516907498,
           -0.019516540474013147,
           -0.013221109961304867,
           1,
           0.05677550992546858,
           0.13643446222851086,
           0.10789473413045313,
           0.15731461518755716,
           0.15826461117626212,
           -0.3261751765784931,
           -0.3793702863248929,
           0.005251329039053851,
           0.03885505398486532,
           -0.2738330342437118,
           -0.34604354888177075
          ],
          [
           0.1297297701688885,
           -0.09765924165052987,
           -0.0809355817424367,
           -0.013602483927293274,
           -0.010072196055361636,
           -0.06802918227443715,
           0.005236290796543093,
           -0.10938128600791361,
           0.06446757511157249,
           0.05017585396567239,
           0.00047571276572404693,
           0.03059551516045282,
           -0.02634416553142343,
           -0.013385691219689761,
           0.00813099446249386,
           0.034553560987513804,
           -0.018063602843382466,
           0.05677550992546858,
           1,
           -0.12673193482884296,
           0.11821914907847401,
           -0.05561784032729177,
           0.013853523987550754,
           0.10602781951716267,
           0.09410692619352021,
           0.389890526488137,
           0.13865141083286206,
           0.057463526272009034,
           0.03586236526039738
          ],
          [
           0.011990015162198834,
           0.004932154772778345,
           0.3817949869055247,
           -0.05670912373543327,
           0.08015106380818868,
           0.02282113923407513,
           -0.001403803280597339,
           0.09718634002384317,
           -0.02510969506967594,
           -0.05085806122548116,
           0.09507067044449106,
           0.0713223207834941,
           0.07868146462819202,
           -0.0200035227644969,
           0.02219459062894616,
           0.02021734581539798,
           0.005466528141183752,
           0.13643446222851086,
           -0.12673193482884296,
           1,
           0.05659507976404672,
           0.28790583422656285,
           0.2892782680695248,
           -0.5960529941258196,
           -0.5046911720322793,
           -0.0028524535754236064,
           0.07513770581774179,
           -0.3450436148060303,
           -0.27751234556334387
          ],
          [
           0.07757093971887012,
           -0.06643855561761315,
           0.06406526629032201,
           0.015635592587845696,
           -0.004224777498502097,
           0.01215923866535973,
           0.0037958825120422766,
           -0.014326986196576075,
           0.027628428288534502,
           -0.04281062077327276,
           -0.0037305513368034744,
           -0.014690666660240728,
           0.011794639715323352,
           -0.0014163069906165265,
           -0.004842794518161616,
           -0.00035817187508337757,
           -0.016519860124991605,
           0.10789473413045313,
           0.11821914907847401,
           0.05659507976404672,
           1,
           0.05616661580497279,
           0.06380726437640157,
           -0.08138676356518557,
           -0.08065564220908022,
           0.06270222130687014,
           0.16403625621121307,
           -0.11385618187950362,
           -0.1107319375328824
          ],
          [
           -0.11870426194275767,
           0.02486901131999765,
           0.4688638653364822,
           -0.21228086913184394,
           0.12092386431142409,
           0.13355913171367437,
           0.046766398688197944,
           0.0605078801676737,
           -0.1586825923147562,
           -0.17198982757573275,
           0.23240512218431827,
           0.1844681096574539,
           -0.010507368388901662,
           -0.08586474759590948,
           0.013997443129735611,
           0.04533029358262946,
           -0.014287051002271947,
           0.15731461518755716,
           -0.05561784032729177,
           0.28790583422656285,
           0.05616661580497279,
           1,
           0.7990801123386913,
           -0.7581244972362323,
           -0.6842932153797899,
           0.008527871741297731,
           -0.012156291547702945,
           -0.36589074042027353,
           -0.284468609980166
          ],
          [
           -0.032132970581235,
           0.0018918826424529286,
           0.47959363102975755,
           -0.16945249978089777,
           0.10424429438817799,
           0.15227425493311597,
           0.1087357466756462,
           0.07779032485819938,
           -0.12205120206480255,
           -0.14530724740296802,
           0.22977667060826143,
           0.2392788396252906,
           0.034465276520411106,
           -0.0865682580887524,
           0.02937561852300685,
           0.06627074128009237,
           -0.0254357883169237,
           0.15826461117626212,
           0.013853523987550754,
           0.2892782680695248,
           0.06380726437640157,
           0.7990801123386913,
           1,
           -0.6547577202976425,
           -0.5560729462362776,
           0.08366768064550555,
           0.009770388310752465,
           -0.3661311331186966,
           -0.26765603236344193
          ],
          [
           -0.15595419519269313,
           -0.025833500606579095,
           -0.5640062015157723,
           0.1565866756896592,
           -0.10202545208151603,
           -0.11876975671959317,
           -0.04800073000881247,
           -0.06899615201033933,
           0.13405120134393467,
           0.13248606929337733,
           -0.1864477932022409,
           -0.14828855953683467,
           -0.010486723488186049,
           0.057291720164713206,
           -0.020222873580216332,
           -0.0485865161862249,
           0.008541309326905323,
           -0.3261751765784931,
           0.10602781951716267,
           -0.5960529941258196,
           -0.08138676356518557,
           -0.7581244972362323,
           -0.6547577202976425,
           1,
           0.9604599286612453,
           0.030562715990085722,
           -0.0496802156781888,
           0.5013354409443528,
           0.4613744044950808
          ],
          [
           -0.19524826335511175,
           -0.031583094746736845,
           -0.5042443648871296,
           0.13458688622043613,
           -0.08226429413214885,
           -0.11027568022632768,
           -0.043830529316373934,
           -0.04357300895163096,
           0.1231504720914758,
           0.11680106841880547,
           -0.17019523253869104,
           -0.12244743251396903,
           0.00811980244214841,
           0.04727532483324829,
           -0.015887268436851915,
           -0.04265048386440278,
           0.006099952156117767,
           -0.3793702863248929,
           0.09410692619352021,
           -0.5046911720322793,
           -0.08065564220908022,
           -0.6842932153797899,
           -0.5560729462362776,
           0.9604599286612453,
           1,
           0.05307521487990728,
           -0.03994549547214809,
           0.4763254379479568,
           0.480829784956568
          ],
          [
           0.094858986159418,
           -0.06224870501343562,
           -0.01920731961377726,
           -0.0024240124606405454,
           0.026924808036614456,
           -0.06636668315898493,
           -0.03660184848757685,
           -0.015079117983468508,
           0.032973374372480824,
           -0.009611335329452712,
           -0.03978329134788313,
           0.0588439951872122,
           0.009267689946876958,
           -0.007567670704225654,
           0.0258748616276185,
           0.03227856507925936,
           -0.009119666385276627,
           0.005251329039053851,
           0.389890526488137,
           -0.0028524535754236064,
           0.06270222130687014,
           0.008527871741297731,
           0.08366768064550555,
           0.030562715990085722,
           0.05307521487990728,
           1,
           0.025707417629028822,
           0.02108638300509145,
           0.03519123129926228
          ],
          [
           0.1978181948528905,
           -0.009689005461338294,
           0.02422895496981598,
           0.005835184429224562,
           0.006261611829604795,
           -0.027388332006809447,
           0.0077512788380473055,
           -0.00357197327673661,
           -0.0020117388807613557,
           -0.006077083315442416,
           -0.03531894881679325,
           -0.005616844804319191,
           0.033035384634412523,
           -0.025260384151244798,
           0.009005214891505254,
           0.0005615197888072374,
           -0.031149076196016593,
           0.03885505398486532,
           0.13865141083286206,
           0.07513770581774179,
           0.16403625621121307,
           -0.012156291547702945,
           0.009770388310752465,
           -0.0496802156781888,
           -0.03994549547214809,
           0.025707417629028822,
           1,
           -0.04403091014643549,
           -0.04714001283590466
          ],
          [
           -0.07723914221838367,
           0.008711535641157375,
           -0.44882568252188576,
           0.061737745363088486,
           -0.07239597178971452,
           -0.07973763371944825,
           -0.03239006978329357,
           -0.06631889142242502,
           0.06968347202606492,
           0.08986972765348437,
           -0.08614907413076779,
           -0.06097578494707464,
           -0.02193724997248791,
           0.024274275576256825,
           -0.012511217718323118,
           -0.021527885399024792,
           0.003097649058488781,
           -0.2738330342437118,
           0.057463526272009034,
           -0.3450436148060303,
           -0.11385618187950362,
           -0.36589074042027353,
           -0.3661311331186966,
           0.5013354409443528,
           0.4763254379479568,
           0.02108638300509145,
           -0.04403091014643549,
           1,
           0.8908805453822961
          ],
          [
           -0.11757222189534479,
           -0.0064946543709981045,
           -0.39156689875116885,
           0.061693691597441654,
           -0.04312346793754346,
           -0.051401132641599775,
           -0.025939240728953667,
           -0.03896611205899962,
           0.05390340439542163,
           0.05301427240169686,
           -0.07518302328809931,
           -0.042901758832339404,
           -0.0020950053786193802,
           0.01990909211655162,
           -0.0011496854397814774,
           -0.0019587453251504665,
           0.004747470581354033,
           -0.34604354888177075,
           0.03586236526039738,
           -0.27751234556334387,
           -0.1107319375328824,
           -0.284468609980166,
           -0.26765603236344193,
           0.4613744044950808,
           0.480829784956568,
           0.03519123129926228,
           -0.04714001283590466,
           0.8908805453822961,
           1
          ]
         ],
         "zmax": 1,
         "zmin": -1
        }
       ],
       "layout": {
        "autosize": false,
        "height": 800,
        "template": {
         "data": {
          "bar": [
           {
            "error_x": {
             "color": "#2a3f5f"
            },
            "error_y": {
             "color": "#2a3f5f"
            },
            "marker": {
             "line": {
              "color": "#E5ECF6",
              "width": 0.5
             },
             "pattern": {
              "fillmode": "overlay",
              "size": 10,
              "solidity": 0.2
             }
            },
            "type": "bar"
           }
          ],
          "barpolar": [
           {
            "marker": {
             "line": {
              "color": "#E5ECF6",
              "width": 0.5
             },
             "pattern": {
              "fillmode": "overlay",
              "size": 10,
              "solidity": 0.2
             }
            },
            "type": "barpolar"
           }
          ],
          "carpet": [
           {
            "aaxis": {
             "endlinecolor": "#2a3f5f",
             "gridcolor": "white",
             "linecolor": "white",
             "minorgridcolor": "white",
             "startlinecolor": "#2a3f5f"
            },
            "baxis": {
             "endlinecolor": "#2a3f5f",
             "gridcolor": "white",
             "linecolor": "white",
             "minorgridcolor": "white",
             "startlinecolor": "#2a3f5f"
            },
            "type": "carpet"
           }
          ],
          "choropleth": [
           {
            "colorbar": {
             "outlinewidth": 0,
             "ticks": ""
            },
            "type": "choropleth"
           }
          ],
          "contour": [
           {
            "colorbar": {
             "outlinewidth": 0,
             "ticks": ""
            },
            "colorscale": [
             [
              0,
              "#0d0887"
             ],
             [
              0.1111111111111111,
              "#46039f"
             ],
             [
              0.2222222222222222,
              "#7201a8"
             ],
             [
              0.3333333333333333,
              "#9c179e"
             ],
             [
              0.4444444444444444,
              "#bd3786"
             ],
             [
              0.5555555555555556,
              "#d8576b"
             ],
             [
              0.6666666666666666,
              "#ed7953"
             ],
             [
              0.7777777777777778,
              "#fb9f3a"
             ],
             [
              0.8888888888888888,
              "#fdca26"
             ],
             [
              1,
              "#f0f921"
             ]
            ],
            "type": "contour"
           }
          ],
          "contourcarpet": [
           {
            "colorbar": {
             "outlinewidth": 0,
             "ticks": ""
            },
            "type": "contourcarpet"
           }
          ],
          "heatmap": [
           {
            "colorbar": {
             "outlinewidth": 0,
             "ticks": ""
            },
            "colorscale": [
             [
              0,
              "#0d0887"
             ],
             [
              0.1111111111111111,
              "#46039f"
             ],
             [
              0.2222222222222222,
              "#7201a8"
             ],
             [
              0.3333333333333333,
              "#9c179e"
             ],
             [
              0.4444444444444444,
              "#bd3786"
             ],
             [
              0.5555555555555556,
              "#d8576b"
             ],
             [
              0.6666666666666666,
              "#ed7953"
             ],
             [
              0.7777777777777778,
              "#fb9f3a"
             ],
             [
              0.8888888888888888,
              "#fdca26"
             ],
             [
              1,
              "#f0f921"
             ]
            ],
            "type": "heatmap"
           }
          ],
          "heatmapgl": [
           {
            "colorbar": {
             "outlinewidth": 0,
             "ticks": ""
            },
            "colorscale": [
             [
              0,
              "#0d0887"
             ],
             [
              0.1111111111111111,
              "#46039f"
             ],
             [
              0.2222222222222222,
              "#7201a8"
             ],
             [
              0.3333333333333333,
              "#9c179e"
             ],
             [
              0.4444444444444444,
              "#bd3786"
             ],
             [
              0.5555555555555556,
              "#d8576b"
             ],
             [
              0.6666666666666666,
              "#ed7953"
             ],
             [
              0.7777777777777778,
              "#fb9f3a"
             ],
             [
              0.8888888888888888,
              "#fdca26"
             ],
             [
              1,
              "#f0f921"
             ]
            ],
            "type": "heatmapgl"
           }
          ],
          "histogram": [
           {
            "marker": {
             "pattern": {
              "fillmode": "overlay",
              "size": 10,
              "solidity": 0.2
             }
            },
            "type": "histogram"
           }
          ],
          "histogram2d": [
           {
            "colorbar": {
             "outlinewidth": 0,
             "ticks": ""
            },
            "colorscale": [
             [
              0,
              "#0d0887"
             ],
             [
              0.1111111111111111,
              "#46039f"
             ],
             [
              0.2222222222222222,
              "#7201a8"
             ],
             [
              0.3333333333333333,
              "#9c179e"
             ],
             [
              0.4444444444444444,
              "#bd3786"
             ],
             [
              0.5555555555555556,
              "#d8576b"
             ],
             [
              0.6666666666666666,
              "#ed7953"
             ],
             [
              0.7777777777777778,
              "#fb9f3a"
             ],
             [
              0.8888888888888888,
              "#fdca26"
             ],
             [
              1,
              "#f0f921"
             ]
            ],
            "type": "histogram2d"
           }
          ],
          "histogram2dcontour": [
           {
            "colorbar": {
             "outlinewidth": 0,
             "ticks": ""
            },
            "colorscale": [
             [
              0,
              "#0d0887"
             ],
             [
              0.1111111111111111,
              "#46039f"
             ],
             [
              0.2222222222222222,
              "#7201a8"
             ],
             [
              0.3333333333333333,
              "#9c179e"
             ],
             [
              0.4444444444444444,
              "#bd3786"
             ],
             [
              0.5555555555555556,
              "#d8576b"
             ],
             [
              0.6666666666666666,
              "#ed7953"
             ],
             [
              0.7777777777777778,
              "#fb9f3a"
             ],
             [
              0.8888888888888888,
              "#fdca26"
             ],
             [
              1,
              "#f0f921"
             ]
            ],
            "type": "histogram2dcontour"
           }
          ],
          "mesh3d": [
           {
            "colorbar": {
             "outlinewidth": 0,
             "ticks": ""
            },
            "type": "mesh3d"
           }
          ],
          "parcoords": [
           {
            "line": {
             "colorbar": {
              "outlinewidth": 0,
              "ticks": ""
             }
            },
            "type": "parcoords"
           }
          ],
          "pie": [
           {
            "automargin": true,
            "type": "pie"
           }
          ],
          "scatter": [
           {
            "fillpattern": {
             "fillmode": "overlay",
             "size": 10,
             "solidity": 0.2
            },
            "type": "scatter"
           }
          ],
          "scatter3d": [
           {
            "line": {
             "colorbar": {
              "outlinewidth": 0,
              "ticks": ""
             }
            },
            "marker": {
             "colorbar": {
              "outlinewidth": 0,
              "ticks": ""
             }
            },
            "type": "scatter3d"
           }
          ],
          "scattercarpet": [
           {
            "marker": {
             "colorbar": {
              "outlinewidth": 0,
              "ticks": ""
             }
            },
            "type": "scattercarpet"
           }
          ],
          "scattergeo": [
           {
            "marker": {
             "colorbar": {
              "outlinewidth": 0,
              "ticks": ""
             }
            },
            "type": "scattergeo"
           }
          ],
          "scattergl": [
           {
            "marker": {
             "colorbar": {
              "outlinewidth": 0,
              "ticks": ""
             }
            },
            "type": "scattergl"
           }
          ],
          "scattermapbox": [
           {
            "marker": {
             "colorbar": {
              "outlinewidth": 0,
              "ticks": ""
             }
            },
            "type": "scattermapbox"
           }
          ],
          "scatterpolar": [
           {
            "marker": {
             "colorbar": {
              "outlinewidth": 0,
              "ticks": ""
             }
            },
            "type": "scatterpolar"
           }
          ],
          "scatterpolargl": [
           {
            "marker": {
             "colorbar": {
              "outlinewidth": 0,
              "ticks": ""
             }
            },
            "type": "scatterpolargl"
           }
          ],
          "scatterternary": [
           {
            "marker": {
             "colorbar": {
              "outlinewidth": 0,
              "ticks": ""
             }
            },
            "type": "scatterternary"
           }
          ],
          "surface": [
           {
            "colorbar": {
             "outlinewidth": 0,
             "ticks": ""
            },
            "colorscale": [
             [
              0,
              "#0d0887"
             ],
             [
              0.1111111111111111,
              "#46039f"
             ],
             [
              0.2222222222222222,
              "#7201a8"
             ],
             [
              0.3333333333333333,
              "#9c179e"
             ],
             [
              0.4444444444444444,
              "#bd3786"
             ],
             [
              0.5555555555555556,
              "#d8576b"
             ],
             [
              0.6666666666666666,
              "#ed7953"
             ],
             [
              0.7777777777777778,
              "#fb9f3a"
             ],
             [
              0.8888888888888888,
              "#fdca26"
             ],
             [
              1,
              "#f0f921"
             ]
            ],
            "type": "surface"
           }
          ],
          "table": [
           {
            "cells": {
             "fill": {
              "color": "#EBF0F8"
             },
             "line": {
              "color": "white"
             }
            },
            "header": {
             "fill": {
              "color": "#C8D4E3"
             },
             "line": {
              "color": "white"
             }
            },
            "type": "table"
           }
          ]
         },
         "layout": {
          "annotationdefaults": {
           "arrowcolor": "#2a3f5f",
           "arrowhead": 0,
           "arrowwidth": 1
          },
          "autotypenumbers": "strict",
          "coloraxis": {
           "colorbar": {
            "outlinewidth": 0,
            "ticks": ""
           }
          },
          "colorscale": {
           "diverging": [
            [
             0,
             "#8e0152"
            ],
            [
             0.1,
             "#c51b7d"
            ],
            [
             0.2,
             "#de77ae"
            ],
            [
             0.3,
             "#f1b6da"
            ],
            [
             0.4,
             "#fde0ef"
            ],
            [
             0.5,
             "#f7f7f7"
            ],
            [
             0.6,
             "#e6f5d0"
            ],
            [
             0.7,
             "#b8e186"
            ],
            [
             0.8,
             "#7fbc41"
            ],
            [
             0.9,
             "#4d9221"
            ],
            [
             1,
             "#276419"
            ]
           ],
           "sequential": [
            [
             0,
             "#0d0887"
            ],
            [
             0.1111111111111111,
             "#46039f"
            ],
            [
             0.2222222222222222,
             "#7201a8"
            ],
            [
             0.3333333333333333,
             "#9c179e"
            ],
            [
             0.4444444444444444,
             "#bd3786"
            ],
            [
             0.5555555555555556,
             "#d8576b"
            ],
            [
             0.6666666666666666,
             "#ed7953"
            ],
            [
             0.7777777777777778,
             "#fb9f3a"
            ],
            [
             0.8888888888888888,
             "#fdca26"
            ],
            [
             1,
             "#f0f921"
            ]
           ],
           "sequentialminus": [
            [
             0,
             "#0d0887"
            ],
            [
             0.1111111111111111,
             "#46039f"
            ],
            [
             0.2222222222222222,
             "#7201a8"
            ],
            [
             0.3333333333333333,
             "#9c179e"
            ],
            [
             0.4444444444444444,
             "#bd3786"
            ],
            [
             0.5555555555555556,
             "#d8576b"
            ],
            [
             0.6666666666666666,
             "#ed7953"
            ],
            [
             0.7777777777777778,
             "#fb9f3a"
            ],
            [
             0.8888888888888888,
             "#fdca26"
            ],
            [
             1,
             "#f0f921"
            ]
           ]
          },
          "colorway": [
           "#636efa",
           "#EF553B",
           "#00cc96",
           "#ab63fa",
           "#FFA15A",
           "#19d3f3",
           "#FF6692",
           "#B6E880",
           "#FF97FF",
           "#FECB52"
          ],
          "font": {
           "color": "#2a3f5f"
          },
          "geo": {
           "bgcolor": "white",
           "lakecolor": "white",
           "landcolor": "#E5ECF6",
           "showlakes": true,
           "showland": true,
           "subunitcolor": "white"
          },
          "hoverlabel": {
           "align": "left"
          },
          "hovermode": "closest",
          "mapbox": {
           "style": "light"
          },
          "paper_bgcolor": "white",
          "plot_bgcolor": "#E5ECF6",
          "polar": {
           "angularaxis": {
            "gridcolor": "white",
            "linecolor": "white",
            "ticks": ""
           },
           "bgcolor": "#E5ECF6",
           "radialaxis": {
            "gridcolor": "white",
            "linecolor": "white",
            "ticks": ""
           }
          },
          "scene": {
           "xaxis": {
            "backgroundcolor": "#E5ECF6",
            "gridcolor": "white",
            "gridwidth": 2,
            "linecolor": "white",
            "showbackground": true,
            "ticks": "",
            "zerolinecolor": "white"
           },
           "yaxis": {
            "backgroundcolor": "#E5ECF6",
            "gridcolor": "white",
            "gridwidth": 2,
            "linecolor": "white",
            "showbackground": true,
            "ticks": "",
            "zerolinecolor": "white"
           },
           "zaxis": {
            "backgroundcolor": "#E5ECF6",
            "gridcolor": "white",
            "gridwidth": 2,
            "linecolor": "white",
            "showbackground": true,
            "ticks": "",
            "zerolinecolor": "white"
           }
          },
          "shapedefaults": {
           "line": {
            "color": "#2a3f5f"
           }
          },
          "ternary": {
           "aaxis": {
            "gridcolor": "white",
            "linecolor": "white",
            "ticks": ""
           },
           "baxis": {
            "gridcolor": "white",
            "linecolor": "white",
            "ticks": ""
           },
           "bgcolor": "#E5ECF6",
           "caxis": {
            "gridcolor": "white",
            "linecolor": "white",
            "ticks": ""
           }
          },
          "title": {
           "x": 0.05
          },
          "xaxis": {
           "automargin": true,
           "gridcolor": "white",
           "linecolor": "white",
           "ticks": "",
           "title": {
            "standoff": 15
           },
           "zerolinecolor": "white",
           "zerolinewidth": 2
          },
          "yaxis": {
           "automargin": true,
           "gridcolor": "white",
           "linecolor": "white",
           "ticks": "",
           "title": {
            "standoff": 15
           },
           "zerolinecolor": "white",
           "zerolinewidth": 2
          }
         }
        },
        "title": {
         "text": "fill_median - Korrelasjonsmatrise"
        },
        "width": 800,
        "xaxis": {
         "nticks": 29
        },
        "yaxis": {
         "nticks": 29
        }
       }
      }
     },
     "metadata": {},
     "output_type": "display_data"
    },
    {
     "name": "stderr",
     "output_type": "stream",
     "text": [
      "c:\\Users\\georg\\anaconda3\\envs\\INF161\\Lib\\site-packages\\sklearn\\metrics\\_regression.py:492: FutureWarning:\n",
      "\n",
      "'squared' is deprecated in version 1.4 and will be removed in 1.6. To calculate the root mean squared error, use the function'root_mean_squared_error'.\n",
      "\n"
     ]
    },
    {
     "name": "stdout",
     "output_type": "stream",
     "text": [
      "Random Forest: 23.34\n"
     ]
    },
    {
     "name": "stderr",
     "output_type": "stream",
     "text": [
      "c:\\Users\\georg\\anaconda3\\envs\\INF161\\Lib\\site-packages\\sklearn\\metrics\\_regression.py:492: FutureWarning:\n",
      "\n",
      "'squared' is deprecated in version 1.4 and will be removed in 1.6. To calculate the root mean squared error, use the function'root_mean_squared_error'.\n",
      "\n",
      "c:\\Users\\georg\\anaconda3\\envs\\INF161\\Lib\\site-packages\\sklearn\\metrics\\_regression.py:492: FutureWarning:\n",
      "\n",
      "'squared' is deprecated in version 1.4 and will be removed in 1.6. To calculate the root mean squared error, use the function'root_mean_squared_error'.\n",
      "\n"
     ]
    },
    {
     "name": "stdout",
     "output_type": "stream",
     "text": [
      "Gradient Boosting: 23.29\n",
      "Decision Tree: 29.32\n"
     ]
    },
    {
     "name": "stderr",
     "output_type": "stream",
     "text": [
      "c:\\Users\\georg\\anaconda3\\envs\\INF161\\Lib\\site-packages\\sklearn\\metrics\\_regression.py:492: FutureWarning:\n",
      "\n",
      "'squared' is deprecated in version 1.4 and will be removed in 1.6. To calculate the root mean squared error, use the function'root_mean_squared_error'.\n",
      "\n"
     ]
    },
    {
     "name": "stdout",
     "output_type": "stream",
     "text": [
      "Linear Regression: 23.41\n"
     ]
    },
    {
     "name": "stderr",
     "output_type": "stream",
     "text": [
      "c:\\Users\\georg\\anaconda3\\envs\\INF161\\Lib\\site-packages\\sklearn\\metrics\\_regression.py:492: FutureWarning:\n",
      "\n",
      "'squared' is deprecated in version 1.4 and will be removed in 1.6. To calculate the root mean squared error, use the function'root_mean_squared_error'.\n",
      "\n",
      "c:\\Users\\georg\\anaconda3\\envs\\INF161\\Lib\\site-packages\\sklearn\\metrics\\_regression.py:492: FutureWarning:\n",
      "\n",
      "'squared' is deprecated in version 1.4 and will be removed in 1.6. To calculate the root mean squared error, use the function'root_mean_squared_error'.\n",
      "\n",
      "c:\\Users\\georg\\anaconda3\\envs\\INF161\\Lib\\site-packages\\sklearn\\metrics\\_regression.py:492: FutureWarning:\n",
      "\n",
      "'squared' is deprecated in version 1.4 and will be removed in 1.6. To calculate the root mean squared error, use the function'root_mean_squared_error'.\n",
      "\n"
     ]
    },
    {
     "name": "stdout",
     "output_type": "stream",
     "text": [
      "Polynomial Regression: 2907374986.76\n",
      "Ridge Regression: 23.41\n",
      "fill_median - Best Model: Gradient Boosting\n",
      "fill_median - Validation RMSE: 23.29\n",
      "fill_median - Within 10 diff: 64.88%\n",
      "fill_median - Full Dataset RMSE: 18.39\n",
      "fill_median - Within 10 diff (Full Dataset): 67.15%\n"
     ]
    },
    {
     "data": {
      "application/vnd.plotly.v1+json": {
       "config": {
        "plotlyServerURL": "https://plot.ly"
       },
       "data": [
        {
         "type": "heatmap",
         "x": [
          "alder",
          "utdanning",
          "sykehusdød",
          "blodtrykk",
          "hvite_blodlegemer",
          "hjertefrekvens",
          "respirasjonsfrekvens",
          "kroppstemperatur",
          "lungefunksjon",
          "serumalbumin",
          "bilirubin",
          "kreatinin",
          "natrium",
          "blod_ph",
          "glukose",
          "blodurea_nitrogen",
          "urinmengde",
          "dødsfall",
          "antall_komorbiditeter",
          "koma_score",
          "adl_stedfortreder",
          "fysiologisk_score",
          "apache_fysiologisk_score",
          "overlevelsesestimat_2mnd",
          "overlevelsesestimat_6mnd",
          "diabetes",
          "demens",
          "lege_overlevelsesestimat_2mnd",
          "lege_overlevelsesestimat_6mnd",
          "kjønn_male",
          "inntekt_$25-$50k",
          "inntekt_>$50k",
          "inntekt_under $11k",
          "etnisitet_black",
          "etnisitet_hispanic",
          "etnisitet_other",
          "etnisitet_white",
          "sykdomskategori_id_BrY",
          "sykdomskategori_id_ChE",
          "sykdomskategori_id_DWw",
          "sykdomskategori_COPD/CHF/Cirrhosis",
          "sykdomskategori_Cancer",
          "sykdomskategori_Coma",
          "sykdom_underkategori_CHF",
          "sykdom_underkategori_COPD",
          "sykdom_underkategori_Cirrhosis",
          "sykdom_underkategori_Colon Cancer",
          "sykdom_underkategori_Coma",
          "sykdom_underkategori_Lung Cancer",
          "sykdom_underkategori_MOSF w/Malig",
          "kreft_no",
          "kreft_yes"
         ],
         "y": [
          "alder",
          "utdanning",
          "sykehusdød",
          "blodtrykk",
          "hvite_blodlegemer",
          "hjertefrekvens",
          "respirasjonsfrekvens",
          "kroppstemperatur",
          "lungefunksjon",
          "serumalbumin",
          "bilirubin",
          "kreatinin",
          "natrium",
          "blod_ph",
          "glukose",
          "blodurea_nitrogen",
          "urinmengde",
          "dødsfall",
          "antall_komorbiditeter",
          "koma_score",
          "adl_stedfortreder",
          "fysiologisk_score",
          "apache_fysiologisk_score",
          "overlevelsesestimat_2mnd",
          "overlevelsesestimat_6mnd",
          "diabetes",
          "demens",
          "lege_overlevelsesestimat_2mnd",
          "lege_overlevelsesestimat_6mnd",
          "kjønn_male",
          "inntekt_$25-$50k",
          "inntekt_>$50k",
          "inntekt_under $11k",
          "etnisitet_black",
          "etnisitet_hispanic",
          "etnisitet_other",
          "etnisitet_white",
          "sykdomskategori_id_BrY",
          "sykdomskategori_id_ChE",
          "sykdomskategori_id_DWw",
          "sykdomskategori_COPD/CHF/Cirrhosis",
          "sykdomskategori_Cancer",
          "sykdomskategori_Coma",
          "sykdom_underkategori_CHF",
          "sykdom_underkategori_COPD",
          "sykdom_underkategori_Cirrhosis",
          "sykdom_underkategori_Colon Cancer",
          "sykdom_underkategori_Coma",
          "sykdom_underkategori_Lung Cancer",
          "sykdom_underkategori_MOSF w/Malig",
          "kreft_no",
          "kreft_yes"
         ],
         "z": [
          [
           1,
           -0.13332343229417568,
           0.040476951484547045,
           -0.03915868305518392,
           0.006018247020578627,
           -0.137382819336006,
           -0.017053146211615744,
           -0.09538469251592005,
           0.010790365368912756,
           0.091342892569541,
           -0.14005413919317114,
           0.004405361539971604,
           0.0157770277049918,
           -0.03195653161067384,
           0.013834504447282528,
           0.03338799573507304,
           -0.03264946586035936,
           0.18038483654488208,
           0.1297297701688885,
           0.011990015162198834,
           0.09247142148168087,
           -0.11870426194275767,
           -0.032132970581235,
           -0.15595419519269313,
           -0.19524826335511175,
           0.094858986159418,
           0.1978181948528905,
           -0.07971824839287701,
           -0.12095440247618808,
           -0.04976413581830241,
           -0.0807286710455842,
           -0.05999093582602481,
           0.027182684110407113,
           -0.1342706178261121,
           -0.12351414035673317,
           -0.05195826817418361,
           0.19250290261874298,
           0.12078009429790261,
           -0.013724796736417277,
           0.0469726803483009,
           0.12078009429790261,
           -0.013724796736417277,
           0.0469726803483009,
           0.10913156652798094,
           0.15209542846383925,
           -0.1332176798664237,
           -0.005613917960047833,
           0.0469726803483009,
           -0.01230109525233332,
           -0.08140825363227706,
           -0.03018512042519385,
           0.05470661291316137
          ],
          [
           -0.13332343229417568,
           1,
           0.007223718927375707,
           -0.03551680034683424,
           -0.013156236920869669,
           0.00956703480517542,
           -0.032021336671001,
           0.0320988432057967,
           -0.010414526635725492,
           -0.023192492397864407,
           0.042077678057802485,
           -0.000586986729520441,
           -0.0069728026454883825,
           0.029279451724579488,
           0.0019285094565898364,
           0.016403291604319338,
           0.026158877073729065,
           0.000985516603378393,
           -0.09946630361153178,
           0.0017687690687288138,
           -0.05782609466361516,
           0.018118292842266556,
           -0.00909631645271872,
           -0.017149829396847737,
           -0.021787447429801803,
           -0.05830814380006339,
           -0.021014151055950146,
           0.01584020398130749,
           0.0022973540407821877,
           -0.004248255561510256,
           0.15540115160419435,
           0.27530791905868857,
           -0.2585091124497436,
           -0.1004644652502724,
           -0.009033787523018434,
           -0.016630954181584633,
           0.08180270848312324,
           -0.10152613207326,
           0.07363996290953251,
           -0.0016659113990845232,
           -0.10152613207326,
           0.07363996290953251,
           -0.0016659113990845232,
           -0.06437706091474779,
           -0.08489867469137498,
           0.009699371601151892,
           0.08259553340107084,
           -0.0016659113990845232,
           0.025584734057998576,
           0.07741228656747144,
           -0.08610001875746916,
           0.01429489653751589
          ],
          [
           0.040476951484547045,
           0.007223718927375707,
           1,
           -0.08752894017164899,
           0.07798370622099186,
           0.0924064045625286,
           0.019893000914114167,
           0.062467706257655,
           -0.12788647754472213,
           -0.14066677192486732,
           0.1642353308836161,
           0.10079397848826134,
           0.023909837492450573,
           -0.03491003984783344,
           0.03987226139169717,
           0.07748396066710163,
           -0.027304992441231454,
           0.4033659956251786,
           -0.0809355817424367,
           0.3817949869055247,
           0.08570676007065998,
           0.4688638653364822,
           0.47959363102975755,
           -0.5640062015157723,
           -0.5042443648871296,
           -0.01920731961377726,
           0.02422895496981598,
           -0.4858682304753228,
           -0.4140134159748231,
           -0.010497741793247832,
           -0.022987410176199718,
           -0.024949857855280075,
           -0.020677511312367763,
           0.015434138971270916,
           -0.006334950685478447,
           0.01920894363979674,
           -0.027061573687474364,
           -0.23687734847768274,
           -0.16803372831202407,
           0.20205329296237307,
           -0.23687734847768274,
           -0.16803372831202407,
           0.20205329296237307,
           -0.19018049888726318,
           -0.12732862041009418,
           -0.01004262554081513,
           -0.1172499642291282,
           0.20205329296237307,
           -0.11323372509722313,
           0.18147737656401347,
           0.0034967924822954712,
           0.1092993002737062
          ],
          [
           -0.03915868305518392,
           -0.03551680034683424,
           -0.08752894017164899,
           1,
           -0.03495417039695155,
           0.07218455310542876,
           0.07217655629785134,
           -0.003456446211272317,
           0.08860636580599901,
           0.09478403984582222,
           -0.08382193386071721,
           -0.09342061053745625,
           0.06677143163479594,
           0.08640856976415734,
           0.027227843613624698,
           -0.13785865621920618,
           0.10322769968984373,
           -0.02596075782479218,
           -0.013602483927293274,
           -0.05670912373543327,
           0.004475494567141349,
           -0.21228086913184394,
           -0.16945249978089777,
           0.1565866756896592,
           0.13458688622043613,
           -0.0024240124606405454,
           0.005835184429224562,
           0.09726198155860985,
           0.08777678470653752,
           -0.009223252047065934,
           -0.0006183864654305314,
           0.0018227938702553893,
           0.034996504776471996,
           0.04961085517608888,
           -0.014028632610500694,
           -0.010471122107339775,
           -0.02355732521041702,
           -0.02450005871111426,
           0.0737341178416152,
           0.032373123178535655,
           -0.02450005871111426,
           0.0737341178416152,
           0.032373123178535655,
           -0.0459490692156049,
           0.016636358791736933,
           0.0002697061333121451,
           0.055820746745042935,
           0.032373123178535655,
           0.04632110766214765,
           -0.04843716721582489,
           -0.027075295396390614,
           -0.02362030004774474
          ],
          [
           0.006018247020578627,
           -0.013156236920869669,
           0.07798370622099186,
           -0.03495417039695155,
           1,
           0.11714614542407,
           0.023356289435020664,
           0.09577023033018098,
           -0.1472186806480877,
           -0.12042532075803065,
           0.06287533878191866,
           0.11237896792310904,
           0.003302853129783745,
           -0.025491204416946567,
           0.06307816069641184,
           0.13427071745189384,
           -0.07921516050995607,
           -0.0030784619688691965,
           -0.010309634759070013,
           0.08233111981019459,
           0.002637974714791917,
           0.12076210523346403,
           0.1043093322685159,
           -0.10263730674532383,
           -0.08269024793308005,
           0.026210484392623423,
           0.005109080889484558,
           -0.0868807918904297,
           -0.049639686045283335,
           -0.014002782620742628,
           -0.017161745387230504,
           -0.018612133142782997,
           0.013536625246666746,
           0.01912234800446577,
           -0.01009950175063435,
           0.005891990050799784,
           -0.012006809144903033,
           -0.07099447114484692,
           -0.07129414534220409,
           0.06487392468953179,
           -0.07099447114484692,
           -0.07129414534220409,
           0.06487392468953179,
           -0.07129358188677823,
           -0.00554667379416251,
           -0.024672585882153885,
           -0.05584858964280808,
           0.06487392468953179,
           -0.04334409399410647,
           -0.016952676912411417,
           0.054372114294307654,
           -0.002422240869350657
          ],
          [
           -0.137382819336006,
           0.00956703480517542,
           0.0924064045625286,
           0.07218455310542876,
           0.11714614542407,
           1,
           0.21416798097061882,
           0.26383108425288326,
           -0.1522017049419508,
           -0.17270804545606575,
           0.08414016187823274,
           0.007437609720136074,
           0.027730731798197114,
           0.012595738399743152,
           0.05267088354691641,
           0.022848045649091778,
           0.002312215461968671,
           -0.0033732439084007177,
           -0.06802918227443715,
           0.02282113923407513,
           0.025078162794807776,
           0.13355913171367437,
           0.15227425493311597,
           -0.11876975671959317,
           -0.11027568022632768,
           -0.06636668315898493,
           -0.027388332006809447,
           -0.09116574063197651,
           -0.05659137171861106,
           -0.009671590082482112,
           0.017639600905248614,
           -0.0031593247525801287,
           0.001897798450601135,
           0.014850471491107988,
           0.015278124359221138,
           0.02009090860256566,
           -0.03132713844824961,
           -0.07715594632133103,
           -0.0572916106420504,
           -0.00681596763404667,
           -0.07715594632133103,
           -0.0572916106420504,
           -0.00681596763404667,
           -0.09871075207315883,
           0.006385915046005676,
           -0.009843916354863867,
           -0.05783387895150517,
           -0.00681596763404667,
           -0.024853553505662797,
           0.06669138314852383,
           0.012313852707575203,
           0.02460258108938531
          ],
          [
           -0.017053146211615744,
           -0.032021336671001,
           0.019893000914114167,
           0.07217655629785134,
           0.023356289435020664,
           0.21416798097061882,
           1,
           0.07681270925329911,
           -0.0711886733633175,
           -0.006178329664340859,
           0.021881516085396464,
           -0.03625009197982547,
           0.025222353546131976,
           0.011334548135627943,
           0.029452395691233865,
           0.01494208662259928,
           -0.027868332892533525,
           0.007467089722202525,
           0.005236290796543093,
           -0.001403803280597339,
           0.007840975405488356,
           0.046766398688197944,
           0.1087357466756462,
           -0.04800073000881247,
           -0.043830529316373934,
           -0.03660184848757685,
           0.0077512788380473055,
           -0.031032951434989353,
           -0.02141264200847602,
           -0.0036949494023717296,
           -0.0029615821407835384,
           -0.00806845443644884,
           0.0006174245847729751,
           -0.009682073748057959,
           0.009094030749941315,
           0.025385484399333393,
           -0.003271469617211689,
           0.001150069283857163,
           -0.039620405688556154,
           -0.007748095585949267,
           0.001150069283857163,
           -0.039620405688556154,
           -0.007748095585949267,
           -0.006597647893691322,
           0.0231710622512051,
           -0.018705419771234442,
           -0.035807875178622536,
           -0.007748095585949267,
           -0.020412948069025046,
           0.03229308672700549,
           0.0038078934115246283,
           0.025168439325650105
          ],
          [
           -0.09538469251592005,
           0.0320988432057967,
           0.062467706257655,
           -0.003456446211272317,
           0.09577023033018098,
           0.26383108425288326,
           0.07681270925329911,
           1,
           -0.15271623349857108,
           -0.11274853551131814,
           0.024995274757062882,
           0.0014501926398644857,
           0.11040771024978636,
           0.05199198742400992,
           0.07288851997147412,
           0.022909649033649445,
           0.028943267078654387,
           -0.025755738525934952,
           -0.10938128600791361,
           0.09718634002384317,
           0.000986349903992355,
           0.0605078801676737,
           0.07779032485819938,
           -0.06899615201033933,
           -0.04357300895163096,
           -0.015079117983468508,
           -0.00357197327673661,
           -0.08557971430285083,
           -0.049973739399283464,
           -0.0009421057066794733,
           0.023754145622312237,
           0.011910109264262256,
           -0.05637303233739699,
           -0.013468741467991291,
           0.008760932841468507,
           0.0075086228316703744,
           0.004147472117121091,
           -0.16682663742418383,
           -0.05474835546230223,
           0.06932071146830938,
           -0.16682663742418383,
           -0.05474835546230223,
           0.06932071146830938,
           -0.13515172978351359,
           -0.07258342715490677,
           -0.02845081375191482,
           0.00007348272029098563,
           0.06932071146830938,
           -0.06637395316154268,
           0.04795714741973942,
           0.01851873761745598,
           0.02997133662729487
          ],
          [
           0.010790365368912756,
           -0.010414526635725492,
           -0.12788647754472213,
           0.08860636580599901,
           -0.1472186806480877,
           -0.1522017049419508,
           -0.0711886733633175,
           -0.15271623349857108,
           1,
           0.13245947084231866,
           -0.042307054183301336,
           -0.04569299952518185,
           -0.05472488074505529,
           0.13107451733202669,
           -0.04780063296034581,
           -0.084255861706802,
           0.026571396034697055,
           -0.00278898608857466,
           0.051820433535731916,
           -0.06765480633659712,
           -0.0036088892982279147,
           -0.2226394450842814,
           -0.1957284794520127,
           0.18628505256635314,
           0.1595223907709107,
           0.011310310577460072,
           -0.008308759499381087,
           0.12898868797819893,
           0.08750923016491237,
           -0.020315921985504814,
           0.005227351776318449,
           0.0032950056606719787,
           0.00635788759922454,
           0.02128528638672422,
           0.030428715155623256,
           -0.006239797737451046,
           -0.030733645238953132,
           0.11853700550569052,
           0.09642694612951523,
           -0.010525430354593947,
           0.11853700550569052,
           0.09642694612951523,
           -0.010525430354593947,
           0.1272071012416962,
           -0.02403581745138565,
           0.07356801968792465,
           0.0721864016678547,
           -0.010525430354593947,
           0.06120414856902624,
           -0.05237267921019766,
           -0.019372415564652277,
           -0.05725007966867296
          ],
          [
           0.091342892569541,
           -0.023192492397864407,
           -0.14066677192486732,
           0.09478403984582222,
           -0.12042532075803065,
           -0.17270804545606575,
           -0.006178329664340859,
           -0.11274853551131814,
           0.13245947084231866,
           1,
           -0.14962863213484423,
           -0.08195652121602581,
           0.006276368181215701,
           0.017690985199050387,
           -0.043072584239432506,
           -0.09157369452564712,
           0.05932283643760881,
           0.0048940921793789015,
           0.04445323841446937,
           -0.06576433124120042,
           -0.06196970672424815,
           -0.25243840937216216,
           -0.24019575566156712,
           0.1885571286987597,
           0.16067518855032506,
           -0.002202293917502141,
           -0.013151015361077135,
           0.13032897421109568,
           0.07924246760010319,
           -0.025393866455159803,
           -0.00668551319799099,
           0.00043560020867446396,
           -0.001819039865357893,
           -0.03405213150680122,
           -0.005406948048564127,
           -0.002768088232673089,
           0.03288316210924633,
           0.12256839304416337,
           0.13757260603034008,
           -0.00015923037471472494,
           0.12256839304416337,
           0.13757260603034008,
           -0.00015923037471472494,
           0.13568449301565644,
           0.09162971182605406,
           -0.08945924027630411,
           0.08108709236252043,
           -0.00015923037471472494,
           0.10418895308120996,
           -0.09838749365392796,
           -0.036477151208889134,
           -0.05449712707800588
          ],
          [
           -0.14005413919317114,
           0.042077678057802485,
           0.1642353308836161,
           -0.08382193386071721,
           0.06287533878191866,
           0.08414016187823274,
           0.021881516085396464,
           0.024995274757062882,
           -0.042307054183301336,
           -0.14962863213484423,
           1,
           0.1569398896937754,
           0.027804503609358506,
           0.010624985347892784,
           0.02314749642299766,
           0.15541517749511444,
           -0.060481353554691114,
           0.024715818076752098,
           -0.009716645685398245,
           0.09769728306742358,
           0.021055481182631074,
           0.2803208763416183,
           0.284253434120825,
           -0.21520189943407028,
           -0.1919096229519939,
           -0.040149857033001446,
           -0.04085490541718026,
           -0.12515708298098283,
           -0.09438219581964605,
           0.023095654592012006,
           0.037874519612952136,
           0.014668450492484133,
           -0.02141113800697832,
           0.008038946997700505,
           0.0529780681492047,
           0.024605098847961235,
           -0.046406665486801675,
           -0.02961193343044774,
           -0.09192832268384847,
           -0.032205347074814296,
           -0.02961193343044774,
           -0.09192832268384847,
           -0.032205347074814296,
           -0.06164577986323405,
           -0.07192241489114311,
           0.13562533547789432,
           -0.03501719911189304,
           -0.032205347074814296,
           -0.0843831606721725,
           0.04312421944776557,
           0.047550827625774214,
           0.022212174044081427
          ],
          [
           0.004405361539971604,
           -0.000586986729520441,
           0.10079397848826134,
           -0.09342061053745625,
           0.11237896792310904,
           0.007437609720136074,
           -0.03625009197982547,
           0.0014501926398644857,
           -0.04569299952518185,
           -0.08195652121602581,
           0.1569398896937754,
           1,
           0.021810615097831894,
           -0.14277807191221678,
           0.04973475509045503,
           0.44707280373885805,
           -0.19367753043464347,
           0.023674636356028747,
           0.03077836726924337,
           0.07212551904061348,
           -0.003638297834102257,
           0.18520584732416623,
           0.24024878804161873,
           -0.1492292119270632,
           -0.12355858951540521,
           0.05798195869725583,
           -0.005746900608902001,
           -0.0904151011685187,
           -0.06237186708817278,
           0.026480148828339493,
           -0.00803678637809554,
           0.008168903378438355,
           -0.013408929322507465,
           0.04018673242680755,
           -0.00018959964327008345,
           0.007516510610883843,
           -0.04083775570385224,
           -0.06234307484546948,
           -0.09175419978588814,
           0.0030786405439737125,
           -0.06234307484546948,
           -0.09175419978588814,
           0.0030786405439737125,
           -0.005785219390659783,
           -0.06508560080690165,
           -0.03026795147599935,
           -0.049738979360351966,
           0.0030786405439737125,
           -0.07283331833845216,
           0.023134300554744032,
           0.058729174825828984,
           0.013141932515791365
          ],
          [
           0.0157770277049918,
           -0.0069728026454883825,
           0.023909837492450573,
           0.06677143163479594,
           0.003302853129783745,
           0.027730731798197114,
           0.025222353546131976,
           0.11040771024978636,
           -0.05472488074505529,
           0.006276368181215701,
           0.027804503609358506,
           0.021810615097831894,
           1,
           -0.06000918609919849,
           0.01156279957401659,
           0.08641031730377555,
           0.013760069796134661,
           -0.019915017727150243,
           -0.02634416553142343,
           0.07868146462819202,
           0.021432904574614442,
           -0.010507368388901662,
           0.034465276520411106,
           -0.010486723488186049,
           0.00811980244214841,
           0.009267689946876958,
           0.033035384634412523,
           -0.021046104598854396,
           0.000671520912717111,
           -0.012341765123741065,
           0.013889550527709514,
           0.0024260922836699408,
           -0.03125537789237852,
           0.028054534157992177,
           -0.0048149483424851655,
           0.0011314705500321224,
           -0.020015304632016305,
           -0.07490075144451615,
           -0.017093359465408676,
           0.03442942628358085,
           -0.07490075144451615,
           -0.017093359465408676,
           0.03442942628358085,
           -0.07173934911861515,
           0.029205776508158907,
           -0.0794066850747668,
           -0.005361707070383829,
           0.03442942628358085,
           -0.01657573310360983,
           -0.01645205085510238,
           0.026028128356222896,
           -0.006503310336837321
          ],
          [
           -0.03195653161067384,
           0.029279451724579488,
           -0.03491003984783344,
           0.08640856976415734,
           -0.025491204416946567,
           0.012595738399743152,
           0.011334548135627943,
           0.05199198742400992,
           0.13107451733202669,
           0.017690985199050387,
           0.010624985347892784,
           -0.14277807191221678,
           -0.06000918609919849,
           1,
           -0.041987898602980286,
           -0.07894162468926555,
           0.05436118118954775,
           -0.01844139696282022,
           -0.006272563058196274,
           -0.013172139307102931,
           -0.01101605163682175,
           -0.07214713753435485,
           -0.0699135992646516,
           0.055027100111710706,
           0.04960672877955554,
           0.008019118775809592,
           -0.021799619677397512,
           0.03513368276434712,
           0.0326323806647303,
           0.030235059576096037,
           0.01613971814061882,
           0.028464026684652977,
           -0.03182551358821694,
           -0.0136866708594285,
           0.009378614070904408,
           0.011478202755812876,
           0.0043381922727852105,
           -0.0011866808611149548,
           -0.009937473914629773,
           0.029327502838472713,
           -0.0011866808611149548,
           -0.009937473914629773,
           0.029327502838472713,
           0.04610609823201901,
           -0.08275940318252276,
           0.036821276536106715,
           -0.012946875033179745,
           0.029327502838472713,
           -0.0020655164499494066,
           -0.021441789923841832,
           0.025361707504512044,
           -0.01788258906265599
          ],
          [
           0.013834504447282528,
           0.0019285094565898364,
           0.03987226139169717,
           0.027227843613624698,
           0.06307816069641184,
           0.05267088354691641,
           0.029452395691233865,
           0.07288851997147412,
           -0.04780063296034581,
           -0.043072584239432506,
           0.02314749642299766,
           0.04973475509045503,
           0.01156279957401659,
           -0.041987898602980286,
           1,
           0.15516921383741314,
           -0.01969517001560004,
           -0.00249059818166523,
           -0.01642808607387245,
           0.05796235806116298,
           0.012971262918456839,
           0.08010430156959276,
           0.07852594047273832,
           -0.07133857779319865,
           -0.060974077589585146,
           0.02547414407522026,
           0.014474379998435068,
           -0.05003024099755529,
           -0.03807794765984009,
           -0.014592820858085945,
           0.023759610053372075,
           -0.005178381822192921,
           -0.023696341175053887,
           -0.0042553607532131235,
           -0.01156881164728116,
           0.005978820042757916,
           0.006396895596257251,
           -0.03889911829741705,
           -0.024801306585247814,
           0.011636625618188852,
           -0.03889911829741705,
           -0.024801306585247814,
           0.011636625618188852,
           -0.023911002579527715,
           -0.020068849949425628,
           -0.014485640929912365,
           -0.017683260181377183,
           0.011636625618188852,
           -0.016422228214072614,
           0.00987711731436479,
           0.007485439200914713,
           0.01757244339870411
          ],
          [
           0.03338799573507304,
           0.016403291604319338,
           0.07748396066710163,
           -0.13785865621920618,
           0.13427071745189384,
           0.022848045649091778,
           0.01494208662259928,
           0.022909649033649445,
           -0.084255861706802,
           -0.09157369452564712,
           0.15541517749511444,
           0.44707280373885805,
           0.08641031730377555,
           -0.07894162468926555,
           0.15516921383741314,
           1,
           -0.22815095510559244,
           0.007255781507857884,
           0.02406921028998825,
           0.05435382615964833,
           0.01713688391895616,
           0.1402421242287433,
           0.14934185591186838,
           -0.12759660179101195,
           -0.11415468829810188,
           0.029728382721286604,
           -0.0015298038864665002,
           -0.07067548039696744,
           -0.044314938003727294,
           -0.012598872989915242,
           0.01925375778538081,
           0.008959618988197337,
           -0.028579079034569792,
           -0.00405854370303448,
           0.00368376041550235,
           0.0062054699832250065,
           -0.0041404482097779855,
           -0.05184421816988668,
           -0.04042351153657425,
           0.007011831488486321,
           -0.05184421816988668,
           -0.04042351153657425,
           0.007011831488486321,
           -0.03008953762733833,
           -0.024029269763341517,
           -0.02585498357651827,
           -0.02741331141885158,
           0.007011831488486321,
           -0.027851372792871677,
           0.02085330586341454,
           -0.0006176852227779814,
           0.040570478148896465
          ],
          [
           -0.03264946586035936,
           0.026158877073729065,
           -0.027304992441231454,
           0.10322769968984373,
           -0.07921516050995607,
           0.002312215461968671,
           -0.027868332892533525,
           0.028943267078654387,
           0.026571396034697055,
           0.05932283643760881,
           -0.060481353554691114,
           -0.19367753043464347,
           0.013760069796134661,
           0.05436118118954775,
           -0.01969517001560004,
           -0.22815095510559244,
           1,
           0.007916371830370384,
           -0.031844614732241656,
           -0.0026326896917827423,
           -0.014775357510451722,
           -0.06604799931925516,
           -0.08118270858100206,
           0.04512867210389089,
           0.03353558927313998,
           -0.026468296546432794,
           -0.028717854337302475,
           0.02940522706086837,
           0.00992353754663747,
           0.02399151496019886,
           -0.018994683658908124,
           0.01349167670501569,
           0.012886778485717131,
           0.0231931532815137,
           0.001474215359698556,
           -0.0069490132160982725,
           -0.02163367157273103,
           -0.0007979599204497907,
           0.05854276027867261,
           -0.0006406085506768092,
           -0.0007979599204497907,
           0.05854276027867261,
           -0.0006406085506768092,
           0.0003884158790832928,
           0.00635103568670297,
           -0.010926141126869795,
           0.024638269974120445,
           -0.0006406085506768092,
           0.051936817946335145,
           -0.006677209960533501,
           -0.033681736380433355,
           -0.014167299818051616
          ],
          [
           0.18038483654488208,
           0.000985516603378393,
           0.4033659956251786,
           -0.02596075782479218,
           -0.0030784619688691965,
           -0.0033732439084007177,
           0.007467089722202525,
           -0.025755738525934952,
           -0.00278898608857466,
           0.0048940921793789015,
           0.024715818076752098,
           0.023674636356028747,
           -0.019915017727150243,
           -0.01844139696282022,
           -0.00249059818166523,
           0.007255781507857884,
           0.007916371830370384,
           1,
           0.05677550992546858,
           0.13643446222851086,
           0.10451843726796578,
           0.15731461518755716,
           0.15826461117626212,
           -0.3261751765784931,
           -0.3793702863248929,
           0.005251329039053851,
           0.03885505398486532,
           -0.28167000880682086,
           -0.34370326020953845,
           0.027657802539120865,
           -0.017648897672153326,
           -0.014299793606819513,
           -0.008815109587700425,
           -0.03463308812573916,
           -0.022699587283550322,
           0.009004117140853385,
           0.032183456844743774,
           -0.11830237683319879,
           0.1920847096735927,
           0.06948448565786727,
           -0.11830237683319879,
           0.1920847096735927,
           0.06948448565786727,
           -0.07142229791484116,
           -0.08326105039432433,
           -0.0158063385382405,
           0.0833690383029888,
           0.06948448565786727,
           0.16846254676067854,
           0.1458684900134921,
           -0.24903919954225281,
           0.07329161032424905
          ],
          [
           0.1297297701688885,
           -0.09946630361153178,
           -0.0809355817424367,
           -0.013602483927293274,
           -0.010309634759070013,
           -0.06802918227443715,
           0.005236290796543093,
           -0.10938128600791361,
           0.051820433535731916,
           0.04445323841446937,
           -0.009716645685398245,
           0.03077836726924337,
           -0.02634416553142343,
           -0.006272563058196274,
           -0.01642808607387245,
           0.02406921028998825,
           -0.031844614732241656,
           0.05677550992546858,
           1,
           -0.12673193482884296,
           0.1028658653132231,
           -0.05561784032729177,
           0.013853523987550754,
           0.10602781951716267,
           0.09410692619352021,
           0.389890526488137,
           0.13865141083286206,
           0.07659870971257478,
           0.05188836432698228,
           0.044270080029683335,
           -0.06129076104020348,
           -0.06717334526296732,
           0.13661583292089188,
           0.004091731188337669,
           0.005647252093576431,
           -0.014296848015247488,
           0.008528395736115994,
           0.4345348677442197,
           -0.12801034658073326,
           -0.14083703261951733,
           0.4345348677442197,
           -0.12801034658073326,
           -0.14083703261951733,
           0.3343105997825031,
           0.16324634352136716,
           0.13761778922410256,
           -0.10758599899524371,
           -0.14083703261951733,
           -0.07219623485929218,
           -0.05408614660757803,
           -0.0020626279355185806,
           0.13962365898011847
          ],
          [
           0.011990015162198834,
           0.0017687690687288138,
           0.3817949869055247,
           -0.05670912373543327,
           0.08233111981019459,
           0.02282113923407513,
           -0.001403803280597339,
           0.09718634002384317,
           -0.06765480633659712,
           -0.06576433124120042,
           0.09769728306742358,
           0.07212551904061348,
           0.07868146462819202,
           -0.013172139307102931,
           0.05796235806116298,
           0.05435382615964833,
           -0.0026326896917827423,
           0.13643446222851086,
           -0.12673193482884296,
           1,
           0.08883890574375335,
           0.28790583422656285,
           0.2892782680695248,
           -0.5960529941258196,
           -0.5046911720322793,
           -0.0028524535754236064,
           0.07513770581774179,
           -0.428939493812025,
           -0.33939577891459477,
           -0.03733092002680003,
           -0.02822479038252339,
           -0.029289073057564147,
           -0.020679091350106035,
           0.05232987846272726,
           0.0199244366707267,
           -0.00407287547911852,
           -0.06076778311019205,
           -0.24136826054937555,
           -0.18049601128396808,
           0.5618047916449569,
           -0.24136826054937555,
           -0.18049601128396808,
           0.5618047916449569,
           -0.1838607337458734,
           -0.11679895223818478,
           -0.04374112954061498,
           -0.11342835203409497,
           0.5618047916449569,
           -0.13127290181957627,
           0.009810769969217405,
           0.12383394789678003,
           0.01494807092073825
          ],
          [
           0.09247142148168087,
           -0.05782609466361516,
           0.08570676007065998,
           0.004475494567141349,
           0.002637974714791917,
           0.025078162794807776,
           0.007840975405488356,
           0.000986349903992355,
           -0.0036088892982279147,
           -0.06196970672424815,
           0.021055481182631074,
           -0.003638297834102257,
           0.021432904574614442,
           -0.01101605163682175,
           0.012971262918456839,
           0.01713688391895616,
           -0.014775357510451722,
           0.10451843726796578,
           0.1028658653132231,
           0.08883890574375335,
           1,
           0.08209033346056296,
           0.09473475024465891,
           -0.1216978616664071,
           -0.11717157534789265,
           0.04705786411564825,
           0.15271564662338336,
           -0.1297593729947933,
           -0.12396918243777362,
           -0.06719633385170222,
           -0.05575507416304113,
           -0.040392710312576956,
           0.08974194295874614,
           0.030515785084921993,
           0.005271642073775807,
           0.014284028506723348,
           -0.03515599623028826,
           -0.024753982196108252,
           -0.0680234579898624,
           0.022598095917790224,
           -0.024753982196108252,
           -0.0680234579898624,
           0.022598095917790224,
           -0.04772857963409049,
           0.02056878288656265,
           -0.0027753104395550807,
           -0.06615271497733252,
           0.022598095917790224,
           -0.031445885910868165,
           0.02363121743136829,
           0.0014342831742395683,
           0.048574177627104004
          ],
          [
           -0.11870426194275767,
           0.018118292842266556,
           0.4688638653364822,
           -0.21228086913184394,
           0.12076210523346403,
           0.13355913171367437,
           0.046766398688197944,
           0.0605078801676737,
           -0.2226394450842814,
           -0.25243840937216216,
           0.2803208763416183,
           0.18520584732416623,
           -0.010507368388901662,
           -0.07214713753435485,
           0.08010430156959276,
           0.1402421242287433,
           -0.06604799931925516,
           0.15731461518755716,
           -0.05561784032729177,
           0.28790583422656285,
           0.08209033346056296,
           1,
           0.7990801123386913,
           -0.7581244972362323,
           -0.6842932153797899,
           0.008527871741297731,
           -0.012156291547702945,
           -0.43723728797591493,
           -0.33476317181262977,
           0.009838724290181004,
           -0.0007293178840387975,
           -0.038880234183668635,
           -0.025063821674690154,
           0.027336047529116458,
           0.02200062068934286,
           0.039066729572419925,
           -0.054310339954192446,
           -0.22664579885040426,
           -0.2723282064217568,
           0.016157749142362704,
           -0.22664579885040426,
           -0.2723282064217568,
           0.016157749142362704,
           -0.18020373581764684,
           -0.13539042518847283,
           0.006076812368272142,
           -0.16227887105963767,
           0.016157749142362704,
           -0.20488500170839855,
           0.22410725896448752,
           0.06776425274392131,
           0.12849619626681286
          ],
          [
           -0.032132970581235,
           -0.00909631645271872,
           0.47959363102975755,
           -0.16945249978089777,
           0.1043093322685159,
           0.15227425493311597,
           0.1087357466756462,
           0.07779032485819938,
           -0.1957284794520127,
           -0.24019575566156712,
           0.284253434120825,
           0.24024878804161873,
           0.034465276520411106,
           -0.0699135992646516,
           0.07852594047273832,
           0.14934185591186838,
           -0.08118270858100206,
           0.15826461117626212,
           0.013853523987550754,
           0.2892782680695248,
           0.09473475024465891,
           0.7990801123386913,
           1,
           -0.6547577202976425,
           -0.5560729462362776,
           0.08366768064550555,
           0.009770388310752465,
           -0.42801070347709474,
           -0.31109918211202037,
           0.009006125096888145,
           -0.008666638788651515,
           -0.04779053341507923,
           -0.009802205024636374,
           0.031901801584932575,
           0.027704190159003387,
           0.017982396975171212,
           -0.05200978447984325,
           -0.18974889527739444,
           -0.38654553413665066,
           0.014135355766160878,
           -0.18974889527739444,
           -0.38654553413665066,
           0.014135355766160878,
           -0.15610411475727506,
           -0.11198027691524487,
           0.011582926612478166,
           -0.2223941694252666,
           0.014135355766160878,
           -0.29693619403750887,
           0.23348934480769734,
           0.1352403234949019,
           0.1621881596735914
          ],
          [
           -0.15595419519269313,
           -0.017149829396847737,
           -0.5640062015157723,
           0.1565866756896592,
           -0.10263730674532383,
           -0.11876975671959317,
           -0.04800073000881247,
           -0.06899615201033933,
           0.18628505256635314,
           0.1885571286987597,
           -0.21520189943407028,
           -0.1492292119270632,
           -0.010486723488186049,
           0.055027100111710706,
           -0.07133857779319865,
           -0.12759660179101195,
           0.04512867210389089,
           -0.3261751765784931,
           0.10602781951716267,
           -0.5960529941258196,
           -0.1216978616664071,
           -0.7581244972362323,
           -0.6547577202976425,
           1,
           0.9604599286612453,
           0.030562715990085722,
           -0.0496802156781888,
           0.5743305264825511,
           0.5109070380294919,
           0.019329078613789404,
           0.009692905198951917,
           0.019370028170988256,
           0.06383807029705489,
           0.016614541246611284,
           0.015335592584893231,
           -0.014881388484240256,
           -0.004977952725170658,
           0.3687303369535202,
           0.06955893140674498,
           -0.31892818440731474,
           0.3687303369535202,
           0.06955893140674498,
           -0.31892818440731474,
           0.2979814218346111,
           0.1883748818438181,
           0.025940858971193394,
           0.11584466511585018,
           -0.31892818440731474,
           -0.004967625036652179,
           -0.3156416366343529,
           0.18069888083763452,
           -0.19993171780444866
          ],
          [
           -0.19524826335511175,
           -0.021787447429801803,
           -0.5042443648871296,
           0.13458688622043613,
           -0.08269024793308005,
           -0.11027568022632768,
           -0.043830529316373934,
           -0.04357300895163096,
           0.1595223907709107,
           0.16067518855032506,
           -0.1919096229519939,
           -0.12355858951540521,
           0.00811980244214841,
           0.04960672877955554,
           -0.060974077589585146,
           -0.11415468829810188,
           0.03353558927313998,
           -0.3793702863248929,
           0.09410692619352021,
           -0.5046911720322793,
           -0.11717157534789265,
           -0.6842932153797899,
           -0.5560729462362776,
           0.9604599286612453,
           1,
           0.05307521487990728,
           -0.03994549547214809,
           0.5368725528167348,
           0.5195045097220204,
           0.010845586917643589,
           0.001779453378375783,
           0.003035777556603794,
           0.08050460651308447,
           0.038332501406116916,
           0.023003872611780603,
           -0.010434075925252173,
           -0.02957480516738683,
           0.3633222943566296,
           -0.14187504560448805,
           -0.24624783947731088,
           0.3633222943566296,
           -0.14187504560448805,
           -0.24624783947731088,
           0.30973456201273275,
           0.1797038624318956,
           0.007870332607159589,
           0.027797037163663735,
           -0.24624783947731088,
           -0.19326466060856484,
           -0.2781334651337784,
           0.30885055091849917,
           -0.16636555322021343
          ],
          [
           0.094858986159418,
           -0.05830814380006339,
           -0.01920731961377726,
           -0.0024240124606405454,
           0.026210484392623423,
           -0.06636668315898493,
           -0.03660184848757685,
           -0.015079117983468508,
           0.011310310577460072,
           -0.002202293917502141,
           -0.040149857033001446,
           0.05798195869725583,
           0.009267689946876958,
           0.008019118775809592,
           0.02547414407522026,
           0.029728382721286604,
           -0.026468296546432794,
           0.005251329039053851,
           0.389890526488137,
           -0.0028524535754236064,
           0.04705786411564825,
           0.008527871741297731,
           0.08366768064550555,
           0.030562715990085722,
           0.05307521487990728,
           1,
           0.025707417629028822,
           0.02348256946280827,
           0.03463081360819039,
           -0.04217322026244417,
           -0.024355922303474675,
           -0.05472329240724042,
           0.058817526231928846,
           0.05390422536164563,
           -0.001499933404082579,
           0.0185801141043382,
           -0.04472796392020781,
           0.07030591092373514,
           -0.1171421421456836,
           -0.010119393348778828,
           0.07030591092373514,
           -0.1171421421456836,
           -0.010119393348778828,
           0.14998988512166167,
           -0.04828710698576489,
           -0.028987240976414898,
           -0.05060843034861214,
           -0.010119393348778828,
           -0.10291638133494242,
           -0.05734534724287386,
           0.11529918662255656,
           -0.015513996591290732
          ],
          [
           0.1978181948528905,
           -0.021014151055950146,
           0.02422895496981598,
           0.005835184429224562,
           0.005109080889484558,
           -0.027388332006809447,
           0.0077512788380473055,
           -0.00357197327673661,
           -0.008308759499381087,
           -0.013151015361077135,
           -0.04085490541718026,
           -0.005746900608902001,
           0.033035384634412523,
           -0.021799619677397512,
           0.014474379998435068,
           -0.0015298038864665002,
           -0.028717854337302475,
           0.03885505398486532,
           0.13865141083286206,
           0.07513770581774179,
           0.15271564662338336,
           -0.012156291547702945,
           0.009770388310752465,
           -0.0496802156781888,
           -0.03994549547214809,
           0.025707417629028822,
           1,
           -0.04658481553215688,
           -0.051100456110907175,
           -0.03084593426999454,
           -0.02931162797582062,
           -0.025961678578035774,
           0.0539377800991582,
           -0.002487186723069384,
           -0.026258930420613825,
           -0.020324527138284386,
           0.021538967275354922,
           -0.019404222790142672,
           -0.07041456252696517,
           0.05871300398286108,
           -0.019404222790142672,
           -0.07041456252696517,
           0.05871300398286108,
           -0.006821530775924161,
           0.004115521708194521,
           -0.03465120156842433,
           -0.04252923887295587,
           0.05871300398286108,
           -0.05253739846180952,
           -0.04146547619716458,
           0.0694165739104414,
           -0.00198859002970311
          ],
          [
           -0.07971824839287701,
           0.01584020398130749,
           -0.4858682304753228,
           0.09726198155860985,
           -0.0868807918904297,
           -0.09116574063197651,
           -0.031032951434989353,
           -0.08557971430285083,
           0.12898868797819893,
           0.13032897421109568,
           -0.12515708298098283,
           -0.0904151011685187,
           -0.021046104598854396,
           0.03513368276434712,
           -0.05003024099755529,
           -0.07067548039696744,
           0.02940522706086837,
           -0.28167000880682086,
           0.07659870971257478,
           -0.428939493812025,
           -0.1297593729947933,
           -0.43723728797591493,
           -0.42801070347709474,
           0.5743305264825511,
           0.5368725528167348,
           0.02348256946280827,
           -0.04658481553215688,
           1,
           0.8925001156327077,
           0.020432179211596964,
           0.01845173051626734,
           0.054203489133448676,
           0.017858299955696513,
           -0.01971004317318003,
           0.005995386750609411,
           -0.0008604164582794305,
           0.02254425071192409,
           0.2553002980139404,
           0.09860704409595984,
           -0.2709288469909565,
           0.2553002980139404,
           0.09860704409595984,
           -0.2709288469909565,
           0.20012708369700732,
           0.1282667926154778,
           0.030789735298428798,
           0.09697162006806863,
           -0.2709288469909565,
           0.04475499929534339,
           -0.15653784565756157,
           0.03894295993075612,
           -0.08697191185389573
          ],
          [
           -0.12095440247618808,
           0.0022973540407821877,
           -0.4140134159748231,
           0.08777678470653752,
           -0.049639686045283335,
           -0.05659137171861106,
           -0.02141264200847602,
           -0.049973739399283464,
           0.08750923016491237,
           0.07924246760010319,
           -0.09438219581964605,
           -0.06237186708817278,
           0.000671520912717111,
           0.0326323806647303,
           -0.03807794765984009,
           -0.044314938003727294,
           0.00992353754663747,
           -0.34370326020953845,
           0.05188836432698228,
           -0.33939577891459477,
           -0.12396918243777362,
           -0.33476317181262977,
           -0.31109918211202037,
           0.5109070380294919,
           0.5195045097220204,
           0.03463081360819039,
           -0.051100456110907175,
           0.8925001156327077,
           1,
           0.005785626297455377,
           0.01136492949858472,
           0.030795156566591778,
           0.03524898523860695,
           -0.00019308509360365414,
           0.020854754556254552,
           -0.001931827814622845,
           -0.0012387886528193487,
           0.23287869771604627,
           -0.06560147123552298,
           -0.21849113301899115,
           0.23287869771604627,
           -0.06560147123552298,
           -0.21849113301899115,
           0.17166278832575568,
           0.1324164190435566,
           0.024446715822542174,
           0.0011121573816989156,
           -0.21849113301899115,
           -0.08032046770041683,
           -0.15872016446193118,
           0.16282919190253292,
           -0.07433467227743953
          ],
          [
           -0.04976413581830241,
           -0.004248255561510256,
           -0.010497741793247832,
           -0.009223252047065934,
           -0.014002782620742628,
           -0.009671590082482112,
           -0.0036949494023717296,
           -0.0009421057066794733,
           -0.020315921985504814,
           -0.025393866455159803,
           0.023095654592012006,
           0.026480148828339493,
           -0.012341765123741065,
           0.030235059576096037,
           -0.014592820858085945,
           -0.012598872989915242,
           0.02399151496019886,
           0.027657802539120865,
           0.044270080029683335,
           -0.03733092002680003,
           -0.06719633385170222,
           0.009838724290181004,
           0.009006125096888145,
           0.019329078613789404,
           0.010845586917643589,
           -0.04217322026244417,
           -0.03084593426999454,
           0.020432179211596964,
           0.005785626297455377,
           1,
           0.04433450120210881,
           0.042242045158151525,
           -0.08966898329817952,
           -0.05046107895374306,
           -0.01236623091467875,
           -0.0033696391347233664,
           0.047612683154598094,
           0.02281162914805516,
           0.029077039986655683,
           -0.042395011718487,
           0.02281162914805516,
           0.029077039986655683,
           -0.042395011718487,
           0.04348309579849809,
           -0.04435651554804482,
           0.0380083077929035,
           -0.0049246512519862135,
           -0.042395011718487,
           0.03901441247190272,
           -0.009956327412590593,
           -0.014750190680421322,
           0.015107372711771525
          ],
          [
           -0.0807286710455842,
           0.15540115160419435,
           -0.022987410176199718,
           -0.0006183864654305314,
           -0.017161745387230504,
           0.017639600905248614,
           -0.0029615821407835384,
           0.023754145622312237,
           0.005227351776318449,
           -0.00668551319799099,
           0.037874519612952136,
           -0.00803678637809554,
           0.013889550527709514,
           0.01613971814061882,
           0.023759610053372075,
           0.01925375778538081,
           -0.018994683658908124,
           -0.017648897672153326,
           -0.06129076104020348,
           -0.02822479038252339,
           -0.05575507416304113,
           -0.0007293178840387975,
           -0.008666638788651515,
           0.009692905198951917,
           0.001779453378375783,
           -0.024355922303474675,
           -0.02931162797582062,
           0.01845173051626734,
           0.01136492949858472,
           0.04433450120210881,
           1,
           -0.10349635722174928,
           -0.24485860838890922,
           -0.08100844940913864,
           -0.005615514450348906,
           -0.0021014001000902024,
           0.07613660557732387,
           -0.05740327016003285,
           0.05814449921938939,
           -0.02190577443035794,
           -0.05740327016003285,
           0.05814449921938939,
           -0.02190577443035794,
           -0.02191141949093969,
           -0.05708318323533937,
           -0.005265034379983832,
           0.036981783669144126,
           -0.02190577443035794,
           0.04194724912484792,
           0.03974232744919748,
           -0.05474513974342791,
           -0.0017857485186618886
          ],
          [
           -0.05999093582602481,
           0.27530791905868857,
           -0.024949857855280075,
           0.0018227938702553893,
           -0.018612133142782997,
           -0.0031593247525801287,
           -0.00806845443644884,
           0.011910109264262256,
           0.0032950056606719787,
           0.00043560020867446396,
           0.014668450492484133,
           0.008168903378438355,
           0.0024260922836699408,
           0.028464026684652977,
           -0.005178381822192921,
           0.008959618988197337,
           0.01349167670501569,
           -0.014299793606819513,
           -0.06717334526296732,
           -0.029289073057564147,
           -0.040392710312576956,
           -0.038880234183668635,
           -0.04779053341507923,
           0.019370028170988256,
           0.003035777556603794,
           -0.05472329240724042,
           -0.025961678578035774,
           0.054203489133448676,
           0.030795156566591778,
           0.042242045158151525,
           -0.10349635722174928,
           1,
           -0.19301713086513758,
           -0.0865355119099926,
           -0.011430157378289682,
           -0.0220929537131653,
           0.07825785137852916,
           -0.05629959173078667,
           0.10452599057350268,
           -0.007828416362820872,
           -0.05629959173078667,
           0.10452599057350268,
           -0.007828416362820872,
           -0.020059761513466896,
           -0.06120178657546184,
           -0.00033258629548683894,
           0.0973916684795649,
           -0.007828416362820872,
           0.05160116461813964,
           0.03550177879580091,
           -0.08260071247169723,
           -0.0013271080260349826
          ],
          [
           0.027182684110407113,
           -0.2585091124497436,
           -0.020677511312367763,
           0.034996504776471996,
           0.013536625246666746,
           0.001897798450601135,
           0.0006174245847729751,
           -0.05637303233739699,
           0.00635788759922454,
           -0.001819039865357893,
           -0.02141113800697832,
           -0.013408929322507465,
           -0.03125537789237852,
           -0.03182551358821694,
           -0.023696341175053887,
           -0.028579079034569792,
           0.012886778485717131,
           -0.008815109587700425,
           0.13661583292089188,
           -0.020679091350106035,
           0.08974194295874614,
           -0.025063821674690154,
           -0.009802205024636374,
           0.06383807029705489,
           0.08050460651308447,
           0.058817526231928846,
           0.0539377800991582,
           0.017858299955696513,
           0.03524898523860695,
           -0.08966898329817952,
           -0.24485860838890922,
           -0.19301713086513758,
           1,
           0.16871509692190603,
           0.02248374872700345,
           -0.006536292516929376,
           -0.1399313423014905,
           0.12232099165041371,
           -0.11347988796758703,
           -0.004169627628894543,
           0.12232099165041371,
           -0.11347988796758703,
           -0.004169627628894543,
           0.04374026478640958,
           0.10465848329317379,
           0.03909577793074052,
           -0.0884299608134256,
           -0.004169627628894543,
           -0.06934956562510788,
           -0.03998446005532076,
           0.10520707451910861,
           -0.01401844044996079
          ],
          [
           -0.1342706178261121,
           -0.1004644652502724,
           0.015434138971270916,
           0.04961085517608888,
           0.01912234800446577,
           0.014850471491107988,
           -0.009682073748057959,
           -0.013468741467991291,
           0.02128528638672422,
           -0.03405213150680122,
           0.008038946997700505,
           0.04018673242680755,
           0.028054534157992177,
           -0.0136866708594285,
           -0.0042553607532131235,
           -0.00405854370303448,
           0.0231931532815137,
           -0.03463308812573916,
           0.004091731188337669,
           0.05232987846272726,
           0.030515785084921993,
           0.027336047529116458,
           0.031901801584932575,
           0.016614541246611284,
           0.038332501406116916,
           0.05390422536164563,
           -0.002487186723069384,
           -0.01971004317318003,
           -0.00019308509360365414,
           -0.05046107895374306,
           -0.08100844940913864,
           -0.0865355119099926,
           0.16871509692190603,
           1,
           -0.07789399909417123,
           -0.04612364390267134,
           -0.8215413062523094,
           -0.005396006635057065,
           -0.049249381347622787,
           0.03626892180401725,
           -0.005396006635057065,
           -0.049249381347622787,
           0.03626892180401725,
           0.04704738445382409,
           -0.04607870935933913,
           -0.023382013778828033,
           -0.04582342914860994,
           0.03626892180401725,
           -0.024362522084202094,
           0.005097643361586055,
           0.06206434998902165,
           -0.042337889811421996
          ],
          [
           -0.12351414035673317,
           -0.009033787523018434,
           -0.006334950685478447,
           -0.014028632610500694,
           -0.01009950175063435,
           0.015278124359221138,
           0.009094030749941315,
           0.008760932841468507,
           0.030428715155623256,
           -0.005406948048564127,
           0.0529780681492047,
           -0.00018959964327008345,
           -0.0048149483424851655,
           0.009378614070904408,
           -0.01156881164728116,
           0.00368376041550235,
           0.001474215359698556,
           -0.022699587283550322,
           0.005647252093576431,
           0.0199244366707267,
           0.005271642073775807,
           0.02200062068934286,
           0.027704190159003387,
           0.015335592584893231,
           0.023003872611780603,
           -0.001499933404082579,
           -0.026258930420613825,
           0.005995386750609411,
           0.020854754556254552,
           -0.01236623091467875,
           -0.005615514450348906,
           -0.011430157378289682,
           0.02248374872700345,
           -0.07789399909417123,
           1,
           -0.020120655671105128,
           -0.358383430796876,
           0.014210868889165975,
           -0.023611283279576407,
           -0.010386483371927888,
           0.014210868889165975,
           -0.023611283279576407,
           -0.010386483371927888,
           0.018898181147678883,
           -0.018256709567789662,
           0.02396792962680632,
           0.011318370534835854,
           -0.010386483371927888,
           -0.03731820799596463,
           -0.011292254953826632,
           0.027702486193580993,
           -0.0026493712378600045
          ],
          [
           -0.05195826817418361,
           -0.016630954181584633,
           0.01920894363979674,
           -0.010471122107339775,
           0.005891990050799784,
           0.02009090860256566,
           0.025385484399333393,
           0.0075086228316703744,
           -0.006239797737451046,
           -0.002768088232673089,
           0.024605098847961235,
           0.007516510610883843,
           0.0011314705500321224,
           0.011478202755812876,
           0.005978820042757916,
           0.0062054699832250065,
           -0.0069490132160982725,
           0.009004117140853385,
           -0.014296848015247488,
           -0.00407287547911852,
           0.014284028506723348,
           0.039066729572419925,
           0.017982396975171212,
           -0.014881388484240256,
           -0.010434075925252173,
           0.0185801141043382,
           -0.020324527138284386,
           -0.0008604164582794305,
           -0.001931827814622845,
           -0.0033696391347233664,
           -0.0021014001000902024,
           -0.0220929537131653,
           -0.006536292516929376,
           -0.04612364390267134,
           -0.020120655671105128,
           1,
           -0.212210824131762,
           -0.011094452939395871,
           -0.007487604990508424,
           0.0003781211566283121,
           -0.011094452939395871,
           -0.007487604990508424,
           0.0003781211566283121,
           0.0038537354310409933,
           -0.025694858254443054,
           0.006066188238057734,
           0.009561396450956272,
           0.0003781211566283121,
           -0.01643415185621251,
           0.03438975147784564,
           0.0030635445665732094,
           -0.005666044030330988
          ],
          [
           0.19250290261874298,
           0.08180270848312324,
           -0.027061573687474364,
           -0.02355732521041702,
           -0.012006809144903033,
           -0.03132713844824961,
           -0.003271469617211689,
           0.004147472117121091,
           -0.030733645238953132,
           0.03288316210924633,
           -0.046406665486801675,
           -0.04083775570385224,
           -0.020015304632016305,
           0.0043381922727852105,
           0.006396895596257251,
           -0.0041404482097779855,
           -0.02163367157273103,
           0.032183456844743774,
           0.008528395736115994,
           -0.06076778311019205,
           -0.03515599623028826,
           -0.054310339954192446,
           -0.05200978447984325,
           -0.004977952725170658,
           -0.02957480516738683,
           -0.04472796392020781,
           0.021538967275354922,
           0.02254425071192409,
           -0.0012387886528193487,
           0.047612683154598094,
           0.07613660557732387,
           0.07825785137852916,
           -0.1399313423014905,
           -0.8215413062523094,
           -0.358383430796876,
           -0.212210824131762,
           1,
           0.008610105791468009,
           0.05210659672998899,
           -0.028069130141623582,
           0.008610105791468009,
           0.05210659672998899,
           -0.028069130141623582,
           -0.04602325635308475,
           0.061265144989883065,
           0.007644106204608064,
           0.029764633770951673,
           -0.028069130141623582,
           0.04019221543695912,
           -0.014497951560098102,
           -0.06407364818433896,
           0.03908418087556998
          ],
          [
           0.12078009429790261,
           -0.10152613207326,
           -0.23687734847768274,
           -0.02450005871111426,
           -0.07099447114484692,
           -0.07715594632133103,
           0.001150069283857163,
           -0.16682663742418383,
           0.11853700550569052,
           0.12256839304416337,
           -0.02961193343044774,
           -0.06234307484546948,
           -0.07490075144451615,
           -0.0011866808611149548,
           -0.03889911829741705,
           -0.05184421816988668,
           -0.0007979599204497907,
           -0.11830237683319879,
           0.4345348677442197,
           -0.24136826054937555,
           -0.024753982196108252,
           -0.22664579885040426,
           -0.18974889527739444,
           0.3687303369535202,
           0.3633222943566296,
           0.07030591092373514,
           -0.019404222790142672,
           0.2553002980139404,
           0.23287869771604627,
           0.02281162914805516,
           -0.05740327016003285,
           -0.05629959173078667,
           0.12232099165041371,
           -0.005396006635057065,
           0.014210868889165975,
           -0.011094452939395871,
           0.008610105791468009,
           1,
           -0.28958269300191564,
           -0.17716591316528735,
           1,
           -0.28958269300191564,
           -0.17716591316528735,
           0.6308678908167947,
           0.510590379204908,
           0.35382867351015085,
           -0.16458439647620424,
           -0.17716591316528735,
           -0.2240098247668947,
           -0.1974357439849339,
           0.30792087149653213,
           -0.0593971503732827
          ],
          [
           -0.013724796736417277,
           0.07363996290953251,
           -0.16803372831202407,
           0.0737341178416152,
           -0.07129414534220409,
           -0.0572916106420504,
           -0.039620405688556154,
           -0.05474835546230223,
           0.09642694612951523,
           0.13757260603034008,
           -0.09192832268384847,
           -0.09175419978588814,
           -0.017093359465408676,
           -0.009937473914629773,
           -0.024801306585247814,
           -0.04042351153657425,
           0.05854276027867261,
           0.1920847096735927,
           -0.12801034658073326,
           -0.18049601128396808,
           -0.0680234579898624,
           -0.2723282064217568,
           -0.38654553413665066,
           0.06955893140674498,
           -0.14187504560448805,
           -0.1171421421456836,
           -0.07041456252696517,
           0.09860704409595984,
           -0.06560147123552298,
           0.029077039986655683,
           0.05814449921938939,
           0.10452599057350268,
           -0.11347988796758703,
           -0.049249381347622787,
           -0.023611283279576407,
           -0.007487604990508424,
           0.05210659672998899,
           -0.28958269300191564,
           1,
           -0.11377909192591602,
           -0.28958269300191564,
           1,
           -0.11377909192591602,
           -0.18268842275116615,
           -0.14785813703102665,
           -0.10246266013636522,
           0.568350251771142,
           -0.11377909192591602,
           0.7735608176190747,
           -0.12679673681565098,
           -0.596855133873507,
           -0.1731492655593364
          ],
          [
           0.0469726803483009,
           -0.0016659113990845232,
           0.20205329296237307,
           0.032373123178535655,
           0.06487392468953179,
           -0.00681596763404667,
           -0.007748095585949267,
           0.06932071146830938,
           -0.010525430354593947,
           -0.00015923037471472494,
           -0.032205347074814296,
           0.0030786405439737125,
           0.03442942628358085,
           0.029327502838472713,
           0.011636625618188852,
           0.007011831488486321,
           -0.0006406085506768092,
           0.06948448565786727,
           -0.14083703261951733,
           0.5618047916449569,
           0.022598095917790224,
           0.016157749142362704,
           0.014135355766160878,
           -0.31892818440731474,
           -0.24624783947731088,
           -0.010119393348778828,
           0.05871300398286108,
           -0.2709288469909565,
           -0.21849113301899115,
           -0.042395011718487,
           -0.02190577443035794,
           -0.007828416362820872,
           -0.004169627628894543,
           0.03626892180401725,
           -0.010386483371927888,
           0.0003781211566283121,
           -0.028069130141623582,
           -0.17716591316528735,
           -0.11377909192591602,
           1,
           -0.17716591316528735,
           -0.11377909192591605,
           1,
           -0.11176828596321571,
           -0.09045921078524809,
           -0.06268638004648838,
           -0.06466637554238608,
           1,
           -0.08801504737816757,
           -0.07757390274761615,
           0.09892089107748021,
           0.0002573138737251449
          ],
          [
           0.12078009429790261,
           -0.10152613207326,
           -0.23687734847768274,
           -0.02450005871111426,
           -0.07099447114484692,
           -0.07715594632133103,
           0.001150069283857163,
           -0.16682663742418383,
           0.11853700550569052,
           0.12256839304416337,
           -0.02961193343044774,
           -0.06234307484546948,
           -0.07490075144451615,
           -0.0011866808611149548,
           -0.03889911829741705,
           -0.05184421816988668,
           -0.0007979599204497907,
           -0.11830237683319879,
           0.4345348677442197,
           -0.24136826054937555,
           -0.024753982196108252,
           -0.22664579885040426,
           -0.18974889527739444,
           0.3687303369535202,
           0.3633222943566296,
           0.07030591092373514,
           -0.019404222790142672,
           0.2553002980139404,
           0.23287869771604627,
           0.02281162914805516,
           -0.05740327016003285,
           -0.05629959173078667,
           0.12232099165041371,
           -0.005396006635057065,
           0.014210868889165975,
           -0.011094452939395871,
           0.008610105791468009,
           1,
           -0.28958269300191564,
           -0.17716591316528735,
           1,
           -0.28958269300191564,
           -0.17716591316528735,
           0.6308678908167947,
           0.510590379204908,
           0.35382867351015085,
           -0.16458439647620424,
           -0.17716591316528735,
           -0.2240098247668947,
           -0.1974357439849339,
           0.30792087149653213,
           -0.0593971503732827
          ],
          [
           -0.013724796736417277,
           0.07363996290953251,
           -0.16803372831202407,
           0.0737341178416152,
           -0.07129414534220409,
           -0.0572916106420504,
           -0.039620405688556154,
           -0.05474835546230223,
           0.09642694612951523,
           0.13757260603034008,
           -0.09192832268384847,
           -0.09175419978588814,
           -0.017093359465408676,
           -0.009937473914629773,
           -0.024801306585247814,
           -0.04042351153657425,
           0.05854276027867261,
           0.1920847096735927,
           -0.12801034658073326,
           -0.18049601128396808,
           -0.0680234579898624,
           -0.2723282064217568,
           -0.38654553413665066,
           0.06955893140674498,
           -0.14187504560448805,
           -0.1171421421456836,
           -0.07041456252696517,
           0.09860704409595984,
           -0.06560147123552298,
           0.029077039986655683,
           0.05814449921938939,
           0.10452599057350268,
           -0.11347988796758703,
           -0.049249381347622787,
           -0.023611283279576407,
           -0.007487604990508424,
           0.05210659672998899,
           -0.28958269300191564,
           1,
           -0.11377909192591605,
           -0.28958269300191564,
           1,
           -0.11377909192591602,
           -0.18268842275116615,
           -0.14785813703102665,
           -0.10246266013636522,
           0.568350251771142,
           -0.11377909192591602,
           0.7735608176190747,
           -0.12679673681565098,
           -0.596855133873507,
           -0.1731492655593364
          ],
          [
           0.0469726803483009,
           -0.0016659113990845232,
           0.20205329296237307,
           0.032373123178535655,
           0.06487392468953179,
           -0.00681596763404667,
           -0.007748095585949267,
           0.06932071146830938,
           -0.010525430354593947,
           -0.00015923037471472494,
           -0.032205347074814296,
           0.0030786405439737125,
           0.03442942628358085,
           0.029327502838472713,
           0.011636625618188852,
           0.007011831488486321,
           -0.0006406085506768092,
           0.06948448565786727,
           -0.14083703261951733,
           0.5618047916449569,
           0.022598095917790224,
           0.016157749142362704,
           0.014135355766160878,
           -0.31892818440731474,
           -0.24624783947731088,
           -0.010119393348778828,
           0.05871300398286108,
           -0.2709288469909565,
           -0.21849113301899115,
           -0.042395011718487,
           -0.02190577443035794,
           -0.007828416362820872,
           -0.004169627628894543,
           0.03626892180401725,
           -0.010386483371927888,
           0.0003781211566283121,
           -0.028069130141623582,
           -0.17716591316528735,
           -0.11377909192591602,
           1,
           -0.17716591316528735,
           -0.11377909192591602,
           1,
           -0.11176828596321571,
           -0.09045921078524809,
           -0.06268638004648838,
           -0.06466637554238608,
           1,
           -0.08801504737816757,
           -0.07757390274761615,
           0.09892089107748021,
           0.0002573138737251449
          ],
          [
           0.10913156652798094,
           -0.06437706091474779,
           -0.19018049888726318,
           -0.0459490692156049,
           -0.07129358188677823,
           -0.09871075207315883,
           -0.006597647893691322,
           -0.13515172978351359,
           0.1272071012416962,
           0.13568449301565644,
           -0.06164577986323405,
           -0.005785219390659783,
           -0.07173934911861515,
           0.04610609823201901,
           -0.023911002579527715,
           -0.03008953762733833,
           0.0003884158790832928,
           -0.07142229791484116,
           0.3343105997825031,
           -0.1838607337458734,
           -0.04772857963409049,
           -0.18020373581764684,
           -0.15610411475727506,
           0.2979814218346111,
           0.30973456201273275,
           0.14998988512166167,
           -0.006821530775924161,
           0.20012708369700732,
           0.17166278832575568,
           0.04348309579849809,
           -0.02191141949093969,
           -0.020059761513466896,
           0.04374026478640958,
           0.04704738445382409,
           0.018898181147678883,
           0.0038537354310409933,
           -0.04602325635308475,
           0.6308678908167947,
           -0.18268842275116615,
           -0.11176828596321571,
           0.6308678908167947,
           -0.18268842275116615,
           -0.11176828596321571,
           1,
           -0.14524505567712362,
           -0.10065184828623677,
           -0.10383101106629758,
           -0.11176828596321571,
           -0.1413206056729309,
           -0.12455587137961936,
           0.20819509238349843,
           -0.05132163981794071
          ],
          [
           0.15209542846383925,
           -0.08489867469137498,
           -0.12732862041009418,
           0.016636358791736933,
           -0.00554667379416251,
           0.006385915046005676,
           0.0231710622512051,
           -0.07258342715490677,
           -0.02403581745138565,
           0.09162971182605406,
           -0.07192241489114311,
           -0.06508560080690165,
           0.029205776508158907,
           -0.08275940318252276,
           -0.020068849949425628,
           -0.024029269763341517,
           0.00635103568670297,
           -0.08326105039432433,
           0.16324634352136716,
           -0.11679895223818478,
           0.02056878288656265,
           -0.13539042518847283,
           -0.11198027691524487,
           0.1883748818438181,
           0.1797038624318956,
           -0.04828710698576489,
           0.004115521708194521,
           0.1282667926154778,
           0.1324164190435566,
           -0.04435651554804482,
           -0.05708318323533937,
           -0.06120178657546184,
           0.10465848329317379,
           -0.04607870935933913,
           -0.018256709567789662,
           -0.025694858254443054,
           0.061265144989883065,
           0.510590379204908,
           -0.14785813703102665,
           -0.09045921078524809,
           0.510590379204908,
           -0.14785813703102665,
           -0.09045921078524809,
           -0.14524505567712362,
           1,
           -0.08146216685335941,
           -0.08403520940799618,
           -0.0904592107852481,
           -0.11437726137335438,
           -0.10080879138987064,
           0.12069018127806824,
           0.012358970786448537
          ],
          [
           -0.1332176798664237,
           0.009699371601151892,
           -0.01004262554081513,
           0.0002697061333121451,
           -0.024672585882153885,
           -0.009843916354863867,
           -0.018705419771234442,
           -0.02845081375191482,
           0.07356801968792465,
           -0.08945924027630411,
           0.13562533547789432,
           -0.03026795147599935,
           -0.0794066850747668,
           0.036821276536106715,
           -0.014485640929912365,
           -0.02585498357651827,
           -0.010926141126869795,
           -0.0158063385382405,
           0.13761778922410256,
           -0.04374112954061498,
           -0.0027753104395550807,
           0.006076812368272142,
           0.011582926612478166,
           0.025940858971193394,
           0.007870332607159589,
           -0.028987240976414898,
           -0.03465120156842433,
           0.030789735298428798,
           0.024446715822542174,
           0.0380083077929035,
           -0.005265034379983832,
           -0.00033258629548683894,
           0.03909577793074052,
           -0.023382013778828033,
           0.02396792962680632,
           0.006066188238057734,
           0.007644106204608064,
           0.35382867351015085,
           -0.10246266013636522,
           -0.06268638004648838,
           0.35382867351015085,
           -0.10246266013636522,
           -0.06268638004648838,
           -0.10065184828623677,
           -0.08146216685335941,
           1,
           -0.05823467868564376,
           -0.06268638004648838,
           -0.0792610991505121,
           -0.06985842739767913,
           0.1365263348053385,
           -0.057128532855824206
          ],
          [
           -0.005613917960047833,
           0.08259553340107084,
           -0.1172499642291282,
           0.055820746745042935,
           -0.05584858964280808,
           -0.05783387895150517,
           -0.035807875178622536,
           0.00007348272029098563,
           0.0721864016678547,
           0.08108709236252043,
           -0.03501719911189304,
           -0.049738979360351966,
           -0.005361707070383829,
           -0.012946875033179745,
           -0.017683260181377183,
           -0.02741331141885158,
           0.024638269974120445,
           0.0833690383029888,
           -0.10758599899524371,
           -0.11342835203409497,
           -0.06615271497733252,
           -0.16227887105963767,
           -0.2223941694252666,
           0.11584466511585018,
           0.027797037163663735,
           -0.05060843034861214,
           -0.04252923887295587,
           0.09697162006806863,
           0.0011121573816989156,
           -0.0049246512519862135,
           0.036981783669144126,
           0.0973916684795649,
           -0.0884299608134256,
           -0.04582342914860994,
           0.011318370534835854,
           0.009561396450956272,
           0.029764633770951673,
           -0.16458439647620424,
           0.568350251771142,
           -0.06466637554238608,
           -0.16458439647620424,
           0.568350251771142,
           -0.06466637554238608,
           -0.10383101106629758,
           -0.08403520940799618,
           -0.05823467868564376,
           1,
           -0.06466637554238608,
           -0.08176461936019018,
           -0.07206495729293427,
           -0.3392227656079083,
           -0.09840942867463673
          ],
          [
           0.0469726803483009,
           -0.0016659113990845232,
           0.20205329296237307,
           0.032373123178535655,
           0.06487392468953179,
           -0.00681596763404667,
           -0.007748095585949267,
           0.06932071146830938,
           -0.010525430354593947,
           -0.00015923037471472494,
           -0.032205347074814296,
           0.0030786405439737125,
           0.03442942628358085,
           0.029327502838472713,
           0.011636625618188852,
           0.007011831488486321,
           -0.0006406085506768092,
           0.06948448565786727,
           -0.14083703261951733,
           0.5618047916449569,
           0.022598095917790224,
           0.016157749142362704,
           0.014135355766160878,
           -0.31892818440731474,
           -0.24624783947731088,
           -0.010119393348778828,
           0.05871300398286108,
           -0.2709288469909565,
           -0.21849113301899115,
           -0.042395011718487,
           -0.02190577443035794,
           -0.007828416362820872,
           -0.004169627628894543,
           0.03626892180401725,
           -0.010386483371927888,
           0.0003781211566283121,
           -0.028069130141623582,
           -0.17716591316528735,
           -0.11377909192591602,
           1,
           -0.17716591316528735,
           -0.11377909192591602,
           1,
           -0.11176828596321571,
           -0.0904592107852481,
           -0.06268638004648838,
           -0.06466637554238608,
           1,
           -0.08801504737816757,
           -0.07757390274761615,
           0.09892089107748021,
           0.0002573138737251449
          ],
          [
           -0.01230109525233332,
           0.025584734057998576,
           -0.11323372509722313,
           0.04632110766214765,
           -0.04334409399410647,
           -0.024853553505662797,
           -0.020412948069025046,
           -0.06637395316154268,
           0.06120414856902624,
           0.10418895308120996,
           -0.0843831606721725,
           -0.07283331833845216,
           -0.01657573310360983,
           -0.0020655164499494066,
           -0.016422228214072614,
           -0.027851372792871677,
           0.051936817946335145,
           0.16846254676067854,
           -0.07219623485929218,
           -0.13127290181957627,
           -0.031445885910868165,
           -0.20488500170839855,
           -0.29693619403750887,
           -0.004967625036652179,
           -0.19326466060856484,
           -0.10291638133494242,
           -0.05253739846180952,
           0.04475499929534339,
           -0.08032046770041683,
           0.03901441247190272,
           0.04194724912484792,
           0.05160116461813964,
           -0.06934956562510788,
           -0.024362522084202094,
           -0.03731820799596463,
           -0.01643415185621251,
           0.04019221543695912,
           -0.2240098247668947,
           0.7735608176190747,
           -0.08801504737816757,
           -0.2240098247668947,
           0.7735608176190747,
           -0.08801504737816757,
           -0.1413206056729309,
           -0.11437726137335438,
           -0.0792610991505121,
           -0.08176461936019018,
           -0.08801504737816757,
           1,
           -0.09808498740254543,
           -0.46170374535933245,
           -0.13394148743622278
          ],
          [
           -0.08140825363227706,
           0.07741228656747144,
           0.18147737656401347,
           -0.04843716721582489,
           -0.016952676912411417,
           0.06669138314852383,
           0.03229308672700549,
           0.04795714741973942,
           -0.05237267921019766,
           -0.09838749365392796,
           0.04312421944776557,
           0.023134300554744032,
           -0.01645205085510238,
           -0.021441789923841832,
           0.00987711731436479,
           0.02085330586341454,
           -0.006677209960533501,
           0.1458684900134921,
           -0.05408614660757803,
           0.009810769969217405,
           0.02363121743136829,
           0.22410725896448752,
           0.23348934480769734,
           -0.3156416366343529,
           -0.2781334651337784,
           -0.05734534724287386,
           -0.04146547619716458,
           -0.15653784565756157,
           -0.15872016446193118,
           -0.009956327412590593,
           0.03974232744919748,
           0.03550177879580091,
           -0.03998446005532076,
           0.005097643361586055,
           -0.011292254953826632,
           0.03438975147784564,
           -0.014497951560098102,
           -0.1974357439849339,
           -0.12679673681565098,
           -0.07757390274761615,
           -0.1974357439849339,
           -0.12679673681565098,
           -0.07757390274761615,
           -0.12455587137961936,
           -0.10080879138987064,
           -0.06985842739767913,
           -0.07206495729293427,
           -0.07757390274761615,
           -0.09808498740254543,
           1,
           -0.4069322520139831,
           0.37971337986792303
          ],
          [
           -0.03018512042519385,
           -0.08610001875746916,
           0.0034967924822954712,
           -0.027075295396390614,
           0.054372114294307654,
           0.012313852707575203,
           0.0038078934115246283,
           0.01851873761745598,
           -0.019372415564652277,
           -0.036477151208889134,
           0.047550827625774214,
           0.058729174825828984,
           0.026028128356222896,
           0.025361707504512044,
           0.007485439200914713,
           -0.0006176852227779814,
           -0.033681736380433355,
           -0.24903919954225281,
           -0.0020626279355185806,
           0.12383394789678003,
           0.0014342831742395683,
           0.06776425274392131,
           0.1352403234949019,
           0.18069888083763452,
           0.30885055091849917,
           0.11529918662255656,
           0.0694165739104414,
           0.03894295993075612,
           0.16282919190253292,
           -0.014750190680421322,
           -0.05474513974342791,
           -0.08260071247169723,
           0.10520707451910861,
           0.06206434998902165,
           0.027702486193580993,
           0.0030635445665732094,
           -0.06407364818433896,
           0.30792087149653213,
           -0.596855133873507,
           0.09892089107748021,
           0.30792087149653213,
           -0.596855133873507,
           0.09892089107748021,
           0.20819509238349843,
           0.12069018127806824,
           0.1365263348053385,
           -0.3392227656079083,
           0.09892089107748021,
           -0.46170374535933245,
           -0.4069322520139831,
           1,
           -0.5556926963433567
          ],
          [
           0.05470661291316137,
           0.01429489653751589,
           0.1092993002737062,
           -0.02362030004774474,
           -0.002422240869350657,
           0.02460258108938531,
           0.025168439325650105,
           0.02997133662729487,
           -0.05725007966867296,
           -0.05449712707800588,
           0.022212174044081427,
           0.013141932515791365,
           -0.006503310336837321,
           -0.01788258906265599,
           0.01757244339870411,
           0.040570478148896465,
           -0.014167299818051616,
           0.07329161032424905,
           0.13962365898011847,
           0.01494807092073825,
           0.048574177627104004,
           0.12849619626681286,
           0.1621881596735914,
           -0.19993171780444866,
           -0.16636555322021343,
           -0.015513996591290732,
           -0.00198859002970311,
           -0.08697191185389573,
           -0.07433467227743953,
           0.015107372711771525,
           -0.0017857485186618886,
           -0.0013271080260349826,
           -0.01401844044996079,
           -0.042337889811421996,
           -0.0026493712378600045,
           -0.005666044030330988,
           0.03908418087556998,
           -0.0593971503732827,
           -0.1731492655593364,
           0.0002573138737251449,
           -0.0593971503732827,
           -0.1731492655593364,
           0.0002573138737251449,
           -0.05132163981794071,
           0.012358970786448537,
           -0.057128532855824206,
           -0.09840942867463673,
           0.0002573138737251449,
           -0.13394148743622278,
           0.37971337986792303,
           -0.5556926963433567,
           1
          ]
         ],
         "zmax": 1,
         "zmin": -1
        }
       ],
       "layout": {
        "autosize": false,
        "height": 800,
        "template": {
         "data": {
          "bar": [
           {
            "error_x": {
             "color": "#2a3f5f"
            },
            "error_y": {
             "color": "#2a3f5f"
            },
            "marker": {
             "line": {
              "color": "#E5ECF6",
              "width": 0.5
             },
             "pattern": {
              "fillmode": "overlay",
              "size": 10,
              "solidity": 0.2
             }
            },
            "type": "bar"
           }
          ],
          "barpolar": [
           {
            "marker": {
             "line": {
              "color": "#E5ECF6",
              "width": 0.5
             },
             "pattern": {
              "fillmode": "overlay",
              "size": 10,
              "solidity": 0.2
             }
            },
            "type": "barpolar"
           }
          ],
          "carpet": [
           {
            "aaxis": {
             "endlinecolor": "#2a3f5f",
             "gridcolor": "white",
             "linecolor": "white",
             "minorgridcolor": "white",
             "startlinecolor": "#2a3f5f"
            },
            "baxis": {
             "endlinecolor": "#2a3f5f",
             "gridcolor": "white",
             "linecolor": "white",
             "minorgridcolor": "white",
             "startlinecolor": "#2a3f5f"
            },
            "type": "carpet"
           }
          ],
          "choropleth": [
           {
            "colorbar": {
             "outlinewidth": 0,
             "ticks": ""
            },
            "type": "choropleth"
           }
          ],
          "contour": [
           {
            "colorbar": {
             "outlinewidth": 0,
             "ticks": ""
            },
            "colorscale": [
             [
              0,
              "#0d0887"
             ],
             [
              0.1111111111111111,
              "#46039f"
             ],
             [
              0.2222222222222222,
              "#7201a8"
             ],
             [
              0.3333333333333333,
              "#9c179e"
             ],
             [
              0.4444444444444444,
              "#bd3786"
             ],
             [
              0.5555555555555556,
              "#d8576b"
             ],
             [
              0.6666666666666666,
              "#ed7953"
             ],
             [
              0.7777777777777778,
              "#fb9f3a"
             ],
             [
              0.8888888888888888,
              "#fdca26"
             ],
             [
              1,
              "#f0f921"
             ]
            ],
            "type": "contour"
           }
          ],
          "contourcarpet": [
           {
            "colorbar": {
             "outlinewidth": 0,
             "ticks": ""
            },
            "type": "contourcarpet"
           }
          ],
          "heatmap": [
           {
            "colorbar": {
             "outlinewidth": 0,
             "ticks": ""
            },
            "colorscale": [
             [
              0,
              "#0d0887"
             ],
             [
              0.1111111111111111,
              "#46039f"
             ],
             [
              0.2222222222222222,
              "#7201a8"
             ],
             [
              0.3333333333333333,
              "#9c179e"
             ],
             [
              0.4444444444444444,
              "#bd3786"
             ],
             [
              0.5555555555555556,
              "#d8576b"
             ],
             [
              0.6666666666666666,
              "#ed7953"
             ],
             [
              0.7777777777777778,
              "#fb9f3a"
             ],
             [
              0.8888888888888888,
              "#fdca26"
             ],
             [
              1,
              "#f0f921"
             ]
            ],
            "type": "heatmap"
           }
          ],
          "heatmapgl": [
           {
            "colorbar": {
             "outlinewidth": 0,
             "ticks": ""
            },
            "colorscale": [
             [
              0,
              "#0d0887"
             ],
             [
              0.1111111111111111,
              "#46039f"
             ],
             [
              0.2222222222222222,
              "#7201a8"
             ],
             [
              0.3333333333333333,
              "#9c179e"
             ],
             [
              0.4444444444444444,
              "#bd3786"
             ],
             [
              0.5555555555555556,
              "#d8576b"
             ],
             [
              0.6666666666666666,
              "#ed7953"
             ],
             [
              0.7777777777777778,
              "#fb9f3a"
             ],
             [
              0.8888888888888888,
              "#fdca26"
             ],
             [
              1,
              "#f0f921"
             ]
            ],
            "type": "heatmapgl"
           }
          ],
          "histogram": [
           {
            "marker": {
             "pattern": {
              "fillmode": "overlay",
              "size": 10,
              "solidity": 0.2
             }
            },
            "type": "histogram"
           }
          ],
          "histogram2d": [
           {
            "colorbar": {
             "outlinewidth": 0,
             "ticks": ""
            },
            "colorscale": [
             [
              0,
              "#0d0887"
             ],
             [
              0.1111111111111111,
              "#46039f"
             ],
             [
              0.2222222222222222,
              "#7201a8"
             ],
             [
              0.3333333333333333,
              "#9c179e"
             ],
             [
              0.4444444444444444,
              "#bd3786"
             ],
             [
              0.5555555555555556,
              "#d8576b"
             ],
             [
              0.6666666666666666,
              "#ed7953"
             ],
             [
              0.7777777777777778,
              "#fb9f3a"
             ],
             [
              0.8888888888888888,
              "#fdca26"
             ],
             [
              1,
              "#f0f921"
             ]
            ],
            "type": "histogram2d"
           }
          ],
          "histogram2dcontour": [
           {
            "colorbar": {
             "outlinewidth": 0,
             "ticks": ""
            },
            "colorscale": [
             [
              0,
              "#0d0887"
             ],
             [
              0.1111111111111111,
              "#46039f"
             ],
             [
              0.2222222222222222,
              "#7201a8"
             ],
             [
              0.3333333333333333,
              "#9c179e"
             ],
             [
              0.4444444444444444,
              "#bd3786"
             ],
             [
              0.5555555555555556,
              "#d8576b"
             ],
             [
              0.6666666666666666,
              "#ed7953"
             ],
             [
              0.7777777777777778,
              "#fb9f3a"
             ],
             [
              0.8888888888888888,
              "#fdca26"
             ],
             [
              1,
              "#f0f921"
             ]
            ],
            "type": "histogram2dcontour"
           }
          ],
          "mesh3d": [
           {
            "colorbar": {
             "outlinewidth": 0,
             "ticks": ""
            },
            "type": "mesh3d"
           }
          ],
          "parcoords": [
           {
            "line": {
             "colorbar": {
              "outlinewidth": 0,
              "ticks": ""
             }
            },
            "type": "parcoords"
           }
          ],
          "pie": [
           {
            "automargin": true,
            "type": "pie"
           }
          ],
          "scatter": [
           {
            "fillpattern": {
             "fillmode": "overlay",
             "size": 10,
             "solidity": 0.2
            },
            "type": "scatter"
           }
          ],
          "scatter3d": [
           {
            "line": {
             "colorbar": {
              "outlinewidth": 0,
              "ticks": ""
             }
            },
            "marker": {
             "colorbar": {
              "outlinewidth": 0,
              "ticks": ""
             }
            },
            "type": "scatter3d"
           }
          ],
          "scattercarpet": [
           {
            "marker": {
             "colorbar": {
              "outlinewidth": 0,
              "ticks": ""
             }
            },
            "type": "scattercarpet"
           }
          ],
          "scattergeo": [
           {
            "marker": {
             "colorbar": {
              "outlinewidth": 0,
              "ticks": ""
             }
            },
            "type": "scattergeo"
           }
          ],
          "scattergl": [
           {
            "marker": {
             "colorbar": {
              "outlinewidth": 0,
              "ticks": ""
             }
            },
            "type": "scattergl"
           }
          ],
          "scattermapbox": [
           {
            "marker": {
             "colorbar": {
              "outlinewidth": 0,
              "ticks": ""
             }
            },
            "type": "scattermapbox"
           }
          ],
          "scatterpolar": [
           {
            "marker": {
             "colorbar": {
              "outlinewidth": 0,
              "ticks": ""
             }
            },
            "type": "scatterpolar"
           }
          ],
          "scatterpolargl": [
           {
            "marker": {
             "colorbar": {
              "outlinewidth": 0,
              "ticks": ""
             }
            },
            "type": "scatterpolargl"
           }
          ],
          "scatterternary": [
           {
            "marker": {
             "colorbar": {
              "outlinewidth": 0,
              "ticks": ""
             }
            },
            "type": "scatterternary"
           }
          ],
          "surface": [
           {
            "colorbar": {
             "outlinewidth": 0,
             "ticks": ""
            },
            "colorscale": [
             [
              0,
              "#0d0887"
             ],
             [
              0.1111111111111111,
              "#46039f"
             ],
             [
              0.2222222222222222,
              "#7201a8"
             ],
             [
              0.3333333333333333,
              "#9c179e"
             ],
             [
              0.4444444444444444,
              "#bd3786"
             ],
             [
              0.5555555555555556,
              "#d8576b"
             ],
             [
              0.6666666666666666,
              "#ed7953"
             ],
             [
              0.7777777777777778,
              "#fb9f3a"
             ],
             [
              0.8888888888888888,
              "#fdca26"
             ],
             [
              1,
              "#f0f921"
             ]
            ],
            "type": "surface"
           }
          ],
          "table": [
           {
            "cells": {
             "fill": {
              "color": "#EBF0F8"
             },
             "line": {
              "color": "white"
             }
            },
            "header": {
             "fill": {
              "color": "#C8D4E3"
             },
             "line": {
              "color": "white"
             }
            },
            "type": "table"
           }
          ]
         },
         "layout": {
          "annotationdefaults": {
           "arrowcolor": "#2a3f5f",
           "arrowhead": 0,
           "arrowwidth": 1
          },
          "autotypenumbers": "strict",
          "coloraxis": {
           "colorbar": {
            "outlinewidth": 0,
            "ticks": ""
           }
          },
          "colorscale": {
           "diverging": [
            [
             0,
             "#8e0152"
            ],
            [
             0.1,
             "#c51b7d"
            ],
            [
             0.2,
             "#de77ae"
            ],
            [
             0.3,
             "#f1b6da"
            ],
            [
             0.4,
             "#fde0ef"
            ],
            [
             0.5,
             "#f7f7f7"
            ],
            [
             0.6,
             "#e6f5d0"
            ],
            [
             0.7,
             "#b8e186"
            ],
            [
             0.8,
             "#7fbc41"
            ],
            [
             0.9,
             "#4d9221"
            ],
            [
             1,
             "#276419"
            ]
           ],
           "sequential": [
            [
             0,
             "#0d0887"
            ],
            [
             0.1111111111111111,
             "#46039f"
            ],
            [
             0.2222222222222222,
             "#7201a8"
            ],
            [
             0.3333333333333333,
             "#9c179e"
            ],
            [
             0.4444444444444444,
             "#bd3786"
            ],
            [
             0.5555555555555556,
             "#d8576b"
            ],
            [
             0.6666666666666666,
             "#ed7953"
            ],
            [
             0.7777777777777778,
             "#fb9f3a"
            ],
            [
             0.8888888888888888,
             "#fdca26"
            ],
            [
             1,
             "#f0f921"
            ]
           ],
           "sequentialminus": [
            [
             0,
             "#0d0887"
            ],
            [
             0.1111111111111111,
             "#46039f"
            ],
            [
             0.2222222222222222,
             "#7201a8"
            ],
            [
             0.3333333333333333,
             "#9c179e"
            ],
            [
             0.4444444444444444,
             "#bd3786"
            ],
            [
             0.5555555555555556,
             "#d8576b"
            ],
            [
             0.6666666666666666,
             "#ed7953"
            ],
            [
             0.7777777777777778,
             "#fb9f3a"
            ],
            [
             0.8888888888888888,
             "#fdca26"
            ],
            [
             1,
             "#f0f921"
            ]
           ]
          },
          "colorway": [
           "#636efa",
           "#EF553B",
           "#00cc96",
           "#ab63fa",
           "#FFA15A",
           "#19d3f3",
           "#FF6692",
           "#B6E880",
           "#FF97FF",
           "#FECB52"
          ],
          "font": {
           "color": "#2a3f5f"
          },
          "geo": {
           "bgcolor": "white",
           "lakecolor": "white",
           "landcolor": "#E5ECF6",
           "showlakes": true,
           "showland": true,
           "subunitcolor": "white"
          },
          "hoverlabel": {
           "align": "left"
          },
          "hovermode": "closest",
          "mapbox": {
           "style": "light"
          },
          "paper_bgcolor": "white",
          "plot_bgcolor": "#E5ECF6",
          "polar": {
           "angularaxis": {
            "gridcolor": "white",
            "linecolor": "white",
            "ticks": ""
           },
           "bgcolor": "#E5ECF6",
           "radialaxis": {
            "gridcolor": "white",
            "linecolor": "white",
            "ticks": ""
           }
          },
          "scene": {
           "xaxis": {
            "backgroundcolor": "#E5ECF6",
            "gridcolor": "white",
            "gridwidth": 2,
            "linecolor": "white",
            "showbackground": true,
            "ticks": "",
            "zerolinecolor": "white"
           },
           "yaxis": {
            "backgroundcolor": "#E5ECF6",
            "gridcolor": "white",
            "gridwidth": 2,
            "linecolor": "white",
            "showbackground": true,
            "ticks": "",
            "zerolinecolor": "white"
           },
           "zaxis": {
            "backgroundcolor": "#E5ECF6",
            "gridcolor": "white",
            "gridwidth": 2,
            "linecolor": "white",
            "showbackground": true,
            "ticks": "",
            "zerolinecolor": "white"
           }
          },
          "shapedefaults": {
           "line": {
            "color": "#2a3f5f"
           }
          },
          "ternary": {
           "aaxis": {
            "gridcolor": "white",
            "linecolor": "white",
            "ticks": ""
           },
           "baxis": {
            "gridcolor": "white",
            "linecolor": "white",
            "ticks": ""
           },
           "bgcolor": "#E5ECF6",
           "caxis": {
            "gridcolor": "white",
            "linecolor": "white",
            "ticks": ""
           }
          },
          "title": {
           "x": 0.05
          },
          "xaxis": {
           "automargin": true,
           "gridcolor": "white",
           "linecolor": "white",
           "ticks": "",
           "title": {
            "standoff": 15
           },
           "zerolinecolor": "white",
           "zerolinewidth": 2
          },
          "yaxis": {
           "automargin": true,
           "gridcolor": "white",
           "linecolor": "white",
           "ticks": "",
           "title": {
            "standoff": 15
           },
           "zerolinecolor": "white",
           "zerolinewidth": 2
          }
         }
        },
        "title": {
         "text": "knn_imputation - Korrelasjonsmatrise"
        },
        "width": 800,
        "xaxis": {
         "nticks": 52
        },
        "yaxis": {
         "nticks": 52
        }
       }
      }
     },
     "metadata": {},
     "output_type": "display_data"
    },
    {
     "name": "stderr",
     "output_type": "stream",
     "text": [
      "c:\\Users\\georg\\anaconda3\\envs\\INF161\\Lib\\site-packages\\sklearn\\metrics\\_regression.py:492: FutureWarning:\n",
      "\n",
      "'squared' is deprecated in version 1.4 and will be removed in 1.6. To calculate the root mean squared error, use the function'root_mean_squared_error'.\n",
      "\n"
     ]
    },
    {
     "name": "stdout",
     "output_type": "stream",
     "text": [
      "Random Forest: 23.42\n"
     ]
    },
    {
     "name": "stderr",
     "output_type": "stream",
     "text": [
      "c:\\Users\\georg\\anaconda3\\envs\\INF161\\Lib\\site-packages\\sklearn\\metrics\\_regression.py:492: FutureWarning:\n",
      "\n",
      "'squared' is deprecated in version 1.4 and will be removed in 1.6. To calculate the root mean squared error, use the function'root_mean_squared_error'.\n",
      "\n",
      "c:\\Users\\georg\\anaconda3\\envs\\INF161\\Lib\\site-packages\\sklearn\\metrics\\_regression.py:492: FutureWarning:\n",
      "\n",
      "'squared' is deprecated in version 1.4 and will be removed in 1.6. To calculate the root mean squared error, use the function'root_mean_squared_error'.\n",
      "\n",
      "c:\\Users\\georg\\anaconda3\\envs\\INF161\\Lib\\site-packages\\sklearn\\metrics\\_regression.py:492: FutureWarning:\n",
      "\n",
      "'squared' is deprecated in version 1.4 and will be removed in 1.6. To calculate the root mean squared error, use the function'root_mean_squared_error'.\n",
      "\n"
     ]
    },
    {
     "name": "stdout",
     "output_type": "stream",
     "text": [
      "Gradient Boosting: 23.31\n",
      "Decision Tree: 30.54\n",
      "Linear Regression: 23.45\n"
     ]
    },
    {
     "name": "stderr",
     "output_type": "stream",
     "text": [
      "c:\\Users\\georg\\anaconda3\\envs\\INF161\\Lib\\site-packages\\sklearn\\metrics\\_regression.py:492: FutureWarning:\n",
      "\n",
      "'squared' is deprecated in version 1.4 and will be removed in 1.6. To calculate the root mean squared error, use the function'root_mean_squared_error'.\n",
      "\n",
      "c:\\Users\\georg\\anaconda3\\envs\\INF161\\Lib\\site-packages\\sklearn\\metrics\\_regression.py:492: FutureWarning:\n",
      "\n",
      "'squared' is deprecated in version 1.4 and will be removed in 1.6. To calculate the root mean squared error, use the function'root_mean_squared_error'.\n",
      "\n"
     ]
    },
    {
     "name": "stdout",
     "output_type": "stream",
     "text": [
      "Polynomial Regression: 115506436403.06\n",
      "Ridge Regression: 23.44\n",
      "knn_imputation - Best Model: Gradient Boosting\n",
      "knn_imputation - Validation RMSE: 23.31\n",
      "knn_imputation - Within 10 diff: 64.62%\n",
      "knn_imputation - Full Dataset RMSE: 18.55\n",
      "knn_imputation - Within 10 diff (Full Dataset): 67.05%\n"
     ]
    },
    {
     "name": "stderr",
     "output_type": "stream",
     "text": [
      "c:\\Users\\georg\\anaconda3\\envs\\INF161\\Lib\\site-packages\\sklearn\\metrics\\_regression.py:492: FutureWarning:\n",
      "\n",
      "'squared' is deprecated in version 1.4 and will be removed in 1.6. To calculate the root mean squared error, use the function'root_mean_squared_error'.\n",
      "\n"
     ]
    },
    {
     "data": {
      "application/vnd.plotly.v1+json": {
       "config": {
        "plotlyServerURL": "https://plot.ly"
       },
       "data": [
        {
         "type": "heatmap",
         "x": [
          "alder",
          "utdanning",
          "sykehusdød",
          "blodtrykk",
          "hvite_blodlegemer",
          "hjertefrekvens",
          "respirasjonsfrekvens",
          "kroppstemperatur",
          "lungefunksjon",
          "serumalbumin",
          "bilirubin",
          "kreatinin",
          "natrium",
          "blod_ph",
          "glukose",
          "blodurea_nitrogen",
          "urinmengde",
          "dødsfall",
          "antall_komorbiditeter",
          "koma_score",
          "adl_stedfortreder",
          "fysiologisk_score",
          "apache_fysiologisk_score",
          "overlevelsesestimat_2mnd",
          "overlevelsesestimat_6mnd",
          "diabetes",
          "demens",
          "lege_overlevelsesestimat_2mnd",
          "lege_overlevelsesestimat_6mnd"
         ],
         "y": [
          "alder",
          "utdanning",
          "sykehusdød",
          "blodtrykk",
          "hvite_blodlegemer",
          "hjertefrekvens",
          "respirasjonsfrekvens",
          "kroppstemperatur",
          "lungefunksjon",
          "serumalbumin",
          "bilirubin",
          "kreatinin",
          "natrium",
          "blod_ph",
          "glukose",
          "blodurea_nitrogen",
          "urinmengde",
          "dødsfall",
          "antall_komorbiditeter",
          "koma_score",
          "adl_stedfortreder",
          "fysiologisk_score",
          "apache_fysiologisk_score",
          "overlevelsesestimat_2mnd",
          "overlevelsesestimat_6mnd",
          "diabetes",
          "demens",
          "lege_overlevelsesestimat_2mnd",
          "lege_overlevelsesestimat_6mnd"
         ],
         "z": [
          [
           1,
           -0.12286749268854281,
           0.040476951484547045,
           -0.03915868305518392,
           0.0020243363046296135,
           -0.137382819336006,
           -0.017053146211615744,
           -0.09538469251592005,
           0.019159308787779876,
           0.0023921522635200906,
           -0.12558735012803043,
           0.0036563716459309926,
           0.0157770277049918,
           0.013759713433225775,
           0.013235179368323177,
           0.02487928566754674,
           -0.01733643848667054,
           0.18038483654488208,
           0.1297297701688885,
           0.011990015162198834,
           0.07222730782284253,
           -0.11870426194275767,
           -0.032132970581235,
           -0.15595419519269313,
           -0.19524826335511175,
           0.094858986159418,
           0.1978181948528905,
           -0.051503016323680706,
           -0.09069721457901249
          ],
          [
           -0.12286749268854281,
           1,
           -0.09405088859189063,
           0.00261134369971748,
           -0.024344645018079827,
           -0.004177260893575756,
           -0.02220078226220975,
           -0.007160277479672733,
           -0.021173147739567136,
           0.010538779129905985,
           0.015073961252546926,
           0.0019569672517772982,
           -0.012288739545149292,
           -0.03674914925905487,
           0.049540893617338495,
           0.04813388870485514,
           0.03709393603384308,
           -0.05631019621855961,
           -0.024166525722888636,
           -0.09875569327436022,
           0.07102517589522245,
           -0.05400497046998447,
           -0.0667893967527763,
           0.09209103952672548,
           0.07709556065999723,
           -0.026858389723155976,
           -0.06190199474429742,
           0.11619330903773606,
           0.10310775180539453
          ],
          [
           0.040476951484547045,
           -0.09405088859189063,
           1,
           -0.08752894017164899,
           0.08363861349336223,
           0.0924064045625286,
           0.019893000914114167,
           0.062467706257655,
           0.02495114781098991,
           -0.050887966239082594,
           0.14723785981688364,
           0.10141271417583261,
           0.023909837492450573,
           0.1179192451080565,
           -0.008161571734888993,
           0.006807471626845207,
           -0.01989080220321242,
           0.4033659956251786,
           -0.0809355817424367,
           0.3817949869055247,
           0.05094942190799444,
           0.4688638653364822,
           0.47959363102975755,
           -0.5640062015157723,
           -0.5042443648871296,
           -0.01920731961377726,
           0.02422895496981598,
           -0.36991012330855216,
           -0.3459020375531091
          ],
          [
           -0.03915868305518392,
           0.00261134369971748,
           -0.08752894017164899,
           1,
           -0.03366607940390971,
           0.07218455310542876,
           0.07217655629785134,
           -0.003456446211272317,
           0.062268459211262374,
           0.03965230439335018,
           -0.0791137566788665,
           -0.09357145984504499,
           0.06677143163479594,
           -0.012732645338237761,
           0.043314464206476826,
           -0.06196600420085671,
           0.0780708166815615,
           -0.02596075782479218,
           -0.013602483927293274,
           -0.05670912373543327,
           0.02682603725203627,
           -0.21228086913184394,
           -0.16945249978089777,
           0.1565866756896592,
           0.13458688622043613,
           -0.0024240124606405454,
           0.005835184429224562,
           0.07556538034356357,
           0.07245012034774898
          ],
          [
           0.0020243363046296135,
           -0.024344645018079827,
           0.08363861349336223,
           -0.03366607940390971,
           1,
           0.12628641014644332,
           0.024804056438488944,
           0.1024990844059791,
           0.07059782184570794,
           -0.006372505684073008,
           0.07504160110591436,
           0.12112100621139273,
           0.0029733312560603366,
           0.20553592595096884,
           0.0665873353546768,
           0.1104333841640777,
           -0.00752989452289281,
           -0.004532804238728345,
           -0.010100342794359875,
           0.08023844258895645,
           -0.0020830027482549814,
           0.12811407751165096,
           0.11249263724301303,
           -0.10559070535857595,
           -0.08358412064748809,
           0.026518411873626035,
           0.004384931584369713,
           -0.06636030469083613,
           -0.04487036352350711
          ],
          [
           -0.137382819336006,
           -0.004177260893575756,
           0.0924064045625286,
           0.07218455310542876,
           0.12628641014644332,
           1,
           0.21416798097061882,
           0.26383108425288326,
           0.06214613078139435,
           0.0002877037800274424,
           0.09915947180048093,
           0.0105294626725023,
           0.027730731798197114,
           0.1993200717006643,
           0.015039233023692476,
           0.006037670568495601,
           0.031097961275449643,
           -0.0033732439084007177,
           -0.06802918227443715,
           0.02282113923407513,
           0.015497289648446048,
           0.13355913171367437,
           0.15227425493311597,
           -0.11876975671959317,
           -0.11027568022632768,
           -0.06636668315898493,
           -0.027388332006809447,
           -0.06092004336817969,
           -0.04382494490983215
          ],
          [
           -0.017053146211615744,
           -0.02220078226220975,
           0.019893000914114167,
           0.07217655629785134,
           0.024804056438488944,
           0.21416798097061882,
           1,
           0.07681270925329911,
           0.031162956230657398,
           0.002227219833139363,
           0.02647102759877946,
           -0.03475506122727607,
           0.025222353546131976,
           0.09660564646580554,
           -0.024972327561808446,
           -0.0223872490935972,
           -0.01849506053767111,
           0.007467089722202525,
           0.005236290796543093,
           -0.001403803280597339,
           0.0029136543917565884,
           0.046766398688197944,
           0.1087357466756462,
           -0.04800073000881247,
           -0.043830529316373934,
           -0.03660184848757685,
           0.0077512788380473055,
           -0.019898738712794323,
           -0.01792777171626319
          ],
          [
           -0.09538469251592005,
           -0.007160277479672733,
           0.062467706257655,
           -0.003456446211272317,
           0.1024990844059791,
           0.26383108425288326,
           0.07681270925329911,
           1,
           0.030527242287804637,
           -0.04934290690438824,
           0.02137629435888282,
           0.0018425666383327251,
           0.11040771024978636,
           0.17830685462402404,
           0.031200450976948874,
           -0.006300498669483638,
           0.0858720299594559,
           -0.025755738525934952,
           -0.10938128600791361,
           0.09718634002384317,
           -0.011808387028541357,
           0.0605078801676737,
           0.07779032485819938,
           -0.06899615201033933,
           -0.04357300895163096,
           -0.015079117983468508,
           -0.00357197327673661,
           -0.054877358661787494,
           -0.036495256916732215
          ],
          [
           0.019159308787779876,
           -0.021173147739567136,
           0.02495114781098991,
           0.062268459211262374,
           0.07059782184570794,
           0.06214613078139435,
           0.031162956230657398,
           0.030527242287804637,
           1,
           -0.016850445842737205,
           0.004370896574825435,
           0.08507156325926668,
           0.06635994258601356,
           0.7301732207819632,
           0.039423195711658136,
           0.04746467319863571,
           -0.019019619092630405,
           -0.04212784529617674,
           0.04092749770327536,
           0.06071721661129648,
           0.044998853969750244,
           0.014226673455510258,
           0.05209319019937119,
           0.006838030376849495,
           0.045368771990017535,
           0.046516501787536566,
           0.012404120810703554,
           -0.006992234772667003,
           0.019933063625124047
          ],
          [
           0.0023921522635200906,
           0.010538779129905985,
           -0.050887966239082594,
           0.03965230439335018,
           -0.006372505684073008,
           0.0002877037800274424,
           0.002227219833139363,
           -0.04934290690438824,
           -0.016850445842737205,
           1,
           0.07757108237583328,
           -0.0018687958700567445,
           -0.0036586228752458275,
           -0.036735641911485636,
           -0.03968957050562965,
           -0.04407607474546571,
           -0.0452642253612157,
           -0.016877695135807006,
           0.03823320111725511,
           -0.04222106310041533,
           -0.0011649440234929778,
           -0.05662207683640639,
           -0.009565823009568422,
           0.051619560482623,
           0.05157226090845207,
           -0.005086241273086935,
           -0.0036624490832042325,
           0.06532014689114655,
           0.05495480954763857
          ],
          [
           -0.12558735012803043,
           0.015073961252546926,
           0.14723785981688364,
           -0.0791137566788665,
           0.07504160110591436,
           0.09915947180048093,
           0.02647102759877946,
           0.02137629435888282,
           0.004370896574825435,
           0.07757108237583328,
           1,
           0.1701002487404852,
           0.03084566969462891,
           0.046872474962549496,
           -0.008176377600538859,
           0.11641745923089869,
           -0.03671125983187024,
           0.026625039222574063,
           0.003255014732940028,
           0.09451722529681143,
           -0.004736311836248531,
           0.23085560903066316,
           0.23144394497563067,
           -0.18489232203288986,
           -0.16846780232978595,
           -0.03978714337460596,
           -0.03560185668961332,
           -0.08868092400962758,
           -0.08021626525193323
          ],
          [
           0.0036563716459309926,
           0.0019569672517772982,
           0.10141271417583261,
           -0.09357145984504499,
           0.12112100621139273,
           0.0105294626725023,
           -0.03475506122727607,
           0.0018425666383327251,
           0.08507156325926668,
           -0.0018687958700567445,
           0.1701002487404852,
           1,
           0.019666890780732162,
           0.13634363457086468,
           0.04185779539776606,
           0.38906149994666706,
           -0.114541377008273,
           0.021691930684939135,
           0.03221764112451068,
           0.0707522402987743,
           -0.013292894665655084,
           0.18619031545777057,
           0.24118992580204043,
           -0.14852875807233132,
           -0.12213506227883147,
           0.0586337134540694,
           -0.0051554034201031895,
           -0.06050833896782532,
           -0.04691892323723931
          ],
          [
           0.0157770277049918,
           -0.012288739545149292,
           0.023909837492450573,
           0.06677143163479594,
           0.0029733312560603366,
           0.027730731798197114,
           0.025222353546131976,
           0.11040771024978636,
           0.06635994258601356,
           -0.0036586228752458275,
           0.03084566969462891,
           0.019666890780732162,
           1,
           0.12271320405226066,
           0.04420370248371383,
           0.08941898745236686,
           0.044906048655199086,
           -0.019915017727150243,
           -0.02634416553142343,
           0.07868146462819202,
           0.010791801699177168,
           -0.010507368388901662,
           0.034465276520411106,
           -0.010486723488186049,
           0.00811980244214841,
           0.009267689946876958,
           0.033035384634412523,
           -0.003935235696204316,
           0.0074307606626081634
          ],
          [
           0.013759713433225775,
           -0.03674914925905487,
           0.1179192451080565,
           -0.012732645338237761,
           0.20553592595096884,
           0.1993200717006643,
           0.09660564646580554,
           0.17830685462402404,
           0.7301732207819632,
           -0.036735641911485636,
           0.046872474962549496,
           0.13634363457086468,
           0.12271320405226066,
           1,
           0.08276320158937345,
           0.10442750058429905,
           0.017916418704080495,
           -0.052965858613768874,
           -0.0026252466727014518,
           0.10993873464508425,
           0.0357959023142861,
           0.17209521539401076,
           0.19025364285407048,
           -0.11846306182198377,
           -0.053656445908417096,
           0.034933977986463215,
           0.019409184863267873,
           -0.059248595027920924,
           -0.012960799619471382
          ],
          [
           0.013235179368323177,
           0.049540893617338495,
           -0.008161571734888993,
           0.043314464206476826,
           0.0665873353546768,
           0.015039233023692476,
           -0.024972327561808446,
           0.031200450976948874,
           0.039423195711658136,
           -0.03968957050562965,
           -0.008176377600538859,
           0.04185779539776606,
           0.04420370248371383,
           0.08276320158937345,
           1,
           0.5537593125833123,
           0.5067727270809271,
           -0.09416226276300255,
           0.03836886101229706,
           0.025457795500550162,
           0.014138987740184466,
           0.011022307385442895,
           0.04343828694564335,
           -0.01617386904829658,
           -0.005737146021067964,
           0.049130014398654505,
           0.025513104970785377,
           0.04609351618536277,
           0.060868843631491316
          ],
          [
           0.02487928566754674,
           0.04813388870485514,
           0.006807471626845207,
           -0.06196600420085671,
           0.1104333841640777,
           0.006037670568495601,
           -0.0223872490935972,
           -0.006300498669483638,
           0.04746467319863571,
           -0.04407607474546571,
           0.11641745923089869,
           0.38906149994666706,
           0.08941898745236686,
           0.10442750058429905,
           0.5537593125833123,
           1,
           0.3264876429045175,
           -0.07327651902793697,
           0.05123928992394739,
           0.024640802904589174,
           0.0072291292755360045,
           0.03852678474438613,
           0.06916598699217404,
           -0.04230772636179204,
           -0.03296034549686269,
           0.04595583724022829,
           0.014405659645640232,
           0.043514310635954005,
           0.05649041719732322
          ],
          [
           -0.01733643848667054,
           0.03709393603384308,
           -0.01989080220321242,
           0.0780708166815615,
           -0.00752989452289281,
           0.031097961275449643,
           -0.01849506053767111,
           0.0858720299594559,
           -0.019019619092630405,
           -0.0452642253612157,
           -0.03671125983187024,
           -0.114541377008273,
           0.044906048655199086,
           0.017916418704080495,
           0.5067727270809271,
           0.3264876429045175,
           1,
           -0.08720520206654132,
           0.019124695737278596,
           0.017209200960821965,
           -0.0056670489568943815,
           -0.0018687796307464658,
           0.006289939145376822,
           -0.00027033447507397235,
           0.004767464742908066,
           0.01793421036061167,
           -0.006379980430908323,
           0.05620711988772806,
           0.06779480550504942
          ],
          [
           0.18038483654488208,
           -0.05631019621855961,
           0.4033659956251786,
           -0.02596075782479218,
           -0.004532804238728345,
           -0.0033732439084007177,
           0.007467089722202525,
           -0.025755738525934952,
           -0.04212784529617674,
           -0.016877695135807006,
           0.026625039222574063,
           0.021691930684939135,
           -0.019915017727150243,
           -0.052965858613768874,
           -0.09416226276300255,
           -0.07327651902793697,
           -0.08720520206654132,
           1,
           0.05677550992546858,
           0.13643446222851086,
           0.09048930081138037,
           0.15731461518755716,
           0.15826461117626212,
           -0.3261751765784931,
           -0.3793702863248929,
           0.005251329039053851,
           0.03885505398486532,
           -0.20821608195143346,
           -0.28458515248948063
          ],
          [
           0.1297297701688885,
           -0.024166525722888636,
           -0.0809355817424367,
           -0.013602483927293274,
           -0.010100342794359875,
           -0.06802918227443715,
           0.005236290796543093,
           -0.10938128600791361,
           0.04092749770327536,
           0.03823320111725511,
           0.003255014732940028,
           0.03221764112451068,
           -0.02634416553142343,
           -0.0026252466727014518,
           0.03836886101229706,
           0.05123928992394739,
           0.019124695737278596,
           0.05677550992546858,
           1,
           -0.12673193482884296,
           0.1040662025978713,
           -0.05561784032729177,
           0.013853523987550754,
           0.10602781951716267,
           0.09410692619352021,
           0.389890526488137,
           0.13865141083286206,
           0.07001404951786629,
           0.050262905161748875
          ],
          [
           0.011990015162198834,
           -0.09875569327436022,
           0.3817949869055247,
           -0.05670912373543327,
           0.08023844258895645,
           0.02282113923407513,
           -0.001403803280597339,
           0.09718634002384317,
           0.06071721661129648,
           -0.04222106310041533,
           0.09451722529681143,
           0.0707522402987743,
           0.07868146462819202,
           0.10993873464508425,
           0.025457795500550162,
           0.024640802904589174,
           0.017209200960821965,
           0.13643446222851086,
           -0.12673193482884296,
           1,
           0.042990525213195664,
           0.28790583422656285,
           0.2892782680695248,
           -0.5960529941258196,
           -0.5046911720322793,
           -0.0028524535754236064,
           0.07513770581774179,
           -0.2984971620188539,
           -0.2575109039582892
          ],
          [
           0.07222730782284253,
           0.07102517589522245,
           0.05094942190799444,
           0.02682603725203627,
           -0.0020830027482549814,
           0.015497289648446048,
           0.0029136543917565884,
           -0.011808387028541357,
           0.044998853969750244,
           -0.0011649440234929778,
           -0.004736311836248531,
           -0.013292894665655084,
           0.010791801699177168,
           0.0357959023142861,
           0.014138987740184466,
           0.0072291292755360045,
           -0.0056670489568943815,
           0.09048930081138037,
           0.1040662025978713,
           0.042990525213195664,
           1,
           0.05245199263673536,
           0.06290703231094456,
           -0.0698715421578107,
           -0.06876325942905596,
           0.06518381298934484,
           0.14909428198669206,
           -0.022582909220622897,
           -0.03534240055751159
          ],
          [
           -0.11870426194275767,
           -0.05400497046998447,
           0.4688638653364822,
           -0.21228086913184394,
           0.12811407751165096,
           0.13355913171367437,
           0.046766398688197944,
           0.0605078801676737,
           0.014226673455510258,
           -0.05662207683640639,
           0.23085560903066316,
           0.18619031545777057,
           -0.010507368388901662,
           0.17209521539401076,
           0.011022307385442895,
           0.03852678474438613,
           -0.0018687796307464658,
           0.15731461518755716,
           -0.05561784032729177,
           0.28790583422656285,
           0.05245199263673536,
           1,
           0.7990801123386913,
           -0.7581244972362323,
           -0.6842932153797899,
           0.008527871741297731,
           -0.012156291547702945,
           -0.29625619062558595,
           -0.25024632273905745
          ],
          [
           -0.032132970581235,
           -0.0667893967527763,
           0.47959363102975755,
           -0.16945249978089777,
           0.11249263724301303,
           0.15227425493311597,
           0.1087357466756462,
           0.07779032485819938,
           0.05209319019937119,
           -0.009565823009568422,
           0.23144394497563067,
           0.24118992580204043,
           0.034465276520411106,
           0.19025364285407048,
           0.04343828694564335,
           0.06916598699217404,
           0.006289939145376822,
           0.15826461117626212,
           0.013853523987550754,
           0.2892782680695248,
           0.06290703231094456,
           0.7990801123386913,
           1,
           -0.6547577202976425,
           -0.5560729462362776,
           0.08366768064550555,
           0.009770388310752465,
           -0.28666411773017353,
           -0.2287694105475617
          ],
          [
           -0.15595419519269313,
           0.09209103952672548,
           -0.5640062015157723,
           0.1565866756896592,
           -0.10559070535857595,
           -0.11876975671959317,
           -0.04800073000881247,
           -0.06899615201033933,
           0.006838030376849495,
           0.051619560482623,
           -0.18489232203288986,
           -0.14852875807233132,
           -0.010486723488186049,
           -0.11846306182198377,
           -0.01617386904829658,
           -0.04230772636179204,
           -0.00027033447507397235,
           -0.3261751765784931,
           0.10602781951716267,
           -0.5960529941258196,
           -0.0698715421578107,
           -0.7581244972362323,
           -0.6547577202976425,
           1,
           0.9604599286612453,
           0.030562715990085722,
           -0.0496802156781888,
           0.405961076073556,
           0.4005885212055293
          ],
          [
           -0.19524826335511175,
           0.07709556065999723,
           -0.5042443648871296,
           0.13458688622043613,
           -0.08358412064748809,
           -0.11027568022632768,
           -0.043830529316373934,
           -0.04357300895163096,
           0.045368771990017535,
           0.05157226090845207,
           -0.16846780232978595,
           -0.12213506227883147,
           0.00811980244214841,
           -0.053656445908417096,
           -0.005737146021067964,
           -0.03296034549686269,
           0.004767464742908066,
           -0.3793702863248929,
           0.09410692619352021,
           -0.5046911720322793,
           -0.06876325942905596,
           -0.6842932153797899,
           -0.5560729462362776,
           0.9604599286612453,
           1,
           0.05307521487990728,
           -0.03994549547214809,
           0.384380353350126,
           0.4140600823352441
          ],
          [
           0.094858986159418,
           -0.026858389723155976,
           -0.01920731961377726,
           -0.0024240124606405454,
           0.026518411873626035,
           -0.06636668315898493,
           -0.03660184848757685,
           -0.015079117983468508,
           0.046516501787536566,
           -0.005086241273086935,
           -0.03978714337460596,
           0.0586337134540694,
           0.009267689946876958,
           0.034933977986463215,
           0.049130014398654505,
           0.04595583724022829,
           0.01793421036061167,
           0.005251329039053851,
           0.389890526488137,
           -0.0028524535754236064,
           0.06518381298934484,
           0.008527871741297731,
           0.08366768064550555,
           0.030562715990085722,
           0.05307521487990728,
           1,
           0.025707417629028822,
           0.0354902559327897,
           0.04305419458802323
          ],
          [
           0.1978181948528905,
           -0.06190199474429742,
           0.02422895496981598,
           0.005835184429224562,
           0.004384931584369713,
           -0.027388332006809447,
           0.0077512788380473055,
           -0.00357197327673661,
           0.012404120810703554,
           -0.0036624490832042325,
           -0.03560185668961332,
           -0.0051554034201031895,
           0.033035384634412523,
           0.019409184863267873,
           0.025513104970785377,
           0.014405659645640232,
           -0.006379980430908323,
           0.03885505398486532,
           0.13865141083286206,
           0.07513770581774179,
           0.14909428198669206,
           -0.012156291547702945,
           0.009770388310752465,
           -0.0496802156781888,
           -0.03994549547214809,
           0.025707417629028822,
           1,
           -0.014452432983569677,
           -0.022634930810060433
          ],
          [
           -0.051503016323680706,
           0.11619330903773606,
           -0.36991012330855216,
           0.07556538034356357,
           -0.06636030469083613,
           -0.06092004336817969,
           -0.019898738712794323,
           -0.054877358661787494,
           -0.006992234772667003,
           0.06532014689114655,
           -0.08868092400962758,
           -0.06050833896782532,
           -0.003935235696204316,
           -0.059248595027920924,
           0.04609351618536277,
           0.043514310635954005,
           0.05620711988772806,
           -0.20821608195143346,
           0.07001404951786629,
           -0.2984971620188539,
           -0.022582909220622897,
           -0.29625619062558595,
           -0.28666411773017353,
           0.405961076073556,
           0.384380353350126,
           0.0354902559327897,
           -0.014452432983569677,
           1,
           0.9274773570528415
          ],
          [
           -0.09069721457901249,
           0.10310775180539453,
           -0.3459020375531091,
           0.07245012034774898,
           -0.04487036352350711,
           -0.04382494490983215,
           -0.01792777171626319,
           -0.036495256916732215,
           0.019933063625124047,
           0.05495480954763857,
           -0.08021626525193323,
           -0.04691892323723931,
           0.0074307606626081634,
           -0.012960799619471382,
           0.060868843631491316,
           0.05649041719732322,
           0.06779480550504942,
           -0.28458515248948063,
           0.050262905161748875,
           -0.2575109039582892,
           -0.03534240055751159,
           -0.25024632273905745,
           -0.2287694105475617,
           0.4005885212055293,
           0.4140600823352441,
           0.04305419458802323,
           -0.022634930810060433,
           0.9274773570528415,
           1
          ]
         ],
         "zmax": 1,
         "zmin": -1
        }
       ],
       "layout": {
        "autosize": false,
        "height": 800,
        "template": {
         "data": {
          "bar": [
           {
            "error_x": {
             "color": "#2a3f5f"
            },
            "error_y": {
             "color": "#2a3f5f"
            },
            "marker": {
             "line": {
              "color": "#E5ECF6",
              "width": 0.5
             },
             "pattern": {
              "fillmode": "overlay",
              "size": 10,
              "solidity": 0.2
             }
            },
            "type": "bar"
           }
          ],
          "barpolar": [
           {
            "marker": {
             "line": {
              "color": "#E5ECF6",
              "width": 0.5
             },
             "pattern": {
              "fillmode": "overlay",
              "size": 10,
              "solidity": 0.2
             }
            },
            "type": "barpolar"
           }
          ],
          "carpet": [
           {
            "aaxis": {
             "endlinecolor": "#2a3f5f",
             "gridcolor": "white",
             "linecolor": "white",
             "minorgridcolor": "white",
             "startlinecolor": "#2a3f5f"
            },
            "baxis": {
             "endlinecolor": "#2a3f5f",
             "gridcolor": "white",
             "linecolor": "white",
             "minorgridcolor": "white",
             "startlinecolor": "#2a3f5f"
            },
            "type": "carpet"
           }
          ],
          "choropleth": [
           {
            "colorbar": {
             "outlinewidth": 0,
             "ticks": ""
            },
            "type": "choropleth"
           }
          ],
          "contour": [
           {
            "colorbar": {
             "outlinewidth": 0,
             "ticks": ""
            },
            "colorscale": [
             [
              0,
              "#0d0887"
             ],
             [
              0.1111111111111111,
              "#46039f"
             ],
             [
              0.2222222222222222,
              "#7201a8"
             ],
             [
              0.3333333333333333,
              "#9c179e"
             ],
             [
              0.4444444444444444,
              "#bd3786"
             ],
             [
              0.5555555555555556,
              "#d8576b"
             ],
             [
              0.6666666666666666,
              "#ed7953"
             ],
             [
              0.7777777777777778,
              "#fb9f3a"
             ],
             [
              0.8888888888888888,
              "#fdca26"
             ],
             [
              1,
              "#f0f921"
             ]
            ],
            "type": "contour"
           }
          ],
          "contourcarpet": [
           {
            "colorbar": {
             "outlinewidth": 0,
             "ticks": ""
            },
            "type": "contourcarpet"
           }
          ],
          "heatmap": [
           {
            "colorbar": {
             "outlinewidth": 0,
             "ticks": ""
            },
            "colorscale": [
             [
              0,
              "#0d0887"
             ],
             [
              0.1111111111111111,
              "#46039f"
             ],
             [
              0.2222222222222222,
              "#7201a8"
             ],
             [
              0.3333333333333333,
              "#9c179e"
             ],
             [
              0.4444444444444444,
              "#bd3786"
             ],
             [
              0.5555555555555556,
              "#d8576b"
             ],
             [
              0.6666666666666666,
              "#ed7953"
             ],
             [
              0.7777777777777778,
              "#fb9f3a"
             ],
             [
              0.8888888888888888,
              "#fdca26"
             ],
             [
              1,
              "#f0f921"
             ]
            ],
            "type": "heatmap"
           }
          ],
          "heatmapgl": [
           {
            "colorbar": {
             "outlinewidth": 0,
             "ticks": ""
            },
            "colorscale": [
             [
              0,
              "#0d0887"
             ],
             [
              0.1111111111111111,
              "#46039f"
             ],
             [
              0.2222222222222222,
              "#7201a8"
             ],
             [
              0.3333333333333333,
              "#9c179e"
             ],
             [
              0.4444444444444444,
              "#bd3786"
             ],
             [
              0.5555555555555556,
              "#d8576b"
             ],
             [
              0.6666666666666666,
              "#ed7953"
             ],
             [
              0.7777777777777778,
              "#fb9f3a"
             ],
             [
              0.8888888888888888,
              "#fdca26"
             ],
             [
              1,
              "#f0f921"
             ]
            ],
            "type": "heatmapgl"
           }
          ],
          "histogram": [
           {
            "marker": {
             "pattern": {
              "fillmode": "overlay",
              "size": 10,
              "solidity": 0.2
             }
            },
            "type": "histogram"
           }
          ],
          "histogram2d": [
           {
            "colorbar": {
             "outlinewidth": 0,
             "ticks": ""
            },
            "colorscale": [
             [
              0,
              "#0d0887"
             ],
             [
              0.1111111111111111,
              "#46039f"
             ],
             [
              0.2222222222222222,
              "#7201a8"
             ],
             [
              0.3333333333333333,
              "#9c179e"
             ],
             [
              0.4444444444444444,
              "#bd3786"
             ],
             [
              0.5555555555555556,
              "#d8576b"
             ],
             [
              0.6666666666666666,
              "#ed7953"
             ],
             [
              0.7777777777777778,
              "#fb9f3a"
             ],
             [
              0.8888888888888888,
              "#fdca26"
             ],
             [
              1,
              "#f0f921"
             ]
            ],
            "type": "histogram2d"
           }
          ],
          "histogram2dcontour": [
           {
            "colorbar": {
             "outlinewidth": 0,
             "ticks": ""
            },
            "colorscale": [
             [
              0,
              "#0d0887"
             ],
             [
              0.1111111111111111,
              "#46039f"
             ],
             [
              0.2222222222222222,
              "#7201a8"
             ],
             [
              0.3333333333333333,
              "#9c179e"
             ],
             [
              0.4444444444444444,
              "#bd3786"
             ],
             [
              0.5555555555555556,
              "#d8576b"
             ],
             [
              0.6666666666666666,
              "#ed7953"
             ],
             [
              0.7777777777777778,
              "#fb9f3a"
             ],
             [
              0.8888888888888888,
              "#fdca26"
             ],
             [
              1,
              "#f0f921"
             ]
            ],
            "type": "histogram2dcontour"
           }
          ],
          "mesh3d": [
           {
            "colorbar": {
             "outlinewidth": 0,
             "ticks": ""
            },
            "type": "mesh3d"
           }
          ],
          "parcoords": [
           {
            "line": {
             "colorbar": {
              "outlinewidth": 0,
              "ticks": ""
             }
            },
            "type": "parcoords"
           }
          ],
          "pie": [
           {
            "automargin": true,
            "type": "pie"
           }
          ],
          "scatter": [
           {
            "fillpattern": {
             "fillmode": "overlay",
             "size": 10,
             "solidity": 0.2
            },
            "type": "scatter"
           }
          ],
          "scatter3d": [
           {
            "line": {
             "colorbar": {
              "outlinewidth": 0,
              "ticks": ""
             }
            },
            "marker": {
             "colorbar": {
              "outlinewidth": 0,
              "ticks": ""
             }
            },
            "type": "scatter3d"
           }
          ],
          "scattercarpet": [
           {
            "marker": {
             "colorbar": {
              "outlinewidth": 0,
              "ticks": ""
             }
            },
            "type": "scattercarpet"
           }
          ],
          "scattergeo": [
           {
            "marker": {
             "colorbar": {
              "outlinewidth": 0,
              "ticks": ""
             }
            },
            "type": "scattergeo"
           }
          ],
          "scattergl": [
           {
            "marker": {
             "colorbar": {
              "outlinewidth": 0,
              "ticks": ""
             }
            },
            "type": "scattergl"
           }
          ],
          "scattermapbox": [
           {
            "marker": {
             "colorbar": {
              "outlinewidth": 0,
              "ticks": ""
             }
            },
            "type": "scattermapbox"
           }
          ],
          "scatterpolar": [
           {
            "marker": {
             "colorbar": {
              "outlinewidth": 0,
              "ticks": ""
             }
            },
            "type": "scatterpolar"
           }
          ],
          "scatterpolargl": [
           {
            "marker": {
             "colorbar": {
              "outlinewidth": 0,
              "ticks": ""
             }
            },
            "type": "scatterpolargl"
           }
          ],
          "scatterternary": [
           {
            "marker": {
             "colorbar": {
              "outlinewidth": 0,
              "ticks": ""
             }
            },
            "type": "scatterternary"
           }
          ],
          "surface": [
           {
            "colorbar": {
             "outlinewidth": 0,
             "ticks": ""
            },
            "colorscale": [
             [
              0,
              "#0d0887"
             ],
             [
              0.1111111111111111,
              "#46039f"
             ],
             [
              0.2222222222222222,
              "#7201a8"
             ],
             [
              0.3333333333333333,
              "#9c179e"
             ],
             [
              0.4444444444444444,
              "#bd3786"
             ],
             [
              0.5555555555555556,
              "#d8576b"
             ],
             [
              0.6666666666666666,
              "#ed7953"
             ],
             [
              0.7777777777777778,
              "#fb9f3a"
             ],
             [
              0.8888888888888888,
              "#fdca26"
             ],
             [
              1,
              "#f0f921"
             ]
            ],
            "type": "surface"
           }
          ],
          "table": [
           {
            "cells": {
             "fill": {
              "color": "#EBF0F8"
             },
             "line": {
              "color": "white"
             }
            },
            "header": {
             "fill": {
              "color": "#C8D4E3"
             },
             "line": {
              "color": "white"
             }
            },
            "type": "table"
           }
          ]
         },
         "layout": {
          "annotationdefaults": {
           "arrowcolor": "#2a3f5f",
           "arrowhead": 0,
           "arrowwidth": 1
          },
          "autotypenumbers": "strict",
          "coloraxis": {
           "colorbar": {
            "outlinewidth": 0,
            "ticks": ""
           }
          },
          "colorscale": {
           "diverging": [
            [
             0,
             "#8e0152"
            ],
            [
             0.1,
             "#c51b7d"
            ],
            [
             0.2,
             "#de77ae"
            ],
            [
             0.3,
             "#f1b6da"
            ],
            [
             0.4,
             "#fde0ef"
            ],
            [
             0.5,
             "#f7f7f7"
            ],
            [
             0.6,
             "#e6f5d0"
            ],
            [
             0.7,
             "#b8e186"
            ],
            [
             0.8,
             "#7fbc41"
            ],
            [
             0.9,
             "#4d9221"
            ],
            [
             1,
             "#276419"
            ]
           ],
           "sequential": [
            [
             0,
             "#0d0887"
            ],
            [
             0.1111111111111111,
             "#46039f"
            ],
            [
             0.2222222222222222,
             "#7201a8"
            ],
            [
             0.3333333333333333,
             "#9c179e"
            ],
            [
             0.4444444444444444,
             "#bd3786"
            ],
            [
             0.5555555555555556,
             "#d8576b"
            ],
            [
             0.6666666666666666,
             "#ed7953"
            ],
            [
             0.7777777777777778,
             "#fb9f3a"
            ],
            [
             0.8888888888888888,
             "#fdca26"
            ],
            [
             1,
             "#f0f921"
            ]
           ],
           "sequentialminus": [
            [
             0,
             "#0d0887"
            ],
            [
             0.1111111111111111,
             "#46039f"
            ],
            [
             0.2222222222222222,
             "#7201a8"
            ],
            [
             0.3333333333333333,
             "#9c179e"
            ],
            [
             0.4444444444444444,
             "#bd3786"
            ],
            [
             0.5555555555555556,
             "#d8576b"
            ],
            [
             0.6666666666666666,
             "#ed7953"
            ],
            [
             0.7777777777777778,
             "#fb9f3a"
            ],
            [
             0.8888888888888888,
             "#fdca26"
            ],
            [
             1,
             "#f0f921"
            ]
           ]
          },
          "colorway": [
           "#636efa",
           "#EF553B",
           "#00cc96",
           "#ab63fa",
           "#FFA15A",
           "#19d3f3",
           "#FF6692",
           "#B6E880",
           "#FF97FF",
           "#FECB52"
          ],
          "font": {
           "color": "#2a3f5f"
          },
          "geo": {
           "bgcolor": "white",
           "lakecolor": "white",
           "landcolor": "#E5ECF6",
           "showlakes": true,
           "showland": true,
           "subunitcolor": "white"
          },
          "hoverlabel": {
           "align": "left"
          },
          "hovermode": "closest",
          "mapbox": {
           "style": "light"
          },
          "paper_bgcolor": "white",
          "plot_bgcolor": "#E5ECF6",
          "polar": {
           "angularaxis": {
            "gridcolor": "white",
            "linecolor": "white",
            "ticks": ""
           },
           "bgcolor": "#E5ECF6",
           "radialaxis": {
            "gridcolor": "white",
            "linecolor": "white",
            "ticks": ""
           }
          },
          "scene": {
           "xaxis": {
            "backgroundcolor": "#E5ECF6",
            "gridcolor": "white",
            "gridwidth": 2,
            "linecolor": "white",
            "showbackground": true,
            "ticks": "",
            "zerolinecolor": "white"
           },
           "yaxis": {
            "backgroundcolor": "#E5ECF6",
            "gridcolor": "white",
            "gridwidth": 2,
            "linecolor": "white",
            "showbackground": true,
            "ticks": "",
            "zerolinecolor": "white"
           },
           "zaxis": {
            "backgroundcolor": "#E5ECF6",
            "gridcolor": "white",
            "gridwidth": 2,
            "linecolor": "white",
            "showbackground": true,
            "ticks": "",
            "zerolinecolor": "white"
           }
          },
          "shapedefaults": {
           "line": {
            "color": "#2a3f5f"
           }
          },
          "ternary": {
           "aaxis": {
            "gridcolor": "white",
            "linecolor": "white",
            "ticks": ""
           },
           "baxis": {
            "gridcolor": "white",
            "linecolor": "white",
            "ticks": ""
           },
           "bgcolor": "#E5ECF6",
           "caxis": {
            "gridcolor": "white",
            "linecolor": "white",
            "ticks": ""
           }
          },
          "title": {
           "x": 0.05
          },
          "xaxis": {
           "automargin": true,
           "gridcolor": "white",
           "linecolor": "white",
           "ticks": "",
           "title": {
            "standoff": 15
           },
           "zerolinecolor": "white",
           "zerolinewidth": 2
          },
          "yaxis": {
           "automargin": true,
           "gridcolor": "white",
           "linecolor": "white",
           "ticks": "",
           "title": {
            "standoff": 15
           },
           "zerolinecolor": "white",
           "zerolinewidth": 2
          }
         }
        },
        "title": {
         "text": "fill_zero - Korrelasjonsmatrise"
        },
        "width": 800,
        "xaxis": {
         "nticks": 29
        },
        "yaxis": {
         "nticks": 29
        }
       }
      }
     },
     "metadata": {},
     "output_type": "display_data"
    },
    {
     "name": "stderr",
     "output_type": "stream",
     "text": [
      "c:\\Users\\georg\\anaconda3\\envs\\INF161\\Lib\\site-packages\\sklearn\\metrics\\_regression.py:492: FutureWarning:\n",
      "\n",
      "'squared' is deprecated in version 1.4 and will be removed in 1.6. To calculate the root mean squared error, use the function'root_mean_squared_error'.\n",
      "\n"
     ]
    },
    {
     "name": "stdout",
     "output_type": "stream",
     "text": [
      "Random Forest: 23.09\n"
     ]
    },
    {
     "name": "stderr",
     "output_type": "stream",
     "text": [
      "c:\\Users\\georg\\anaconda3\\envs\\INF161\\Lib\\site-packages\\sklearn\\metrics\\_regression.py:492: FutureWarning:\n",
      "\n",
      "'squared' is deprecated in version 1.4 and will be removed in 1.6. To calculate the root mean squared error, use the function'root_mean_squared_error'.\n",
      "\n",
      "c:\\Users\\georg\\anaconda3\\envs\\INF161\\Lib\\site-packages\\sklearn\\metrics\\_regression.py:492: FutureWarning:\n",
      "\n",
      "'squared' is deprecated in version 1.4 and will be removed in 1.6. To calculate the root mean squared error, use the function'root_mean_squared_error'.\n",
      "\n",
      "c:\\Users\\georg\\anaconda3\\envs\\INF161\\Lib\\site-packages\\sklearn\\metrics\\_regression.py:492: FutureWarning:\n",
      "\n",
      "'squared' is deprecated in version 1.4 and will be removed in 1.6. To calculate the root mean squared error, use the function'root_mean_squared_error'.\n",
      "\n"
     ]
    },
    {
     "name": "stdout",
     "output_type": "stream",
     "text": [
      "Gradient Boosting: 23.18\n",
      "Decision Tree: 29.18\n",
      "Linear Regression: 23.41\n"
     ]
    },
    {
     "name": "stderr",
     "output_type": "stream",
     "text": [
      "c:\\Users\\georg\\anaconda3\\envs\\INF161\\Lib\\site-packages\\sklearn\\metrics\\_regression.py:492: FutureWarning:\n",
      "\n",
      "'squared' is deprecated in version 1.4 and will be removed in 1.6. To calculate the root mean squared error, use the function'root_mean_squared_error'.\n",
      "\n",
      "c:\\Users\\georg\\anaconda3\\envs\\INF161\\Lib\\site-packages\\sklearn\\metrics\\_regression.py:492: FutureWarning:\n",
      "\n",
      "'squared' is deprecated in version 1.4 and will be removed in 1.6. To calculate the root mean squared error, use the function'root_mean_squared_error'.\n",
      "\n"
     ]
    },
    {
     "name": "stdout",
     "output_type": "stream",
     "text": [
      "Polynomial Regression: 458617939001.74\n",
      "Ridge Regression: 23.41\n",
      "fill_zero - Best Model: Random Forest\n",
      "fill_zero - Validation RMSE: 23.09\n",
      "fill_zero - Within 10 diff: 63.20%\n",
      "fill_zero - Full Dataset RMSE: 15.76\n",
      "fill_zero - Within 10 diff (Full Dataset): 75.66%\n"
     ]
    },
    {
     "name": "stderr",
     "output_type": "stream",
     "text": [
      "c:\\Users\\georg\\anaconda3\\envs\\INF161\\Lib\\site-packages\\sklearn\\metrics\\_regression.py:492: FutureWarning:\n",
      "\n",
      "'squared' is deprecated in version 1.4 and will be removed in 1.6. To calculate the root mean squared error, use the function'root_mean_squared_error'.\n",
      "\n"
     ]
    }
   ],
   "source": [
    "# Hovedsløyfe over strategier\n",
    "for strategy in strategies:\n",
    "    # Preprosesserer data\n",
    "    X_strategy, y_strategy = preprocess_data(strategy, X, y)\n",
    "    \n",
    "    # Splitter data inn i trenings-, validerings- og testsett\n",
    "    X_train, X_val, X_test, y_train, y_val, y_test = split_data(X_strategy, y_strategy)\n",
    "    \n",
    "    # Plotter korrelasjonsmatrise\n",
    "    plot_corr_matrix(X_strategy, strategy)\n",
    "\n",
    "    # Lager preprocessing pipeline\n",
    "    preprocessor = create_preprocessor(X_strategy)\n",
    "\n",
    "    # Trener modeller og evaluerer dem\n",
    "    best_model_name, best_model_pipeline, best_rmse = train_and_evaluate_models(X_train, y_train, X_val, y_val, models, preprocessor)\n",
    "\n",
    "    # Evaluerer prediksjoner innenfor 10 enheter fra de faktiske verdiene\n",
    "    y_val_pred = best_model_pipeline.predict(X_val)\n",
    "    diff = np.abs(y_val - y_val_pred)\n",
    "    within_10_diff_percent = np.sum(diff <= 10) / len(y_val) * 100\n",
    "\n",
    "    # Preprosessering og prediksjon på hele datasettet\n",
    "    X_strategy, y_strategy = preprocess_data('fill_median', X, y)\n",
    "    if strategy == 'knn_imputation':\n",
    "        X_strategy, y_strategy = preprocess_data('knn_imputation', X, y)\n",
    "\n",
    "    y_full_pred = best_model_pipeline.predict(X_strategy)\n",
    "    rmse_full = mean_squared_error(y, y_full_pred, squared=False)\n",
    "    diff_full = np.abs(y - y_full_pred)\n",
    "    within_10_diff_percent_full = np.sum(diff_full <= 10) / len(y) * 100\n",
    "    \n",
    "    # Logger og viser resultater\n",
    "    log_results(strategy, best_model_name, best_rmse, within_10_diff_percent, rmse_full, within_10_diff_percent_full, results, best_model_pipeline)"
   ]
  },
  {
   "cell_type": "markdown",
   "metadata": {},
   "source": [
    "# Predikere ny data med full dataset basert på beste strategi"
   ]
  },
  {
   "cell_type": "code",
   "execution_count": 53,
   "metadata": {},
   "outputs": [],
   "source": [
    "import pandas as pd\n",
    "\n",
    "# Lese inn data og se på de første radene.\n",
    "samp_demographic_df = pd.read_csv('sample_data\\demographic.csv')\n",
    "samp_hospital_df = pd.read_csv('sample_data\\hospital.csv')\n",
    "samp_physiological_df = pd.read_csv('sample_data\\physiological.txt', sep='\\t')\n",
    "samp_severity_df = pd.read_json('sample_data\\severity.json')"
   ]
  },
  {
   "cell_type": "code",
   "execution_count": 54,
   "metadata": {},
   "outputs": [],
   "source": [
    "# Siden severity.df er på annen måte satt opp, må fikse det med explode listene.\n",
    "exp = [col for col in samp_severity_df.columns if samp_severity_df[col].apply(lambda x: isinstance(x, list)).any()]\n",
    "samp_severity_df = samp_severity_df.explode(exp)"
   ]
  },
  {
   "cell_type": "code",
   "execution_count": 55,
   "metadata": {},
   "outputs": [
    {
     "data": {
      "text/html": [
       "<div>\n",
       "<style scoped>\n",
       "    .dataframe tbody tr th:only-of-type {\n",
       "        vertical-align: middle;\n",
       "    }\n",
       "\n",
       "    .dataframe tbody tr th {\n",
       "        vertical-align: top;\n",
       "    }\n",
       "\n",
       "    .dataframe thead th {\n",
       "        text-align: right;\n",
       "    }\n",
       "</style>\n",
       "<table border=\"1\" class=\"dataframe\">\n",
       "  <thead>\n",
       "    <tr style=\"text-align: right;\">\n",
       "      <th></th>\n",
       "      <th>pasient_id</th>\n",
       "      <th>alder</th>\n",
       "      <th>kjønn</th>\n",
       "      <th>utdanning</th>\n",
       "      <th>inntekt</th>\n",
       "      <th>etnisitet</th>\n",
       "      <th>sykehusdød</th>\n",
       "      <th>blodtrykk</th>\n",
       "      <th>hvite_blodlegemer</th>\n",
       "      <th>hjertefrekvens</th>\n",
       "      <th>...</th>\n",
       "      <th>apache_fysiologisk_score</th>\n",
       "      <th>overlevelsesestimat_2mnd</th>\n",
       "      <th>overlevelsesestimat_6mnd</th>\n",
       "      <th>diabetes</th>\n",
       "      <th>demens</th>\n",
       "      <th>kreft</th>\n",
       "      <th>lege_overlevelsesestimat_2mnd</th>\n",
       "      <th>lege_overlevelsesestimat_6mnd</th>\n",
       "      <th>dnr_status</th>\n",
       "      <th>dnr_dag</th>\n",
       "    </tr>\n",
       "  </thead>\n",
       "  <tbody>\n",
       "    <tr>\n",
       "      <th>0</th>\n",
       "      <td>1</td>\n",
       "      <td>62.84998</td>\n",
       "      <td>male</td>\n",
       "      <td>11.0</td>\n",
       "      <td>$11-$25k</td>\n",
       "      <td>other</td>\n",
       "      <td>0</td>\n",
       "      <td>97.0</td>\n",
       "      <td>6.000000</td>\n",
       "      <td>69.0</td>\n",
       "      <td>...</td>\n",
       "      <td>20.0</td>\n",
       "      <td>0.262939</td>\n",
       "      <td>0.036995</td>\n",
       "      <td>0</td>\n",
       "      <td>0</td>\n",
       "      <td>metastatic</td>\n",
       "      <td>0.5</td>\n",
       "      <td>0.25</td>\n",
       "      <td>no dnr</td>\n",
       "      <td>5.0</td>\n",
       "    </tr>\n",
       "    <tr>\n",
       "      <th>1</th>\n",
       "      <td>22</td>\n",
       "      <td>48.70398</td>\n",
       "      <td>male</td>\n",
       "      <td>16.0</td>\n",
       "      <td>NaN</td>\n",
       "      <td>other</td>\n",
       "      <td>0</td>\n",
       "      <td>66.0</td>\n",
       "      <td>12.500000</td>\n",
       "      <td>125.0</td>\n",
       "      <td>...</td>\n",
       "      <td>35.0</td>\n",
       "      <td>0.535889</td>\n",
       "      <td>0.213989</td>\n",
       "      <td>0</td>\n",
       "      <td>0</td>\n",
       "      <td>metastatic</td>\n",
       "      <td>0.5</td>\n",
       "      <td>0.125</td>\n",
       "      <td>dnr ved innleggelse</td>\n",
       "      <td>11.0</td>\n",
       "    </tr>\n",
       "    <tr>\n",
       "      <th>2</th>\n",
       "      <td>25</td>\n",
       "      <td>29.36099</td>\n",
       "      <td>female</td>\n",
       "      <td>17.0</td>\n",
       "      <td>$25-$50k</td>\n",
       "      <td>white</td>\n",
       "      <td>0</td>\n",
       "      <td>96.0</td>\n",
       "      <td>10.599609</td>\n",
       "      <td>112.0</td>\n",
       "      <td>...</td>\n",
       "      <td>10.0</td>\n",
       "      <td>0.853882</td>\n",
       "      <td>0.674927</td>\n",
       "      <td>0</td>\n",
       "      <td>0</td>\n",
       "      <td>metastatic</td>\n",
       "      <td>0.5</td>\n",
       "      <td>0.1</td>\n",
       "      <td>no dnr</td>\n",
       "      <td>4.0</td>\n",
       "    </tr>\n",
       "    <tr>\n",
       "      <th>3</th>\n",
       "      <td>26</td>\n",
       "      <td>53.84000</td>\n",
       "      <td>male</td>\n",
       "      <td>NaN</td>\n",
       "      <td>under $11k</td>\n",
       "      <td>white</td>\n",
       "      <td>0</td>\n",
       "      <td>134.0</td>\n",
       "      <td>7.799805</td>\n",
       "      <td>106.0</td>\n",
       "      <td>...</td>\n",
       "      <td>16.0</td>\n",
       "      <td>0.939941</td>\n",
       "      <td>0.897949</td>\n",
       "      <td>0</td>\n",
       "      <td>0</td>\n",
       "      <td>no</td>\n",
       "      <td>0.9</td>\n",
       "      <td>0.6</td>\n",
       "      <td>dnr ved innleggelse</td>\n",
       "      <td>4.0</td>\n",
       "    </tr>\n",
       "    <tr>\n",
       "      <th>4</th>\n",
       "      <td>29</td>\n",
       "      <td>30.10799</td>\n",
       "      <td>male</td>\n",
       "      <td>NaN</td>\n",
       "      <td>NaN</td>\n",
       "      <td>asian</td>\n",
       "      <td>0</td>\n",
       "      <td>92.0</td>\n",
       "      <td>8.798828</td>\n",
       "      <td>112.0</td>\n",
       "      <td>...</td>\n",
       "      <td>21.0</td>\n",
       "      <td>0.823975</td>\n",
       "      <td>0.764893</td>\n",
       "      <td>0</td>\n",
       "      <td>0</td>\n",
       "      <td>no</td>\n",
       "      <td>None</td>\n",
       "      <td>None</td>\n",
       "      <td>no dnr</td>\n",
       "      <td>10.0</td>\n",
       "    </tr>\n",
       "  </tbody>\n",
       "</table>\n",
       "<p>5 rows × 40 columns</p>\n",
       "</div>"
      ],
      "text/plain": [
       "  pasient_id     alder   kjønn  utdanning     inntekt etnisitet  sykehusdød  \\\n",
       "0          1  62.84998    male       11.0    $11-$25k     other           0   \n",
       "1         22  48.70398    male       16.0         NaN     other           0   \n",
       "2         25  29.36099  female       17.0    $25-$50k     white           0   \n",
       "3         26  53.84000    male        NaN  under $11k     white           0   \n",
       "4         29  30.10799    male        NaN         NaN     asian           0   \n",
       "\n",
       "   blodtrykk  hvite_blodlegemer  hjertefrekvens  ...  \\\n",
       "0       97.0           6.000000            69.0  ...   \n",
       "1       66.0          12.500000           125.0  ...   \n",
       "2       96.0          10.599609           112.0  ...   \n",
       "3      134.0           7.799805           106.0  ...   \n",
       "4       92.0           8.798828           112.0  ...   \n",
       "\n",
       "   apache_fysiologisk_score  overlevelsesestimat_2mnd  \\\n",
       "0                      20.0                  0.262939   \n",
       "1                      35.0                  0.535889   \n",
       "2                      10.0                  0.853882   \n",
       "3                      16.0                  0.939941   \n",
       "4                      21.0                  0.823975   \n",
       "\n",
       "   overlevelsesestimat_6mnd  diabetes  demens       kreft  \\\n",
       "0                  0.036995         0       0  metastatic   \n",
       "1                  0.213989         0       0  metastatic   \n",
       "2                  0.674927         0       0  metastatic   \n",
       "3                  0.897949         0       0          no   \n",
       "4                  0.764893         0       0          no   \n",
       "\n",
       "   lege_overlevelsesestimat_2mnd  lege_overlevelsesestimat_6mnd  \\\n",
       "0                            0.5                           0.25   \n",
       "1                            0.5                          0.125   \n",
       "2                            0.5                            0.1   \n",
       "3                            0.9                            0.6   \n",
       "4                           None                           None   \n",
       "\n",
       "            dnr_status  dnr_dag  \n",
       "0               no dnr      5.0  \n",
       "1  dnr ved innleggelse     11.0  \n",
       "2               no dnr      4.0  \n",
       "3  dnr ved innleggelse      4.0  \n",
       "4               no dnr     10.0  \n",
       "\n",
       "[5 rows x 40 columns]"
      ]
     },
     "execution_count": 55,
     "metadata": {},
     "output_type": "execute_result"
    }
   ],
   "source": [
    "# Merge dataframe\n",
    "sample_combined_df = pd.merge(samp_demographic_df, samp_hospital_df, on='pasient_id', how='left')\n",
    "sample_combined_df = pd.merge(sample_combined_df, samp_physiological_df, on='pasient_id', how='left')\n",
    "sample_combined_df = pd.merge(sample_combined_df, samp_severity_df, on='pasient_id', how='left')\n",
    "\n",
    "# Fjerne duplicates basert på 'pasient_id' som kan skje i mergen.\n",
    "sample_combined_df = sample_combined_df.drop_duplicates(subset=['pasient_id'], keep='first')\n",
    "sample_combined_df.head(5)"
   ]
  },
  {
   "cell_type": "markdown",
   "metadata": {},
   "source": [
    "# Bruke beste modell og strategi"
   ]
  },
  {
   "cell_type": "code",
   "execution_count": 56,
   "metadata": {},
   "outputs": [
    {
     "name": "stdout",
     "output_type": "stream",
     "text": [
      "{'best_model': 'Random Forest', 'validation_rmse': 23.09145883129321, 'model_pipeline': Pipeline(steps=[('preprocessor',\n",
      "                 ColumnTransformer(transformers=[('num',\n",
      "                                                  Pipeline(steps=[('scaler',\n",
      "                                                                   StandardScaler())]),\n",
      "                                                  Index(['alder', 'utdanning', 'sykehusdød', 'blodtrykk', 'hvite_blodlegemer',\n",
      "       'hjertefrekvens', 'respirasjonsfrekvens', 'kroppstemperatur',\n",
      "       'lungefunksjon', 'serumalbumin', 'bilirubin', 'kreatinin', 'natrium',\n",
      "       'blod_ph', 'glukose', 'blodurea_nitroge...\n",
      "                                                  Pipeline(steps=[('converter',\n",
      "                                                                   FunctionTransformer(func=<function create_preprocessor.<locals>.<lambda> at 0x00000182BA255F80>)),\n",
      "                                                                  ('onehot',\n",
      "                                                                   OneHotEncoder(handle_unknown='ignore'))]),\n",
      "                                                  Index(['kjønn', 'inntekt', 'etnisitet', 'sykdomskategori_id',\n",
      "       'sykdomskategori', 'sykdom_underkategori', 'kreft'],\n",
      "      dtype='object'))])),\n",
      "                ('model', RandomForestRegressor(random_state=24))]), 'within_10_diff_percent': 63.19534282018111, 'full_dataset_rmse': 15.758219194114236, 'within_10_diff_percent_full': 75.6630870746539}\n"
     ]
    }
   ],
   "source": [
    "# Hent den beste modellen for fill_zero-strategien\n",
    "print(results['fill_zero'])\n",
    "# Bruk av pippelinen:\n",
    "best_model_pipeline_fill_zero = results['fill_zero']['model_pipeline'] "
   ]
  },
  {
   "cell_type": "code",
   "execution_count": 57,
   "metadata": {},
   "outputs": [],
   "source": [
    "#drop = ['pasient_id', 'oppholdslengde']\n",
    "#for i in drop:\n",
    "    #sample_combined_df.drop(i, axis=1, inplace=True)"
   ]
  },
  {
   "cell_type": "code",
   "execution_count": 58,
   "metadata": {},
   "outputs": [
    {
     "name": "stdout",
     "output_type": "stream",
     "text": [
      "Prediksjoner for det nye datasettet: [14.09 18.44 12.71 ... 31.58  6.52 38.05]\n"
     ]
    },
    {
     "name": "stderr",
     "output_type": "stream",
     "text": [
      "C:\\Users\\georg\\AppData\\Local\\Temp\\ipykernel_24344\\3994494851.py:23: FutureWarning:\n",
      "\n",
      "Downcasting object dtype arrays on .fillna, .ffill, .bfill is deprecated and will change in a future version. Call result.infer_objects(copy=False) instead. To opt-in to the future behavior, set `pd.set_option('future.no_silent_downcasting', True)`\n",
      "\n"
     ]
    }
   ],
   "source": [
    "# Preprosesserer det nye datasettet\n",
    "X_new_processed, y_new = fill_zero(sample_combined_df, 0)\n",
    "\n",
    "# Gjør prediksjoner på det nye datasettet med den beste fill_zero-modellen\n",
    "y_new_predictions = best_model_pipeline_fill_zero.predict(X_new_processed)\n",
    "# Skriv ut eller lagre prediksjonene\n",
    "print(\"Prediksjoner for det nye datasettet:\", y_new_predictions)"
   ]
  },
  {
   "cell_type": "code",
   "execution_count": 61,
   "metadata": {},
   "outputs": [],
   "source": [
    "# Lag en DataFrame med pasient_id og prediksjoner\n",
    "predictions_df = pd.DataFrame({\n",
    "    'pasient_id': sample_combined_df['pasient_id'], \n",
    "    'prediction': np.round(y_new_predictions)\n",
    "})\n",
    "# Lagre DataFrame til predictions.csv\n",
    "predictions_df.to_csv('predictions.csv', index=False)"
   ]
  }
 ],
 "metadata": {
  "kernelspec": {
   "display_name": "INF161",
   "language": "python",
   "name": "python3"
  },
  "language_info": {
   "codemirror_mode": {
    "name": "ipython",
    "version": 3
   },
   "file_extension": ".py",
   "mimetype": "text/x-python",
   "name": "python",
   "nbconvert_exporter": "python",
   "pygments_lexer": "ipython3",
   "version": "3.11.9"
  }
 },
 "nbformat": 4,
 "nbformat_minor": 2
}
