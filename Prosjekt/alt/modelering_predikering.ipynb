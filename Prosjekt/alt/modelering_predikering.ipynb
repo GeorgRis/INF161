{
 "cells": [
  {
   "cell_type": "code",
   "execution_count": 84,
   "metadata": {},
   "outputs": [],
   "source": [
    "# Imports\n",
    "import pandas as pd\n",
    "import seaborn as sns\n",
    "import matplotlib.pyplot as plt\n",
    "from sklearn.model_selection import train_test_split, GridSearchCV\n",
    "from sklearn.ensemble import RandomForestRegressor, GradientBoostingRegressor\n",
    "from sklearn.tree import DecisionTreeRegressor\n",
    "from sklearn.pipeline import Pipeline, make_pipeline\n",
    "from sklearn.compose import ColumnTransformer\n",
    "from sklearn.preprocessing import StandardScaler, OneHotEncoder\n",
    "from sklearn.impute import KNNImputer\n",
    "from sklearn.preprocessing import FunctionTransformer\n",
    "from sklearn.metrics import mean_squared_error#, root_mean_squared_error\n",
    "from sklearn.linear_model import LinearRegression, Ridge\n",
    "from sklearn.preprocessing import PolynomialFeatures\n",
    "import numpy as np\n",
    "\n",
    "# Plotting\n",
    "from plotly.subplots import make_subplots\n",
    "import plotly.graph_objects as go\n",
    "import plotly.express as px\n"
   ]
  },
  {
   "cell_type": "code",
   "execution_count": 85,
   "metadata": {},
   "outputs": [
    {
     "data": {
      "text/html": [
       "<div>\n",
       "<style scoped>\n",
       "    .dataframe tbody tr th:only-of-type {\n",
       "        vertical-align: middle;\n",
       "    }\n",
       "\n",
       "    .dataframe tbody tr th {\n",
       "        vertical-align: top;\n",
       "    }\n",
       "\n",
       "    .dataframe thead th {\n",
       "        text-align: right;\n",
       "    }\n",
       "</style>\n",
       "<table border=\"1\" class=\"dataframe\">\n",
       "  <thead>\n",
       "    <tr style=\"text-align: right;\">\n",
       "      <th></th>\n",
       "      <th>Unnamed: 0</th>\n",
       "      <th>pasient_id</th>\n",
       "      <th>alder</th>\n",
       "      <th>kjønn</th>\n",
       "      <th>etnisitet</th>\n",
       "      <th>sykehusdød</th>\n",
       "      <th>oppholdslengde</th>\n",
       "      <th>blodtrykk</th>\n",
       "      <th>hvite_blodlegemer</th>\n",
       "      <th>hjertefrekvens</th>\n",
       "      <th>...</th>\n",
       "      <th>adl_stedfortreder</th>\n",
       "      <th>diabetes</th>\n",
       "      <th>demens</th>\n",
       "      <th>kreft</th>\n",
       "      <th>dnr_status</th>\n",
       "      <th>dnr_dag</th>\n",
       "      <th>alder_gruppe</th>\n",
       "      <th>sosiooekonomisk_status</th>\n",
       "      <th>overlevelses_proxy</th>\n",
       "      <th>nyrefunksjons_proxy</th>\n",
       "    </tr>\n",
       "  </thead>\n",
       "  <tbody>\n",
       "    <tr>\n",
       "      <th>0</th>\n",
       "      <td>0</td>\n",
       "      <td>2</td>\n",
       "      <td>60.33899</td>\n",
       "      <td>female</td>\n",
       "      <td>white</td>\n",
       "      <td>1</td>\n",
       "      <td>4.0</td>\n",
       "      <td>43.0</td>\n",
       "      <td>17.097656</td>\n",
       "      <td>112.0</td>\n",
       "      <td>...</td>\n",
       "      <td>1.0</td>\n",
       "      <td>0</td>\n",
       "      <td>0</td>\n",
       "      <td>no</td>\n",
       "      <td>NaN</td>\n",
       "      <td>NaN</td>\n",
       "      <td>4</td>\n",
       "      <td>6.5</td>\n",
       "      <td>21.116052</td>\n",
       "      <td>5.500000</td>\n",
       "    </tr>\n",
       "    <tr>\n",
       "      <th>1</th>\n",
       "      <td>1</td>\n",
       "      <td>3</td>\n",
       "      <td>52.74698</td>\n",
       "      <td>female</td>\n",
       "      <td>white</td>\n",
       "      <td>0</td>\n",
       "      <td>17.0</td>\n",
       "      <td>70.0</td>\n",
       "      <td>8.500000</td>\n",
       "      <td>88.0</td>\n",
       "      <td>...</td>\n",
       "      <td>0.0</td>\n",
       "      <td>0</td>\n",
       "      <td>0</td>\n",
       "      <td>no</td>\n",
       "      <td>NaN</td>\n",
       "      <td>NaN</td>\n",
       "      <td>3</td>\n",
       "      <td>6.0</td>\n",
       "      <td>11.367635</td>\n",
       "      <td>2.000000</td>\n",
       "    </tr>\n",
       "    <tr>\n",
       "      <th>2</th>\n",
       "      <td>2</td>\n",
       "      <td>4</td>\n",
       "      <td>42.38498</td>\n",
       "      <td>female</td>\n",
       "      <td>white</td>\n",
       "      <td>0</td>\n",
       "      <td>3.0</td>\n",
       "      <td>75.0</td>\n",
       "      <td>9.099609</td>\n",
       "      <td>88.0</td>\n",
       "      <td>...</td>\n",
       "      <td>0.0</td>\n",
       "      <td>0</td>\n",
       "      <td>0</td>\n",
       "      <td>metastatic</td>\n",
       "      <td>NaN</td>\n",
       "      <td>NaN</td>\n",
       "      <td>2</td>\n",
       "      <td>5.5</td>\n",
       "      <td>6.934770</td>\n",
       "      <td>0.799927</td>\n",
       "    </tr>\n",
       "    <tr>\n",
       "      <th>3</th>\n",
       "      <td>4</td>\n",
       "      <td>6</td>\n",
       "      <td>93.01599</td>\n",
       "      <td>male</td>\n",
       "      <td>white</td>\n",
       "      <td>1</td>\n",
       "      <td>4.0</td>\n",
       "      <td>110.0</td>\n",
       "      <td>10.398438</td>\n",
       "      <td>101.0</td>\n",
       "      <td>...</td>\n",
       "      <td>1.0</td>\n",
       "      <td>0</td>\n",
       "      <td>0</td>\n",
       "      <td>no</td>\n",
       "      <td>NaN</td>\n",
       "      <td>NaN</td>\n",
       "      <td>5</td>\n",
       "      <td>NaN</td>\n",
       "      <td>7.816401</td>\n",
       "      <td>0.699951</td>\n",
       "    </tr>\n",
       "    <tr>\n",
       "      <th>4</th>\n",
       "      <td>5</td>\n",
       "      <td>7</td>\n",
       "      <td>62.37097</td>\n",
       "      <td>male</td>\n",
       "      <td>white</td>\n",
       "      <td>0</td>\n",
       "      <td>9.0</td>\n",
       "      <td>78.0</td>\n",
       "      <td>11.699219</td>\n",
       "      <td>120.0</td>\n",
       "      <td>...</td>\n",
       "      <td>1.0</td>\n",
       "      <td>0</td>\n",
       "      <td>0</td>\n",
       "      <td>no</td>\n",
       "      <td>NaN</td>\n",
       "      <td>NaN</td>\n",
       "      <td>4</td>\n",
       "      <td>8.0</td>\n",
       "      <td>13.142148</td>\n",
       "      <td>1.599854</td>\n",
       "    </tr>\n",
       "  </tbody>\n",
       "</table>\n",
       "<p>5 rows × 35 columns</p>\n",
       "</div>"
      ],
      "text/plain": [
       "   Unnamed: 0  pasient_id     alder   kjønn etnisitet  sykehusdød  \\\n",
       "0           0           2  60.33899  female     white           1   \n",
       "1           1           3  52.74698  female     white           0   \n",
       "2           2           4  42.38498  female     white           0   \n",
       "3           4           6  93.01599    male     white           1   \n",
       "4           5           7  62.37097    male     white           0   \n",
       "\n",
       "   oppholdslengde  blodtrykk  hvite_blodlegemer  hjertefrekvens  ...  \\\n",
       "0             4.0       43.0          17.097656           112.0  ...   \n",
       "1            17.0       70.0           8.500000            88.0  ...   \n",
       "2             3.0       75.0           9.099609            88.0  ...   \n",
       "3             4.0      110.0          10.398438           101.0  ...   \n",
       "4             9.0       78.0          11.699219           120.0  ...   \n",
       "\n",
       "   adl_stedfortreder  diabetes  demens       kreft  dnr_status  dnr_dag  \\\n",
       "0                1.0         0       0          no         NaN      NaN   \n",
       "1                0.0         0       0          no         NaN      NaN   \n",
       "2                0.0         0       0  metastatic         NaN      NaN   \n",
       "3                1.0         0       0          no         NaN      NaN   \n",
       "4                1.0         0       0          no         NaN      NaN   \n",
       "\n",
       "   alder_gruppe  sosiooekonomisk_status  overlevelses_proxy  \\\n",
       "0             4                     6.5           21.116052   \n",
       "1             3                     6.0           11.367635   \n",
       "2             2                     5.5            6.934770   \n",
       "3             5                     NaN            7.816401   \n",
       "4             4                     8.0           13.142148   \n",
       "\n",
       "  nyrefunksjons_proxy  \n",
       "0            5.500000  \n",
       "1            2.000000  \n",
       "2            0.799927  \n",
       "3            0.699951  \n",
       "4            1.599854  \n",
       "\n",
       "[5 rows x 35 columns]"
      ]
     },
     "execution_count": 85,
     "metadata": {},
     "output_type": "execute_result"
    }
   ],
   "source": [
    "# Hente inn datasettet\n",
    "combined_df = pd.read_csv('combined_v2.csv')\n",
    "combined_df.head()"
   ]
  },
  {
   "cell_type": "code",
   "execution_count": 86,
   "metadata": {},
   "outputs": [
    {
     "data": {
      "text/html": [
       "<div>\n",
       "<style scoped>\n",
       "    .dataframe tbody tr th:only-of-type {\n",
       "        vertical-align: middle;\n",
       "    }\n",
       "\n",
       "    .dataframe tbody tr th {\n",
       "        vertical-align: top;\n",
       "    }\n",
       "\n",
       "    .dataframe thead th {\n",
       "        text-align: right;\n",
       "    }\n",
       "</style>\n",
       "<table border=\"1\" class=\"dataframe\">\n",
       "  <thead>\n",
       "    <tr style=\"text-align: right;\">\n",
       "      <th></th>\n",
       "      <th>pasient_id</th>\n",
       "      <th>alder</th>\n",
       "      <th>kjønn</th>\n",
       "      <th>etnisitet</th>\n",
       "      <th>sykehusdød</th>\n",
       "      <th>oppholdslengde</th>\n",
       "      <th>blodtrykk</th>\n",
       "      <th>hvite_blodlegemer</th>\n",
       "      <th>hjertefrekvens</th>\n",
       "      <th>respirasjonsfrekvens</th>\n",
       "      <th>...</th>\n",
       "      <th>adl_stedfortreder</th>\n",
       "      <th>diabetes</th>\n",
       "      <th>demens</th>\n",
       "      <th>kreft</th>\n",
       "      <th>dnr_status</th>\n",
       "      <th>dnr_dag</th>\n",
       "      <th>alder_gruppe</th>\n",
       "      <th>sosiooekonomisk_status</th>\n",
       "      <th>overlevelses_proxy</th>\n",
       "      <th>nyrefunksjons_proxy</th>\n",
       "    </tr>\n",
       "  </thead>\n",
       "  <tbody>\n",
       "    <tr>\n",
       "      <th>0</th>\n",
       "      <td>2</td>\n",
       "      <td>60.33899</td>\n",
       "      <td>female</td>\n",
       "      <td>white</td>\n",
       "      <td>1</td>\n",
       "      <td>4.0</td>\n",
       "      <td>43.0</td>\n",
       "      <td>17.097656</td>\n",
       "      <td>112.0</td>\n",
       "      <td>34.0</td>\n",
       "      <td>...</td>\n",
       "      <td>1.0</td>\n",
       "      <td>0</td>\n",
       "      <td>0</td>\n",
       "      <td>no</td>\n",
       "      <td>NaN</td>\n",
       "      <td>NaN</td>\n",
       "      <td>4</td>\n",
       "      <td>6.5</td>\n",
       "      <td>21.116052</td>\n",
       "      <td>5.500000</td>\n",
       "    </tr>\n",
       "    <tr>\n",
       "      <th>1</th>\n",
       "      <td>3</td>\n",
       "      <td>52.74698</td>\n",
       "      <td>female</td>\n",
       "      <td>white</td>\n",
       "      <td>0</td>\n",
       "      <td>17.0</td>\n",
       "      <td>70.0</td>\n",
       "      <td>8.500000</td>\n",
       "      <td>88.0</td>\n",
       "      <td>28.0</td>\n",
       "      <td>...</td>\n",
       "      <td>0.0</td>\n",
       "      <td>0</td>\n",
       "      <td>0</td>\n",
       "      <td>no</td>\n",
       "      <td>NaN</td>\n",
       "      <td>NaN</td>\n",
       "      <td>3</td>\n",
       "      <td>6.0</td>\n",
       "      <td>11.367635</td>\n",
       "      <td>2.000000</td>\n",
       "    </tr>\n",
       "    <tr>\n",
       "      <th>2</th>\n",
       "      <td>4</td>\n",
       "      <td>42.38498</td>\n",
       "      <td>female</td>\n",
       "      <td>white</td>\n",
       "      <td>0</td>\n",
       "      <td>3.0</td>\n",
       "      <td>75.0</td>\n",
       "      <td>9.099609</td>\n",
       "      <td>88.0</td>\n",
       "      <td>32.0</td>\n",
       "      <td>...</td>\n",
       "      <td>0.0</td>\n",
       "      <td>0</td>\n",
       "      <td>0</td>\n",
       "      <td>metastatic</td>\n",
       "      <td>NaN</td>\n",
       "      <td>NaN</td>\n",
       "      <td>2</td>\n",
       "      <td>5.5</td>\n",
       "      <td>6.934770</td>\n",
       "      <td>0.799927</td>\n",
       "    </tr>\n",
       "    <tr>\n",
       "      <th>3</th>\n",
       "      <td>6</td>\n",
       "      <td>93.01599</td>\n",
       "      <td>male</td>\n",
       "      <td>white</td>\n",
       "      <td>1</td>\n",
       "      <td>4.0</td>\n",
       "      <td>110.0</td>\n",
       "      <td>10.398438</td>\n",
       "      <td>101.0</td>\n",
       "      <td>44.0</td>\n",
       "      <td>...</td>\n",
       "      <td>1.0</td>\n",
       "      <td>0</td>\n",
       "      <td>0</td>\n",
       "      <td>no</td>\n",
       "      <td>NaN</td>\n",
       "      <td>NaN</td>\n",
       "      <td>5</td>\n",
       "      <td>NaN</td>\n",
       "      <td>7.816401</td>\n",
       "      <td>0.699951</td>\n",
       "    </tr>\n",
       "    <tr>\n",
       "      <th>4</th>\n",
       "      <td>7</td>\n",
       "      <td>62.37097</td>\n",
       "      <td>male</td>\n",
       "      <td>white</td>\n",
       "      <td>0</td>\n",
       "      <td>9.0</td>\n",
       "      <td>78.0</td>\n",
       "      <td>11.699219</td>\n",
       "      <td>120.0</td>\n",
       "      <td>28.0</td>\n",
       "      <td>...</td>\n",
       "      <td>1.0</td>\n",
       "      <td>0</td>\n",
       "      <td>0</td>\n",
       "      <td>no</td>\n",
       "      <td>NaN</td>\n",
       "      <td>NaN</td>\n",
       "      <td>4</td>\n",
       "      <td>8.0</td>\n",
       "      <td>13.142148</td>\n",
       "      <td>1.599854</td>\n",
       "    </tr>\n",
       "  </tbody>\n",
       "</table>\n",
       "<p>5 rows × 34 columns</p>\n",
       "</div>"
      ],
      "text/plain": [
       "   pasient_id     alder   kjønn etnisitet  sykehusdød  oppholdslengde  \\\n",
       "0           2  60.33899  female     white           1             4.0   \n",
       "1           3  52.74698  female     white           0            17.0   \n",
       "2           4  42.38498  female     white           0             3.0   \n",
       "3           6  93.01599    male     white           1             4.0   \n",
       "4           7  62.37097    male     white           0             9.0   \n",
       "\n",
       "   blodtrykk  hvite_blodlegemer  hjertefrekvens  respirasjonsfrekvens  ...  \\\n",
       "0       43.0          17.097656           112.0                  34.0  ...   \n",
       "1       70.0           8.500000            88.0                  28.0  ...   \n",
       "2       75.0           9.099609            88.0                  32.0  ...   \n",
       "3      110.0          10.398438           101.0                  44.0  ...   \n",
       "4       78.0          11.699219           120.0                  28.0  ...   \n",
       "\n",
       "   adl_stedfortreder  diabetes  demens       kreft  dnr_status  dnr_dag  \\\n",
       "0                1.0         0       0          no         NaN      NaN   \n",
       "1                0.0         0       0          no         NaN      NaN   \n",
       "2                0.0         0       0  metastatic         NaN      NaN   \n",
       "3                1.0         0       0          no         NaN      NaN   \n",
       "4                1.0         0       0          no         NaN      NaN   \n",
       "\n",
       "   alder_gruppe  sosiooekonomisk_status overlevelses_proxy  \\\n",
       "0             4                     6.5          21.116052   \n",
       "1             3                     6.0          11.367635   \n",
       "2             2                     5.5           6.934770   \n",
       "3             5                     NaN           7.816401   \n",
       "4             4                     8.0          13.142148   \n",
       "\n",
       "   nyrefunksjons_proxy  \n",
       "0             5.500000  \n",
       "1             2.000000  \n",
       "2             0.799927  \n",
       "3             0.699951  \n",
       "4             1.599854  \n",
       "\n",
       "[5 rows x 34 columns]"
      ]
     },
     "execution_count": 86,
     "metadata": {},
     "output_type": "execute_result"
    }
   ],
   "source": [
    "# Sjekker om er riktig etter fiks\n",
    "combined_df.drop('Unnamed: 0', axis=1, inplace=True)\n",
    "\n",
    "combined_df.head()"
   ]
  },
  {
   "cell_type": "markdown",
   "metadata": {},
   "source": [
    "# Data preprocess"
   ]
  },
  {
   "cell_type": "code",
   "execution_count": 87,
   "metadata": {},
   "outputs": [],
   "source": [
    "# Preprocess the data\n",
    "X = combined_df.drop(['pasient_id', 'oppholdslengde'], axis=1)\n",
    "y = combined_df['oppholdslengde']"
   ]
  },
  {
   "cell_type": "markdown",
   "metadata": {},
   "source": [
    "# Splitt, men bare for grunnlinje modell"
   ]
  },
  {
   "cell_type": "code",
   "execution_count": 88,
   "metadata": {},
   "outputs": [],
   "source": [
    "X_train_temp, X_test, y_train_temp, y_test = train_test_split(X, y, test_size=0.2, random_state=24)\n",
    "X_train, X_val, y_train, y_val = train_test_split(X_train_temp, y_train_temp, test_size=0.25, random_state=24)"
   ]
  },
  {
   "cell_type": "markdown",
   "metadata": {},
   "source": [
    "# Grunnlinje"
   ]
  },
  {
   "cell_type": "code",
   "execution_count": 89,
   "metadata": {},
   "outputs": [
    {
     "name": "stdout",
     "output_type": "stream",
     "text": [
      "Grunnlinje modell - Validerings RMSE: 25.05\n"
     ]
    }
   ],
   "source": [
    "# Lager en grunnlinje modell som bruker gjennomsnittet av målte verdiene som prediksjon\n",
    "def grunlinje_model(X_train, y_train, X_val):\n",
    "    # Regner ut gjennomsnittet av målte verdiene\n",
    "    grunnlinje_pred = np.mean(y_train)\n",
    "    \n",
    "    # Bruker gjennomsnittet som prediksjon for alle verdier i valideringssettet\n",
    "    y_val_pred = np.full_like(y_val, grunnlinje_pred)\n",
    "        \n",
    "    return y_val_pred\n",
    "\n",
    "    # Regner ut RMSE for grunnlinje modellen\n",
    "grunlinje_rmse = mean_squared_error(y_val, grunlinje_model(X_train, y_train, X_val), squared=False)\n",
    "print(f'Grunnlinje modell - Validerings RMSE: {grunlinje_rmse:.2f}')    "
   ]
  },
  {
   "cell_type": "markdown",
   "metadata": {},
   "source": [
    "# Possible to make into bins of 5 for \"better result\""
   ]
  },
  {
   "cell_type": "code",
   "execution_count": 90,
   "metadata": {},
   "outputs": [
    {
     "data": {
      "text/plain": [
       "'max_y = y.max()\\nnum_bins = int(np.ceil(max_y / 5))  # calculate the number of bins needed\\n\\nbins = np.arange(0, max_y + 5, 5)  # create bin boundaries\\nlabels = np.arange(num_bins)  # create labels for the bins\\n\\ny_binned = pd.cut(y, bins=bins, labels=labels, include_lowest=True)\\ny = y_binned.astype(int)'"
      ]
     },
     "execution_count": 90,
     "metadata": {},
     "output_type": "execute_result"
    }
   ],
   "source": [
    "\"\"\"max_y = y.max()\n",
    "num_bins = int(np.ceil(max_y / 5))  # calculate the number of bins needed\n",
    "\n",
    "bins = np.arange(0, max_y + 5, 5)  # create bin boundaries\n",
    "labels = np.arange(num_bins)  # create labels for the bins\n",
    "\n",
    "y_binned = pd.cut(y, bins=bins, labels=labels, include_lowest=True)\n",
    "y = y_binned.astype(int)\"\"\""
   ]
  },
  {
   "cell_type": "markdown",
   "metadata": {},
   "source": [
    "# Lage forskjellige strategier"
   ]
  },
  {
   "cell_type": "code",
   "execution_count": 91,
   "metadata": {},
   "outputs": [],
   "source": [
    "# Istede for SimpleImputer. For lettere oversikt\n",
    "def drop_nan(X, y):\n",
    "    X_strategy = X.dropna()\n",
    "    y_strategy = y.loc[X_strategy.index]\n",
    "    return X_strategy, y_strategy\n",
    "\n",
    "def drop_cols(X, y, threshold=2000): \n",
    "    nan_counts = X.isnull().sum()\n",
    "    X_strategy = X.drop(columns=nan_counts[nan_counts > threshold].index)\n",
    "    X_strategy = X_strategy.dropna()\n",
    "    y_strategy = y.loc[X_strategy.index]\n",
    "    return X_strategy, y_strategy\n",
    "\n",
    "def fill_median(X, y):\n",
    "    X_fill = X.copy()\n",
    "    \n",
    "    # Fill numeric med median\n",
    "    median_cols = X_fill.select_dtypes(include=['int64', 'float64']).columns\n",
    "    X_fill[median_cols] = X_fill[median_cols].fillna(X_fill[median_cols].median())\n",
    "\n",
    "    # Fill string kolonner med den det er flest av\n",
    "    string_cols = X_fill.select_dtypes(include=['object']).columns\n",
    "    for col in string_cols:\n",
    "        most_frequent = X_fill[col].mode()[0]  # Få verdien som er flest av\n",
    "        X_fill[col].fillna(most_frequent, inplace=True)\n",
    "\n",
    "    return X_fill, y\n",
    "\n",
    "def fill_zero(X, y):\n",
    "    X_strategy = X.fillna(0)\n",
    "    y_strategy = y\n",
    "    return X_strategy, y_strategy\n",
    "\n",
    "def knn_imputation(X, y):\n",
    "    # One-hot encode categorical variabler\n",
    "    categorical_cols = X.select_dtypes(include=['object']).columns\n",
    "    encoder = OneHotEncoder()\n",
    "    X_encoded = pd.get_dummies(X, columns=categorical_cols, drop_first=True)\n",
    "    \n",
    "    # Impute missing values using KNNImputer\n",
    "    imputer = KNNImputer(n_neighbors=1)\n",
    "    X_imputed = imputer.fit_transform(X_encoded)\n",
    "    X_imputed = pd.DataFrame(X_imputed, columns=X_encoded.columns)\n",
    "    \n",
    "    return X_imputed, y"
   ]
  },
  {
   "cell_type": "markdown",
   "metadata": {},
   "source": [
    "# Define models"
   ]
  },
  {
   "cell_type": "code",
   "execution_count": 92,
   "metadata": {},
   "outputs": [],
   "source": [
    "# Definerer model pipelines\n",
    "model_pipelines = {\n",
    "    'Random Forest': RandomForestRegressor(n_estimators=100, random_state=24),\n",
    "    'Gradient Boosting': GradientBoostingRegressor(n_estimators=100, random_state=24),\n",
    "    'Decision Tree': DecisionTreeRegressor(random_state=24),\n",
    "    'Linear Regression': LinearRegression(),\n",
    "    'Polynomial Regression': make_pipeline(PolynomialFeatures(degree=2), LinearRegression()),\n",
    "    'Ridge Regression': Ridge(alpha=1.0)\n",
    "}\n",
    "# Forksjellige parametere å teste modellen på\n",
    "param_grids = {\n",
    "    'Random Forest': {\n",
    "        'model__n_estimators': [50, 100, 150],\n",
    "        'model__max_depth': [None, 10, 20],\n",
    "        'model__min_samples_split': [2, 5]\n",
    "    },\n",
    "    'Gradient Boosting': {\n",
    "        'model__n_estimators': [50, 100],\n",
    "        'model__learning_rate': [0.01, 0.1, 0.2],\n",
    "        'model__max_depth': [3, 5, 7]\n",
    "    },\n",
    "    'Decision Tree': {\n",
    "        'model__max_depth': [None, 10, 20, 30],\n",
    "        'model__min_samples_split': [2, 5, 10]\n",
    "    },\n",
    "    'Ridge Regression': {\n",
    "        'model__alpha': [0.1, 1.0, 10.0]\n",
    "    }\n",
    "}\n",
    "def create_model_pipeline(model_name, preprocessor):\n",
    "    model_pipeline = Pipeline(steps=[\n",
    "        ('preprocessor', preprocessor),\n",
    "        ('model', model_pipelines[model_name])\n",
    "    ])\n",
    "    return model_pipeline"
   ]
  },
  {
   "cell_type": "markdown",
   "metadata": {},
   "source": [
    "# Define Preprocess data og strategier"
   ]
  },
  {
   "cell_type": "code",
   "execution_count": 93,
   "metadata": {},
   "outputs": [],
   "source": [
    "# Definerer strategier og modeller\n",
    "strategies = ['drop_nan','drop_cols', 'fill_median', 'knn_imputation', 'fill_zero']\n",
    "models = list(model_pipelines.keys())\n",
    "\n",
    "# Lager en dictionary for å lagre resultatene\n",
    "results = {}\n",
    "\n",
    "# Funksjon for å preprocessere data basert på strategien\n",
    "def preprocess_data(strategy, X, y):\n",
    "    if strategy == 'drop_nan':\n",
    "        return drop_nan(X, y)\n",
    "    elif strategy == 'fill_median':\n",
    "        return fill_median(X, y)\n",
    "    elif strategy == 'fill_zero':\n",
    "        return fill_zero(X, y)\n",
    "    elif strategy == 'knn_imputation':\n",
    "        return knn_imputation(X, y)\n",
    "    elif strategy == 'drop_cols':\n",
    "        return drop_cols(X, y)\n",
    "    \n",
    "# Funksjon for å dele opp data i trenings-, validerings- og testsett\n",
    "def split_data(X, y, test_size=0.2, val_size=0.25, random_state=24):\n",
    "    X_train_temp, X_test, y_train_temp, y_test = train_test_split(X, y, test_size=test_size, random_state=random_state)\n",
    "    X_train, X_val, y_train, y_val = train_test_split(X_train_temp, y_train_temp, test_size=val_size, random_state=random_state)\n",
    "    return X_train, X_val, X_test, y_train, y_val, y_test"
   ]
  },
  {
   "cell_type": "markdown",
   "metadata": {},
   "source": [
    "# Definere en corr matrix for ekstra visualesering"
   ]
  },
  {
   "cell_type": "code",
   "execution_count": 94,
   "metadata": {},
   "outputs": [],
   "source": [
    "# Funksjon for å lage en varmekart for korrelasjonsmatrisen\n",
    "def plot_corr_matrix(X_strategy, strategy):\n",
    "    numeric_cols = X_strategy.select_dtypes(include=['int64', 'float64']).columns\n",
    "    corr_matrix = X_strategy[numeric_cols].corr()\n",
    "\n",
    "    fig = go.Figure(data=go.Heatmap(\n",
    "        z=corr_matrix.values,\n",
    "        x=corr_matrix.columns,\n",
    "        y=corr_matrix.columns,\n",
    "        zmin=-1, zmax=1\n",
    "    ))\n",
    "    \n",
    "    # Tilpasse layout\n",
    "    fig.update_layout(\n",
    "        title=f'{strategy} - Korrelasjonsmatrise',\n",
    "        xaxis_nticks=len(corr_matrix.columns),\n",
    "        yaxis_nticks=len(corr_matrix.columns),\n",
    "        autosize=False,\n",
    "        width=800,\n",
    "        height=800\n",
    "    )\n",
    "    fig.show()\n"
   ]
  },
  {
   "cell_type": "markdown",
   "metadata": {},
   "source": [
    "# Definere preprosess til modellene"
   ]
  },
  {
   "cell_type": "code",
   "execution_count": 95,
   "metadata": {},
   "outputs": [],
   "source": [
    "# Funksjon for å lage preprocessing-pipeline\n",
    "def convert_to_str(x):\n",
    "    return x.astype(str)\n",
    "\n",
    "def create_preprocessor(X_strategy):\n",
    "    categorical_cols = X_strategy.select_dtypes(exclude=['int64', 'float64']).columns\n",
    "    numerical_cols = X_strategy.select_dtypes(include=['int64', 'float64']).columns\n",
    "\n",
    "    categorical_transformer = Pipeline(steps=[\n",
    "        ('converter', FunctionTransformer(convert_to_str)),  \n",
    "        ('onehot', OneHotEncoder(handle_unknown='ignore'))\n",
    "    ])\n",
    "    numerical_transformer = Pipeline(steps=[\n",
    "        ('scaler', StandardScaler())\n",
    "    ])\n",
    "\n",
    "    preprocessor = ColumnTransformer(\n",
    "        transformers=[\n",
    "            ('num', numerical_transformer, numerical_cols),\n",
    "            ('cat', categorical_transformer, categorical_cols)\n",
    "        ]\n",
    "    )\n",
    "    \n",
    "    return preprocessor"
   ]
  },
  {
   "cell_type": "markdown",
   "metadata": {},
   "source": [
    "# Tren og evaluer modell med logging av evaluering."
   ]
  },
  {
   "cell_type": "code",
   "execution_count": 96,
   "metadata": {},
   "outputs": [],
   "source": [
    "# Funksjon for å trene og evaluere modeller\n",
    "def train_and_evaluate_models(X_train, y_train, X_val, y_val, models, preprocessor):\n",
    "    best_rmse = float('inf')\n",
    "    best_model_name = None\n",
    "    best_model_pipeline = None\n",
    "\n",
    "    for model_name in models:\n",
    "        model_pipeline = Pipeline(steps=[\n",
    "            ('preprocessor', preprocessor),\n",
    "            ('model', model_pipelines[model_name])\n",
    "        ])\n",
    "        # Sjekke for beste med GridSearch\n",
    "        param_grid = param_grids.get(model_name, {})\n",
    "        if param_grid:\n",
    "            grid_search = GridSearchCV(model_pipeline, param_grid, cv=5, scoring='neg_root_mean_squared_error', n_jobs=-1) \n",
    "            grid_search.fit(X_train, y_train)\n",
    "            rmse_val = -grid_search.best_score_\n",
    "            current_pipeline = grid_search.best_estimator_\n",
    "        else:\n",
    "            model_pipeline.fit(X_train, y_train)\n",
    "            y_val_pred = model_pipeline.predict(X_val)\n",
    "            rmse_val = mean_squared_error(y_val, y_val_pred, squared=False)\n",
    "            current_pipeline = model_pipeline\n",
    "\n",
    "        print(f'{model_name}: {rmse_val:.2f}')\n",
    "        \n",
    "        # Only update the best pipeline if the current model's RMSE is better\n",
    "        if rmse_val < best_rmse:\n",
    "            best_rmse = rmse_val\n",
    "            best_model_name = model_name\n",
    "            best_model_pipeline = current_pipeline\n",
    "\n",
    "    return best_model_name, best_model_pipeline, best_rmse\n",
    "\n",
    "\n",
    "# Funksjon for å logge og vise resultater\n",
    "def log_results(strategy, best_model_name, best_rmse, within_10_diff_percent, rmse_full, within_10_diff_percent_full, results, best_model_pipeline):\n",
    "    results[strategy] = {\n",
    "        'best_model': best_model_name,\n",
    "        'validation_rmse': best_rmse,\n",
    "        'model_pipeline': best_model_pipeline, # Lagre acutal pipeline\n",
    "        'within_10_diff_percent': within_10_diff_percent,\n",
    "        'full_dataset_rmse': rmse_full,\n",
    "        'within_10_diff_percent_full': within_10_diff_percent_full\n",
    "    }\n",
    "\n",
    "    print(f'{strategy} - Best Model: {best_model_name}')\n",
    "    print(f'{strategy} - Validation RMSE: {best_rmse:.2f}')\n",
    "    print(f'{strategy} - Within 10 diff: {within_10_diff_percent:.2f}%')\n",
    "    print(f'{strategy} - Full Dataset RMSE: {rmse_full:.2f}')\n",
    "    print(f'{strategy} - Within 10 diff (Full Dataset): {within_10_diff_percent_full:.2f}%')\n"
   ]
  },
  {
   "cell_type": "markdown",
   "metadata": {},
   "source": [
    "# Evaluere og teste alle modellene"
   ]
  },
  {
   "cell_type": "code",
   "execution_count": 97,
   "metadata": {},
   "outputs": [
    {
     "data": {
      "application/vnd.plotly.v1+json": {
       "config": {
        "plotlyServerURL": "https://plot.ly"
       },
       "data": [
        {
         "type": "heatmap",
         "x": [
          "alder",
          "sykehusdød",
          "blodtrykk",
          "hvite_blodlegemer",
          "hjertefrekvens",
          "respirasjonsfrekvens",
          "kroppstemperatur",
          "lungefunksjon",
          "serumalbumin",
          "bilirubin",
          "natrium",
          "blod_ph",
          "glukose",
          "urinmengde",
          "dødsfall",
          "antall_komorbiditeter",
          "koma_score",
          "adl_pasient",
          "adl_stedfortreder",
          "diabetes",
          "demens",
          "dnr_dag",
          "alder_gruppe",
          "sosiooekonomisk_status",
          "overlevelses_proxy",
          "nyrefunksjons_proxy"
         ],
         "y": [
          "alder",
          "sykehusdød",
          "blodtrykk",
          "hvite_blodlegemer",
          "hjertefrekvens",
          "respirasjonsfrekvens",
          "kroppstemperatur",
          "lungefunksjon",
          "serumalbumin",
          "bilirubin",
          "natrium",
          "blod_ph",
          "glukose",
          "urinmengde",
          "dødsfall",
          "antall_komorbiditeter",
          "koma_score",
          "adl_pasient",
          "adl_stedfortreder",
          "diabetes",
          "demens",
          "dnr_dag",
          "alder_gruppe",
          "sosiooekonomisk_status",
          "overlevelses_proxy",
          "nyrefunksjons_proxy"
         ],
         "z": [
          [
           1,
           0.12878860008071547,
           -0.06670828931286489,
           0.05171170235852692,
           0.14550740550822702,
           0.2551832418289385,
           0.05253115533863107,
           0.015578711042682299,
           0.16709202412602542,
           0.08792010059843337,
           0.11171722311245769,
           -0.10258826505576779,
           -0.22490694848768522,
           -0.06733521296937697,
           -0.10244755490660609,
           0.233421237458965,
           -0.03557115134202784,
           -0.08363972531733495,
           0.10729571984965482,
           0.30614476710748617,
           null,
           -0.08901144758647211,
           0.9396313268166174,
           0.22725936666167193,
           0.10377235620245895,
           -0.019410433465801187
          ],
          [
           0.12878860008071547,
           1,
           -0.16929105497503255,
           -0.22450961850002574,
           0.25289978834648824,
           -0.17455632270058394,
           0.0959022666470294,
           -0.18199728982948185,
           -0.2116946834861192,
           -0.056092476426858676,
           0.13386382088972007,
           -0.20501033215383435,
           -0.15813222216615033,
           0.026786834688104694,
           0.06059678724350821,
           0.0596645117347919,
           -0.05676829065305771,
           0.0032358731836187767,
           -0.08531881052756274,
           -0.05460324724246342,
           null,
           0.04304680428793703,
           0.2001817218516785,
           0.16478396808682974,
           -0.061616855460897534,
           -0.06564023332982982
          ],
          [
           -0.06670828931286489,
           -0.16929105497503255,
           1,
           0.24550178568626935,
           0.3138691635229629,
           0.11913815067349239,
           -0.015869535860162754,
           0.06467124154366097,
           0.052048221425328396,
           0.011021529912769272,
           -0.0121469459974949,
           0.26798069274389247,
           0.234293345925939,
           0.24858019636103476,
           -0.11573461585651745,
           -0.33334465826114384,
           0.12368241964837506,
           0.24641667395611658,
           0.003190189848412851,
           0.08336550432242769,
           null,
           0.127864462350336,
           -0.018883970715653637,
           -0.06238298385085377,
           0.06379055254596108,
           -0.2138164905910754
          ],
          [
           0.05171170235852692,
           -0.22450961850002574,
           0.24550178568626935,
           1,
           0.2463163299401816,
           0.1056789590410483,
           -0.0033346183612599214,
           -0.21325999960771463,
           -0.29968069783785906,
           0.09274940461845897,
           -0.10266943751315988,
           -0.08270391510280761,
           0.19645551451873156,
           0.02463257351710831,
           0.29813152324578174,
           0.0021363604626490314,
           0.0229065078042197,
           0.035244252641967976,
           0.024415640684112776,
           0.005660648488131114,
           null,
           0.04128712433572432,
           0.007554752684989377,
           0.12552017962566075,
           -0.037470508939231595,
           0.24863234453056582
          ],
          [
           0.14550740550822702,
           0.25289978834648824,
           0.3138691635229629,
           0.2463163299401816,
           1,
           0.01167608703839677,
           0.25364944519735966,
           -0.01505101864069984,
           -0.3691345139580491,
           0.13445410987788017,
           0.21755871198153498,
           0.0622355238244283,
           -0.04009508576279223,
           0.008803825571960867,
           0.07801737168140241,
           -0.039517926764230805,
           0.20930119876321193,
           -0.024228108156607312,
           -0.1991473032570925,
           0.06322266679310198,
           null,
           0.1577779712718434,
           0.2793507648876736,
           0.13841756786245055,
           -0.125354889057156,
           -0.10830706964194464
          ],
          [
           0.2551832418289385,
           -0.17455632270058394,
           0.11913815067349239,
           0.1056789590410483,
           0.01167608703839677,
           1,
           -0.20737641859529637,
           0.17267599216124008,
           -0.0350811444565855,
           -0.1274471346148538,
           -0.11147952931477081,
           0.19931976695346873,
           0.04551180928031794,
           0.1009151252865787,
           0.04700621152921419,
           -0.00993455367860776,
           -0.08848834962196664,
           -0.027045824829297467,
           -0.014914616043873239,
           0.12563890436910083,
           null,
           0.16972814481230405,
           0.25674834416597964,
           0.05444192503669774,
           -0.053049244994411646,
           -0.03740909441973532
          ],
          [
           0.05253115533863107,
           0.0959022666470294,
           -0.015869535860162754,
           -0.0033346183612599214,
           0.25364944519735966,
           -0.20737641859529637,
           1,
           -0.15635329414056676,
           -0.08804583625246964,
           -0.05761179691861155,
           0.41615404698981606,
           -0.3605224478867733,
           -0.05604182264017153,
           0.1404590462326954,
           0.060158615500917834,
           0.11254319541361536,
           0.08985491329700353,
           0.03669678004298477,
           -0.08838184876482921,
           0.08673374613284937,
           null,
           -0.006961151729863811,
           0.040544605083447455,
           -0.12576364485515712,
           0.06316867102058836,
           -0.10999242189706823
          ],
          [
           0.015578711042682299,
           -0.18199728982948185,
           0.06467124154366097,
           -0.21325999960771463,
           -0.01505101864069984,
           0.17267599216124008,
           -0.15635329414056676,
           1,
           0.00795825370052865,
           -0.16538109071340606,
           -0.2983145305447681,
           0.28741289470248926,
           -0.1452291333221542,
           -0.129831430205477,
           -0.24813388615613235,
           -0.15592179011815632,
           0.21704976416854965,
           0.0642493144376145,
           0.03439775524059679,
           0.004608715727456295,
           null,
           -0.14269535375959386,
           0.022339781157153186,
           0.3184456944118075,
           0.01902214165190579,
           -0.09641229168629867
          ],
          [
           0.16709202412602542,
           -0.2116946834861192,
           0.052048221425328396,
           -0.29968069783785906,
           -0.3691345139580491,
           -0.0350811444565855,
           -0.08804583625246964,
           0.00795825370052865,
           1,
           -0.11501875277599885,
           0.05153129437370416,
           -0.037102672667037685,
           -0.08512878126660194,
           0.13251918318415973,
           -0.06429256016047294,
           0.07109017093803965,
           -0.13861266495787947,
           -0.02656259918249948,
           0.03844730972248323,
           0.07897250441668702,
           null,
           -0.20709959272518755,
           0.1904370702185017,
           -0.11879241915120933,
           0.18616563550390325,
           -0.07373394135337302
          ],
          [
           0.08792010059843337,
           -0.056092476426858676,
           0.011021529912769272,
           0.09274940461845897,
           0.13445410987788017,
           -0.1274471346148538,
           -0.05761179691861155,
           -0.16538109071340606,
           -0.11501875277599885,
           1,
           -0.12325067322777199,
           0.18926874011706812,
           -0.03772098575919754,
           -0.09207112038644887,
           0.0942628644932656,
           -0.07680098389473514,
           -0.06082348810270498,
           -0.0644352166249667,
           -0.07197648559431816,
           -0.05431203885826977,
           null,
           0.07870792819875956,
           0.13664188396735846,
           -0.026311957836301473,
           -0.24825261469193585,
           0.004270746151602684
          ],
          [
           0.11171722311245769,
           0.13386382088972007,
           -0.0121469459974949,
           -0.10266943751315988,
           0.21755871198153498,
           -0.11147952931477081,
           0.41615404698981606,
           -0.2983145305447681,
           0.05153129437370416,
           -0.12325067322777199,
           1,
           -0.3992579045250236,
           -0.2994243669778106,
           0.16325868958890152,
           0.002755164702879612,
           0.07194283992962623,
           -0.5295606160399736,
           -0.24196343747200721,
           -0.15939223352767196,
           -0.17070738347967263,
           null,
           -0.0806142963783925,
           0.16929156958489106,
           -0.16825872532832248,
           0.0136226663087748,
           -0.04832203831008222
          ],
          [
           -0.10258826505576779,
           -0.20501033215383435,
           0.26798069274389247,
           -0.08270391510280761,
           0.0622355238244283,
           0.19931976695346873,
           -0.3605224478867733,
           0.28741289470248926,
           -0.037102672667037685,
           0.18926874011706812,
           -0.3992579045250236,
           1,
           0.0924751779497774,
           -0.048692486694049714,
           0.09598586128910949,
           -0.09455169975269216,
           0.17926815494568013,
           -0.05332112956264477,
           -0.17102521263978426,
           0.14756533204615005,
           null,
           -0.17847640787899818,
           -0.09813744823888623,
           -0.02290186271795475,
           0.10409115543576809,
           -0.15594966356705206
          ],
          [
           -0.22490694848768522,
           -0.15813222216615033,
           0.234293345925939,
           0.19645551451873156,
           -0.04009508576279223,
           0.04551180928031794,
           -0.05604182264017153,
           -0.1452291333221542,
           -0.08512878126660194,
           -0.03772098575919754,
           -0.2994243669778106,
           0.0924751779497774,
           1,
           0.017436040024976007,
           0.15017099201887957,
           0.09749047300177946,
           0.1898465154332624,
           0.3738528032583697,
           0.3476978051945058,
           0.14479800152193142,
           null,
           0.1446604178268454,
           -0.268773340787936,
           -0.016475176100064007,
           0.12517040842797889,
           0.19614655946588558
          ],
          [
           -0.06733521296937697,
           0.026786834688104694,
           0.24858019636103476,
           0.02463257351710831,
           0.008803825571960867,
           0.1009151252865787,
           0.1404590462326954,
           -0.129831430205477,
           0.13251918318415973,
           -0.09207112038644887,
           0.16325868958890152,
           -0.048692486694049714,
           0.017436040024976007,
           1,
           0.059233627865488095,
           -0.2826892515416163,
           -0.002604449181291117,
           -0.08667584793842159,
           -0.06477316684546695,
           -0.19086683256889472,
           null,
           0.24111365515218292,
           0.0210212485547668,
           0.22996280533068192,
           -0.10143022600384057,
           -0.17384710552444094
          ],
          [
           -0.10244755490660609,
           0.06059678724350821,
           -0.11573461585651745,
           0.29813152324578174,
           0.07801737168140241,
           0.04700621152921419,
           0.060158615500917834,
           -0.24813388615613235,
           -0.06429256016047294,
           0.0942628644932656,
           0.002755164702879612,
           0.09598586128910949,
           0.15017099201887957,
           0.059233627865488095,
           1,
           -0.01865586505367791,
           0.04727307267179737,
           -0.22484243495341197,
           -0.019212145538664016,
           0.14227759830611802,
           null,
           -0.06378033445222504,
           -0.10583307628796186,
           -0.158928844963987,
           0.1019609329036077,
           0.23472312469649176
          ],
          [
           0.233421237458965,
           0.0596645117347919,
           -0.33334465826114384,
           0.0021363604626490314,
           -0.039517926764230805,
           -0.00993455367860776,
           0.11254319541361536,
           -0.15592179011815632,
           0.07109017093803965,
           -0.07680098389473514,
           0.07194283992962623,
           -0.09455169975269216,
           0.09749047300177946,
           -0.2826892515416163,
           -0.01865586505367791,
           1,
           -0.15825565600744249,
           0.12319978229139658,
           0.16181773255391527,
           0.38664473386935466,
           null,
           -0.21334363447754215,
           0.1348708422408164,
           -0.29951506678768625,
           0.28902642692248387,
           0.20825297427791892
          ],
          [
           -0.03557115134202784,
           -0.05676829065305771,
           0.12368241964837506,
           0.0229065078042197,
           0.20930119876321193,
           -0.08848834962196664,
           0.08985491329700353,
           0.21704976416854965,
           -0.13861266495787947,
           -0.06082348810270498,
           -0.5295606160399736,
           0.17926815494568013,
           0.1898465154332624,
           -0.002604449181291117,
           0.04727307267179737,
           -0.15825565600744249,
           1,
           0.17988284493327564,
           0.1451264043944213,
           0.1811074934146324,
           null,
           0.054610399682522355,
           -0.06548929444075935,
           0.20299173524133793,
           0.023134483549782404,
           -0.04518664124334811
          ],
          [
           -0.08363972531733495,
           0.0032358731836187767,
           0.24641667395611658,
           0.035244252641967976,
           -0.024228108156607312,
           -0.027045824829297467,
           0.03669678004298477,
           0.0642493144376145,
           -0.02656259918249948,
           -0.0644352166249667,
           -0.24196343747200721,
           -0.05332112956264477,
           0.3738528032583697,
           -0.08667584793842159,
           -0.22484243495341197,
           0.12319978229139658,
           0.17988284493327564,
           1,
           0.5970913042920784,
           0.14131600895561577,
           null,
           0.10252857749664841,
           -0.1477462149429408,
           -0.029117738825051143,
           0.10311520152070004,
           -0.024287484869109473
          ],
          [
           0.10729571984965482,
           -0.08531881052756274,
           0.003190189848412851,
           0.024415640684112776,
           -0.1991473032570925,
           -0.014914616043873239,
           -0.08838184876482921,
           0.03439775524059679,
           0.03844730972248323,
           -0.07197648559431816,
           -0.15939223352767196,
           -0.17102521263978426,
           0.3476978051945058,
           -0.06477316684546695,
           -0.019212145538664016,
           0.16181773255391527,
           0.1451264043944213,
           0.5970913042920784,
           1,
           0.1914201535862824,
           null,
           0.17306508619040017,
           -0.020104579286234003,
           0.09684249119814278,
           0.24461931701585363,
           0.36717623403349986
          ],
          [
           0.30614476710748617,
           -0.05460324724246342,
           0.08336550432242769,
           0.005660648488131114,
           0.06322266679310198,
           0.12563890436910083,
           0.08673374613284937,
           0.004608715727456295,
           0.07897250441668702,
           -0.05431203885826977,
           -0.17070738347967263,
           0.14756533204615005,
           0.14479800152193142,
           -0.19086683256889472,
           0.14227759830611802,
           0.38664473386935466,
           0.1811074934146324,
           0.14131600895561577,
           0.1914201535862824,
           1,
           null,
           -0.003567222275078214,
           0.20026708967747148,
           -0.0726332881252614,
           0.26251166164539175,
           -0.04041216757647731
          ],
          [
           null,
           null,
           null,
           null,
           null,
           null,
           null,
           null,
           null,
           null,
           null,
           null,
           null,
           null,
           null,
           null,
           null,
           null,
           null,
           null,
           null,
           null,
           null,
           null,
           null,
           null
          ],
          [
           -0.08901144758647211,
           0.04304680428793703,
           0.127864462350336,
           0.04128712433572432,
           0.1577779712718434,
           0.16972814481230405,
           -0.006961151729863811,
           -0.14269535375959386,
           -0.20709959272518755,
           0.07870792819875956,
           -0.0806142963783925,
           -0.17847640787899818,
           0.1446604178268454,
           0.24111365515218292,
           -0.06378033445222504,
           -0.21334363447754215,
           0.054610399682522355,
           0.10252857749664841,
           0.17306508619040017,
           -0.003567222275078214,
           null,
           1,
           -0.036959121652461124,
           0.20352825704526523,
           -0.3914117061280038,
           0.06526964114745865
          ],
          [
           0.9396313268166174,
           0.2001817218516785,
           -0.018883970715653637,
           0.007554752684989377,
           0.2793507648876736,
           0.25674834416597964,
           0.040544605083447455,
           0.022339781157153186,
           0.1904370702185017,
           0.13664188396735846,
           0.16929156958489106,
           -0.09813744823888623,
           -0.268773340787936,
           0.0210212485547668,
           -0.10583307628796186,
           0.1348708422408164,
           -0.06548929444075935,
           -0.1477462149429408,
           -0.020104579286234003,
           0.20026708967747148,
           null,
           -0.036959121652461124,
           1,
           0.22965773824473093,
           0.017611891676276366,
           -0.05092244205007027
          ],
          [
           0.22725936666167193,
           0.16478396808682974,
           -0.06238298385085377,
           0.12552017962566075,
           0.13841756786245055,
           0.05444192503669774,
           -0.12576364485515712,
           0.3184456944118075,
           -0.11879241915120933,
           -0.026311957836301473,
           -0.16825872532832248,
           -0.02290186271795475,
           -0.016475176100064007,
           0.22996280533068192,
           -0.158928844963987,
           -0.29951506678768625,
           0.20299173524133793,
           -0.029117738825051143,
           0.09684249119814278,
           -0.0726332881252614,
           null,
           0.20352825704526523,
           0.22965773824473093,
           1,
           -0.2553252028357654,
           -0.2384668654362667
          ],
          [
           0.10377235620245895,
           -0.061616855460897534,
           0.06379055254596108,
           -0.037470508939231595,
           -0.125354889057156,
           -0.053049244994411646,
           0.06316867102058836,
           0.01902214165190579,
           0.18616563550390325,
           -0.24825261469193585,
           0.0136226663087748,
           0.10409115543576809,
           0.12517040842797889,
           -0.10143022600384057,
           0.1019609329036077,
           0.28902642692248387,
           0.023134483549782404,
           0.10311520152070004,
           0.24461931701585363,
           0.26251166164539175,
           null,
           -0.3914117061280038,
           0.017611891676276366,
           -0.2553252028357654,
           1,
           0.25109653306833585
          ],
          [
           -0.019410433465801187,
           -0.06564023332982982,
           -0.2138164905910754,
           0.24863234453056582,
           -0.10830706964194464,
           -0.03740909441973532,
           -0.10999242189706823,
           -0.09641229168629867,
           -0.07373394135337302,
           0.004270746151602684,
           -0.04832203831008222,
           -0.15594966356705206,
           0.19614655946588558,
           -0.17384710552444094,
           0.23472312469649176,
           0.20825297427791892,
           -0.04518664124334811,
           -0.024287484869109473,
           0.36717623403349986,
           -0.04041216757647731,
           null,
           0.06526964114745865,
           -0.05092244205007027,
           -0.2384668654362667,
           0.25109653306833585,
           1
          ]
         ],
         "zmax": 1,
         "zmin": -1
        }
       ],
       "layout": {
        "autosize": false,
        "height": 800,
        "template": {
         "data": {
          "bar": [
           {
            "error_x": {
             "color": "#2a3f5f"
            },
            "error_y": {
             "color": "#2a3f5f"
            },
            "marker": {
             "line": {
              "color": "#E5ECF6",
              "width": 0.5
             },
             "pattern": {
              "fillmode": "overlay",
              "size": 10,
              "solidity": 0.2
             }
            },
            "type": "bar"
           }
          ],
          "barpolar": [
           {
            "marker": {
             "line": {
              "color": "#E5ECF6",
              "width": 0.5
             },
             "pattern": {
              "fillmode": "overlay",
              "size": 10,
              "solidity": 0.2
             }
            },
            "type": "barpolar"
           }
          ],
          "carpet": [
           {
            "aaxis": {
             "endlinecolor": "#2a3f5f",
             "gridcolor": "white",
             "linecolor": "white",
             "minorgridcolor": "white",
             "startlinecolor": "#2a3f5f"
            },
            "baxis": {
             "endlinecolor": "#2a3f5f",
             "gridcolor": "white",
             "linecolor": "white",
             "minorgridcolor": "white",
             "startlinecolor": "#2a3f5f"
            },
            "type": "carpet"
           }
          ],
          "choropleth": [
           {
            "colorbar": {
             "outlinewidth": 0,
             "ticks": ""
            },
            "type": "choropleth"
           }
          ],
          "contour": [
           {
            "colorbar": {
             "outlinewidth": 0,
             "ticks": ""
            },
            "colorscale": [
             [
              0,
              "#0d0887"
             ],
             [
              0.1111111111111111,
              "#46039f"
             ],
             [
              0.2222222222222222,
              "#7201a8"
             ],
             [
              0.3333333333333333,
              "#9c179e"
             ],
             [
              0.4444444444444444,
              "#bd3786"
             ],
             [
              0.5555555555555556,
              "#d8576b"
             ],
             [
              0.6666666666666666,
              "#ed7953"
             ],
             [
              0.7777777777777778,
              "#fb9f3a"
             ],
             [
              0.8888888888888888,
              "#fdca26"
             ],
             [
              1,
              "#f0f921"
             ]
            ],
            "type": "contour"
           }
          ],
          "contourcarpet": [
           {
            "colorbar": {
             "outlinewidth": 0,
             "ticks": ""
            },
            "type": "contourcarpet"
           }
          ],
          "heatmap": [
           {
            "colorbar": {
             "outlinewidth": 0,
             "ticks": ""
            },
            "colorscale": [
             [
              0,
              "#0d0887"
             ],
             [
              0.1111111111111111,
              "#46039f"
             ],
             [
              0.2222222222222222,
              "#7201a8"
             ],
             [
              0.3333333333333333,
              "#9c179e"
             ],
             [
              0.4444444444444444,
              "#bd3786"
             ],
             [
              0.5555555555555556,
              "#d8576b"
             ],
             [
              0.6666666666666666,
              "#ed7953"
             ],
             [
              0.7777777777777778,
              "#fb9f3a"
             ],
             [
              0.8888888888888888,
              "#fdca26"
             ],
             [
              1,
              "#f0f921"
             ]
            ],
            "type": "heatmap"
           }
          ],
          "heatmapgl": [
           {
            "colorbar": {
             "outlinewidth": 0,
             "ticks": ""
            },
            "colorscale": [
             [
              0,
              "#0d0887"
             ],
             [
              0.1111111111111111,
              "#46039f"
             ],
             [
              0.2222222222222222,
              "#7201a8"
             ],
             [
              0.3333333333333333,
              "#9c179e"
             ],
             [
              0.4444444444444444,
              "#bd3786"
             ],
             [
              0.5555555555555556,
              "#d8576b"
             ],
             [
              0.6666666666666666,
              "#ed7953"
             ],
             [
              0.7777777777777778,
              "#fb9f3a"
             ],
             [
              0.8888888888888888,
              "#fdca26"
             ],
             [
              1,
              "#f0f921"
             ]
            ],
            "type": "heatmapgl"
           }
          ],
          "histogram": [
           {
            "marker": {
             "pattern": {
              "fillmode": "overlay",
              "size": 10,
              "solidity": 0.2
             }
            },
            "type": "histogram"
           }
          ],
          "histogram2d": [
           {
            "colorbar": {
             "outlinewidth": 0,
             "ticks": ""
            },
            "colorscale": [
             [
              0,
              "#0d0887"
             ],
             [
              0.1111111111111111,
              "#46039f"
             ],
             [
              0.2222222222222222,
              "#7201a8"
             ],
             [
              0.3333333333333333,
              "#9c179e"
             ],
             [
              0.4444444444444444,
              "#bd3786"
             ],
             [
              0.5555555555555556,
              "#d8576b"
             ],
             [
              0.6666666666666666,
              "#ed7953"
             ],
             [
              0.7777777777777778,
              "#fb9f3a"
             ],
             [
              0.8888888888888888,
              "#fdca26"
             ],
             [
              1,
              "#f0f921"
             ]
            ],
            "type": "histogram2d"
           }
          ],
          "histogram2dcontour": [
           {
            "colorbar": {
             "outlinewidth": 0,
             "ticks": ""
            },
            "colorscale": [
             [
              0,
              "#0d0887"
             ],
             [
              0.1111111111111111,
              "#46039f"
             ],
             [
              0.2222222222222222,
              "#7201a8"
             ],
             [
              0.3333333333333333,
              "#9c179e"
             ],
             [
              0.4444444444444444,
              "#bd3786"
             ],
             [
              0.5555555555555556,
              "#d8576b"
             ],
             [
              0.6666666666666666,
              "#ed7953"
             ],
             [
              0.7777777777777778,
              "#fb9f3a"
             ],
             [
              0.8888888888888888,
              "#fdca26"
             ],
             [
              1,
              "#f0f921"
             ]
            ],
            "type": "histogram2dcontour"
           }
          ],
          "mesh3d": [
           {
            "colorbar": {
             "outlinewidth": 0,
             "ticks": ""
            },
            "type": "mesh3d"
           }
          ],
          "parcoords": [
           {
            "line": {
             "colorbar": {
              "outlinewidth": 0,
              "ticks": ""
             }
            },
            "type": "parcoords"
           }
          ],
          "pie": [
           {
            "automargin": true,
            "type": "pie"
           }
          ],
          "scatter": [
           {
            "fillpattern": {
             "fillmode": "overlay",
             "size": 10,
             "solidity": 0.2
            },
            "type": "scatter"
           }
          ],
          "scatter3d": [
           {
            "line": {
             "colorbar": {
              "outlinewidth": 0,
              "ticks": ""
             }
            },
            "marker": {
             "colorbar": {
              "outlinewidth": 0,
              "ticks": ""
             }
            },
            "type": "scatter3d"
           }
          ],
          "scattercarpet": [
           {
            "marker": {
             "colorbar": {
              "outlinewidth": 0,
              "ticks": ""
             }
            },
            "type": "scattercarpet"
           }
          ],
          "scattergeo": [
           {
            "marker": {
             "colorbar": {
              "outlinewidth": 0,
              "ticks": ""
             }
            },
            "type": "scattergeo"
           }
          ],
          "scattergl": [
           {
            "marker": {
             "colorbar": {
              "outlinewidth": 0,
              "ticks": ""
             }
            },
            "type": "scattergl"
           }
          ],
          "scattermapbox": [
           {
            "marker": {
             "colorbar": {
              "outlinewidth": 0,
              "ticks": ""
             }
            },
            "type": "scattermapbox"
           }
          ],
          "scatterpolar": [
           {
            "marker": {
             "colorbar": {
              "outlinewidth": 0,
              "ticks": ""
             }
            },
            "type": "scatterpolar"
           }
          ],
          "scatterpolargl": [
           {
            "marker": {
             "colorbar": {
              "outlinewidth": 0,
              "ticks": ""
             }
            },
            "type": "scatterpolargl"
           }
          ],
          "scatterternary": [
           {
            "marker": {
             "colorbar": {
              "outlinewidth": 0,
              "ticks": ""
             }
            },
            "type": "scatterternary"
           }
          ],
          "surface": [
           {
            "colorbar": {
             "outlinewidth": 0,
             "ticks": ""
            },
            "colorscale": [
             [
              0,
              "#0d0887"
             ],
             [
              0.1111111111111111,
              "#46039f"
             ],
             [
              0.2222222222222222,
              "#7201a8"
             ],
             [
              0.3333333333333333,
              "#9c179e"
             ],
             [
              0.4444444444444444,
              "#bd3786"
             ],
             [
              0.5555555555555556,
              "#d8576b"
             ],
             [
              0.6666666666666666,
              "#ed7953"
             ],
             [
              0.7777777777777778,
              "#fb9f3a"
             ],
             [
              0.8888888888888888,
              "#fdca26"
             ],
             [
              1,
              "#f0f921"
             ]
            ],
            "type": "surface"
           }
          ],
          "table": [
           {
            "cells": {
             "fill": {
              "color": "#EBF0F8"
             },
             "line": {
              "color": "white"
             }
            },
            "header": {
             "fill": {
              "color": "#C8D4E3"
             },
             "line": {
              "color": "white"
             }
            },
            "type": "table"
           }
          ]
         },
         "layout": {
          "annotationdefaults": {
           "arrowcolor": "#2a3f5f",
           "arrowhead": 0,
           "arrowwidth": 1
          },
          "autotypenumbers": "strict",
          "coloraxis": {
           "colorbar": {
            "outlinewidth": 0,
            "ticks": ""
           }
          },
          "colorscale": {
           "diverging": [
            [
             0,
             "#8e0152"
            ],
            [
             0.1,
             "#c51b7d"
            ],
            [
             0.2,
             "#de77ae"
            ],
            [
             0.3,
             "#f1b6da"
            ],
            [
             0.4,
             "#fde0ef"
            ],
            [
             0.5,
             "#f7f7f7"
            ],
            [
             0.6,
             "#e6f5d0"
            ],
            [
             0.7,
             "#b8e186"
            ],
            [
             0.8,
             "#7fbc41"
            ],
            [
             0.9,
             "#4d9221"
            ],
            [
             1,
             "#276419"
            ]
           ],
           "sequential": [
            [
             0,
             "#0d0887"
            ],
            [
             0.1111111111111111,
             "#46039f"
            ],
            [
             0.2222222222222222,
             "#7201a8"
            ],
            [
             0.3333333333333333,
             "#9c179e"
            ],
            [
             0.4444444444444444,
             "#bd3786"
            ],
            [
             0.5555555555555556,
             "#d8576b"
            ],
            [
             0.6666666666666666,
             "#ed7953"
            ],
            [
             0.7777777777777778,
             "#fb9f3a"
            ],
            [
             0.8888888888888888,
             "#fdca26"
            ],
            [
             1,
             "#f0f921"
            ]
           ],
           "sequentialminus": [
            [
             0,
             "#0d0887"
            ],
            [
             0.1111111111111111,
             "#46039f"
            ],
            [
             0.2222222222222222,
             "#7201a8"
            ],
            [
             0.3333333333333333,
             "#9c179e"
            ],
            [
             0.4444444444444444,
             "#bd3786"
            ],
            [
             0.5555555555555556,
             "#d8576b"
            ],
            [
             0.6666666666666666,
             "#ed7953"
            ],
            [
             0.7777777777777778,
             "#fb9f3a"
            ],
            [
             0.8888888888888888,
             "#fdca26"
            ],
            [
             1,
             "#f0f921"
            ]
           ]
          },
          "colorway": [
           "#636efa",
           "#EF553B",
           "#00cc96",
           "#ab63fa",
           "#FFA15A",
           "#19d3f3",
           "#FF6692",
           "#B6E880",
           "#FF97FF",
           "#FECB52"
          ],
          "font": {
           "color": "#2a3f5f"
          },
          "geo": {
           "bgcolor": "white",
           "lakecolor": "white",
           "landcolor": "#E5ECF6",
           "showlakes": true,
           "showland": true,
           "subunitcolor": "white"
          },
          "hoverlabel": {
           "align": "left"
          },
          "hovermode": "closest",
          "mapbox": {
           "style": "light"
          },
          "paper_bgcolor": "white",
          "plot_bgcolor": "#E5ECF6",
          "polar": {
           "angularaxis": {
            "gridcolor": "white",
            "linecolor": "white",
            "ticks": ""
           },
           "bgcolor": "#E5ECF6",
           "radialaxis": {
            "gridcolor": "white",
            "linecolor": "white",
            "ticks": ""
           }
          },
          "scene": {
           "xaxis": {
            "backgroundcolor": "#E5ECF6",
            "gridcolor": "white",
            "gridwidth": 2,
            "linecolor": "white",
            "showbackground": true,
            "ticks": "",
            "zerolinecolor": "white"
           },
           "yaxis": {
            "backgroundcolor": "#E5ECF6",
            "gridcolor": "white",
            "gridwidth": 2,
            "linecolor": "white",
            "showbackground": true,
            "ticks": "",
            "zerolinecolor": "white"
           },
           "zaxis": {
            "backgroundcolor": "#E5ECF6",
            "gridcolor": "white",
            "gridwidth": 2,
            "linecolor": "white",
            "showbackground": true,
            "ticks": "",
            "zerolinecolor": "white"
           }
          },
          "shapedefaults": {
           "line": {
            "color": "#2a3f5f"
           }
          },
          "ternary": {
           "aaxis": {
            "gridcolor": "white",
            "linecolor": "white",
            "ticks": ""
           },
           "baxis": {
            "gridcolor": "white",
            "linecolor": "white",
            "ticks": ""
           },
           "bgcolor": "#E5ECF6",
           "caxis": {
            "gridcolor": "white",
            "linecolor": "white",
            "ticks": ""
           }
          },
          "title": {
           "x": 0.05
          },
          "xaxis": {
           "automargin": true,
           "gridcolor": "white",
           "linecolor": "white",
           "ticks": "",
           "title": {
            "standoff": 15
           },
           "zerolinecolor": "white",
           "zerolinewidth": 2
          },
          "yaxis": {
           "automargin": true,
           "gridcolor": "white",
           "linecolor": "white",
           "ticks": "",
           "title": {
            "standoff": 15
           },
           "zerolinecolor": "white",
           "zerolinewidth": 2
          }
         }
        },
        "title": {
         "text": "drop_nan - Korrelasjonsmatrise"
        },
        "width": 800,
        "xaxis": {
         "nticks": 26
        },
        "yaxis": {
         "nticks": 26
        }
       }
      }
     },
     "metadata": {},
     "output_type": "display_data"
    },
    {
     "name": "stdout",
     "output_type": "stream",
     "text": [
      "Random Forest: 4.95\n",
      "Gradient Boosting: 4.64\n",
      "Decision Tree: 5.51\n",
      "Linear Regression: 15.67\n",
      "Polynomial Regression: 11.90\n",
      "Ridge Regression: 4.39\n",
      "drop_nan - Best Model: Ridge Regression\n",
      "drop_nan - Validation RMSE: 4.39\n",
      "drop_nan - Within 10 diff: 66.67%\n",
      "drop_nan - Full Dataset RMSE: 24.64\n",
      "drop_nan - Within 10 diff (Full Dataset): 65.26%\n"
     ]
    },
    {
     "name": "stderr",
     "output_type": "stream",
     "text": [
      "C:\\Users\\47476\\AppData\\Local\\Temp\\ipykernel_26584\\645448223.py:25: FutureWarning:\n",
      "\n",
      "A value is trying to be set on a copy of a DataFrame or Series through chained assignment using an inplace method.\n",
      "The behavior will change in pandas 3.0. This inplace method will never work because the intermediate object on which we are setting values always behaves as a copy.\n",
      "\n",
      "For example, when doing 'df[col].method(value, inplace=True)', try using 'df.method({col: value}, inplace=True)' or df[col] = df[col].method(value) instead, to perform the operation inplace on the original object.\n",
      "\n",
      "\n",
      "\n"
     ]
    },
    {
     "data": {
      "application/vnd.plotly.v1+json": {
       "config": {
        "plotlyServerURL": "https://plot.ly"
       },
       "data": [
        {
         "type": "heatmap",
         "x": [
          "alder",
          "sykehusdød",
          "blodtrykk",
          "hvite_blodlegemer",
          "hjertefrekvens",
          "respirasjonsfrekvens",
          "kroppstemperatur",
          "lungefunksjon",
          "natrium",
          "blod_ph",
          "dødsfall",
          "antall_komorbiditeter",
          "koma_score",
          "diabetes",
          "demens",
          "alder_gruppe",
          "overlevelses_proxy",
          "nyrefunksjons_proxy"
         ],
         "y": [
          "alder",
          "sykehusdød",
          "blodtrykk",
          "hvite_blodlegemer",
          "hjertefrekvens",
          "respirasjonsfrekvens",
          "kroppstemperatur",
          "lungefunksjon",
          "natrium",
          "blod_ph",
          "dødsfall",
          "antall_komorbiditeter",
          "koma_score",
          "diabetes",
          "demens",
          "alder_gruppe",
          "overlevelses_proxy",
          "nyrefunksjons_proxy"
         ],
         "z": [
          [
           1,
           0.04092467676880512,
           -0.05560744450307344,
           -0.005961915495014114,
           -0.14989015836397254,
           -0.02764204141204419,
           -0.09457577990355386,
           0.019982579196964636,
           -0.0022406792528371763,
           -0.026539038536125454,
           0.19383477700433985,
           0.13095840352726318,
           -0.001323835914910199,
           0.0989126752974747,
           0.19999144184535597,
           0.9604039293476727,
           -0.08346089200329056,
           0.017966195620306498
          ],
          [
           0.04092467676880512,
           1,
           -0.09981767929895681,
           0.050052175296273815,
           0.07103727674479324,
           0.006855448727756501,
           0.05512582084050308,
           -0.10773166882099844,
           0.013969156659801783,
           -0.04379005152203283,
           0.45057289658624544,
           -0.09080327967561948,
           0.37718958276009584,
           -0.03186594779509531,
           0.02120799802073935,
           0.04361687596111939,
           0.44295650901542943,
           -0.01812234465605932
          ],
          [
           -0.05560744450307344,
           -0.09981767929895681,
           1,
           -0.0334473442619642,
           0.08733522507003116,
           0.0697325586630853,
           -0.00575537476936806,
           0.11712872726898291,
           0.05111939120909189,
           0.11360694472407071,
           -0.04877177576514197,
           -0.00944255424052011,
           -0.07071797651152574,
           -0.010452172331865437,
           -0.0012326497496546241,
           -0.05168230719039316,
           -0.20983057466732183,
           -0.07051007665958328
          ],
          [
           -0.005961915495014114,
           0.050052175296273815,
           -0.0334473442619642,
           1,
           0.09200173869712847,
           -0.0028935604811061175,
           0.07214783766065386,
           -0.13300099226925857,
           -0.01575747011056955,
           -0.03999925538699745,
           0.002383905335998938,
           -0.02346401342516762,
           0.0646142924023372,
           0.01767852568526557,
           -0.00591367242709165,
           -0.008669776730983516,
           0.08931603419921963,
           0.08955161113160827
          ],
          [
           -0.14989015836397254,
           0.07103727674479324,
           0.08733522507003116,
           0.09200173869712847,
           1,
           0.19813976959026205,
           0.2402899101553323,
           -0.14128084037730096,
           0.026507507569817675,
           0.01513907115359827,
           0.00704217595918752,
           -0.08216982493757104,
           0.0030123477036097276,
           -0.08932447849050985,
           -0.03484522805943088,
           -0.14097842981774766,
           0.10867816564407234,
           -0.011971102522482102
          ],
          [
           -0.02764204141204419,
           0.006855448727756501,
           0.0697325586630853,
           -0.0028935604811061175,
           0.19813976959026205,
           1,
           0.054499608263669064,
           -0.05835305939960908,
           0.013551616157651696,
           0.01408081145624926,
           0.012404230379885143,
           -0.0031226314742675066,
           -0.0153293657540498,
           -0.05113380640556633,
           0.0021716703828424297,
           -0.031866141074164175,
           0.06931001909044189,
           -0.041386718121035226
          ],
          [
           -0.09457577990355386,
           0.05512582084050308,
           -0.00575537476936806,
           0.07214783766065386,
           0.2402899101553323,
           0.054499608263669064,
           1,
           -0.164172064043188,
           0.10703384639305907,
           0.06330928718435015,
           -0.016750028372950594,
           -0.11817508639978683,
           0.08861837870053212,
           -0.03159441665514217,
           -0.004802965545649628,
           -0.0900807358226547,
           0.04887155211770258,
           -0.0168090899190524
          ],
          [
           0.019982579196964636,
           -0.10773166882099844,
           0.11712872726898291,
           -0.13300099226925857,
           -0.14128084037730096,
           -0.05835305939960908,
           -0.164172064043188,
           1,
           -0.04117423057701203,
           0.12782496918104852,
           -0.007312946615005506,
           0.07490891671434241,
           -0.037748165435026994,
           0.036901209805247664,
           -0.0049155839358720164,
           0.016250510304677043,
           -0.16275289882735244,
           -0.053148362719419584
          ],
          [
           -0.0022406792528371763,
           0.013969156659801783,
           0.05111939120909189,
           -0.01575747011056955,
           0.026507507569817675,
           0.013551616157651696,
           0.10703384639305907,
           -0.04117423057701203,
           1,
           -0.04931961683953647,
           -0.021081057427324763,
           -0.023186199732897195,
           0.06973988160332528,
           0.010284617630513955,
           0.028533433860627382,
           -0.0030118024139009375,
           0.007804912631461883,
           0.08695909039471947
          ],
          [
           -0.026539038536125454,
           -0.04379005152203283,
           0.11360694472407071,
           -0.03999925538699745,
           0.01513907115359827,
           0.01408081145624926,
           0.06330928718435015,
           0.12782496918104852,
           -0.04931961683953647,
           1,
           -0.015246945471801387,
           -0.015605709974797375,
           -0.020355161469453518,
           -0.008654394549626694,
           -0.02701060718293661,
           -0.02694719031309048,
           -0.09769897634791232,
           -0.10473113825105061
          ],
          [
           0.19383477700433985,
           0.45057289658624544,
           -0.04877177576514197,
           0.002383905335998938,
           0.00704217595918752,
           0.012404230379885143,
           -0.016750028372950594,
           -0.007312946615005506,
           -0.021081057427324763,
           -0.015246945471801387,
           1,
           0.07418232193470134,
           0.16164558714601565,
           0.012189922164376164,
           0.047286070143143025,
           0.1897809105313972,
           0.18801220287518697,
           -0.048101128455234794
          ],
          [
           0.13095840352726318,
           -0.09080327967561948,
           -0.00944255424052011,
           -0.02346401342516762,
           -0.08216982493757104,
           -0.0031226314742675066,
           -0.11817508639978683,
           0.07490891671434241,
           -0.023186199732897195,
           -0.015605709974797375,
           0.07418232193470134,
           1,
           -0.13245781511462618,
           0.3926182337133868,
           0.14114792392007192,
           0.12645929586672536,
           -0.04073686403610504,
           0.0410618015070078
          ],
          [
           -0.001323835914910199,
           0.37718958276009584,
           -0.07071797651152574,
           0.0646142924023372,
           0.0030123477036097276,
           -0.0153293657540498,
           0.08861837870053212,
           -0.037748165435026994,
           0.06973988160332528,
           -0.020355161469453518,
           0.16164558714601565,
           -0.13245781511462618,
           1,
           -0.02139235516722503,
           0.0673304358435103,
           0.0020011496750260167,
           0.2834231081606368,
           0.002220007745264236
          ],
          [
           0.0989126752974747,
           -0.03186594779509531,
           -0.010452172331865437,
           0.01767852568526557,
           -0.08932447849050985,
           -0.05113380640556633,
           -0.03159441665514217,
           0.036901209805247664,
           0.010284617630513955,
           -0.008654394549626694,
           0.012189922164376164,
           0.3926182337133868,
           -0.02139235516722503,
           1,
           0.029417260683338765,
           0.0984434592462574,
           0.03173019307935537,
           0.04558704623824701
          ],
          [
           0.19999144184535597,
           0.02120799802073935,
           -0.0012326497496546241,
           -0.00591367242709165,
           -0.03484522805943088,
           0.0021716703828424297,
           -0.004802965545649628,
           -0.0049155839358720164,
           0.028533433860627382,
           -0.02701060718293661,
           0.047286070143143025,
           0.14114792392007192,
           0.0673304358435103,
           0.029417260683338765,
           1,
           0.17538753513552427,
           -0.019662222678660673,
           -0.004743413504945686
          ],
          [
           0.9604039293476727,
           0.04361687596111939,
           -0.05168230719039316,
           -0.008669776730983516,
           -0.14097842981774766,
           -0.031866141074164175,
           -0.0900807358226547,
           0.016250510304677043,
           -0.0030118024139009375,
           -0.02694719031309048,
           0.1897809105313972,
           0.12645929586672536,
           0.0020011496750260167,
           0.0984434592462574,
           0.17538753513552427,
           1,
           -0.08269578815077995,
           0.01641000477936171
          ],
          [
           -0.08346089200329056,
           0.44295650901542943,
           -0.20983057466732183,
           0.08931603419921963,
           0.10867816564407234,
           0.06931001909044189,
           0.04887155211770258,
           -0.16275289882735244,
           0.007804912631461883,
           -0.09769897634791232,
           0.18801220287518697,
           -0.04073686403610504,
           0.2834231081606368,
           0.03173019307935537,
           -0.019662222678660673,
           -0.08269578815077995,
           1,
           0.0034349676240650736
          ],
          [
           0.017966195620306498,
           -0.01812234465605932,
           -0.07051007665958328,
           0.08955161113160827,
           -0.011971102522482102,
           -0.041386718121035226,
           -0.0168090899190524,
           -0.053148362719419584,
           0.08695909039471947,
           -0.10473113825105061,
           -0.048101128455234794,
           0.0410618015070078,
           0.002220007745264236,
           0.04558704623824701,
           -0.004743413504945686,
           0.01641000477936171,
           0.0034349676240650736,
           1
          ]
         ],
         "zmax": 1,
         "zmin": -1
        }
       ],
       "layout": {
        "autosize": false,
        "height": 800,
        "template": {
         "data": {
          "bar": [
           {
            "error_x": {
             "color": "#2a3f5f"
            },
            "error_y": {
             "color": "#2a3f5f"
            },
            "marker": {
             "line": {
              "color": "#E5ECF6",
              "width": 0.5
             },
             "pattern": {
              "fillmode": "overlay",
              "size": 10,
              "solidity": 0.2
             }
            },
            "type": "bar"
           }
          ],
          "barpolar": [
           {
            "marker": {
             "line": {
              "color": "#E5ECF6",
              "width": 0.5
             },
             "pattern": {
              "fillmode": "overlay",
              "size": 10,
              "solidity": 0.2
             }
            },
            "type": "barpolar"
           }
          ],
          "carpet": [
           {
            "aaxis": {
             "endlinecolor": "#2a3f5f",
             "gridcolor": "white",
             "linecolor": "white",
             "minorgridcolor": "white",
             "startlinecolor": "#2a3f5f"
            },
            "baxis": {
             "endlinecolor": "#2a3f5f",
             "gridcolor": "white",
             "linecolor": "white",
             "minorgridcolor": "white",
             "startlinecolor": "#2a3f5f"
            },
            "type": "carpet"
           }
          ],
          "choropleth": [
           {
            "colorbar": {
             "outlinewidth": 0,
             "ticks": ""
            },
            "type": "choropleth"
           }
          ],
          "contour": [
           {
            "colorbar": {
             "outlinewidth": 0,
             "ticks": ""
            },
            "colorscale": [
             [
              0,
              "#0d0887"
             ],
             [
              0.1111111111111111,
              "#46039f"
             ],
             [
              0.2222222222222222,
              "#7201a8"
             ],
             [
              0.3333333333333333,
              "#9c179e"
             ],
             [
              0.4444444444444444,
              "#bd3786"
             ],
             [
              0.5555555555555556,
              "#d8576b"
             ],
             [
              0.6666666666666666,
              "#ed7953"
             ],
             [
              0.7777777777777778,
              "#fb9f3a"
             ],
             [
              0.8888888888888888,
              "#fdca26"
             ],
             [
              1,
              "#f0f921"
             ]
            ],
            "type": "contour"
           }
          ],
          "contourcarpet": [
           {
            "colorbar": {
             "outlinewidth": 0,
             "ticks": ""
            },
            "type": "contourcarpet"
           }
          ],
          "heatmap": [
           {
            "colorbar": {
             "outlinewidth": 0,
             "ticks": ""
            },
            "colorscale": [
             [
              0,
              "#0d0887"
             ],
             [
              0.1111111111111111,
              "#46039f"
             ],
             [
              0.2222222222222222,
              "#7201a8"
             ],
             [
              0.3333333333333333,
              "#9c179e"
             ],
             [
              0.4444444444444444,
              "#bd3786"
             ],
             [
              0.5555555555555556,
              "#d8576b"
             ],
             [
              0.6666666666666666,
              "#ed7953"
             ],
             [
              0.7777777777777778,
              "#fb9f3a"
             ],
             [
              0.8888888888888888,
              "#fdca26"
             ],
             [
              1,
              "#f0f921"
             ]
            ],
            "type": "heatmap"
           }
          ],
          "heatmapgl": [
           {
            "colorbar": {
             "outlinewidth": 0,
             "ticks": ""
            },
            "colorscale": [
             [
              0,
              "#0d0887"
             ],
             [
              0.1111111111111111,
              "#46039f"
             ],
             [
              0.2222222222222222,
              "#7201a8"
             ],
             [
              0.3333333333333333,
              "#9c179e"
             ],
             [
              0.4444444444444444,
              "#bd3786"
             ],
             [
              0.5555555555555556,
              "#d8576b"
             ],
             [
              0.6666666666666666,
              "#ed7953"
             ],
             [
              0.7777777777777778,
              "#fb9f3a"
             ],
             [
              0.8888888888888888,
              "#fdca26"
             ],
             [
              1,
              "#f0f921"
             ]
            ],
            "type": "heatmapgl"
           }
          ],
          "histogram": [
           {
            "marker": {
             "pattern": {
              "fillmode": "overlay",
              "size": 10,
              "solidity": 0.2
             }
            },
            "type": "histogram"
           }
          ],
          "histogram2d": [
           {
            "colorbar": {
             "outlinewidth": 0,
             "ticks": ""
            },
            "colorscale": [
             [
              0,
              "#0d0887"
             ],
             [
              0.1111111111111111,
              "#46039f"
             ],
             [
              0.2222222222222222,
              "#7201a8"
             ],
             [
              0.3333333333333333,
              "#9c179e"
             ],
             [
              0.4444444444444444,
              "#bd3786"
             ],
             [
              0.5555555555555556,
              "#d8576b"
             ],
             [
              0.6666666666666666,
              "#ed7953"
             ],
             [
              0.7777777777777778,
              "#fb9f3a"
             ],
             [
              0.8888888888888888,
              "#fdca26"
             ],
             [
              1,
              "#f0f921"
             ]
            ],
            "type": "histogram2d"
           }
          ],
          "histogram2dcontour": [
           {
            "colorbar": {
             "outlinewidth": 0,
             "ticks": ""
            },
            "colorscale": [
             [
              0,
              "#0d0887"
             ],
             [
              0.1111111111111111,
              "#46039f"
             ],
             [
              0.2222222222222222,
              "#7201a8"
             ],
             [
              0.3333333333333333,
              "#9c179e"
             ],
             [
              0.4444444444444444,
              "#bd3786"
             ],
             [
              0.5555555555555556,
              "#d8576b"
             ],
             [
              0.6666666666666666,
              "#ed7953"
             ],
             [
              0.7777777777777778,
              "#fb9f3a"
             ],
             [
              0.8888888888888888,
              "#fdca26"
             ],
             [
              1,
              "#f0f921"
             ]
            ],
            "type": "histogram2dcontour"
           }
          ],
          "mesh3d": [
           {
            "colorbar": {
             "outlinewidth": 0,
             "ticks": ""
            },
            "type": "mesh3d"
           }
          ],
          "parcoords": [
           {
            "line": {
             "colorbar": {
              "outlinewidth": 0,
              "ticks": ""
             }
            },
            "type": "parcoords"
           }
          ],
          "pie": [
           {
            "automargin": true,
            "type": "pie"
           }
          ],
          "scatter": [
           {
            "fillpattern": {
             "fillmode": "overlay",
             "size": 10,
             "solidity": 0.2
            },
            "type": "scatter"
           }
          ],
          "scatter3d": [
           {
            "line": {
             "colorbar": {
              "outlinewidth": 0,
              "ticks": ""
             }
            },
            "marker": {
             "colorbar": {
              "outlinewidth": 0,
              "ticks": ""
             }
            },
            "type": "scatter3d"
           }
          ],
          "scattercarpet": [
           {
            "marker": {
             "colorbar": {
              "outlinewidth": 0,
              "ticks": ""
             }
            },
            "type": "scattercarpet"
           }
          ],
          "scattergeo": [
           {
            "marker": {
             "colorbar": {
              "outlinewidth": 0,
              "ticks": ""
             }
            },
            "type": "scattergeo"
           }
          ],
          "scattergl": [
           {
            "marker": {
             "colorbar": {
              "outlinewidth": 0,
              "ticks": ""
             }
            },
            "type": "scattergl"
           }
          ],
          "scattermapbox": [
           {
            "marker": {
             "colorbar": {
              "outlinewidth": 0,
              "ticks": ""
             }
            },
            "type": "scattermapbox"
           }
          ],
          "scatterpolar": [
           {
            "marker": {
             "colorbar": {
              "outlinewidth": 0,
              "ticks": ""
             }
            },
            "type": "scatterpolar"
           }
          ],
          "scatterpolargl": [
           {
            "marker": {
             "colorbar": {
              "outlinewidth": 0,
              "ticks": ""
             }
            },
            "type": "scatterpolargl"
           }
          ],
          "scatterternary": [
           {
            "marker": {
             "colorbar": {
              "outlinewidth": 0,
              "ticks": ""
             }
            },
            "type": "scatterternary"
           }
          ],
          "surface": [
           {
            "colorbar": {
             "outlinewidth": 0,
             "ticks": ""
            },
            "colorscale": [
             [
              0,
              "#0d0887"
             ],
             [
              0.1111111111111111,
              "#46039f"
             ],
             [
              0.2222222222222222,
              "#7201a8"
             ],
             [
              0.3333333333333333,
              "#9c179e"
             ],
             [
              0.4444444444444444,
              "#bd3786"
             ],
             [
              0.5555555555555556,
              "#d8576b"
             ],
             [
              0.6666666666666666,
              "#ed7953"
             ],
             [
              0.7777777777777778,
              "#fb9f3a"
             ],
             [
              0.8888888888888888,
              "#fdca26"
             ],
             [
              1,
              "#f0f921"
             ]
            ],
            "type": "surface"
           }
          ],
          "table": [
           {
            "cells": {
             "fill": {
              "color": "#EBF0F8"
             },
             "line": {
              "color": "white"
             }
            },
            "header": {
             "fill": {
              "color": "#C8D4E3"
             },
             "line": {
              "color": "white"
             }
            },
            "type": "table"
           }
          ]
         },
         "layout": {
          "annotationdefaults": {
           "arrowcolor": "#2a3f5f",
           "arrowhead": 0,
           "arrowwidth": 1
          },
          "autotypenumbers": "strict",
          "coloraxis": {
           "colorbar": {
            "outlinewidth": 0,
            "ticks": ""
           }
          },
          "colorscale": {
           "diverging": [
            [
             0,
             "#8e0152"
            ],
            [
             0.1,
             "#c51b7d"
            ],
            [
             0.2,
             "#de77ae"
            ],
            [
             0.3,
             "#f1b6da"
            ],
            [
             0.4,
             "#fde0ef"
            ],
            [
             0.5,
             "#f7f7f7"
            ],
            [
             0.6,
             "#e6f5d0"
            ],
            [
             0.7,
             "#b8e186"
            ],
            [
             0.8,
             "#7fbc41"
            ],
            [
             0.9,
             "#4d9221"
            ],
            [
             1,
             "#276419"
            ]
           ],
           "sequential": [
            [
             0,
             "#0d0887"
            ],
            [
             0.1111111111111111,
             "#46039f"
            ],
            [
             0.2222222222222222,
             "#7201a8"
            ],
            [
             0.3333333333333333,
             "#9c179e"
            ],
            [
             0.4444444444444444,
             "#bd3786"
            ],
            [
             0.5555555555555556,
             "#d8576b"
            ],
            [
             0.6666666666666666,
             "#ed7953"
            ],
            [
             0.7777777777777778,
             "#fb9f3a"
            ],
            [
             0.8888888888888888,
             "#fdca26"
            ],
            [
             1,
             "#f0f921"
            ]
           ],
           "sequentialminus": [
            [
             0,
             "#0d0887"
            ],
            [
             0.1111111111111111,
             "#46039f"
            ],
            [
             0.2222222222222222,
             "#7201a8"
            ],
            [
             0.3333333333333333,
             "#9c179e"
            ],
            [
             0.4444444444444444,
             "#bd3786"
            ],
            [
             0.5555555555555556,
             "#d8576b"
            ],
            [
             0.6666666666666666,
             "#ed7953"
            ],
            [
             0.7777777777777778,
             "#fb9f3a"
            ],
            [
             0.8888888888888888,
             "#fdca26"
            ],
            [
             1,
             "#f0f921"
            ]
           ]
          },
          "colorway": [
           "#636efa",
           "#EF553B",
           "#00cc96",
           "#ab63fa",
           "#FFA15A",
           "#19d3f3",
           "#FF6692",
           "#B6E880",
           "#FF97FF",
           "#FECB52"
          ],
          "font": {
           "color": "#2a3f5f"
          },
          "geo": {
           "bgcolor": "white",
           "lakecolor": "white",
           "landcolor": "#E5ECF6",
           "showlakes": true,
           "showland": true,
           "subunitcolor": "white"
          },
          "hoverlabel": {
           "align": "left"
          },
          "hovermode": "closest",
          "mapbox": {
           "style": "light"
          },
          "paper_bgcolor": "white",
          "plot_bgcolor": "#E5ECF6",
          "polar": {
           "angularaxis": {
            "gridcolor": "white",
            "linecolor": "white",
            "ticks": ""
           },
           "bgcolor": "#E5ECF6",
           "radialaxis": {
            "gridcolor": "white",
            "linecolor": "white",
            "ticks": ""
           }
          },
          "scene": {
           "xaxis": {
            "backgroundcolor": "#E5ECF6",
            "gridcolor": "white",
            "gridwidth": 2,
            "linecolor": "white",
            "showbackground": true,
            "ticks": "",
            "zerolinecolor": "white"
           },
           "yaxis": {
            "backgroundcolor": "#E5ECF6",
            "gridcolor": "white",
            "gridwidth": 2,
            "linecolor": "white",
            "showbackground": true,
            "ticks": "",
            "zerolinecolor": "white"
           },
           "zaxis": {
            "backgroundcolor": "#E5ECF6",
            "gridcolor": "white",
            "gridwidth": 2,
            "linecolor": "white",
            "showbackground": true,
            "ticks": "",
            "zerolinecolor": "white"
           }
          },
          "shapedefaults": {
           "line": {
            "color": "#2a3f5f"
           }
          },
          "ternary": {
           "aaxis": {
            "gridcolor": "white",
            "linecolor": "white",
            "ticks": ""
           },
           "baxis": {
            "gridcolor": "white",
            "linecolor": "white",
            "ticks": ""
           },
           "bgcolor": "#E5ECF6",
           "caxis": {
            "gridcolor": "white",
            "linecolor": "white",
            "ticks": ""
           }
          },
          "title": {
           "x": 0.05
          },
          "xaxis": {
           "automargin": true,
           "gridcolor": "white",
           "linecolor": "white",
           "ticks": "",
           "title": {
            "standoff": 15
           },
           "zerolinecolor": "white",
           "zerolinewidth": 2
          },
          "yaxis": {
           "automargin": true,
           "gridcolor": "white",
           "linecolor": "white",
           "ticks": "",
           "title": {
            "standoff": 15
           },
           "zerolinecolor": "white",
           "zerolinewidth": 2
          }
         }
        },
        "title": {
         "text": "drop_cols - Korrelasjonsmatrise"
        },
        "width": 800,
        "xaxis": {
         "nticks": 18
        },
        "yaxis": {
         "nticks": 18
        }
       }
      }
     },
     "metadata": {},
     "output_type": "display_data"
    },
    {
     "name": "stdout",
     "output_type": "stream",
     "text": [
      "Random Forest: 23.25\n",
      "Gradient Boosting: 22.87\n",
      "Decision Tree: 28.48\n",
      "Linear Regression: 22.94\n",
      "Polynomial Regression: 480368886973.97\n",
      "Ridge Regression: 22.98\n",
      "drop_cols - Best Model: Gradient Boosting\n",
      "drop_cols - Validation RMSE: 22.87\n",
      "drop_cols - Within 10 diff: 59.45%\n",
      "drop_cols - Full Dataset RMSE: 19.12\n",
      "drop_cols - Within 10 diff (Full Dataset): 64.12%\n"
     ]
    },
    {
     "name": "stderr",
     "output_type": "stream",
     "text": [
      "C:\\Users\\47476\\AppData\\Local\\Temp\\ipykernel_26584\\645448223.py:25: FutureWarning:\n",
      "\n",
      "A value is trying to be set on a copy of a DataFrame or Series through chained assignment using an inplace method.\n",
      "The behavior will change in pandas 3.0. This inplace method will never work because the intermediate object on which we are setting values always behaves as a copy.\n",
      "\n",
      "For example, when doing 'df[col].method(value, inplace=True)', try using 'df.method({col: value}, inplace=True)' or df[col] = df[col].method(value) instead, to perform the operation inplace on the original object.\n",
      "\n",
      "\n",
      "\n",
      "C:\\Users\\47476\\AppData\\Local\\Temp\\ipykernel_26584\\645448223.py:25: FutureWarning:\n",
      "\n",
      "A value is trying to be set on a copy of a DataFrame or Series through chained assignment using an inplace method.\n",
      "The behavior will change in pandas 3.0. This inplace method will never work because the intermediate object on which we are setting values always behaves as a copy.\n",
      "\n",
      "For example, when doing 'df[col].method(value, inplace=True)', try using 'df.method({col: value}, inplace=True)' or df[col] = df[col].method(value) instead, to perform the operation inplace on the original object.\n",
      "\n",
      "\n",
      "\n"
     ]
    },
    {
     "data": {
      "application/vnd.plotly.v1+json": {
       "config": {
        "plotlyServerURL": "https://plot.ly"
       },
       "data": [
        {
         "type": "heatmap",
         "x": [
          "alder",
          "sykehusdød",
          "blodtrykk",
          "hvite_blodlegemer",
          "hjertefrekvens",
          "respirasjonsfrekvens",
          "kroppstemperatur",
          "lungefunksjon",
          "serumalbumin",
          "bilirubin",
          "natrium",
          "blod_ph",
          "glukose",
          "urinmengde",
          "dødsfall",
          "antall_komorbiditeter",
          "koma_score",
          "adl_pasient",
          "adl_stedfortreder",
          "diabetes",
          "demens",
          "dnr_dag",
          "alder_gruppe",
          "sosiooekonomisk_status",
          "overlevelses_proxy",
          "nyrefunksjons_proxy"
         ],
         "y": [
          "alder",
          "sykehusdød",
          "blodtrykk",
          "hvite_blodlegemer",
          "hjertefrekvens",
          "respirasjonsfrekvens",
          "kroppstemperatur",
          "lungefunksjon",
          "serumalbumin",
          "bilirubin",
          "natrium",
          "blod_ph",
          "glukose",
          "urinmengde",
          "dødsfall",
          "antall_komorbiditeter",
          "koma_score",
          "adl_pasient",
          "adl_stedfortreder",
          "diabetes",
          "demens",
          "dnr_dag",
          "alder_gruppe",
          "sosiooekonomisk_status",
          "overlevelses_proxy",
          "nyrefunksjons_proxy"
         ],
         "z": [
          [
           1,
           0.040476951484547045,
           -0.03915868305518392,
           0.005030678397434251,
           -0.137382819336006,
           -0.017053146211615744,
           -0.09538469251592005,
           0.017174261604870112,
           0.06186574203140387,
           -0.12112766224304185,
           0.0157770277049918,
           -0.02294095405761744,
           0.0035026469536857782,
           -0.02785941836653439,
           0.18038483654488208,
           0.1297297701688885,
           0.011990015162198834,
           0.015120269210163817,
           0.07757093971887012,
           0.094858986159418,
           0.1978181948528905,
           -0.03886049569208362,
           0.9591835142069904,
           -0.12290410332928986,
           -0.06508777599764072,
           0.023864055848123348
          ],
          [
           0.040476951484547045,
           1,
           -0.08752894017164899,
           0.07741742765614656,
           0.0924064045625286,
           0.019893000914114167,
           0.062467706257655,
           -0.08654791494009667,
           -0.11336506414485133,
           0.14754992294641714,
           0.023909837492450573,
           -0.0423891536696236,
           0.007877587041203237,
           -0.011339189764092112,
           0.4033659956251786,
           -0.0809355817424367,
           0.3817949869055247,
           -0.14086074720361821,
           0.06406526629032201,
           -0.01920731961377726,
           0.02422895496981598,
           -0.028419530628216273,
           0.04038245547042025,
           -0.005054717125278624,
           0.4633457194420008,
           0.02007743756525825
          ],
          [
           -0.03915868305518392,
           -0.08752894017164899,
           1,
           -0.034909807562513134,
           0.07218455310542876,
           0.07217655629785134,
           -0.003456446211272317,
           0.1076658106542537,
           0.08585547721387872,
           -0.08125793645230855,
           0.06677143163479594,
           0.10498295419356399,
           0.029199538286716866,
           0.1021672262563895,
           -0.02596075782479218,
           -0.013602483927293274,
           -0.05670912373543327,
           0.014049283499856659,
           0.015635592587845696,
           -0.0024240124606405454,
           0.005835184429224562,
           0.018219725308611122,
           -0.03638879852172775,
           -0.01605622917792292,
           -0.1961830986084883,
           -0.07211838666629428
          ],
          [
           0.005030678397434251,
           0.07741742765614656,
           -0.034909807562513134,
           1,
           0.11665638738495603,
           0.023160070560166068,
           0.09546998860528828,
           -0.10623237591540581,
           -0.10123283690300379,
           0.06859123990144468,
           0.0034177464893510303,
           -0.04060753093395968,
           0.06448810470212607,
           -0.06973890760593389,
           -0.003072298335530556,
           -0.010072196055361636,
           0.08015106380818868,
           -0.04115999246015943,
           -0.004224777498502097,
           0.026924808036614456,
           0.006261611829604795,
           -0.016701419583237828,
           0.0015177388839508234,
           -0.01479718174333869,
           0.11541992384975312,
           0.11429476659681195
          ],
          [
           -0.137382819336006,
           0.0924064045625286,
           0.07218455310542876,
           0.11665638738495603,
           1,
           0.21416798097061882,
           0.26383108425288326,
           -0.11227810529212023,
           -0.14354195141818762,
           0.09492211503657987,
           0.027730731798197114,
           0.007576986999048111,
           0.03790072097572772,
           0.022959771814540952,
           -0.0033732439084007177,
           -0.06802918227443715,
           0.02282113923407513,
           -0.047646067806237834,
           0.01215923866535973,
           -0.06636668315898493,
           -0.027388332006809447,
           -0.003626381937664119,
           -0.13035537153623925,
           0.002010064327949394,
           0.13690822131666475,
           0.0069501419974199044
          ],
          [
           -0.017053146211615744,
           0.019893000914114167,
           0.07217655629785134,
           0.023160070560166068,
           0.21416798097061882,
           1,
           0.07681270925329911,
           -0.04996944674083458,
           -0.008809128318092795,
           0.025801700806518706,
           0.025222353546131976,
           0.01015014461402554,
           0.005699329302105397,
           0.000953084144782776,
           0.007467089722202525,
           0.005236290796543093,
           -0.001403803280597339,
           -0.009042406183483682,
           0.0037958825120422766,
           -0.03660184848757685,
           0.0077512788380473055,
           0.007134148127947877,
           -0.02210195659749547,
           -0.014512741736952717,
           0.08358540978488577,
           -0.024080014835842156
          ],
          [
           -0.09538469251592005,
           0.062467706257655,
           -0.003456446211272317,
           0.09546998860528828,
           0.26383108425288326,
           0.07681270925329911,
           1,
           -0.1355074944458437,
           -0.11716289516563164,
           0.0231727612289835,
           0.11040771024978636,
           0.05394274738493535,
           0.048500361059769764,
           0.0717835970876474,
           -0.025755738525934952,
           -0.10938128600791361,
           0.09718634002384317,
           -0.08087227208681785,
           -0.014326986196576075,
           -0.015079117983468508,
           -0.00357197327673661,
           0.0033813078696011546,
           -0.09245554721432646,
           0.03697049212690662,
           0.071225006021272,
           -0.006442932711533364
          ],
          [
           0.017174261604870112,
           -0.08654791494009667,
           0.1076658106542537,
           -0.10623237591540581,
           -0.11227810529212023,
           -0.04996944674083458,
           -0.1355074944458437,
           1,
           0.0784837734624872,
           -0.04114026048821914,
           -0.026825670171861042,
           0.12395731845937097,
           -0.010487813022886093,
           -0.019235466848866706,
           -0.008834464103320028,
           0.06446757511157249,
           -0.02510969506967594,
           0.055538056621650095,
           0.027628428288534502,
           0.032973374372480824,
           -0.0020117388807613557,
           0.007547503808519179,
           0.013775423652912547,
           -0.020900702277896043,
           -0.13119457221344516,
           -0.03945946142818212
          ],
          [
           0.06186574203140387,
           -0.11336506414485133,
           0.08585547721387872,
           -0.10123283690300379,
           -0.14354195141818762,
           -0.008809128318092795,
           -0.11716289516563164,
           0.0784837734624872,
           1,
           -0.10097746191367335,
           0.001074694386107258,
           0.005566806925467301,
           -0.041537531200557316,
           0.016775983052352592,
           0.009874720904823915,
           0.05017585396567239,
           -0.05085806122548116,
           0.017636812948362623,
           -0.04281062077327276,
           -0.009611335329452712,
           -0.006077083315442416,
           0.013908260334968212,
           0.06023847234560628,
           -0.009869294940133012,
           -0.14008660580556237,
           -0.07059501710596046
          ],
          [
           -0.12112766224304185,
           0.14754992294641714,
           -0.08125793645230855,
           0.06859123990144468,
           0.09492211503657987,
           0.025801700806518706,
           0.0231727612289835,
           -0.04114026048821914,
           -0.10097746191367335,
           1,
           0.03154826891776326,
           0.0001935967206248556,
           0.006011799144768923,
           -0.05690177155533956,
           0.026477401685391286,
           0.00047571276572404693,
           0.09507067044449106,
           -0.017976179028416917,
           -0.0037305513368034744,
           -0.03978329134788313,
           -0.03531894881679325,
           -0.020867739070800483,
           -0.11768772320066083,
           0.036818165442462567,
           0.2394045799491283,
           0.1329263904010399
          ],
          [
           0.0157770277049918,
           0.023909837492450573,
           0.06677143163479594,
           0.0034177464893510303,
           0.027730731798197114,
           0.025222353546131976,
           0.11040771024978636,
           -0.026825670171861042,
           0.001074694386107258,
           0.03154826891776326,
           1,
           -0.04886092603062754,
           0.015159801546577891,
           0.0172229860391036,
           -0.019915017727150243,
           -0.02634416553142343,
           0.07868146462819202,
           -0.06038990526641796,
           0.011794639715323352,
           0.009267689946876958,
           0.033035384634412523,
           -0.014339661408631143,
           0.014323423932461266,
           0.00625599274480602,
           0.013339317256762328,
           0.08994260392568447
          ],
          [
           -0.02294095405761744,
           -0.0423891536696236,
           0.10498295419356399,
           -0.04060753093395968,
           0.007576986999048111,
           0.01015014461402554,
           0.05394274738493535,
           0.12395731845937097,
           0.005566806925467301,
           0.0001935967206248556,
           -0.04886092603062754,
           1,
           -0.03799294373717415,
           0.07949211015536244,
           -0.010688731594263371,
           -0.013385691219689761,
           -0.0200035227644969,
           -0.009058419801572912,
           -0.0014163069906165265,
           -0.007567670704225654,
           -0.025260384151244798,
           0.009407247640965054,
           -0.023299317969203374,
           0.029806890018511514,
           -0.09133614648319592,
           -0.09960542821323806
          ],
          [
           0.0035026469536857782,
           0.007877587041203237,
           0.029199538286716866,
           0.06448810470212607,
           0.03790072097572772,
           0.005699329302105397,
           0.048500361059769764,
           -0.010487813022886093,
           -0.041537531200557316,
           0.006011799144768923,
           0.015159801546577891,
           -0.03799294373717415,
           1,
           0.022376142297133944,
           -0.01797837516907498,
           0.00813099446249386,
           0.02219459062894616,
           -0.027558309070706447,
           -0.004842794518161616,
           0.0258748616276185,
           0.009005214891505254,
           0.00198538421918256,
           -0.005310371707840882,
           0.011316967285790997,
           0.014291824069893568,
           0.22070499307287822
          ],
          [
           -0.02785941836653439,
           -0.011339189764092112,
           0.1021672262563895,
           -0.06973890760593389,
           0.022959771814540952,
           0.000953084144782776,
           0.0717835970876474,
           -0.019235466848866706,
           0.016775983052352592,
           -0.05690177155533956,
           0.0172229860391036,
           0.07949211015536244,
           0.022376142297133944,
           1,
           -0.013221109961304867,
           -0.018063602843382466,
           0.005466528141183752,
           -0.010495333847269321,
           -0.016519860124991605,
           -0.009119666385276627,
           -0.031149076196016593,
           0.002093655484223057,
           -0.024957282004586172,
           0.0011052093036695396,
           -0.023679584526222614,
           -0.13459144637620776
          ],
          [
           0.18038483654488208,
           0.4033659956251786,
           -0.02596075782479218,
           -0.003072298335530556,
           -0.0033732439084007177,
           0.007467089722202525,
           -0.025755738525934952,
           -0.008834464103320028,
           0.009874720904823915,
           0.026477401685391286,
           -0.019915017727150243,
           -0.010688731594263371,
           -0.01797837516907498,
           -0.013221109961304867,
           1,
           0.05677550992546858,
           0.13643446222851086,
           0.008742895760165856,
           0.10789473413045313,
           0.005251329039053851,
           0.03885505398486532,
           -0.018626217543462085,
           0.1747179466330664,
           -0.011432855196499237,
           0.14716852514746567,
           -0.06477853082309934
          ],
          [
           0.1297297701688885,
           -0.0809355817424367,
           -0.013602483927293274,
           -0.010072196055361636,
           -0.06802918227443715,
           0.005236290796543093,
           -0.10938128600791361,
           0.06446757511157249,
           0.05017585396567239,
           0.00047571276572404693,
           -0.02634416553142343,
           -0.013385691219689761,
           0.00813099446249386,
           -0.018063602843382466,
           0.05677550992546858,
           1,
           -0.12673193482884296,
           0.11357669427795135,
           0.11821914907847401,
           0.389890526488137,
           0.13865141083286206,
           -0.002773721386174276,
           0.1254184486388616,
           -0.10145181218563853,
           -0.0209265885067189,
           0.05180574726179939
          ],
          [
           0.011990015162198834,
           0.3817949869055247,
           -0.05670912373543327,
           0.08015106380818868,
           0.02282113923407513,
           -0.001403803280597339,
           0.09718634002384317,
           -0.02510969506967594,
           -0.05085806122548116,
           0.09507067044449106,
           0.07868146462819202,
           -0.0200035227644969,
           0.02219459062894616,
           0.005466528141183752,
           0.13643446222851086,
           -0.12673193482884296,
           1,
           -0.16032873809120723,
           0.05659507976404672,
           -0.0028524535754236064,
           0.07513770581774179,
           -0.015865695841848323,
           0.012766135748942297,
           -0.016232021735415027,
           0.2950243643461374,
           0.032705576812474095
          ],
          [
           0.015120269210163817,
           -0.14086074720361821,
           0.014049283499856659,
           -0.04115999246015943,
           -0.047646067806237834,
           -0.009042406183483682,
           -0.08087227208681785,
           0.055538056621650095,
           0.017636812948362623,
           -0.017976179028416917,
           -0.06038990526641796,
           -0.009058419801572912,
           -0.027558309070706447,
           -0.010495333847269321,
           0.008742895760165856,
           0.11357669427795135,
           -0.16032873809120723,
           1,
           0.2199372849384729,
           0.04039802557255564,
           -0.04739601135095388,
           0.00822240909772703,
           0.007423163845244319,
           -0.05680835578430007,
           -0.11212634262768167,
           -0.006819142325665842
          ],
          [
           0.07757093971887012,
           0.06406526629032201,
           0.015635592587845696,
           -0.004224777498502097,
           0.01215923866535973,
           0.0037958825120422766,
           -0.014326986196576075,
           0.027628428288534502,
           -0.04281062077327276,
           -0.0037305513368034744,
           0.011794639715323352,
           -0.0014163069906165265,
           -0.004842794518161616,
           -0.016519860124991605,
           0.10789473413045313,
           0.11821914907847401,
           0.05659507976404672,
           0.2199372849384729,
           1,
           0.06270222130687014,
           0.16403625621121307,
           -0.012860150109103725,
           0.06261729131688631,
           -0.07476398531063405,
           0.036128126746310135,
           -0.000598457647029765
          ],
          [
           0.094858986159418,
           -0.01920731961377726,
           -0.0024240124606405454,
           0.026924808036614456,
           -0.06636668315898493,
           -0.03660184848757685,
           -0.015079117983468508,
           0.032973374372480824,
           -0.009611335329452712,
           -0.03978329134788313,
           0.009267689946876958,
           -0.007567670704225654,
           0.0258748616276185,
           -0.009119666385276627,
           0.005251329039053851,
           0.389890526488137,
           -0.0028524535754236064,
           0.04039802557255564,
           0.06270222130687014,
           1,
           0.025707417629028822,
           -0.0017610025858867133,
           0.09370473380617349,
           -0.06308064063923964,
           0.047693548682239996,
           0.05093495972893798
          ],
          [
           0.1978181948528905,
           0.02422895496981598,
           0.005835184429224562,
           0.006261611829604795,
           -0.027388332006809447,
           0.0077512788380473055,
           -0.00357197327673661,
           -0.0020117388807613557,
           -0.006077083315442416,
           -0.03531894881679325,
           0.033035384634412523,
           -0.025260384151244798,
           0.009005214891505254,
           -0.031149076196016593,
           0.03885505398486532,
           0.13865141083286206,
           0.07513770581774179,
           -0.04739601135095388,
           0.16403625621121307,
           0.025707417629028822,
           1,
           -0.009025172674327828,
           0.1764165425204311,
           -0.017591642923152212,
           -0.008658991602968338,
           0.012204963846767412
          ],
          [
           -0.03886049569208362,
           -0.028419530628216273,
           0.018219725308611122,
           -0.016701419583237828,
           -0.003626381937664119,
           0.007134148127947877,
           0.0033813078696011546,
           0.007547503808519179,
           0.013908260334968212,
           -0.020867739070800483,
           -0.014339661408631143,
           0.009407247640965054,
           0.00198538421918256,
           0.002093655484223057,
           -0.018626217543462085,
           -0.002773721386174276,
           -0.015865695841848323,
           0.00822240909772703,
           -0.012860150109103725,
           -0.0017610025858867133,
           -0.009025172674327828,
           1,
           -0.03612341573762874,
           0.005133811767307513,
           -0.027203568944447927,
           0.0017123234596993684
          ],
          [
           0.9591835142069904,
           0.04038245547042025,
           -0.03638879852172775,
           0.0015177388839508234,
           -0.13035537153623925,
           -0.02210195659749547,
           -0.09245554721432646,
           0.013775423652912547,
           0.06023847234560628,
           -0.11768772320066083,
           0.014323423932461266,
           -0.023299317969203374,
           -0.005310371707840882,
           -0.024957282004586172,
           0.1747179466330664,
           0.1254184486388616,
           0.012766135748942297,
           0.007423163845244319,
           0.06261729131688631,
           0.09370473380617349,
           0.1764165425204311,
           -0.03612341573762874,
           1,
           -0.11802107226663762,
           -0.06466942593569891,
           0.02108438251259718
          ],
          [
           -0.12290410332928986,
           -0.005054717125278624,
           -0.01605622917792292,
           -0.01479718174333869,
           0.002010064327949394,
           -0.014512741736952717,
           0.03697049212690662,
           -0.020900702277896043,
           -0.009869294940133012,
           0.036818165442462567,
           0.00625599274480602,
           0.029806890018511514,
           0.011316967285790997,
           0.0011052093036695396,
           -0.011432855196499237,
           -0.10145181218563853,
           -0.016232021735415027,
           -0.05680835578430007,
           -0.07476398531063405,
           -0.06308064063923964,
           -0.017591642923152212,
           0.005133811767307513,
           -0.11802107226663762,
           1,
           -0.0075346991535733725,
           0.02414361818543662
          ],
          [
           -0.06508777599764072,
           0.4633457194420008,
           -0.1961830986084883,
           0.11541992384975312,
           0.13690822131666475,
           0.08358540978488577,
           0.071225006021272,
           -0.13119457221344516,
           -0.14008660580556237,
           0.2394045799491283,
           0.013339317256762328,
           -0.09133614648319592,
           0.014291824069893568,
           -0.023679584526222614,
           0.14716852514746567,
           -0.0209265885067189,
           0.2950243643461374,
           -0.11212634262768167,
           0.036128126746310135,
           0.047693548682239996,
           -0.008658991602968338,
           -0.027203568944447927,
           -0.06466942593569891,
           -0.0075346991535733725,
           1,
           0.05221919919308743
          ],
          [
           0.023864055848123348,
           0.02007743756525825,
           -0.07211838666629428,
           0.11429476659681195,
           0.0069501419974199044,
           -0.024080014835842156,
           -0.006442932711533364,
           -0.03945946142818212,
           -0.07059501710596046,
           0.1329263904010399,
           0.08994260392568447,
           -0.09960542821323806,
           0.22070499307287822,
           -0.13459144637620776,
           -0.06477853082309934,
           0.05180574726179939,
           0.032705576812474095,
           -0.006819142325665842,
           -0.000598457647029765,
           0.05093495972893798,
           0.012204963846767412,
           0.0017123234596993684,
           0.02108438251259718,
           0.02414361818543662,
           0.05221919919308743,
           1
          ]
         ],
         "zmax": 1,
         "zmin": -1
        }
       ],
       "layout": {
        "autosize": false,
        "height": 800,
        "template": {
         "data": {
          "bar": [
           {
            "error_x": {
             "color": "#2a3f5f"
            },
            "error_y": {
             "color": "#2a3f5f"
            },
            "marker": {
             "line": {
              "color": "#E5ECF6",
              "width": 0.5
             },
             "pattern": {
              "fillmode": "overlay",
              "size": 10,
              "solidity": 0.2
             }
            },
            "type": "bar"
           }
          ],
          "barpolar": [
           {
            "marker": {
             "line": {
              "color": "#E5ECF6",
              "width": 0.5
             },
             "pattern": {
              "fillmode": "overlay",
              "size": 10,
              "solidity": 0.2
             }
            },
            "type": "barpolar"
           }
          ],
          "carpet": [
           {
            "aaxis": {
             "endlinecolor": "#2a3f5f",
             "gridcolor": "white",
             "linecolor": "white",
             "minorgridcolor": "white",
             "startlinecolor": "#2a3f5f"
            },
            "baxis": {
             "endlinecolor": "#2a3f5f",
             "gridcolor": "white",
             "linecolor": "white",
             "minorgridcolor": "white",
             "startlinecolor": "#2a3f5f"
            },
            "type": "carpet"
           }
          ],
          "choropleth": [
           {
            "colorbar": {
             "outlinewidth": 0,
             "ticks": ""
            },
            "type": "choropleth"
           }
          ],
          "contour": [
           {
            "colorbar": {
             "outlinewidth": 0,
             "ticks": ""
            },
            "colorscale": [
             [
              0,
              "#0d0887"
             ],
             [
              0.1111111111111111,
              "#46039f"
             ],
             [
              0.2222222222222222,
              "#7201a8"
             ],
             [
              0.3333333333333333,
              "#9c179e"
             ],
             [
              0.4444444444444444,
              "#bd3786"
             ],
             [
              0.5555555555555556,
              "#d8576b"
             ],
             [
              0.6666666666666666,
              "#ed7953"
             ],
             [
              0.7777777777777778,
              "#fb9f3a"
             ],
             [
              0.8888888888888888,
              "#fdca26"
             ],
             [
              1,
              "#f0f921"
             ]
            ],
            "type": "contour"
           }
          ],
          "contourcarpet": [
           {
            "colorbar": {
             "outlinewidth": 0,
             "ticks": ""
            },
            "type": "contourcarpet"
           }
          ],
          "heatmap": [
           {
            "colorbar": {
             "outlinewidth": 0,
             "ticks": ""
            },
            "colorscale": [
             [
              0,
              "#0d0887"
             ],
             [
              0.1111111111111111,
              "#46039f"
             ],
             [
              0.2222222222222222,
              "#7201a8"
             ],
             [
              0.3333333333333333,
              "#9c179e"
             ],
             [
              0.4444444444444444,
              "#bd3786"
             ],
             [
              0.5555555555555556,
              "#d8576b"
             ],
             [
              0.6666666666666666,
              "#ed7953"
             ],
             [
              0.7777777777777778,
              "#fb9f3a"
             ],
             [
              0.8888888888888888,
              "#fdca26"
             ],
             [
              1,
              "#f0f921"
             ]
            ],
            "type": "heatmap"
           }
          ],
          "heatmapgl": [
           {
            "colorbar": {
             "outlinewidth": 0,
             "ticks": ""
            },
            "colorscale": [
             [
              0,
              "#0d0887"
             ],
             [
              0.1111111111111111,
              "#46039f"
             ],
             [
              0.2222222222222222,
              "#7201a8"
             ],
             [
              0.3333333333333333,
              "#9c179e"
             ],
             [
              0.4444444444444444,
              "#bd3786"
             ],
             [
              0.5555555555555556,
              "#d8576b"
             ],
             [
              0.6666666666666666,
              "#ed7953"
             ],
             [
              0.7777777777777778,
              "#fb9f3a"
             ],
             [
              0.8888888888888888,
              "#fdca26"
             ],
             [
              1,
              "#f0f921"
             ]
            ],
            "type": "heatmapgl"
           }
          ],
          "histogram": [
           {
            "marker": {
             "pattern": {
              "fillmode": "overlay",
              "size": 10,
              "solidity": 0.2
             }
            },
            "type": "histogram"
           }
          ],
          "histogram2d": [
           {
            "colorbar": {
             "outlinewidth": 0,
             "ticks": ""
            },
            "colorscale": [
             [
              0,
              "#0d0887"
             ],
             [
              0.1111111111111111,
              "#46039f"
             ],
             [
              0.2222222222222222,
              "#7201a8"
             ],
             [
              0.3333333333333333,
              "#9c179e"
             ],
             [
              0.4444444444444444,
              "#bd3786"
             ],
             [
              0.5555555555555556,
              "#d8576b"
             ],
             [
              0.6666666666666666,
              "#ed7953"
             ],
             [
              0.7777777777777778,
              "#fb9f3a"
             ],
             [
              0.8888888888888888,
              "#fdca26"
             ],
             [
              1,
              "#f0f921"
             ]
            ],
            "type": "histogram2d"
           }
          ],
          "histogram2dcontour": [
           {
            "colorbar": {
             "outlinewidth": 0,
             "ticks": ""
            },
            "colorscale": [
             [
              0,
              "#0d0887"
             ],
             [
              0.1111111111111111,
              "#46039f"
             ],
             [
              0.2222222222222222,
              "#7201a8"
             ],
             [
              0.3333333333333333,
              "#9c179e"
             ],
             [
              0.4444444444444444,
              "#bd3786"
             ],
             [
              0.5555555555555556,
              "#d8576b"
             ],
             [
              0.6666666666666666,
              "#ed7953"
             ],
             [
              0.7777777777777778,
              "#fb9f3a"
             ],
             [
              0.8888888888888888,
              "#fdca26"
             ],
             [
              1,
              "#f0f921"
             ]
            ],
            "type": "histogram2dcontour"
           }
          ],
          "mesh3d": [
           {
            "colorbar": {
             "outlinewidth": 0,
             "ticks": ""
            },
            "type": "mesh3d"
           }
          ],
          "parcoords": [
           {
            "line": {
             "colorbar": {
              "outlinewidth": 0,
              "ticks": ""
             }
            },
            "type": "parcoords"
           }
          ],
          "pie": [
           {
            "automargin": true,
            "type": "pie"
           }
          ],
          "scatter": [
           {
            "fillpattern": {
             "fillmode": "overlay",
             "size": 10,
             "solidity": 0.2
            },
            "type": "scatter"
           }
          ],
          "scatter3d": [
           {
            "line": {
             "colorbar": {
              "outlinewidth": 0,
              "ticks": ""
             }
            },
            "marker": {
             "colorbar": {
              "outlinewidth": 0,
              "ticks": ""
             }
            },
            "type": "scatter3d"
           }
          ],
          "scattercarpet": [
           {
            "marker": {
             "colorbar": {
              "outlinewidth": 0,
              "ticks": ""
             }
            },
            "type": "scattercarpet"
           }
          ],
          "scattergeo": [
           {
            "marker": {
             "colorbar": {
              "outlinewidth": 0,
              "ticks": ""
             }
            },
            "type": "scattergeo"
           }
          ],
          "scattergl": [
           {
            "marker": {
             "colorbar": {
              "outlinewidth": 0,
              "ticks": ""
             }
            },
            "type": "scattergl"
           }
          ],
          "scattermapbox": [
           {
            "marker": {
             "colorbar": {
              "outlinewidth": 0,
              "ticks": ""
             }
            },
            "type": "scattermapbox"
           }
          ],
          "scatterpolar": [
           {
            "marker": {
             "colorbar": {
              "outlinewidth": 0,
              "ticks": ""
             }
            },
            "type": "scatterpolar"
           }
          ],
          "scatterpolargl": [
           {
            "marker": {
             "colorbar": {
              "outlinewidth": 0,
              "ticks": ""
             }
            },
            "type": "scatterpolargl"
           }
          ],
          "scatterternary": [
           {
            "marker": {
             "colorbar": {
              "outlinewidth": 0,
              "ticks": ""
             }
            },
            "type": "scatterternary"
           }
          ],
          "surface": [
           {
            "colorbar": {
             "outlinewidth": 0,
             "ticks": ""
            },
            "colorscale": [
             [
              0,
              "#0d0887"
             ],
             [
              0.1111111111111111,
              "#46039f"
             ],
             [
              0.2222222222222222,
              "#7201a8"
             ],
             [
              0.3333333333333333,
              "#9c179e"
             ],
             [
              0.4444444444444444,
              "#bd3786"
             ],
             [
              0.5555555555555556,
              "#d8576b"
             ],
             [
              0.6666666666666666,
              "#ed7953"
             ],
             [
              0.7777777777777778,
              "#fb9f3a"
             ],
             [
              0.8888888888888888,
              "#fdca26"
             ],
             [
              1,
              "#f0f921"
             ]
            ],
            "type": "surface"
           }
          ],
          "table": [
           {
            "cells": {
             "fill": {
              "color": "#EBF0F8"
             },
             "line": {
              "color": "white"
             }
            },
            "header": {
             "fill": {
              "color": "#C8D4E3"
             },
             "line": {
              "color": "white"
             }
            },
            "type": "table"
           }
          ]
         },
         "layout": {
          "annotationdefaults": {
           "arrowcolor": "#2a3f5f",
           "arrowhead": 0,
           "arrowwidth": 1
          },
          "autotypenumbers": "strict",
          "coloraxis": {
           "colorbar": {
            "outlinewidth": 0,
            "ticks": ""
           }
          },
          "colorscale": {
           "diverging": [
            [
             0,
             "#8e0152"
            ],
            [
             0.1,
             "#c51b7d"
            ],
            [
             0.2,
             "#de77ae"
            ],
            [
             0.3,
             "#f1b6da"
            ],
            [
             0.4,
             "#fde0ef"
            ],
            [
             0.5,
             "#f7f7f7"
            ],
            [
             0.6,
             "#e6f5d0"
            ],
            [
             0.7,
             "#b8e186"
            ],
            [
             0.8,
             "#7fbc41"
            ],
            [
             0.9,
             "#4d9221"
            ],
            [
             1,
             "#276419"
            ]
           ],
           "sequential": [
            [
             0,
             "#0d0887"
            ],
            [
             0.1111111111111111,
             "#46039f"
            ],
            [
             0.2222222222222222,
             "#7201a8"
            ],
            [
             0.3333333333333333,
             "#9c179e"
            ],
            [
             0.4444444444444444,
             "#bd3786"
            ],
            [
             0.5555555555555556,
             "#d8576b"
            ],
            [
             0.6666666666666666,
             "#ed7953"
            ],
            [
             0.7777777777777778,
             "#fb9f3a"
            ],
            [
             0.8888888888888888,
             "#fdca26"
            ],
            [
             1,
             "#f0f921"
            ]
           ],
           "sequentialminus": [
            [
             0,
             "#0d0887"
            ],
            [
             0.1111111111111111,
             "#46039f"
            ],
            [
             0.2222222222222222,
             "#7201a8"
            ],
            [
             0.3333333333333333,
             "#9c179e"
            ],
            [
             0.4444444444444444,
             "#bd3786"
            ],
            [
             0.5555555555555556,
             "#d8576b"
            ],
            [
             0.6666666666666666,
             "#ed7953"
            ],
            [
             0.7777777777777778,
             "#fb9f3a"
            ],
            [
             0.8888888888888888,
             "#fdca26"
            ],
            [
             1,
             "#f0f921"
            ]
           ]
          },
          "colorway": [
           "#636efa",
           "#EF553B",
           "#00cc96",
           "#ab63fa",
           "#FFA15A",
           "#19d3f3",
           "#FF6692",
           "#B6E880",
           "#FF97FF",
           "#FECB52"
          ],
          "font": {
           "color": "#2a3f5f"
          },
          "geo": {
           "bgcolor": "white",
           "lakecolor": "white",
           "landcolor": "#E5ECF6",
           "showlakes": true,
           "showland": true,
           "subunitcolor": "white"
          },
          "hoverlabel": {
           "align": "left"
          },
          "hovermode": "closest",
          "mapbox": {
           "style": "light"
          },
          "paper_bgcolor": "white",
          "plot_bgcolor": "#E5ECF6",
          "polar": {
           "angularaxis": {
            "gridcolor": "white",
            "linecolor": "white",
            "ticks": ""
           },
           "bgcolor": "#E5ECF6",
           "radialaxis": {
            "gridcolor": "white",
            "linecolor": "white",
            "ticks": ""
           }
          },
          "scene": {
           "xaxis": {
            "backgroundcolor": "#E5ECF6",
            "gridcolor": "white",
            "gridwidth": 2,
            "linecolor": "white",
            "showbackground": true,
            "ticks": "",
            "zerolinecolor": "white"
           },
           "yaxis": {
            "backgroundcolor": "#E5ECF6",
            "gridcolor": "white",
            "gridwidth": 2,
            "linecolor": "white",
            "showbackground": true,
            "ticks": "",
            "zerolinecolor": "white"
           },
           "zaxis": {
            "backgroundcolor": "#E5ECF6",
            "gridcolor": "white",
            "gridwidth": 2,
            "linecolor": "white",
            "showbackground": true,
            "ticks": "",
            "zerolinecolor": "white"
           }
          },
          "shapedefaults": {
           "line": {
            "color": "#2a3f5f"
           }
          },
          "ternary": {
           "aaxis": {
            "gridcolor": "white",
            "linecolor": "white",
            "ticks": ""
           },
           "baxis": {
            "gridcolor": "white",
            "linecolor": "white",
            "ticks": ""
           },
           "bgcolor": "#E5ECF6",
           "caxis": {
            "gridcolor": "white",
            "linecolor": "white",
            "ticks": ""
           }
          },
          "title": {
           "x": 0.05
          },
          "xaxis": {
           "automargin": true,
           "gridcolor": "white",
           "linecolor": "white",
           "ticks": "",
           "title": {
            "standoff": 15
           },
           "zerolinecolor": "white",
           "zerolinewidth": 2
          },
          "yaxis": {
           "automargin": true,
           "gridcolor": "white",
           "linecolor": "white",
           "ticks": "",
           "title": {
            "standoff": 15
           },
           "zerolinecolor": "white",
           "zerolinewidth": 2
          }
         }
        },
        "title": {
         "text": "fill_median - Korrelasjonsmatrise"
        },
        "width": 800,
        "xaxis": {
         "nticks": 26
        },
        "yaxis": {
         "nticks": 26
        }
       }
      }
     },
     "metadata": {},
     "output_type": "display_data"
    },
    {
     "name": "stdout",
     "output_type": "stream",
     "text": [
      "Random Forest: 18.77\n",
      "Gradient Boosting: 18.70\n",
      "Decision Tree: 21.58\n",
      "Linear Regression: 23.50\n",
      "Polynomial Regression: 4330090441.02\n",
      "Ridge Regression: 19.08\n"
     ]
    },
    {
     "name": "stderr",
     "output_type": "stream",
     "text": [
      "C:\\Users\\47476\\AppData\\Local\\Temp\\ipykernel_26584\\645448223.py:25: FutureWarning:\n",
      "\n",
      "A value is trying to be set on a copy of a DataFrame or Series through chained assignment using an inplace method.\n",
      "The behavior will change in pandas 3.0. This inplace method will never work because the intermediate object on which we are setting values always behaves as a copy.\n",
      "\n",
      "For example, when doing 'df[col].method(value, inplace=True)', try using 'df.method({col: value}, inplace=True)' or df[col] = df[col].method(value) instead, to perform the operation inplace on the original object.\n",
      "\n",
      "\n",
      "\n"
     ]
    },
    {
     "name": "stdout",
     "output_type": "stream",
     "text": [
      "fill_median - Best Model: Gradient Boosting\n",
      "fill_median - Validation RMSE: 18.70\n",
      "fill_median - Within 10 diff: 64.68%\n",
      "fill_median - Full Dataset RMSE: 17.96\n",
      "fill_median - Within 10 diff (Full Dataset): 68.83%\n"
     ]
    },
    {
     "data": {
      "application/vnd.plotly.v1+json": {
       "config": {
        "plotlyServerURL": "https://plot.ly"
       },
       "data": [
        {
         "type": "heatmap",
         "x": [
          "alder",
          "sykehusdød",
          "blodtrykk",
          "hvite_blodlegemer",
          "hjertefrekvens",
          "respirasjonsfrekvens",
          "kroppstemperatur",
          "lungefunksjon",
          "serumalbumin",
          "bilirubin",
          "natrium",
          "blod_ph",
          "glukose",
          "urinmengde",
          "dødsfall",
          "antall_komorbiditeter",
          "koma_score",
          "adl_pasient",
          "adl_stedfortreder",
          "diabetes",
          "demens",
          "dnr_dag",
          "alder_gruppe",
          "sosiooekonomisk_status",
          "overlevelses_proxy",
          "nyrefunksjons_proxy",
          "kjønn_male",
          "etnisitet_black",
          "etnisitet_hispanic",
          "etnisitet_other",
          "etnisitet_white",
          "sykdomskategori_COPD/CHF/Cirrhosis",
          "sykdomskategori_Cancer",
          "sykdomskategori_Coma",
          "sykdom_underkategori_CHF",
          "sykdom_underkategori_COPD",
          "sykdom_underkategori_Cirrhosis",
          "sykdom_underkategori_Colon Cancer",
          "sykdom_underkategori_Coma",
          "sykdom_underkategori_Lung Cancer",
          "sykdom_underkategori_MOSF w/Malig",
          "kreft_no",
          "kreft_yes",
          "dnr_status_dnr ved innleggelse"
         ],
         "y": [
          "alder",
          "sykehusdød",
          "blodtrykk",
          "hvite_blodlegemer",
          "hjertefrekvens",
          "respirasjonsfrekvens",
          "kroppstemperatur",
          "lungefunksjon",
          "serumalbumin",
          "bilirubin",
          "natrium",
          "blod_ph",
          "glukose",
          "urinmengde",
          "dødsfall",
          "antall_komorbiditeter",
          "koma_score",
          "adl_pasient",
          "adl_stedfortreder",
          "diabetes",
          "demens",
          "dnr_dag",
          "alder_gruppe",
          "sosiooekonomisk_status",
          "overlevelses_proxy",
          "nyrefunksjons_proxy",
          "kjønn_male",
          "etnisitet_black",
          "etnisitet_hispanic",
          "etnisitet_other",
          "etnisitet_white",
          "sykdomskategori_COPD/CHF/Cirrhosis",
          "sykdomskategori_Cancer",
          "sykdomskategori_Coma",
          "sykdom_underkategori_CHF",
          "sykdom_underkategori_COPD",
          "sykdom_underkategori_Cirrhosis",
          "sykdom_underkategori_Colon Cancer",
          "sykdom_underkategori_Coma",
          "sykdom_underkategori_Lung Cancer",
          "sykdom_underkategori_MOSF w/Malig",
          "kreft_no",
          "kreft_yes",
          "dnr_status_dnr ved innleggelse"
         ],
         "z": [
          [
           1,
           0.040476951484547045,
           -0.03915868305518392,
           0.004662475913849146,
           -0.137382819336006,
           -0.017053146211615744,
           -0.09538469251592005,
           0.009049857545329486,
           0.07275629929773438,
           -0.1319558933130088,
           0.0157770277049918,
           -0.028053288409336772,
           0.00932099303181575,
           -0.01359582324268799,
           0.18038483654488208,
           0.1297297701688885,
           0.011990015162198834,
           0.03973815171726015,
           0.0860771505381592,
           0.094858986159418,
           0.1978181948528905,
           0.01549665515997124,
           0.9591835142069904,
           -0.15040725295321913,
           -0.06508777599764072,
           0.024198734424508973,
           -0.04976413581830241,
           -0.1342706178261121,
           -0.12351414035673317,
           -0.05195826817418361,
           0.19250290261874298,
           0.12078009429790261,
           -0.013724796736417277,
           0.0469726803483009,
           0.10913156652798094,
           0.15209542846383925,
           -0.1332176798664237,
           -0.005613917960047833,
           0.0469726803483009,
           -0.01230109525233332,
           -0.08140825363227706,
           -0.03018512042519385,
           0.05470661291316137,
           0.1923787467810523
          ],
          [
           0.040476951484547045,
           1,
           -0.08752894017164899,
           0.07557779384133982,
           0.0924064045625286,
           0.019893000914114167,
           0.062467706257655,
           -0.12183711344449738,
           -0.12637489695551526,
           0.146127024122419,
           0.023909837492450573,
           -0.03524362511750638,
           0.035084306657739886,
           -0.0287188959281768,
           0.4033659956251786,
           -0.0809355817424367,
           0.3817949869055247,
           0.04179003456361969,
           0.08973630575269127,
           -0.01920731961377726,
           0.02422895496981598,
           -0.03753660567482088,
           0.04038245547042025,
           0.0048025233400607395,
           0.4633457194420008,
           0.020214236873797444,
           -0.010497741793247832,
           0.015434138971270916,
           -0.006334950685478447,
           0.01920894363979674,
           -0.027061573687474364,
           -0.23687734847768274,
           -0.16803372831202407,
           0.20205329296237307,
           -0.19018049888726318,
           -0.12732862041009418,
           -0.01004262554081513,
           -0.1172499642291282,
           0.20205329296237307,
           -0.11323372509722313,
           0.18147737656401347,
           0.0034967924822954712,
           0.1092993002737062,
           0.10307359007244908
          ],
          [
           -0.03915868305518392,
           -0.08752894017164899,
           1,
           -0.03405326781085623,
           0.07218455310542876,
           0.07217655629785134,
           -0.003456446211272317,
           0.10073277895253413,
           0.08886549416615158,
           -0.10761301460661495,
           0.06677143163479594,
           0.08403999980409858,
           0.029823894902894228,
           0.11990756090713997,
           -0.02596075782479218,
           -0.013602483927293274,
           -0.05670912373543327,
           -0.022463144035636446,
           0.0007514344768473838,
           -0.0024240124606405454,
           0.005835184429224562,
           0.11550786153767283,
           -0.03638879852172775,
           -0.034210280071019936,
           -0.1961830986084883,
           -0.07211180864260533,
           -0.009223252047065934,
           0.04961085517608888,
           -0.014028632610500694,
           -0.010471122107339775,
           -0.02355732521041702,
           -0.02450005871111426,
           0.0737341178416152,
           0.032373123178535655,
           -0.0459490692156049,
           0.016636358791736933,
           0.0002697061333121451,
           0.055820746745042935,
           0.032373123178535655,
           0.04632110766214765,
           -0.04843716721582489,
           -0.027075295396390614,
           -0.02362030004774474,
           -0.028454596035987156
          ],
          [
           0.004662475913849146,
           0.07557779384133982,
           -0.03405326781085623,
           1,
           0.11620769040772348,
           0.02411383568127002,
           0.09589462838084678,
           -0.15628859573601522,
           -0.12531489461782486,
           0.06453309526408503,
           0.004224814349325301,
           -0.03950540678819273,
           0.08156585064954008,
           -0.07328678803525002,
           -0.004514343293872517,
           -0.009714725687856402,
           0.07890834496406361,
           0.030921535082793834,
           0.006029399714091102,
           0.025744308110767146,
           0.00488347048124042,
           -0.025540677571928013,
           0.0010491965549981558,
           -0.02433891222718253,
           0.11636473269855971,
           0.11633813820447655,
           -0.012614889876959983,
           0.016280190938696423,
           -0.009937509903933594,
           0.0056644142771171265,
           -0.009472757658023453,
           -0.07109913985012399,
           -0.06715629855952082,
           0.06338472552996759,
           -0.07115827495557037,
           -0.00608277372157972,
           -0.024372749494009565,
           -0.056649781816696984,
           0.06338472552996759,
           -0.037714779700221114,
           -0.016861157419155833,
           0.049968611580639706,
           -0.0007681670714393945,
           0.01819193958707182
          ],
          [
           -0.137382819336006,
           0.0924064045625286,
           0.07218455310542876,
           0.11620769040772348,
           1,
           0.21416798097061882,
           0.26383108425288326,
           -0.15668585206342603,
           -0.19235757670387074,
           0.0951022067384771,
           0.027730731798197114,
           0.007828355717183978,
           0.0439366648254207,
           -0.02897992507995774,
           -0.0033732439084007177,
           -0.06802918227443715,
           0.02282113923407513,
           0.06326595918977826,
           0.03640432202949935,
           -0.06636668315898493,
           -0.027388332006809447,
           -0.06407289956145083,
           -0.13035537153623925,
           0.011235185627950407,
           0.13690822131666475,
           0.00676260759722272,
           -0.009671590082482112,
           0.014850471491107988,
           0.015278124359221138,
           0.02009090860256566,
           -0.03132713844824961,
           -0.07715594632133103,
           -0.0572916106420504,
           -0.00681596763404667,
           -0.09871075207315883,
           0.006385915046005676,
           -0.009843916354863867,
           -0.05783387895150517,
           -0.00681596763404667,
           -0.024853553505662797,
           0.06669138314852383,
           0.012313852707575203,
           0.02460258108938531,
           -0.03763641450735516
          ],
          [
           -0.017053146211615744,
           0.019893000914114167,
           0.07217655629785134,
           0.02411383568127002,
           0.21416798097061882,
           1,
           0.07681270925329911,
           -0.0668285020929429,
           -0.018593769341857993,
           0.018948740006598908,
           0.025222353546131976,
           0.011023392209872133,
           0.019354943081585804,
           -0.016911707226218143,
           0.007467089722202525,
           0.005236290796543093,
           -0.001403803280597339,
           0.03742319404089629,
           0.009438992944688309,
           -0.03660184848757685,
           0.0077512788380473055,
           0.0011156805390978473,
           -0.02210195659749547,
           -0.014753312449741622,
           0.08358540978488577,
           -0.023722971851978518,
           -0.0036949494023717296,
           -0.009682073748057959,
           0.009094030749941315,
           0.025385484399333393,
           -0.003271469617211689,
           0.001150069283857163,
           -0.039620405688556154,
           -0.007748095585949267,
           -0.006597647893691322,
           0.0231710622512051,
           -0.018705419771234442,
           -0.035807875178622536,
           -0.007748095585949267,
           -0.020412948069025046,
           0.03229308672700549,
           0.0038078934115246283,
           0.025168439325650105,
           0.026455340168974814
          ],
          [
           -0.09538469251592005,
           0.062467706257655,
           -0.003456446211272317,
           0.09589462838084678,
           0.26383108425288326,
           0.07681270925329911,
           1,
           -0.15940445924117388,
           -0.1235672805017143,
           0.024524024763497142,
           0.11040771024978636,
           0.055333025182903624,
           0.04982740555011183,
           0.011496718422421778,
           -0.025755738525934952,
           -0.10938128600791361,
           0.09718634002384317,
           -0.0078575138383853,
           0.006975693843435123,
           -0.015079117983468508,
           -0.00357197327673661,
           -0.019102051307037387,
           -0.09245554721432646,
           0.05421918214550422,
           0.071225006021272,
           -0.006231721617110801,
           -0.0009421057066794733,
           -0.013468741467991291,
           0.008760932841468507,
           0.0075086228316703744,
           0.004147472117121091,
           -0.16682663742418383,
           -0.05474835546230223,
           0.06932071146830938,
           -0.13515172978351359,
           -0.07258342715490677,
           -0.02845081375191482,
           0.00007348272029098563,
           0.06932071146830938,
           -0.06637395316154268,
           0.04795714741973942,
           0.01851873761745598,
           0.02997133662729487,
           -0.028724662392102078
          ],
          [
           0.009049857545329486,
           -0.12183711344449738,
           0.10073277895253413,
           -0.15628859573601522,
           -0.15668585206342603,
           -0.0668285020929429,
           -0.15940445924117388,
           1,
           0.12441879790105391,
           -0.05211878367696638,
           -0.05847021095792218,
           0.1280301179976429,
           -0.039412187360461544,
           0.02539324525764059,
           -0.0003427916834018223,
           0.05258793660935021,
           -0.06959710772390433,
           -0.02019971938782929,
           0.0058941021899826885,
           0.009690414163628785,
           -0.008654645974052159,
           0.034018135421231686,
           0.004512534872224778,
           -0.010140931008499878,
           -0.1842558206520435,
           -0.07726294972808932,
           -0.016319494899582107,
           0.033615872553409185,
           0.02981499971215699,
           -0.015384585515087935,
           -0.03664294176095478,
           0.12190697741797386,
           0.09032046464154583,
           -0.012918798713111771,
           0.13588434690038456,
           -0.027640868626693918,
           0.07156298581993104,
           0.06891858283981442,
           -0.012918798713111771,
           0.05632421317694172,
           -0.042942427992790244,
           -0.009940002052362923,
           -0.06373957363623528,
           -0.010065282188724616
          ],
          [
           0.07275629929773438,
           -0.12637489695551526,
           0.08886549416615158,
           -0.12531489461782486,
           -0.19235757670387074,
           -0.018593769341857993,
           -0.1235672805017143,
           0.12441879790105391,
           1,
           -0.13807154777922093,
           -0.0037039081599042306,
           0.018731417811980573,
           -0.052982997504045885,
           0.08335006234102142,
           0.00627647915530069,
           0.038374379848995256,
           -0.06573443666493295,
           -0.05020269477574044,
           -0.0452618559013287,
           -0.002785691786179088,
           -0.012267614932733024,
           0.05607736842237857,
           0.07327713533876487,
           -0.00950977087390097,
           -0.1842534468483155,
           -0.126652248310331,
           -0.025628553835464266,
           -0.02791828615068832,
           0.0017286744808683269,
           0.007342362700185967,
           0.023542818005558696,
           0.11522734898030006,
           0.11065800359499965,
           -0.0007638342585260165,
           0.1227435353407273,
           0.09551833444667022,
           -0.08920369552898033,
           0.07308241042321673,
           -0.0007638342585260165,
           0.0777522846256033,
           -0.083124911043391,
           -0.02577226099906414,
           -0.05194381458538013,
           0.03782600790427867
          ],
          [
           -0.1319558933130088,
           0.146127024122419,
           -0.10761301460661495,
           0.06453309526408503,
           0.0951022067384771,
           0.018948740006598908,
           0.024524024763497142,
           -0.05211878367696638,
           -0.13807154777922093,
           1,
           0.01809795846986297,
           0.011930874628250371,
           0.02313311407112528,
           -0.06295729602935714,
           0.02098906139174706,
           -0.007244369617003182,
           0.09506078154231949,
           0.02578134063832276,
           0.005211918608752777,
           -0.030331618479543954,
           -0.037936538418624675,
           -0.09394352826340305,
           -0.1259616484265344,
           0.039011285979686755,
           0.2549466919698565,
           0.14624906327478007,
           0.025995588946850386,
           -0.005073307079296332,
           0.04544429147979172,
           0.040242621105938264,
           -0.03676854116027776,
           -0.01912886051358646,
           -0.08723766217225491,
           -0.02510966768376435,
           -0.04931610481111535,
           -0.06671920469070464,
           0.13040929401091345,
           -0.03421119214462179,
           -0.02510966768376435,
           -0.07932210401785579,
           0.019419379365372476,
           0.05791813328911446,
           0.010751541691251048,
           -0.021421818210648827
          ],
          [
           0.0157770277049918,
           0.023909837492450573,
           0.06677143163479594,
           0.004224814349325301,
           0.027730731798197114,
           0.025222353546131976,
           0.11040771024978636,
           -0.05847021095792218,
           -0.0037039081599042306,
           0.01809795846986297,
           1,
           -0.06296955274994091,
           -0.006658616832492183,
           0.009750503714875984,
           -0.019915017727150243,
           -0.02634416553142343,
           0.07868146462819202,
           -0.027421582794414787,
           0.01532980259514742,
           0.009267689946876958,
           0.033035384634412523,
           -0.031004883372809672,
           0.014323423932461266,
           -0.0034854910463281183,
           0.013339317256762328,
           0.08971314146823318,
           -0.012341765123741065,
           0.028054534157992177,
           -0.0048149483424851655,
           0.0011314705500321224,
           -0.020015304632016305,
           -0.07490075144451615,
           -0.017093359465408676,
           0.03442942628358085,
           -0.07173934911861515,
           0.029205776508158907,
           -0.0794066850747668,
           -0.005361707070383829,
           0.03442942628358085,
           -0.01657573310360983,
           -0.01645205085510238,
           0.026028128356222896,
           -0.006503310336837321,
           0.003399660786892416
          ],
          [
           -0.028053288409336772,
           -0.03524362511750638,
           0.08403999980409858,
           -0.03950540678819273,
           0.007828355717183978,
           0.011023392209872133,
           0.055333025182903624,
           0.1280301179976429,
           0.018731417811980573,
           0.011930874628250371,
           -0.06296955274994091,
           1,
           -0.04131516884323027,
           0.05498018992761183,
           -0.009907215241235192,
           -0.0065250100694408085,
           -0.019566160906012393,
           -0.02957581637799875,
           -0.01268462298800066,
           -0.0009653599410773033,
           -0.02806426844765446,
           0.011519203478502164,
           -0.024903069235894717,
           0.024184234031856728,
           -0.07233357979965113,
           -0.09998249343470052,
           0.028179759328787003,
           -0.011615066496299403,
           0.0007047340201427035,
           0.0026671537037559296,
           0.008704108202048751,
           0.00429728271721853,
           0.0035264545219357265,
           0.028577270176162062,
           0.048030867548552125,
           -0.08818557540977526,
           0.05243469567400281,
           -0.010823320845254055,
           0.028577270176162062,
           0.012607913786427474,
           -0.016552716126379714,
           0.014882219523035737,
           -0.019774793807830413,
           -0.044789085395065036
          ],
          [
           0.00932099303181575,
           0.035084306657739886,
           0.029823894902894228,
           0.08156585064954008,
           0.0439366648254207,
           0.019354943081585804,
           0.04982740555011183,
           -0.039412187360461544,
           -0.052982997504045885,
           0.02313311407112528,
           -0.006658616832492183,
           -0.04131516884323027,
           1,
           -0.01865062038810329,
           0.008163360448399675,
           -0.010926735216833867,
           0.05056901873102676,
           0.003047832458725843,
           0.011319318437824117,
           0.017855853342824506,
           0.015414821314777661,
           -0.010190623876245575,
           0.0029422386758967884,
           0.011547599553098977,
           0.05875555969696534,
           0.15283516304352424,
           -0.007684992616627189,
           0.0031342506291996007,
           -0.01120176383093364,
           0.007118796226875929,
           -0.0009836740232069161,
           -0.0402305441373576,
           -0.012862470671097791,
           0.016602260519423727,
           -0.03222531437922697,
           -0.024429969870561934,
           0.002001843515856487,
           -0.023375182418298755,
           0.016602260519423727,
           0.0024234301259899328,
           0.007013555414575675,
           -0.004778241083004006,
           0.008441784925889904,
           0.008415655113840521
          ],
          [
           -0.01359582324268799,
           -0.0287188959281768,
           0.11990756090713997,
           -0.07328678803525002,
           -0.02897992507995774,
           -0.016911707226218143,
           0.011496718422421778,
           0.02539324525764059,
           0.08335006234102142,
           -0.06295729602935714,
           0.009750503714875984,
           0.05498018992761183,
           -0.01865062038810329,
           1,
           0.015102586900979242,
           -0.013784135132785438,
           -0.024222172433481605,
           -0.020187431452019542,
           -0.03804712003348325,
           -0.008078908797865674,
           -0.02361534049818932,
           0.03922216992555768,
           -0.01177350416747635,
           0.002292398938411003,
           -0.059533740930074144,
           -0.22613442930424085,
           0.018581713489059924,
           0.01966654315190268,
           -0.00784050064719077,
           -0.0009220827632144278,
           -0.011288194608034851,
           0.02646242116291211,
           0.037582092629474415,
           -0.013498478804092972,
           0.023371721712634727,
           0.005510849118037698,
           0.009613136146642302,
           0.039004984302383014,
           -0.013498478804092972,
           0.015481455365371327,
           -0.01067544983303632,
           -0.019551231085892105,
           -0.00644870816701937,
           -0.019014902416860772
          ],
          [
           0.18038483654488208,
           0.4033659956251786,
           -0.02596075782479218,
           -0.004514343293872517,
           -0.0033732439084007177,
           0.007467089722202525,
           -0.025755738525934952,
           -0.0003427916834018223,
           0.00627647915530069,
           0.02098906139174706,
           -0.019915017727150243,
           -0.009907215241235192,
           0.008163360448399675,
           0.015102586900979242,
           1,
           0.05677550992546858,
           0.13643446222851086,
           0.05016621539429167,
           0.09990954436326904,
           0.005251329039053851,
           0.03885505398486532,
           -0.0010080202086089145,
           0.1747179466330664,
           -0.006204746931108741,
           0.14716852514746567,
           -0.06486670453761437,
           0.027657802539120865,
           -0.03463308812573916,
           -0.022699587283550322,
           0.009004117140853385,
           0.032183456844743774,
           -0.11830237683319879,
           0.1920847096735927,
           0.06948448565786727,
           -0.07142229791484116,
           -0.08326105039432433,
           -0.0158063385382405,
           0.0833690383029888,
           0.06948448565786727,
           0.16846254676067854,
           0.1458684900134921,
           -0.24903919954225281,
           0.07329161032424905,
           0.15857191970751952
          ],
          [
           0.1297297701688885,
           -0.0809355817424367,
           -0.013602483927293274,
           -0.009714725687856402,
           -0.06802918227443715,
           0.005236290796543093,
           -0.10938128600791361,
           0.05258793660935021,
           0.038374379848995256,
           -0.007244369617003182,
           -0.02634416553142343,
           -0.0065250100694408085,
           -0.010926735216833867,
           -0.013784135132785438,
           0.05677550992546858,
           1,
           -0.12673193482884296,
           0.049573588926136614,
           0.09013846597838757,
           0.389890526488137,
           0.13865141083286206,
           -0.0026919646941024147,
           0.1254184486388616,
           -0.10029784195458075,
           -0.0209265885067189,
           0.051894031763558786,
           0.044270080029683335,
           0.004091731188337669,
           0.005647252093576431,
           -0.014296848015247488,
           0.008528395736115994,
           0.4345348677442197,
           -0.12801034658073326,
           -0.14083703261951733,
           0.3343105997825031,
           0.16324634352136716,
           0.13761778922410256,
           -0.10758599899524371,
           -0.14083703261951733,
           -0.07219623485929218,
           -0.05408614660757803,
           -0.0020626279355185806,
           0.13962365898011847,
           0.02851113550789548
          ],
          [
           0.011990015162198834,
           0.3817949869055247,
           -0.05670912373543327,
           0.07890834496406361,
           0.02282113923407513,
           -0.001403803280597339,
           0.09718634002384317,
           -0.06959710772390433,
           -0.06573443666493295,
           0.09506078154231949,
           0.07868146462819202,
           -0.019566160906012393,
           0.05056901873102676,
           -0.024222172433481605,
           0.13643446222851086,
           -0.12673193482884296,
           1,
           0.033879734290721705,
           0.09589471115310597,
           -0.0028524535754236064,
           0.07513770581774179,
           -0.06262984604486593,
           0.012766135748942297,
           -0.003860336469851822,
           0.2950243643461374,
           0.032480929711312,
           -0.03733092002680003,
           0.05232987846272726,
           0.0199244366707267,
           -0.00407287547911852,
           -0.06076778311019205,
           -0.24136826054937555,
           -0.18049601128396808,
           0.5618047916449569,
           -0.1838607337458734,
           -0.11679895223818478,
           -0.04374112954061498,
           -0.11342835203409497,
           0.5618047916449569,
           -0.13127290181957627,
           0.009810769969217405,
           0.12383394789678003,
           0.01494807092073825,
           0.13265935011128116
          ],
          [
           0.03973815171726015,
           0.04179003456361969,
           -0.022463144035636446,
           0.030921535082793834,
           0.06326595918977826,
           0.03742319404089629,
           -0.0078575138383853,
           -0.02019971938782929,
           -0.05020269477574044,
           0.02578134063832276,
           -0.027421582794414787,
           -0.02957581637799875,
           0.003047832458725843,
           -0.020187431452019542,
           0.05016621539429167,
           0.049573588926136614,
           0.033879734290721705,
           1,
           0.2392552997078939,
           0.03115925766254075,
           0.016537306706696554,
           -0.03177398135188594,
           0.02834362570543019,
           -0.06990142608104222,
           0.05360587170102302,
           0.025531093262778724,
           -0.041608868738426244,
           -0.00188044318683146,
           0.007931244303361399,
           0.02467355062592973,
           -0.0047129612874413605,
           0.013359848096433067,
           -0.04685428611433284,
           -0.0027069977845975,
           -0.019706862295885138,
           0.019328235365665573,
           0.032598532359456076,
           -0.040880763115128504,
           -0.0027069977845975,
           -0.025268225674523005,
           -0.0038831465448587645,
           0.018568074166421755,
           0.022813436648055643,
           0.05944530648770598
          ],
          [
           0.0860771505381592,
           0.08973630575269127,
           0.0007514344768473838,
           0.006029399714091102,
           0.03640432202949935,
           0.009438992944688309,
           0.006975693843435123,
           0.0058941021899826885,
           -0.0452618559013287,
           0.005211918608752777,
           0.01532980259514742,
           -0.01268462298800066,
           0.011319318437824117,
           -0.03804712003348325,
           0.09990954436326904,
           0.09013846597838757,
           0.09589471115310597,
           0.2392552997078939,
           1,
           0.04464190662835627,
           0.15033890283173837,
           -0.006507380086929995,
           0.0710089228982065,
           -0.07924207646726822,
           0.06277484798961293,
           0.011767967058886233,
           -0.05924459502811782,
           0.03844999513944938,
           0.0018319799010104343,
           0.014399108419696341,
           -0.037266976760976074,
           -0.018407067984375188,
           -0.06678044225461338,
           0.024129741029826082,
           -0.03570861135010434,
           0.01574204490290652,
           -0.002326065912376287,
           -0.06490460983263255,
           0.024129741029826082,
           -0.030901514060998735,
           0.014330557929789649,
           0.01043635566673948,
           0.035072462808614764,
           0.12219715454655862
          ],
          [
           0.094858986159418,
           -0.01920731961377726,
           -0.0024240124606405454,
           0.025744308110767146,
           -0.06636668315898493,
           -0.03660184848757685,
           -0.015079117983468508,
           0.009690414163628785,
           -0.002785691786179088,
           -0.030331618479543954,
           0.009267689946876958,
           -0.0009653599410773033,
           0.017855853342824506,
           -0.008078908797865674,
           0.005251329039053851,
           0.389890526488137,
           -0.0028524535754236064,
           0.03115925766254075,
           0.04464190662835627,
           1,
           0.025707417629028822,
           0.010325435604953756,
           0.09370473380617349,
           -0.057407863171789524,
           0.047693548682239996,
           0.05028119492591198,
           -0.04217322026244417,
           0.05390422536164563,
           -0.001499933404082579,
           0.0185801141043382,
           -0.04472796392020781,
           0.07030591092373514,
           -0.1171421421456836,
           -0.010119393348778828,
           0.14998988512166167,
           -0.04828710698576489,
           -0.028987240976414898,
           -0.05060843034861214,
           -0.010119393348778828,
           -0.10291638133494242,
           -0.05734534724287386,
           0.11529918662255656,
           -0.015513996591290732,
           -0.029344812379815583
          ],
          [
           0.1978181948528905,
           0.02422895496981598,
           0.005835184429224562,
           0.00488347048124042,
           -0.027388332006809447,
           0.0077512788380473055,
           -0.00357197327673661,
           -0.008654645974052159,
           -0.012267614932733024,
           -0.037936538418624675,
           0.033035384634412523,
           -0.02806426844765446,
           0.015414821314777661,
           -0.02361534049818932,
           0.03885505398486532,
           0.13865141083286206,
           0.07513770581774179,
           0.016537306706696554,
           0.15033890283173837,
           0.025707417629028822,
           1,
           0.015269541082430376,
           0.1764165425204311,
           -0.026789294911121784,
           -0.008658991602968338,
           0.012414837387253998,
           -0.03084593426999454,
           -0.002487186723069384,
           -0.026258930420613825,
           -0.020324527138284386,
           0.021538967275354922,
           -0.019404222790142672,
           -0.07041456252696517,
           0.05871300398286108,
           -0.006821530775924161,
           0.004115521708194521,
           -0.03465120156842433,
           -0.04252923887295587,
           0.05871300398286108,
           -0.05253739846180952,
           -0.04146547619716458,
           0.0694165739104414,
           -0.00198859002970311,
           0.10584129506031122
          ],
          [
           0.01549665515997124,
           -0.03753660567482088,
           0.11550786153767283,
           -0.025540677571928013,
           -0.06407289956145083,
           0.0011156805390978473,
           -0.019102051307037387,
           0.034018135421231686,
           0.05607736842237857,
           -0.09394352826340305,
           -0.031004883372809672,
           0.011519203478502164,
           -0.010190623876245575,
           0.03922216992555768,
           -0.0010080202086089145,
           -0.0026919646941024147,
           -0.06262984604486593,
           -0.03177398135188594,
           -0.006507380086929995,
           0.010325435604953756,
           0.015269541082430376,
           1,
           0.01554904704034079,
           -0.008701332941114606,
           -0.07651440068221359,
           -0.09755134528607873,
           -0.0011827704476530185,
           0.020141344989539782,
           -0.035428956366843005,
           -0.0003779489657318733,
           -0.00005465406002093601,
           0.047423009749240345,
           0.04843232441832849,
           0.013842584548035466,
           0.03391434082941388,
           0.015608256709501825,
           0.022135936195361687,
           0.028738327028783695,
           0.013842584548035466,
           0.03653200032747234,
           -0.0376139502645238,
           -0.006713927465253081,
           -0.03706559792641406,
           0.07124482398639362
          ],
          [
           0.9591835142069904,
           0.04038245547042025,
           -0.03638879852172775,
           0.0010491965549981558,
           -0.13035537153623925,
           -0.02210195659749547,
           -0.09245554721432646,
           0.004512534872224778,
           0.07327713533876487,
           -0.1259616484265344,
           0.014323423932461266,
           -0.024903069235894717,
           0.0029422386758967884,
           -0.01177350416747635,
           0.1747179466330664,
           0.1254184486388616,
           0.012766135748942297,
           0.02834362570543019,
           0.0710089228982065,
           0.09370473380617349,
           0.1764165425204311,
           0.01554904704034079,
           1,
           -0.1384257593746033,
           -0.06466942593569891,
           0.02132612316555732,
           -0.03975017307237703,
           -0.13000505464786535,
           -0.11823533867017254,
           -0.045314766982231414,
           0.1852342133412097,
           0.11553482244299419,
           -0.012618292453456836,
           0.04608429532260487,
           0.102003700202547,
           0.1488930257908821,
           -0.12825978876262636,
           -0.002583187113375161,
           0.04608429532260487,
           -0.013295085143775814,
           -0.07443620935751331,
           -0.03447317401845885,
           0.057308704461574045,
           0.17036560549030094
          ],
          [
           -0.15040725295321913,
           0.0048025233400607395,
           -0.034210280071019936,
           -0.02433891222718253,
           0.011235185627950407,
           -0.014753312449741622,
           0.05421918214550422,
           -0.010140931008499878,
           -0.00950977087390097,
           0.039011285979686755,
           -0.0034854910463281183,
           0.024184234031856728,
           0.011547599553098977,
           0.002292398938411003,
           -0.006204746931108741,
           -0.10029784195458075,
           -0.003860336469851822,
           -0.06990142608104222,
           -0.07924207646726822,
           -0.057407863171789524,
           -0.026789294911121784,
           -0.008701332941114606,
           -0.1384257593746033,
           1,
           -0.0012689490428250795,
           0.015409983211543533,
           0.02161552346908674,
           -0.10022995726184247,
           -0.003914309803736897,
           -0.02792890693423982,
           0.08701649479826952,
           -0.11543252462529535,
           0.09860829106047836,
           0.0009955864495675016,
           -0.060615652334791666,
           -0.10084055655799251,
           -0.0031780567299930437,
           0.08387926314693411,
           0.0009955864495675016,
           0.05484042979899925,
           0.06777209230882543,
           -0.08744402035911429,
           0.0050454827812823335,
           -0.04486934244366265
          ],
          [
           -0.06508777599764072,
           0.4633457194420008,
           -0.1961830986084883,
           0.11636473269855971,
           0.13690822131666475,
           0.08358540978488577,
           0.071225006021272,
           -0.1842558206520435,
           -0.1842534468483155,
           0.2549466919698565,
           0.013339317256762328,
           -0.07233357979965113,
           0.05875555969696534,
           -0.059533740930074144,
           0.14716852514746567,
           -0.0209265885067189,
           0.2950243643461374,
           0.05360587170102302,
           0.06277484798961293,
           0.047693548682239996,
           -0.008658991602968338,
           -0.07651440068221359,
           -0.06466942593569891,
           -0.0012689490428250795,
           1,
           0.0523210166006395,
           0.022262848245830785,
           0.02692030278345509,
           0.025572215199509248,
           0.042951101750127396,
           -0.055481003491525946,
           -0.1736728616155197,
           -0.3313337152038912,
           0.020401539245268777,
           -0.12912571115553545,
           -0.12069326649612032,
           0.013465755093669778,
           -0.18707257026532445,
           0.020401539245268777,
           -0.2572626387921761,
           0.21847847293344222,
           0.11708937085595762,
           0.13157502823358727,
           0.051519474622726026
          ],
          [
           0.024198734424508973,
           0.020214236873797444,
           -0.07211180864260533,
           0.11633813820447655,
           0.00676260759722272,
           -0.023722971851978518,
           -0.006231721617110801,
           -0.07726294972808932,
           -0.126652248310331,
           0.14624906327478007,
           0.08971314146823318,
           -0.09998249343470052,
           0.15283516304352424,
           -0.22613442930424085,
           -0.06486670453761437,
           0.051894031763558786,
           0.032480929711312,
           0.025531093262778724,
           0.011767967058886233,
           0.05028119492591198,
           0.012414837387253998,
           -0.09755134528607873,
           0.02132612316555732,
           0.015409983211543533,
           0.0523210166006395,
           1,
           -0.0037658951222248236,
           0.0028778322743394685,
           0.0030342106304064166,
           -0.003989863578485091,
           -0.0027610546287092025,
           -0.057700759187037466,
           -0.036455478550232914,
           0.020414424264514338,
           -0.03390499001565267,
           -0.00878155834902215,
           -0.0526136605071879,
           -0.03311098939903116,
           0.020414424264514338,
           -0.018656412829372387,
           0.0012834033376566225,
           0.0039247835815206045,
           0.03373036699875938,
           -0.009213016938485183
          ],
          [
           -0.04976413581830241,
           -0.010497741793247832,
           -0.009223252047065934,
           -0.012614889876959983,
           -0.009671590082482112,
           -0.0036949494023717296,
           -0.0009421057066794733,
           -0.016319494899582107,
           -0.025628553835464266,
           0.025995588946850386,
           -0.012341765123741065,
           0.028179759328787003,
           -0.007684992616627189,
           0.018581713489059924,
           0.027657802539120865,
           0.044270080029683335,
           -0.03733092002680003,
           -0.041608868738426244,
           -0.05924459502811782,
           -0.04217322026244417,
           -0.03084593426999454,
           -0.0011827704476530185,
           -0.03975017307237703,
           0.02161552346908674,
           0.022262848245830785,
           -0.0037658951222248236,
           1,
           -0.05046107895374306,
           -0.01236623091467875,
           -0.0033696391347233664,
           0.047612683154598094,
           0.02281162914805516,
           0.029077039986655683,
           -0.042395011718487,
           0.04348309579849809,
           -0.04435651554804482,
           0.0380083077929035,
           -0.0049246512519862135,
           -0.042395011718487,
           0.03901441247190272,
           -0.009956327412590593,
           -0.014750190680421322,
           0.015107372711771525,
           -0.03618635776706774
          ],
          [
           -0.1342706178261121,
           0.015434138971270916,
           0.04961085517608888,
           0.016280190938696423,
           0.014850471491107988,
           -0.009682073748057959,
           -0.013468741467991291,
           0.033615872553409185,
           -0.02791828615068832,
           -0.005073307079296332,
           0.028054534157992177,
           -0.011615066496299403,
           0.0031342506291996007,
           0.01966654315190268,
           -0.03463308812573916,
           0.004091731188337669,
           0.05232987846272726,
           -0.00188044318683146,
           0.03844999513944938,
           0.05390422536164563,
           -0.002487186723069384,
           0.020141344989539782,
           -0.13000505464786535,
           -0.10022995726184247,
           0.02692030278345509,
           0.0028778322743394685,
           -0.05046107895374306,
           1,
           -0.07789399909417123,
           -0.04612364390267134,
           -0.8215413062523094,
           -0.005396006635057065,
           -0.049249381347622787,
           0.03626892180401725,
           0.04704738445382409,
           -0.04607870935933913,
           -0.023382013778828033,
           -0.04582342914860994,
           0.03626892180401725,
           -0.024362522084202094,
           0.005097643361586055,
           0.06206434998902165,
           -0.042337889811421996,
           -0.02985839701088399
          ],
          [
           -0.12351414035673317,
           -0.006334950685478447,
           -0.014028632610500694,
           -0.009937509903933594,
           0.015278124359221138,
           0.009094030749941315,
           0.008760932841468507,
           0.02981499971215699,
           0.0017286744808683269,
           0.04544429147979172,
           -0.0048149483424851655,
           0.0007047340201427035,
           -0.01120176383093364,
           -0.00784050064719077,
           -0.022699587283550322,
           0.005647252093576431,
           0.0199244366707267,
           0.007931244303361399,
           0.0018319799010104343,
           -0.001499933404082579,
           -0.026258930420613825,
           -0.035428956366843005,
           -0.11823533867017254,
           -0.003914309803736897,
           0.025572215199509248,
           0.0030342106304064166,
           -0.01236623091467875,
           -0.07789399909417123,
           1,
           -0.020120655671105128,
           -0.358383430796876,
           0.014210868889165975,
           -0.023611283279576407,
           -0.010386483371927888,
           0.018898181147678883,
           -0.018256709567789662,
           0.02396792962680632,
           0.011318370534835854,
           -0.010386483371927888,
           -0.03731820799596463,
           -0.011292254953826632,
           0.027702486193580993,
           -0.0026493712378600045,
           -0.03510713863023645
          ],
          [
           -0.05195826817418361,
           0.01920894363979674,
           -0.010471122107339775,
           0.0056644142771171265,
           0.02009090860256566,
           0.025385484399333393,
           0.0075086228316703744,
           -0.015384585515087935,
           0.007342362700185967,
           0.040242621105938264,
           0.0011314705500321224,
           0.0026671537037559296,
           0.007118796226875929,
           -0.0009220827632144278,
           0.009004117140853385,
           -0.014296848015247488,
           -0.00407287547911852,
           0.02467355062592973,
           0.014399108419696341,
           0.0185801141043382,
           -0.020324527138284386,
           -0.0003779489657318733,
           -0.045314766982231414,
           -0.02792890693423982,
           0.042951101750127396,
           -0.003989863578485091,
           -0.0033696391347233664,
           -0.04612364390267134,
           -0.020120655671105128,
           1,
           -0.212210824131762,
           -0.011094452939395871,
           -0.007487604990508424,
           0.0003781211566283121,
           0.0038537354310409933,
           -0.025694858254443054,
           0.006066188238057734,
           0.009561396450956272,
           0.0003781211566283121,
           -0.01643415185621251,
           0.03438975147784564,
           0.0030635445665732094,
           -0.005666044030330988,
           -0.0003892799861324135
          ],
          [
           0.19250290261874298,
           -0.027061573687474364,
           -0.02355732521041702,
           -0.009472757658023453,
           -0.03132713844824961,
           -0.003271469617211689,
           0.004147472117121091,
           -0.03664294176095478,
           0.023542818005558696,
           -0.03676854116027776,
           -0.020015304632016305,
           0.008704108202048751,
           -0.0009836740232069161,
           -0.011288194608034851,
           0.032183456844743774,
           0.008528395736115994,
           -0.06076778311019205,
           -0.0047129612874413605,
           -0.037266976760976074,
           -0.04472796392020781,
           0.021538967275354922,
           -0.00005465406002093601,
           0.1852342133412097,
           0.08701649479826952,
           -0.055481003491525946,
           -0.0027610546287092025,
           0.047612683154598094,
           -0.8215413062523094,
           -0.358383430796876,
           -0.212210824131762,
           1,
           0.008610105791468009,
           0.05210659672998899,
           -0.028069130141623582,
           -0.04602325635308475,
           0.061265144989883065,
           0.007644106204608064,
           0.029764633770951673,
           -0.028069130141623582,
           0.04019221543695912,
           -0.014497951560098102,
           -0.06407364818433896,
           0.03908418087556998,
           0.046075713311813135
          ],
          [
           0.12078009429790261,
           -0.23687734847768274,
           -0.02450005871111426,
           -0.07109913985012399,
           -0.07715594632133103,
           0.001150069283857163,
           -0.16682663742418383,
           0.12190697741797386,
           0.11522734898030006,
           -0.01912886051358646,
           -0.07490075144451615,
           0.00429728271721853,
           -0.0402305441373576,
           0.02646242116291211,
           -0.11830237683319879,
           0.4345348677442197,
           -0.24136826054937555,
           0.013359848096433067,
           -0.018407067984375188,
           0.07030591092373514,
           -0.019404222790142672,
           0.047423009749240345,
           0.11553482244299419,
           -0.11543252462529535,
           -0.1736728616155197,
           -0.057700759187037466,
           0.02281162914805516,
           -0.005396006635057065,
           0.014210868889165975,
           -0.011094452939395871,
           0.008610105791468009,
           1,
           -0.28958269300191564,
           -0.17716591316528735,
           0.6308678908167947,
           0.510590379204908,
           0.35382867351015085,
           -0.16458439647620424,
           -0.17716591316528735,
           -0.2240098247668947,
           -0.1974357439849339,
           0.30792087149653213,
           -0.0593971503732827,
           -0.01926384729065151
          ],
          [
           -0.013724796736417277,
           -0.16803372831202407,
           0.0737341178416152,
           -0.06715629855952082,
           -0.0572916106420504,
           -0.039620405688556154,
           -0.05474835546230223,
           0.09032046464154583,
           0.11065800359499965,
           -0.08723766217225491,
           -0.017093359465408676,
           0.0035264545219357265,
           -0.012862470671097791,
           0.037582092629474415,
           0.1920847096735927,
           -0.12801034658073326,
           -0.18049601128396808,
           -0.04685428611433284,
           -0.06678044225461338,
           -0.1171421421456836,
           -0.07041456252696517,
           0.04843232441832849,
           -0.012618292453456836,
           0.09860829106047836,
           -0.3313337152038912,
           -0.036455478550232914,
           0.029077039986655683,
           -0.049249381347622787,
           -0.023611283279576407,
           -0.007487604990508424,
           0.05210659672998899,
           -0.28958269300191564,
           1,
           -0.11377909192591602,
           -0.18268842275116615,
           -0.14785813703102665,
           -0.10246266013636522,
           0.568350251771142,
           -0.11377909192591602,
           0.7735608176190747,
           -0.12679673681565098,
           -0.596855133873507,
           -0.1731492655593364,
           0.05714803423200293
          ],
          [
           0.0469726803483009,
           0.20205329296237307,
           0.032373123178535655,
           0.06338472552996759,
           -0.00681596763404667,
           -0.007748095585949267,
           0.06932071146830938,
           -0.012918798713111771,
           -0.0007638342585260165,
           -0.02510966768376435,
           0.03442942628358085,
           0.028577270176162062,
           0.016602260519423727,
           -0.013498478804092972,
           0.06948448565786727,
           -0.14083703261951733,
           0.5618047916449569,
           -0.0027069977845975,
           0.024129741029826082,
           -0.010119393348778828,
           0.05871300398286108,
           0.013842584548035466,
           0.04608429532260487,
           0.0009955864495675016,
           0.020401539245268777,
           0.020414424264514338,
           -0.042395011718487,
           0.03626892180401725,
           -0.010386483371927888,
           0.0003781211566283121,
           -0.028069130141623582,
           -0.17716591316528735,
           -0.11377909192591602,
           1,
           -0.11176828596321571,
           -0.09045921078524809,
           -0.06268638004648838,
           -0.06466637554238608,
           1,
           -0.08801504737816757,
           -0.07757390274761615,
           0.09892089107748021,
           0.0002573138737251449,
           0.12716673183390104
          ],
          [
           0.10913156652798094,
           -0.19018049888726318,
           -0.0459490692156049,
           -0.07115827495557037,
           -0.09871075207315883,
           -0.006597647893691322,
           -0.13515172978351359,
           0.13588434690038456,
           0.1227435353407273,
           -0.04931610481111535,
           -0.07173934911861515,
           0.048030867548552125,
           -0.03222531437922697,
           0.023371721712634727,
           -0.07142229791484116,
           0.3343105997825031,
           -0.1838607337458734,
           -0.019706862295885138,
           -0.03570861135010434,
           0.14998988512166167,
           -0.006821530775924161,
           0.03391434082941388,
           0.102003700202547,
           -0.060615652334791666,
           -0.12912571115553545,
           -0.03390499001565267,
           0.04348309579849809,
           0.04704738445382409,
           0.018898181147678883,
           0.0038537354310409933,
           -0.04602325635308475,
           0.6308678908167947,
           -0.18268842275116615,
           -0.11176828596321571,
           1,
           -0.14524505567712362,
           -0.10065184828623677,
           -0.10383101106629758,
           -0.11176828596321571,
           -0.1413206056729309,
           -0.12455587137961936,
           0.20819509238349843,
           -0.05132163981794071,
           -0.04534965976478692
          ],
          [
           0.15209542846383925,
           -0.12732862041009418,
           0.016636358791736933,
           -0.00608277372157972,
           0.006385915046005676,
           0.0231710622512051,
           -0.07258342715490677,
           -0.027640868626693918,
           0.09551833444667022,
           -0.06671920469070464,
           0.029205776508158907,
           -0.08818557540977526,
           -0.024429969870561934,
           0.005510849118037698,
           -0.08326105039432433,
           0.16324634352136716,
           -0.11679895223818478,
           0.019328235365665573,
           0.01574204490290652,
           -0.04828710698576489,
           0.004115521708194521,
           0.015608256709501825,
           0.1488930257908821,
           -0.10084055655799251,
           -0.12069326649612032,
           -0.00878155834902215,
           -0.04435651554804482,
           -0.04607870935933913,
           -0.018256709567789662,
           -0.025694858254443054,
           0.061265144989883065,
           0.510590379204908,
           -0.14785813703102665,
           -0.09045921078524809,
           -0.14524505567712362,
           1,
           -0.08146216685335941,
           -0.08403520940799618,
           -0.0904592107852481,
           -0.11437726137335438,
           -0.10080879138987064,
           0.12069018127806824,
           0.012358970786448537,
           0.05470264609485733
          ],
          [
           -0.1332176798664237,
           -0.01004262554081513,
           0.0002697061333121451,
           -0.024372749494009565,
           -0.009843916354863867,
           -0.018705419771234442,
           -0.02845081375191482,
           0.07156298581993104,
           -0.08920369552898033,
           0.13040929401091345,
           -0.0794066850747668,
           0.05243469567400281,
           0.002001843515856487,
           0.009613136146642302,
           -0.0158063385382405,
           0.13761778922410256,
           -0.04374112954061498,
           0.032598532359456076,
           -0.002326065912376287,
           -0.028987240976414898,
           -0.03465120156842433,
           0.022135936195361687,
           -0.12825978876262636,
           -0.0031780567299930437,
           0.013465755093669778,
           -0.0526136605071879,
           0.0380083077929035,
           -0.023382013778828033,
           0.02396792962680632,
           0.006066188238057734,
           0.007644106204608064,
           0.35382867351015085,
           -0.10246266013636522,
           -0.06268638004648838,
           -0.10065184828623677,
           -0.08146216685335941,
           1,
           -0.05823467868564376,
           -0.06268638004648838,
           -0.0792610991505121,
           -0.06985842739767913,
           0.1365263348053385,
           -0.057128532855824206,
           -0.04184015030998801
          ],
          [
           -0.005613917960047833,
           -0.1172499642291282,
           0.055820746745042935,
           -0.056649781816696984,
           -0.05783387895150517,
           -0.035807875178622536,
           0.00007348272029098563,
           0.06891858283981442,
           0.07308241042321673,
           -0.03421119214462179,
           -0.005361707070383829,
           -0.010823320845254055,
           -0.023375182418298755,
           0.039004984302383014,
           0.0833690383029888,
           -0.10758599899524371,
           -0.11342835203409497,
           -0.040880763115128504,
           -0.06490460983263255,
           -0.05060843034861214,
           -0.04252923887295587,
           0.028738327028783695,
           -0.002583187113375161,
           0.08387926314693411,
           -0.18707257026532445,
           -0.03311098939903116,
           -0.0049246512519862135,
           -0.04582342914860994,
           0.011318370534835854,
           0.009561396450956272,
           0.029764633770951673,
           -0.16458439647620424,
           0.568350251771142,
           -0.06466637554238608,
           -0.10383101106629758,
           -0.08403520940799618,
           -0.05823467868564376,
           1,
           -0.06466637554238608,
           -0.08176461936019018,
           -0.07206495729293427,
           -0.3392227656079083,
           -0.09840942867463673,
           -0.008234258241749812
          ],
          [
           0.0469726803483009,
           0.20205329296237307,
           0.032373123178535655,
           0.06338472552996759,
           -0.00681596763404667,
           -0.007748095585949267,
           0.06932071146830938,
           -0.012918798713111771,
           -0.0007638342585260165,
           -0.02510966768376435,
           0.03442942628358085,
           0.028577270176162062,
           0.016602260519423727,
           -0.013498478804092972,
           0.06948448565786727,
           -0.14083703261951733,
           0.5618047916449569,
           -0.0027069977845975,
           0.024129741029826082,
           -0.010119393348778828,
           0.05871300398286108,
           0.013842584548035466,
           0.04608429532260487,
           0.0009955864495675016,
           0.020401539245268777,
           0.020414424264514338,
           -0.042395011718487,
           0.03626892180401725,
           -0.010386483371927888,
           0.0003781211566283121,
           -0.028069130141623582,
           -0.17716591316528735,
           -0.11377909192591602,
           1,
           -0.11176828596321571,
           -0.0904592107852481,
           -0.06268638004648838,
           -0.06466637554238608,
           1,
           -0.08801504737816757,
           -0.07757390274761615,
           0.09892089107748021,
           0.0002573138737251449,
           0.12716673183390104
          ],
          [
           -0.01230109525233332,
           -0.11323372509722313,
           0.04632110766214765,
           -0.037714779700221114,
           -0.024853553505662797,
           -0.020412948069025046,
           -0.06637395316154268,
           0.05632421317694172,
           0.0777522846256033,
           -0.07932210401785579,
           -0.01657573310360983,
           0.012607913786427474,
           0.0024234301259899328,
           0.015481455365371327,
           0.16846254676067854,
           -0.07219623485929218,
           -0.13127290181957627,
           -0.025268225674523005,
           -0.030901514060998735,
           -0.10291638133494242,
           -0.05253739846180952,
           0.03653200032747234,
           -0.013295085143775814,
           0.05484042979899925,
           -0.2572626387921761,
           -0.018656412829372387,
           0.03901441247190272,
           -0.024362522084202094,
           -0.03731820799596463,
           -0.01643415185621251,
           0.04019221543695912,
           -0.2240098247668947,
           0.7735608176190747,
           -0.08801504737816757,
           -0.1413206056729309,
           -0.11437726137335438,
           -0.0792610991505121,
           -0.08176461936019018,
           -0.08801504737816757,
           1,
           -0.09808498740254543,
           -0.46170374535933245,
           -0.13394148743622278,
           0.07556625924846981
          ],
          [
           -0.08140825363227706,
           0.18147737656401347,
           -0.04843716721582489,
           -0.016861157419155833,
           0.06669138314852383,
           0.03229308672700549,
           0.04795714741973942,
           -0.042942427992790244,
           -0.083124911043391,
           0.019419379365372476,
           -0.01645205085510238,
           -0.016552716126379714,
           0.007013555414575675,
           -0.01067544983303632,
           0.1458684900134921,
           -0.05408614660757803,
           0.009810769969217405,
           -0.0038831465448587645,
           0.014330557929789649,
           -0.05734534724287386,
           -0.04146547619716458,
           -0.0376139502645238,
           -0.07443620935751331,
           0.06777209230882543,
           0.21847847293344222,
           0.0012834033376566225,
           -0.009956327412590593,
           0.005097643361586055,
           -0.011292254953826632,
           0.03438975147784564,
           -0.014497951560098102,
           -0.1974357439849339,
           -0.12679673681565098,
           -0.07757390274761615,
           -0.12455587137961936,
           -0.10080879138987064,
           -0.06985842739767913,
           -0.07206495729293427,
           -0.07757390274761615,
           -0.09808498740254543,
           1,
           -0.4069322520139831,
           0.37971337986792303,
           0.025458547616861688
          ],
          [
           -0.03018512042519385,
           0.0034967924822954712,
           -0.027075295396390614,
           0.049968611580639706,
           0.012313852707575203,
           0.0038078934115246283,
           0.01851873761745598,
           -0.009940002052362923,
           -0.02577226099906414,
           0.05791813328911446,
           0.026028128356222896,
           0.014882219523035737,
           -0.004778241083004006,
           -0.019551231085892105,
           -0.24903919954225281,
           -0.0020626279355185806,
           0.12383394789678003,
           0.018568074166421755,
           0.01043635566673948,
           0.11529918662255656,
           0.0694165739104414,
           -0.006713927465253081,
           -0.03447317401845885,
           -0.08744402035911429,
           0.11708937085595762,
           0.0039247835815206045,
           -0.014750190680421322,
           0.06206434998902165,
           0.027702486193580993,
           0.0030635445665732094,
           -0.06407364818433896,
           0.30792087149653213,
           -0.596855133873507,
           0.09892089107748021,
           0.20819509238349843,
           0.12069018127806824,
           0.1365263348053385,
           -0.3392227656079083,
           0.09892089107748021,
           -0.46170374535933245,
           -0.4069322520139831,
           1,
           -0.5556926963433567,
           -0.08217125053153695
          ],
          [
           0.05470661291316137,
           0.1092993002737062,
           -0.02362030004774474,
           -0.0007681670714393945,
           0.02460258108938531,
           0.025168439325650105,
           0.02997133662729487,
           -0.06373957363623528,
           -0.05194381458538013,
           0.010751541691251048,
           -0.006503310336837321,
           -0.019774793807830413,
           0.008441784925889904,
           -0.00644870816701937,
           0.07329161032424905,
           0.13962365898011847,
           0.01494807092073825,
           0.022813436648055643,
           0.035072462808614764,
           -0.015513996591290732,
           -0.00198859002970311,
           -0.03706559792641406,
           0.057308704461574045,
           0.0050454827812823335,
           0.13157502823358727,
           0.03373036699875938,
           0.015107372711771525,
           -0.042337889811421996,
           -0.0026493712378600045,
           -0.005666044030330988,
           0.03908418087556998,
           -0.0593971503732827,
           -0.1731492655593364,
           0.0002573138737251449,
           -0.05132163981794071,
           0.012358970786448537,
           -0.057128532855824206,
           -0.09840942867463673,
           0.0002573138737251449,
           -0.13394148743622278,
           0.37971337986792303,
           -0.5556926963433567,
           1,
           0.014157609964628491
          ],
          [
           0.1923787467810523,
           0.10307359007244908,
           -0.028454596035987156,
           0.01819193958707182,
           -0.03763641450735516,
           0.026455340168974814,
           -0.028724662392102078,
           -0.010065282188724616,
           0.03782600790427867,
           -0.021421818210648827,
           0.003399660786892416,
           -0.044789085395065036,
           0.008415655113840521,
           -0.019014902416860772,
           0.15857191970751952,
           0.02851113550789548,
           0.13265935011128116,
           0.05944530648770598,
           0.12219715454655862,
           -0.029344812379815583,
           0.10584129506031122,
           0.07124482398639362,
           0.17036560549030094,
           -0.04486934244366265,
           0.051519474622726026,
           -0.009213016938485183,
           -0.03618635776706774,
           -0.02985839701088399,
           -0.03510713863023645,
           -0.0003892799861324135,
           0.046075713311813135,
           -0.01926384729065151,
           0.05714803423200293,
           0.12716673183390104,
           -0.04534965976478692,
           0.05470264609485733,
           -0.04184015030998801,
           -0.008234258241749812,
           0.12716673183390104,
           0.07556625924846981,
           0.025458547616861688,
           -0.08217125053153695,
           0.014157609964628491,
           1
          ]
         ],
         "zmax": 1,
         "zmin": -1
        }
       ],
       "layout": {
        "autosize": false,
        "height": 800,
        "template": {
         "data": {
          "bar": [
           {
            "error_x": {
             "color": "#2a3f5f"
            },
            "error_y": {
             "color": "#2a3f5f"
            },
            "marker": {
             "line": {
              "color": "#E5ECF6",
              "width": 0.5
             },
             "pattern": {
              "fillmode": "overlay",
              "size": 10,
              "solidity": 0.2
             }
            },
            "type": "bar"
           }
          ],
          "barpolar": [
           {
            "marker": {
             "line": {
              "color": "#E5ECF6",
              "width": 0.5
             },
             "pattern": {
              "fillmode": "overlay",
              "size": 10,
              "solidity": 0.2
             }
            },
            "type": "barpolar"
           }
          ],
          "carpet": [
           {
            "aaxis": {
             "endlinecolor": "#2a3f5f",
             "gridcolor": "white",
             "linecolor": "white",
             "minorgridcolor": "white",
             "startlinecolor": "#2a3f5f"
            },
            "baxis": {
             "endlinecolor": "#2a3f5f",
             "gridcolor": "white",
             "linecolor": "white",
             "minorgridcolor": "white",
             "startlinecolor": "#2a3f5f"
            },
            "type": "carpet"
           }
          ],
          "choropleth": [
           {
            "colorbar": {
             "outlinewidth": 0,
             "ticks": ""
            },
            "type": "choropleth"
           }
          ],
          "contour": [
           {
            "colorbar": {
             "outlinewidth": 0,
             "ticks": ""
            },
            "colorscale": [
             [
              0,
              "#0d0887"
             ],
             [
              0.1111111111111111,
              "#46039f"
             ],
             [
              0.2222222222222222,
              "#7201a8"
             ],
             [
              0.3333333333333333,
              "#9c179e"
             ],
             [
              0.4444444444444444,
              "#bd3786"
             ],
             [
              0.5555555555555556,
              "#d8576b"
             ],
             [
              0.6666666666666666,
              "#ed7953"
             ],
             [
              0.7777777777777778,
              "#fb9f3a"
             ],
             [
              0.8888888888888888,
              "#fdca26"
             ],
             [
              1,
              "#f0f921"
             ]
            ],
            "type": "contour"
           }
          ],
          "contourcarpet": [
           {
            "colorbar": {
             "outlinewidth": 0,
             "ticks": ""
            },
            "type": "contourcarpet"
           }
          ],
          "heatmap": [
           {
            "colorbar": {
             "outlinewidth": 0,
             "ticks": ""
            },
            "colorscale": [
             [
              0,
              "#0d0887"
             ],
             [
              0.1111111111111111,
              "#46039f"
             ],
             [
              0.2222222222222222,
              "#7201a8"
             ],
             [
              0.3333333333333333,
              "#9c179e"
             ],
             [
              0.4444444444444444,
              "#bd3786"
             ],
             [
              0.5555555555555556,
              "#d8576b"
             ],
             [
              0.6666666666666666,
              "#ed7953"
             ],
             [
              0.7777777777777778,
              "#fb9f3a"
             ],
             [
              0.8888888888888888,
              "#fdca26"
             ],
             [
              1,
              "#f0f921"
             ]
            ],
            "type": "heatmap"
           }
          ],
          "heatmapgl": [
           {
            "colorbar": {
             "outlinewidth": 0,
             "ticks": ""
            },
            "colorscale": [
             [
              0,
              "#0d0887"
             ],
             [
              0.1111111111111111,
              "#46039f"
             ],
             [
              0.2222222222222222,
              "#7201a8"
             ],
             [
              0.3333333333333333,
              "#9c179e"
             ],
             [
              0.4444444444444444,
              "#bd3786"
             ],
             [
              0.5555555555555556,
              "#d8576b"
             ],
             [
              0.6666666666666666,
              "#ed7953"
             ],
             [
              0.7777777777777778,
              "#fb9f3a"
             ],
             [
              0.8888888888888888,
              "#fdca26"
             ],
             [
              1,
              "#f0f921"
             ]
            ],
            "type": "heatmapgl"
           }
          ],
          "histogram": [
           {
            "marker": {
             "pattern": {
              "fillmode": "overlay",
              "size": 10,
              "solidity": 0.2
             }
            },
            "type": "histogram"
           }
          ],
          "histogram2d": [
           {
            "colorbar": {
             "outlinewidth": 0,
             "ticks": ""
            },
            "colorscale": [
             [
              0,
              "#0d0887"
             ],
             [
              0.1111111111111111,
              "#46039f"
             ],
             [
              0.2222222222222222,
              "#7201a8"
             ],
             [
              0.3333333333333333,
              "#9c179e"
             ],
             [
              0.4444444444444444,
              "#bd3786"
             ],
             [
              0.5555555555555556,
              "#d8576b"
             ],
             [
              0.6666666666666666,
              "#ed7953"
             ],
             [
              0.7777777777777778,
              "#fb9f3a"
             ],
             [
              0.8888888888888888,
              "#fdca26"
             ],
             [
              1,
              "#f0f921"
             ]
            ],
            "type": "histogram2d"
           }
          ],
          "histogram2dcontour": [
           {
            "colorbar": {
             "outlinewidth": 0,
             "ticks": ""
            },
            "colorscale": [
             [
              0,
              "#0d0887"
             ],
             [
              0.1111111111111111,
              "#46039f"
             ],
             [
              0.2222222222222222,
              "#7201a8"
             ],
             [
              0.3333333333333333,
              "#9c179e"
             ],
             [
              0.4444444444444444,
              "#bd3786"
             ],
             [
              0.5555555555555556,
              "#d8576b"
             ],
             [
              0.6666666666666666,
              "#ed7953"
             ],
             [
              0.7777777777777778,
              "#fb9f3a"
             ],
             [
              0.8888888888888888,
              "#fdca26"
             ],
             [
              1,
              "#f0f921"
             ]
            ],
            "type": "histogram2dcontour"
           }
          ],
          "mesh3d": [
           {
            "colorbar": {
             "outlinewidth": 0,
             "ticks": ""
            },
            "type": "mesh3d"
           }
          ],
          "parcoords": [
           {
            "line": {
             "colorbar": {
              "outlinewidth": 0,
              "ticks": ""
             }
            },
            "type": "parcoords"
           }
          ],
          "pie": [
           {
            "automargin": true,
            "type": "pie"
           }
          ],
          "scatter": [
           {
            "fillpattern": {
             "fillmode": "overlay",
             "size": 10,
             "solidity": 0.2
            },
            "type": "scatter"
           }
          ],
          "scatter3d": [
           {
            "line": {
             "colorbar": {
              "outlinewidth": 0,
              "ticks": ""
             }
            },
            "marker": {
             "colorbar": {
              "outlinewidth": 0,
              "ticks": ""
             }
            },
            "type": "scatter3d"
           }
          ],
          "scattercarpet": [
           {
            "marker": {
             "colorbar": {
              "outlinewidth": 0,
              "ticks": ""
             }
            },
            "type": "scattercarpet"
           }
          ],
          "scattergeo": [
           {
            "marker": {
             "colorbar": {
              "outlinewidth": 0,
              "ticks": ""
             }
            },
            "type": "scattergeo"
           }
          ],
          "scattergl": [
           {
            "marker": {
             "colorbar": {
              "outlinewidth": 0,
              "ticks": ""
             }
            },
            "type": "scattergl"
           }
          ],
          "scattermapbox": [
           {
            "marker": {
             "colorbar": {
              "outlinewidth": 0,
              "ticks": ""
             }
            },
            "type": "scattermapbox"
           }
          ],
          "scatterpolar": [
           {
            "marker": {
             "colorbar": {
              "outlinewidth": 0,
              "ticks": ""
             }
            },
            "type": "scatterpolar"
           }
          ],
          "scatterpolargl": [
           {
            "marker": {
             "colorbar": {
              "outlinewidth": 0,
              "ticks": ""
             }
            },
            "type": "scatterpolargl"
           }
          ],
          "scatterternary": [
           {
            "marker": {
             "colorbar": {
              "outlinewidth": 0,
              "ticks": ""
             }
            },
            "type": "scatterternary"
           }
          ],
          "surface": [
           {
            "colorbar": {
             "outlinewidth": 0,
             "ticks": ""
            },
            "colorscale": [
             [
              0,
              "#0d0887"
             ],
             [
              0.1111111111111111,
              "#46039f"
             ],
             [
              0.2222222222222222,
              "#7201a8"
             ],
             [
              0.3333333333333333,
              "#9c179e"
             ],
             [
              0.4444444444444444,
              "#bd3786"
             ],
             [
              0.5555555555555556,
              "#d8576b"
             ],
             [
              0.6666666666666666,
              "#ed7953"
             ],
             [
              0.7777777777777778,
              "#fb9f3a"
             ],
             [
              0.8888888888888888,
              "#fdca26"
             ],
             [
              1,
              "#f0f921"
             ]
            ],
            "type": "surface"
           }
          ],
          "table": [
           {
            "cells": {
             "fill": {
              "color": "#EBF0F8"
             },
             "line": {
              "color": "white"
             }
            },
            "header": {
             "fill": {
              "color": "#C8D4E3"
             },
             "line": {
              "color": "white"
             }
            },
            "type": "table"
           }
          ]
         },
         "layout": {
          "annotationdefaults": {
           "arrowcolor": "#2a3f5f",
           "arrowhead": 0,
           "arrowwidth": 1
          },
          "autotypenumbers": "strict",
          "coloraxis": {
           "colorbar": {
            "outlinewidth": 0,
            "ticks": ""
           }
          },
          "colorscale": {
           "diverging": [
            [
             0,
             "#8e0152"
            ],
            [
             0.1,
             "#c51b7d"
            ],
            [
             0.2,
             "#de77ae"
            ],
            [
             0.3,
             "#f1b6da"
            ],
            [
             0.4,
             "#fde0ef"
            ],
            [
             0.5,
             "#f7f7f7"
            ],
            [
             0.6,
             "#e6f5d0"
            ],
            [
             0.7,
             "#b8e186"
            ],
            [
             0.8,
             "#7fbc41"
            ],
            [
             0.9,
             "#4d9221"
            ],
            [
             1,
             "#276419"
            ]
           ],
           "sequential": [
            [
             0,
             "#0d0887"
            ],
            [
             0.1111111111111111,
             "#46039f"
            ],
            [
             0.2222222222222222,
             "#7201a8"
            ],
            [
             0.3333333333333333,
             "#9c179e"
            ],
            [
             0.4444444444444444,
             "#bd3786"
            ],
            [
             0.5555555555555556,
             "#d8576b"
            ],
            [
             0.6666666666666666,
             "#ed7953"
            ],
            [
             0.7777777777777778,
             "#fb9f3a"
            ],
            [
             0.8888888888888888,
             "#fdca26"
            ],
            [
             1,
             "#f0f921"
            ]
           ],
           "sequentialminus": [
            [
             0,
             "#0d0887"
            ],
            [
             0.1111111111111111,
             "#46039f"
            ],
            [
             0.2222222222222222,
             "#7201a8"
            ],
            [
             0.3333333333333333,
             "#9c179e"
            ],
            [
             0.4444444444444444,
             "#bd3786"
            ],
            [
             0.5555555555555556,
             "#d8576b"
            ],
            [
             0.6666666666666666,
             "#ed7953"
            ],
            [
             0.7777777777777778,
             "#fb9f3a"
            ],
            [
             0.8888888888888888,
             "#fdca26"
            ],
            [
             1,
             "#f0f921"
            ]
           ]
          },
          "colorway": [
           "#636efa",
           "#EF553B",
           "#00cc96",
           "#ab63fa",
           "#FFA15A",
           "#19d3f3",
           "#FF6692",
           "#B6E880",
           "#FF97FF",
           "#FECB52"
          ],
          "font": {
           "color": "#2a3f5f"
          },
          "geo": {
           "bgcolor": "white",
           "lakecolor": "white",
           "landcolor": "#E5ECF6",
           "showlakes": true,
           "showland": true,
           "subunitcolor": "white"
          },
          "hoverlabel": {
           "align": "left"
          },
          "hovermode": "closest",
          "mapbox": {
           "style": "light"
          },
          "paper_bgcolor": "white",
          "plot_bgcolor": "#E5ECF6",
          "polar": {
           "angularaxis": {
            "gridcolor": "white",
            "linecolor": "white",
            "ticks": ""
           },
           "bgcolor": "#E5ECF6",
           "radialaxis": {
            "gridcolor": "white",
            "linecolor": "white",
            "ticks": ""
           }
          },
          "scene": {
           "xaxis": {
            "backgroundcolor": "#E5ECF6",
            "gridcolor": "white",
            "gridwidth": 2,
            "linecolor": "white",
            "showbackground": true,
            "ticks": "",
            "zerolinecolor": "white"
           },
           "yaxis": {
            "backgroundcolor": "#E5ECF6",
            "gridcolor": "white",
            "gridwidth": 2,
            "linecolor": "white",
            "showbackground": true,
            "ticks": "",
            "zerolinecolor": "white"
           },
           "zaxis": {
            "backgroundcolor": "#E5ECF6",
            "gridcolor": "white",
            "gridwidth": 2,
            "linecolor": "white",
            "showbackground": true,
            "ticks": "",
            "zerolinecolor": "white"
           }
          },
          "shapedefaults": {
           "line": {
            "color": "#2a3f5f"
           }
          },
          "ternary": {
           "aaxis": {
            "gridcolor": "white",
            "linecolor": "white",
            "ticks": ""
           },
           "baxis": {
            "gridcolor": "white",
            "linecolor": "white",
            "ticks": ""
           },
           "bgcolor": "#E5ECF6",
           "caxis": {
            "gridcolor": "white",
            "linecolor": "white",
            "ticks": ""
           }
          },
          "title": {
           "x": 0.05
          },
          "xaxis": {
           "automargin": true,
           "gridcolor": "white",
           "linecolor": "white",
           "ticks": "",
           "title": {
            "standoff": 15
           },
           "zerolinecolor": "white",
           "zerolinewidth": 2
          },
          "yaxis": {
           "automargin": true,
           "gridcolor": "white",
           "linecolor": "white",
           "ticks": "",
           "title": {
            "standoff": 15
           },
           "zerolinecolor": "white",
           "zerolinewidth": 2
          }
         }
        },
        "title": {
         "text": "knn_imputation - Korrelasjonsmatrise"
        },
        "width": 800,
        "xaxis": {
         "nticks": 44
        },
        "yaxis": {
         "nticks": 44
        }
       }
      }
     },
     "metadata": {},
     "output_type": "display_data"
    },
    {
     "name": "stdout",
     "output_type": "stream",
     "text": [
      "Random Forest: 18.86\n",
      "Gradient Boosting: 18.88\n",
      "Decision Tree: 22.14\n",
      "Linear Regression: 23.47\n",
      "Polynomial Regression: 2277969098.07\n",
      "Ridge Regression: 19.06\n"
     ]
    },
    {
     "name": "stderr",
     "output_type": "stream",
     "text": [
      "C:\\Users\\47476\\AppData\\Local\\Temp\\ipykernel_26584\\645448223.py:25: FutureWarning:\n",
      "\n",
      "A value is trying to be set on a copy of a DataFrame or Series through chained assignment using an inplace method.\n",
      "The behavior will change in pandas 3.0. This inplace method will never work because the intermediate object on which we are setting values always behaves as a copy.\n",
      "\n",
      "For example, when doing 'df[col].method(value, inplace=True)', try using 'df.method({col: value}, inplace=True)' or df[col] = df[col].method(value) instead, to perform the operation inplace on the original object.\n",
      "\n",
      "\n",
      "\n"
     ]
    },
    {
     "name": "stdout",
     "output_type": "stream",
     "text": [
      "knn_imputation - Best Model: Random Forest\n",
      "knn_imputation - Validation RMSE: 18.86\n",
      "knn_imputation - Within 10 diff: 64.49%\n",
      "knn_imputation - Full Dataset RMSE: 17.64\n",
      "knn_imputation - Within 10 diff (Full Dataset): 69.67%\n"
     ]
    },
    {
     "data": {
      "application/vnd.plotly.v1+json": {
       "config": {
        "plotlyServerURL": "https://plot.ly"
       },
       "data": [
        {
         "type": "heatmap",
         "x": [
          "alder",
          "sykehusdød",
          "blodtrykk",
          "hvite_blodlegemer",
          "hjertefrekvens",
          "respirasjonsfrekvens",
          "kroppstemperatur",
          "lungefunksjon",
          "serumalbumin",
          "bilirubin",
          "natrium",
          "blod_ph",
          "glukose",
          "urinmengde",
          "dødsfall",
          "antall_komorbiditeter",
          "koma_score",
          "adl_pasient",
          "adl_stedfortreder",
          "diabetes",
          "demens",
          "dnr_dag",
          "alder_gruppe",
          "sosiooekonomisk_status",
          "overlevelses_proxy",
          "nyrefunksjons_proxy"
         ],
         "y": [
          "alder",
          "sykehusdød",
          "blodtrykk",
          "hvite_blodlegemer",
          "hjertefrekvens",
          "respirasjonsfrekvens",
          "kroppstemperatur",
          "lungefunksjon",
          "serumalbumin",
          "bilirubin",
          "natrium",
          "blod_ph",
          "glukose",
          "urinmengde",
          "dødsfall",
          "antall_komorbiditeter",
          "koma_score",
          "adl_pasient",
          "adl_stedfortreder",
          "diabetes",
          "demens",
          "dnr_dag",
          "alder_gruppe",
          "sosiooekonomisk_status",
          "overlevelses_proxy",
          "nyrefunksjons_proxy"
         ],
         "z": [
          [
           1,
           0.040476951484547045,
           -0.03915868305518392,
           0.0020243363046296135,
           -0.137382819336006,
           -0.017053146211615744,
           -0.09538469251592005,
           0.019159308787779876,
           0.0023921522635200906,
           -0.12558735012803043,
           0.0157770277049918,
           0.013759713433225775,
           0.013235179368323177,
           -0.01733643848667054,
           0.18038483654488208,
           0.1297297701688885,
           0.011990015162198834,
           0.015120269210163817,
           0.07222730782284253,
           0.094858986159418,
           0.1978181948528905,
           -0.03886049569208362,
           0.9591835142069904,
           -0.1381468418693424,
           -0.06508777599764072,
           0.02374988888146448
          ],
          [
           0.040476951484547045,
           1,
           -0.08752894017164899,
           0.08363861349336223,
           0.0924064045625286,
           0.019893000914114167,
           0.062467706257655,
           0.02495114781098991,
           -0.050887966239082594,
           0.14723785981688364,
           0.023909837492450573,
           0.1179192451080565,
           -0.008161571734888993,
           -0.01989080220321242,
           0.4033659956251786,
           -0.0809355817424367,
           0.3817949869055247,
           -0.14086074720361821,
           0.05094942190799444,
           -0.01920731961377726,
           0.02422895496981598,
           -0.028419530628216273,
           0.04038245547042025,
           -0.06489307499344932,
           0.4633457194420008,
           0.020866015689492156
          ],
          [
           -0.03915868305518392,
           -0.08752894017164899,
           1,
           -0.03366607940390971,
           0.07218455310542876,
           0.07217655629785134,
           -0.003456446211272317,
           0.062268459211262374,
           0.03965230439335018,
           -0.0791137566788665,
           0.06677143163479594,
           -0.012732645338237761,
           0.043314464206476826,
           0.0780708166815615,
           -0.02596075782479218,
           -0.013602483927293274,
           -0.05670912373543327,
           0.014049283499856659,
           0.02682603725203627,
           -0.0024240124606405454,
           0.005835184429224562,
           0.018219725308611122,
           -0.03638879852172775,
           0.01947415914609549,
           -0.1961830986084883,
           -0.07200013443446765
          ],
          [
           0.0020243363046296135,
           0.08363861349336223,
           -0.03366607940390971,
           1,
           0.12628641014644332,
           0.024804056438488944,
           0.1024990844059791,
           0.07059782184570794,
           -0.006372505684073008,
           0.07504160110591436,
           0.0029733312560603366,
           0.20553592595096884,
           0.0665873353546768,
           -0.00752989452289281,
           -0.004532804238728345,
           -0.010100342794359875,
           0.08023844258895645,
           -0.04214658468624508,
           -0.0020830027482549814,
           0.026518411873626035,
           0.004384931584369713,
           -0.011495040204370824,
           -0.0015928871050071842,
           -0.01923066719658704,
           0.12318952310808354,
           0.12028900052792744
          ],
          [
           -0.137382819336006,
           0.0924064045625286,
           0.07218455310542876,
           0.12628641014644332,
           1,
           0.21416798097061882,
           0.26383108425288326,
           0.06214613078139435,
           0.0002877037800274424,
           0.09915947180048093,
           0.027730731798197114,
           0.1993200717006643,
           0.015039233023692476,
           0.031097961275449643,
           -0.0033732439084007177,
           -0.06802918227443715,
           0.02282113923407513,
           -0.047646067806237834,
           0.015497289648446048,
           -0.06636668315898493,
           -0.027388332006809447,
           -0.003626381937664119,
           -0.13035537153623925,
           0.006209677901369022,
           0.13690822131666475,
           0.008000717986646198
          ],
          [
           -0.017053146211615744,
           0.019893000914114167,
           0.07217655629785134,
           0.024804056438488944,
           0.21416798097061882,
           1,
           0.07681270925329911,
           0.031162956230657398,
           0.002227219833139363,
           0.02647102759877946,
           0.025222353546131976,
           0.09660564646580554,
           -0.024972327561808446,
           -0.01849506053767111,
           0.007467089722202525,
           0.005236290796543093,
           -0.001403803280597339,
           -0.009042406183483682,
           0.0029136543917565884,
           -0.03660184848757685,
           0.0077512788380473055,
           0.007134148127947877,
           -0.02210195659749547,
           -0.01733046000807426,
           0.08358540978488577,
           -0.023647199958578176
          ],
          [
           -0.09538469251592005,
           0.062467706257655,
           -0.003456446211272317,
           0.1024990844059791,
           0.26383108425288326,
           0.07681270925329911,
           1,
           0.030527242287804637,
           -0.04934290690438824,
           0.02137629435888282,
           0.11040771024978636,
           0.17830685462402404,
           0.031200450976948874,
           0.0858720299594559,
           -0.025755738525934952,
           -0.10938128600791361,
           0.09718634002384317,
           -0.08087227208681785,
           -0.011808387028541357,
           -0.015079117983468508,
           -0.00357197327673661,
           0.0033813078696011546,
           -0.09245554721432646,
           -0.012536665612976896,
           0.071225006021272,
           -0.006247064850471956
          ],
          [
           0.019159308787779876,
           0.02495114781098991,
           0.062268459211262374,
           0.07059782184570794,
           0.06214613078139435,
           0.031162956230657398,
           0.030527242287804637,
           1,
           -0.016850445842737205,
           0.004370896574825435,
           0.06635994258601356,
           0.7301732207819632,
           0.039423195711658136,
           -0.019019619092630405,
           -0.04212784529617674,
           0.04092749770327536,
           0.06071721661129648,
           0.012364112730139232,
           0.044998853969750244,
           0.046516501787536566,
           0.012404120810703554,
           0.0146910437374287,
           0.014169418827040887,
           -0.02032793358342093,
           0.036465980293727655,
           0.05622943801686703
          ],
          [
           0.0023921522635200906,
           -0.050887966239082594,
           0.03965230439335018,
           -0.006372505684073008,
           0.0002877037800274424,
           0.002227219833139363,
           -0.04934290690438824,
           -0.016850445842737205,
           1,
           0.07757108237583328,
           -0.0036586228752458275,
           -0.036735641911485636,
           -0.03968957050562965,
           -0.0452642253612157,
           -0.016877695135807006,
           0.03823320111725511,
           -0.04222106310041533,
           0.02314838428743742,
           -0.0011649440234929778,
           -0.005086241273086935,
           -0.0036624490832042325,
           -0.000025027590018090276,
           -0.0038555624189262165,
           0.03193657050506226,
           -0.03709552847755317,
           -0.04252607470381352
          ],
          [
           -0.12558735012803043,
           0.14723785981688364,
           -0.0791137566788665,
           0.07504160110591436,
           0.09915947180048093,
           0.02647102759877946,
           0.02137629435888282,
           0.004370896574825435,
           0.07757108237583328,
           1,
           0.03084566969462891,
           0.046872474962549496,
           -0.008176377600538859,
           -0.03671125983187024,
           0.026625039222574063,
           0.003255014732940028,
           0.09451722529681143,
           -0.01584504955559479,
           -0.004736311836248531,
           -0.03978714337460596,
           -0.03560185668961332,
           -0.01986669282864981,
           -0.1226319572347092,
           0.03796534772763546,
           0.23869905623810175,
           0.13300465514402693
          ],
          [
           0.0157770277049918,
           0.023909837492450573,
           0.06677143163479594,
           0.0029733312560603366,
           0.027730731798197114,
           0.025222353546131976,
           0.11040771024978636,
           0.06635994258601356,
           -0.0036586228752458275,
           0.03084566969462891,
           1,
           0.12271320405226066,
           0.04420370248371383,
           0.044906048655199086,
           -0.019915017727150243,
           -0.02634416553142343,
           0.07868146462819202,
           -0.06038990526641796,
           0.010791801699177168,
           0.009267689946876958,
           0.033035384634412523,
           -0.014339661408631143,
           0.014323423932461266,
           -0.01679196203765038,
           0.013339317256762328,
           0.08887266848807232
          ],
          [
           0.013759713433225775,
           0.1179192451080565,
           -0.012732645338237761,
           0.20553592595096884,
           0.1993200717006643,
           0.09660564646580554,
           0.17830685462402404,
           0.7301732207819632,
           -0.036735641911485636,
           0.046872474962549496,
           0.12271320405226066,
           1,
           0.08276320158937345,
           0.017916418704080495,
           -0.052965858613768874,
           -0.0026252466727014518,
           0.10993873464508425,
           -0.035992960549127956,
           0.0357959023142861,
           0.034933977986463215,
           0.019409184863267873,
           0.014438406103808591,
           0.009861486388447352,
           -0.04678709468518425,
           0.17698010006670853,
           0.1174309145829402
          ],
          [
           0.013235179368323177,
           -0.008161571734888993,
           0.043314464206476826,
           0.0665873353546768,
           0.015039233023692476,
           -0.024972327561808446,
           0.031200450976948874,
           0.039423195711658136,
           -0.03968957050562965,
           -0.008176377600538859,
           0.04420370248371383,
           0.08276320158937345,
           1,
           0.5067727270809271,
           -0.09416226276300255,
           0.03836886101229706,
           0.025457795500550162,
           -0.023825101526579923,
           0.014138987740184466,
           0.049130014398654505,
           0.025513104970785377,
           0.00010365436929138504,
           0.00295544390109249,
           0.031176568732723033,
           -0.003333059663264294,
           0.5250179653219795
          ],
          [
           -0.01733643848667054,
           -0.01989080220321242,
           0.0780708166815615,
           -0.00752989452289281,
           0.031097961275449643,
           -0.01849506053767111,
           0.0858720299594559,
           -0.019019619092630405,
           -0.0452642253612157,
           -0.03671125983187024,
           0.044906048655199086,
           0.017916418704080495,
           0.5067727270809271,
           1,
           -0.08720520206654132,
           0.019124695737278596,
           0.017209200960821965,
           -0.022134391169139525,
           -0.0056670489568943815,
           0.01793421036061167,
           -0.006379980430908323,
           -0.0014417900894118073,
           -0.019814719618629673,
           0.027757237708591845,
           -0.027081041005707823,
           0.2930619087773282
          ],
          [
           0.18038483654488208,
           0.4033659956251786,
           -0.02596075782479218,
           -0.004532804238728345,
           -0.0033732439084007177,
           0.007467089722202525,
           -0.025755738525934952,
           -0.04212784529617674,
           -0.016877695135807006,
           0.026625039222574063,
           -0.019915017727150243,
           -0.052965858613768874,
           -0.09416226276300255,
           -0.08720520206654132,
           1,
           0.05677550992546858,
           0.13643446222851086,
           0.008742895760165856,
           0.09048930081138037,
           0.005251329039053851,
           0.03885505398486532,
           -0.018626217543462085,
           0.1747179466330664,
           -0.04286938547497509,
           0.14716852514746567,
           -0.06520659219909909
          ],
          [
           0.1297297701688885,
           -0.0809355817424367,
           -0.013602483927293274,
           -0.010100342794359875,
           -0.06802918227443715,
           0.005236290796543093,
           -0.10938128600791361,
           0.04092749770327536,
           0.03823320111725511,
           0.003255014732940028,
           -0.02634416553142343,
           -0.0026252466727014518,
           0.03836886101229706,
           0.019124695737278596,
           0.05677550992546858,
           1,
           -0.12673193482884296,
           0.11357669427795135,
           0.1040662025978713,
           0.389890526488137,
           0.13865141083286206,
           -0.002773721386174276,
           0.1254184486388616,
           0.0006861408673350778,
           -0.0209265885067189,
           0.05257783257499601
          ],
          [
           0.011990015162198834,
           0.3817949869055247,
           -0.05670912373543327,
           0.08023844258895645,
           0.02282113923407513,
           -0.001403803280597339,
           0.09718634002384317,
           0.06071721661129648,
           -0.04222106310041533,
           0.09451722529681143,
           0.07868146462819202,
           0.10993873464508425,
           0.025457795500550162,
           0.017209200960821965,
           0.13643446222851086,
           -0.12673193482884296,
           1,
           -0.16032873809120723,
           0.042990525213195664,
           -0.0028524535754236064,
           0.07513770581774179,
           -0.015865695841848323,
           0.012766135748942297,
           -0.08083486997922401,
           0.2950243643461374,
           0.032517656023349426
          ],
          [
           0.015120269210163817,
           -0.14086074720361821,
           0.014049283499856659,
           -0.04214658468624508,
           -0.047646067806237834,
           -0.009042406183483682,
           -0.08087227208681785,
           0.012364112730139232,
           0.02314838428743742,
           -0.01584504955559479,
           -0.06038990526641796,
           -0.035992960549127956,
           -0.023825101526579923,
           -0.022134391169139525,
           0.008742895760165856,
           0.11357669427795135,
           -0.16032873809120723,
           1,
           0.22364003552876194,
           0.04039802557255564,
           -0.04739601135095388,
           0.00822240909772703,
           0.007423163845244319,
           0.05215716272597658,
           -0.11212634262768167,
           -0.006241718937228695
          ],
          [
           0.07222730782284253,
           0.05094942190799444,
           0.02682603725203627,
           -0.0020830027482549814,
           0.015497289648446048,
           0.0029136543917565884,
           -0.011808387028541357,
           0.044998853969750244,
           -0.0011649440234929778,
           -0.004736311836248531,
           0.010791801699177168,
           0.0357959023142861,
           0.014138987740184466,
           -0.0056670489568943815,
           0.09048930081138037,
           0.1040662025978713,
           0.042990525213195664,
           0.22364003552876194,
           1,
           0.06518381298934484,
           0.14909428198669206,
           -0.009032960474781844,
           0.0578321100155727,
           0.054087865090715635,
           0.021726295376110358,
           0.004988353247259813
          ],
          [
           0.094858986159418,
           -0.01920731961377726,
           -0.0024240124606405454,
           0.026518411873626035,
           -0.06636668315898493,
           -0.03660184848757685,
           -0.015079117983468508,
           0.046516501787536566,
           -0.005086241273086935,
           -0.03978714337460596,
           0.009267689946876958,
           0.034933977986463215,
           0.049130014398654505,
           0.01793421036061167,
           0.005251329039053851,
           0.389890526488137,
           -0.0028524535754236064,
           0.04039802557255564,
           0.06518381298934484,
           1,
           0.025707417629028822,
           -0.0017610025858867133,
           0.09370473380617349,
           -0.02151802847461863,
           0.047693548682239996,
           0.05093007539636988
          ],
          [
           0.1978181948528905,
           0.02422895496981598,
           0.005835184429224562,
           0.004384931584369713,
           -0.027388332006809447,
           0.0077512788380473055,
           -0.00357197327673661,
           0.012404120810703554,
           -0.0036624490832042325,
           -0.03560185668961332,
           0.033035384634412523,
           0.019409184863267873,
           0.025513104970785377,
           -0.006379980430908323,
           0.03885505398486532,
           0.13865141083286206,
           0.07513770581774179,
           -0.04739601135095388,
           0.14909428198669206,
           0.025707417629028822,
           1,
           -0.009025172674327828,
           0.1764165425204311,
           -0.033611981433653716,
           -0.008658991602968338,
           0.012411147595090486
          ],
          [
           -0.03886049569208362,
           -0.028419530628216273,
           0.018219725308611122,
           -0.011495040204370824,
           -0.003626381937664119,
           0.007134148127947877,
           0.0033813078696011546,
           0.0146910437374287,
           -0.000025027590018090276,
           -0.01986669282864981,
           -0.014339661408631143,
           0.014438406103808591,
           0.00010365436929138504,
           -0.0014417900894118073,
           -0.018626217543462085,
           -0.002773721386174276,
           -0.015865695841848323,
           0.00822240909772703,
           -0.009032960474781844,
           -0.0017610025858867133,
           -0.009025172674327828,
           1,
           -0.03612341573762874,
           0.01787766932922541,
           -0.027203568944447927,
           0.0022582792352479415
          ],
          [
           0.9591835142069904,
           0.04038245547042025,
           -0.03638879852172775,
           -0.0015928871050071842,
           -0.13035537153623925,
           -0.02210195659749547,
           -0.09245554721432646,
           0.014169418827040887,
           -0.0038555624189262165,
           -0.1226319572347092,
           0.014323423932461266,
           0.009861486388447352,
           0.00295544390109249,
           -0.019814719618629673,
           0.1747179466330664,
           0.1254184486388616,
           0.012766135748942297,
           0.007423163845244319,
           0.0578321100155727,
           0.09370473380617349,
           0.1764165425204311,
           -0.03612341573762874,
           1,
           -0.1342153321817275,
           -0.06466942593569891,
           0.020819198442762955
          ],
          [
           -0.1381468418693424,
           -0.06489307499344932,
           0.01947415914609549,
           -0.01923066719658704,
           0.006209677901369022,
           -0.01733046000807426,
           -0.012536665612976896,
           -0.02032793358342093,
           0.03193657050506226,
           0.03796534772763546,
           -0.01679196203765038,
           -0.04678709468518425,
           0.031176568732723033,
           0.027757237708591845,
           -0.04286938547497509,
           0.0006861408673350778,
           -0.08083486997922401,
           0.05215716272597658,
           0.054087865090715635,
           -0.02151802847461863,
           -0.033611981433653716,
           0.01787766932922541,
           -0.1342153321817275,
           1,
           -0.0868733324787644,
           0.039546529693867176
          ],
          [
           -0.06508777599764072,
           0.4633457194420008,
           -0.1961830986084883,
           0.12318952310808354,
           0.13690822131666475,
           0.08358540978488577,
           0.071225006021272,
           0.036465980293727655,
           -0.03709552847755317,
           0.23869905623810175,
           0.013339317256762328,
           0.17698010006670853,
           -0.003333059663264294,
           -0.027081041005707823,
           0.14716852514746567,
           -0.0209265885067189,
           0.2950243643461374,
           -0.11212634262768167,
           0.021726295376110358,
           0.047693548682239996,
           -0.008658991602968338,
           -0.027203568944447927,
           -0.06466942593569891,
           -0.0868733324787644,
           1,
           0.05356682693242945
          ],
          [
           0.02374988888146448,
           0.020866015689492156,
           -0.07200013443446765,
           0.12028900052792744,
           0.008000717986646198,
           -0.023647199958578176,
           -0.006247064850471956,
           0.05622943801686703,
           -0.04252607470381352,
           0.13300465514402693,
           0.08887266848807232,
           0.1174309145829402,
           0.5250179653219795,
           0.2930619087773282,
           -0.06520659219909909,
           0.05257783257499601,
           0.032517656023349426,
           -0.006241718937228695,
           0.004988353247259813,
           0.05093007539636988,
           0.012411147595090486,
           0.0022582792352479415,
           0.020819198442762955,
           0.039546529693867176,
           0.05356682693242945,
           1
          ]
         ],
         "zmax": 1,
         "zmin": -1
        }
       ],
       "layout": {
        "autosize": false,
        "height": 800,
        "template": {
         "data": {
          "bar": [
           {
            "error_x": {
             "color": "#2a3f5f"
            },
            "error_y": {
             "color": "#2a3f5f"
            },
            "marker": {
             "line": {
              "color": "#E5ECF6",
              "width": 0.5
             },
             "pattern": {
              "fillmode": "overlay",
              "size": 10,
              "solidity": 0.2
             }
            },
            "type": "bar"
           }
          ],
          "barpolar": [
           {
            "marker": {
             "line": {
              "color": "#E5ECF6",
              "width": 0.5
             },
             "pattern": {
              "fillmode": "overlay",
              "size": 10,
              "solidity": 0.2
             }
            },
            "type": "barpolar"
           }
          ],
          "carpet": [
           {
            "aaxis": {
             "endlinecolor": "#2a3f5f",
             "gridcolor": "white",
             "linecolor": "white",
             "minorgridcolor": "white",
             "startlinecolor": "#2a3f5f"
            },
            "baxis": {
             "endlinecolor": "#2a3f5f",
             "gridcolor": "white",
             "linecolor": "white",
             "minorgridcolor": "white",
             "startlinecolor": "#2a3f5f"
            },
            "type": "carpet"
           }
          ],
          "choropleth": [
           {
            "colorbar": {
             "outlinewidth": 0,
             "ticks": ""
            },
            "type": "choropleth"
           }
          ],
          "contour": [
           {
            "colorbar": {
             "outlinewidth": 0,
             "ticks": ""
            },
            "colorscale": [
             [
              0,
              "#0d0887"
             ],
             [
              0.1111111111111111,
              "#46039f"
             ],
             [
              0.2222222222222222,
              "#7201a8"
             ],
             [
              0.3333333333333333,
              "#9c179e"
             ],
             [
              0.4444444444444444,
              "#bd3786"
             ],
             [
              0.5555555555555556,
              "#d8576b"
             ],
             [
              0.6666666666666666,
              "#ed7953"
             ],
             [
              0.7777777777777778,
              "#fb9f3a"
             ],
             [
              0.8888888888888888,
              "#fdca26"
             ],
             [
              1,
              "#f0f921"
             ]
            ],
            "type": "contour"
           }
          ],
          "contourcarpet": [
           {
            "colorbar": {
             "outlinewidth": 0,
             "ticks": ""
            },
            "type": "contourcarpet"
           }
          ],
          "heatmap": [
           {
            "colorbar": {
             "outlinewidth": 0,
             "ticks": ""
            },
            "colorscale": [
             [
              0,
              "#0d0887"
             ],
             [
              0.1111111111111111,
              "#46039f"
             ],
             [
              0.2222222222222222,
              "#7201a8"
             ],
             [
              0.3333333333333333,
              "#9c179e"
             ],
             [
              0.4444444444444444,
              "#bd3786"
             ],
             [
              0.5555555555555556,
              "#d8576b"
             ],
             [
              0.6666666666666666,
              "#ed7953"
             ],
             [
              0.7777777777777778,
              "#fb9f3a"
             ],
             [
              0.8888888888888888,
              "#fdca26"
             ],
             [
              1,
              "#f0f921"
             ]
            ],
            "type": "heatmap"
           }
          ],
          "heatmapgl": [
           {
            "colorbar": {
             "outlinewidth": 0,
             "ticks": ""
            },
            "colorscale": [
             [
              0,
              "#0d0887"
             ],
             [
              0.1111111111111111,
              "#46039f"
             ],
             [
              0.2222222222222222,
              "#7201a8"
             ],
             [
              0.3333333333333333,
              "#9c179e"
             ],
             [
              0.4444444444444444,
              "#bd3786"
             ],
             [
              0.5555555555555556,
              "#d8576b"
             ],
             [
              0.6666666666666666,
              "#ed7953"
             ],
             [
              0.7777777777777778,
              "#fb9f3a"
             ],
             [
              0.8888888888888888,
              "#fdca26"
             ],
             [
              1,
              "#f0f921"
             ]
            ],
            "type": "heatmapgl"
           }
          ],
          "histogram": [
           {
            "marker": {
             "pattern": {
              "fillmode": "overlay",
              "size": 10,
              "solidity": 0.2
             }
            },
            "type": "histogram"
           }
          ],
          "histogram2d": [
           {
            "colorbar": {
             "outlinewidth": 0,
             "ticks": ""
            },
            "colorscale": [
             [
              0,
              "#0d0887"
             ],
             [
              0.1111111111111111,
              "#46039f"
             ],
             [
              0.2222222222222222,
              "#7201a8"
             ],
             [
              0.3333333333333333,
              "#9c179e"
             ],
             [
              0.4444444444444444,
              "#bd3786"
             ],
             [
              0.5555555555555556,
              "#d8576b"
             ],
             [
              0.6666666666666666,
              "#ed7953"
             ],
             [
              0.7777777777777778,
              "#fb9f3a"
             ],
             [
              0.8888888888888888,
              "#fdca26"
             ],
             [
              1,
              "#f0f921"
             ]
            ],
            "type": "histogram2d"
           }
          ],
          "histogram2dcontour": [
           {
            "colorbar": {
             "outlinewidth": 0,
             "ticks": ""
            },
            "colorscale": [
             [
              0,
              "#0d0887"
             ],
             [
              0.1111111111111111,
              "#46039f"
             ],
             [
              0.2222222222222222,
              "#7201a8"
             ],
             [
              0.3333333333333333,
              "#9c179e"
             ],
             [
              0.4444444444444444,
              "#bd3786"
             ],
             [
              0.5555555555555556,
              "#d8576b"
             ],
             [
              0.6666666666666666,
              "#ed7953"
             ],
             [
              0.7777777777777778,
              "#fb9f3a"
             ],
             [
              0.8888888888888888,
              "#fdca26"
             ],
             [
              1,
              "#f0f921"
             ]
            ],
            "type": "histogram2dcontour"
           }
          ],
          "mesh3d": [
           {
            "colorbar": {
             "outlinewidth": 0,
             "ticks": ""
            },
            "type": "mesh3d"
           }
          ],
          "parcoords": [
           {
            "line": {
             "colorbar": {
              "outlinewidth": 0,
              "ticks": ""
             }
            },
            "type": "parcoords"
           }
          ],
          "pie": [
           {
            "automargin": true,
            "type": "pie"
           }
          ],
          "scatter": [
           {
            "fillpattern": {
             "fillmode": "overlay",
             "size": 10,
             "solidity": 0.2
            },
            "type": "scatter"
           }
          ],
          "scatter3d": [
           {
            "line": {
             "colorbar": {
              "outlinewidth": 0,
              "ticks": ""
             }
            },
            "marker": {
             "colorbar": {
              "outlinewidth": 0,
              "ticks": ""
             }
            },
            "type": "scatter3d"
           }
          ],
          "scattercarpet": [
           {
            "marker": {
             "colorbar": {
              "outlinewidth": 0,
              "ticks": ""
             }
            },
            "type": "scattercarpet"
           }
          ],
          "scattergeo": [
           {
            "marker": {
             "colorbar": {
              "outlinewidth": 0,
              "ticks": ""
             }
            },
            "type": "scattergeo"
           }
          ],
          "scattergl": [
           {
            "marker": {
             "colorbar": {
              "outlinewidth": 0,
              "ticks": ""
             }
            },
            "type": "scattergl"
           }
          ],
          "scattermapbox": [
           {
            "marker": {
             "colorbar": {
              "outlinewidth": 0,
              "ticks": ""
             }
            },
            "type": "scattermapbox"
           }
          ],
          "scatterpolar": [
           {
            "marker": {
             "colorbar": {
              "outlinewidth": 0,
              "ticks": ""
             }
            },
            "type": "scatterpolar"
           }
          ],
          "scatterpolargl": [
           {
            "marker": {
             "colorbar": {
              "outlinewidth": 0,
              "ticks": ""
             }
            },
            "type": "scatterpolargl"
           }
          ],
          "scatterternary": [
           {
            "marker": {
             "colorbar": {
              "outlinewidth": 0,
              "ticks": ""
             }
            },
            "type": "scatterternary"
           }
          ],
          "surface": [
           {
            "colorbar": {
             "outlinewidth": 0,
             "ticks": ""
            },
            "colorscale": [
             [
              0,
              "#0d0887"
             ],
             [
              0.1111111111111111,
              "#46039f"
             ],
             [
              0.2222222222222222,
              "#7201a8"
             ],
             [
              0.3333333333333333,
              "#9c179e"
             ],
             [
              0.4444444444444444,
              "#bd3786"
             ],
             [
              0.5555555555555556,
              "#d8576b"
             ],
             [
              0.6666666666666666,
              "#ed7953"
             ],
             [
              0.7777777777777778,
              "#fb9f3a"
             ],
             [
              0.8888888888888888,
              "#fdca26"
             ],
             [
              1,
              "#f0f921"
             ]
            ],
            "type": "surface"
           }
          ],
          "table": [
           {
            "cells": {
             "fill": {
              "color": "#EBF0F8"
             },
             "line": {
              "color": "white"
             }
            },
            "header": {
             "fill": {
              "color": "#C8D4E3"
             },
             "line": {
              "color": "white"
             }
            },
            "type": "table"
           }
          ]
         },
         "layout": {
          "annotationdefaults": {
           "arrowcolor": "#2a3f5f",
           "arrowhead": 0,
           "arrowwidth": 1
          },
          "autotypenumbers": "strict",
          "coloraxis": {
           "colorbar": {
            "outlinewidth": 0,
            "ticks": ""
           }
          },
          "colorscale": {
           "diverging": [
            [
             0,
             "#8e0152"
            ],
            [
             0.1,
             "#c51b7d"
            ],
            [
             0.2,
             "#de77ae"
            ],
            [
             0.3,
             "#f1b6da"
            ],
            [
             0.4,
             "#fde0ef"
            ],
            [
             0.5,
             "#f7f7f7"
            ],
            [
             0.6,
             "#e6f5d0"
            ],
            [
             0.7,
             "#b8e186"
            ],
            [
             0.8,
             "#7fbc41"
            ],
            [
             0.9,
             "#4d9221"
            ],
            [
             1,
             "#276419"
            ]
           ],
           "sequential": [
            [
             0,
             "#0d0887"
            ],
            [
             0.1111111111111111,
             "#46039f"
            ],
            [
             0.2222222222222222,
             "#7201a8"
            ],
            [
             0.3333333333333333,
             "#9c179e"
            ],
            [
             0.4444444444444444,
             "#bd3786"
            ],
            [
             0.5555555555555556,
             "#d8576b"
            ],
            [
             0.6666666666666666,
             "#ed7953"
            ],
            [
             0.7777777777777778,
             "#fb9f3a"
            ],
            [
             0.8888888888888888,
             "#fdca26"
            ],
            [
             1,
             "#f0f921"
            ]
           ],
           "sequentialminus": [
            [
             0,
             "#0d0887"
            ],
            [
             0.1111111111111111,
             "#46039f"
            ],
            [
             0.2222222222222222,
             "#7201a8"
            ],
            [
             0.3333333333333333,
             "#9c179e"
            ],
            [
             0.4444444444444444,
             "#bd3786"
            ],
            [
             0.5555555555555556,
             "#d8576b"
            ],
            [
             0.6666666666666666,
             "#ed7953"
            ],
            [
             0.7777777777777778,
             "#fb9f3a"
            ],
            [
             0.8888888888888888,
             "#fdca26"
            ],
            [
             1,
             "#f0f921"
            ]
           ]
          },
          "colorway": [
           "#636efa",
           "#EF553B",
           "#00cc96",
           "#ab63fa",
           "#FFA15A",
           "#19d3f3",
           "#FF6692",
           "#B6E880",
           "#FF97FF",
           "#FECB52"
          ],
          "font": {
           "color": "#2a3f5f"
          },
          "geo": {
           "bgcolor": "white",
           "lakecolor": "white",
           "landcolor": "#E5ECF6",
           "showlakes": true,
           "showland": true,
           "subunitcolor": "white"
          },
          "hoverlabel": {
           "align": "left"
          },
          "hovermode": "closest",
          "mapbox": {
           "style": "light"
          },
          "paper_bgcolor": "white",
          "plot_bgcolor": "#E5ECF6",
          "polar": {
           "angularaxis": {
            "gridcolor": "white",
            "linecolor": "white",
            "ticks": ""
           },
           "bgcolor": "#E5ECF6",
           "radialaxis": {
            "gridcolor": "white",
            "linecolor": "white",
            "ticks": ""
           }
          },
          "scene": {
           "xaxis": {
            "backgroundcolor": "#E5ECF6",
            "gridcolor": "white",
            "gridwidth": 2,
            "linecolor": "white",
            "showbackground": true,
            "ticks": "",
            "zerolinecolor": "white"
           },
           "yaxis": {
            "backgroundcolor": "#E5ECF6",
            "gridcolor": "white",
            "gridwidth": 2,
            "linecolor": "white",
            "showbackground": true,
            "ticks": "",
            "zerolinecolor": "white"
           },
           "zaxis": {
            "backgroundcolor": "#E5ECF6",
            "gridcolor": "white",
            "gridwidth": 2,
            "linecolor": "white",
            "showbackground": true,
            "ticks": "",
            "zerolinecolor": "white"
           }
          },
          "shapedefaults": {
           "line": {
            "color": "#2a3f5f"
           }
          },
          "ternary": {
           "aaxis": {
            "gridcolor": "white",
            "linecolor": "white",
            "ticks": ""
           },
           "baxis": {
            "gridcolor": "white",
            "linecolor": "white",
            "ticks": ""
           },
           "bgcolor": "#E5ECF6",
           "caxis": {
            "gridcolor": "white",
            "linecolor": "white",
            "ticks": ""
           }
          },
          "title": {
           "x": 0.05
          },
          "xaxis": {
           "automargin": true,
           "gridcolor": "white",
           "linecolor": "white",
           "ticks": "",
           "title": {
            "standoff": 15
           },
           "zerolinecolor": "white",
           "zerolinewidth": 2
          },
          "yaxis": {
           "automargin": true,
           "gridcolor": "white",
           "linecolor": "white",
           "ticks": "",
           "title": {
            "standoff": 15
           },
           "zerolinecolor": "white",
           "zerolinewidth": 2
          }
         }
        },
        "title": {
         "text": "fill_zero - Korrelasjonsmatrise"
        },
        "width": 800,
        "xaxis": {
         "nticks": 26
        },
        "yaxis": {
         "nticks": 26
        }
       }
      }
     },
     "metadata": {},
     "output_type": "display_data"
    },
    {
     "name": "stdout",
     "output_type": "stream",
     "text": [
      "Random Forest: 18.65\n",
      "Gradient Boosting: 18.63\n",
      "Decision Tree: 21.47\n",
      "Linear Regression: 23.48\n",
      "Polynomial Regression: 46605830504.32\n",
      "Ridge Regression: 18.98\n",
      "fill_zero - Best Model: Gradient Boosting\n",
      "fill_zero - Validation RMSE: 18.63\n",
      "fill_zero - Within 10 diff: 65.39%\n",
      "fill_zero - Full Dataset RMSE: 19.05\n",
      "fill_zero - Within 10 diff (Full Dataset): 74.51%\n"
     ]
    },
    {
     "name": "stderr",
     "output_type": "stream",
     "text": [
      "C:\\Users\\47476\\AppData\\Local\\Temp\\ipykernel_26584\\645448223.py:25: FutureWarning:\n",
      "\n",
      "A value is trying to be set on a copy of a DataFrame or Series through chained assignment using an inplace method.\n",
      "The behavior will change in pandas 3.0. This inplace method will never work because the intermediate object on which we are setting values always behaves as a copy.\n",
      "\n",
      "For example, when doing 'df[col].method(value, inplace=True)', try using 'df.method({col: value}, inplace=True)' or df[col] = df[col].method(value) instead, to perform the operation inplace on the original object.\n",
      "\n",
      "\n",
      "\n"
     ]
    }
   ],
   "source": [
    "# Hovedsløyfe over strategier\n",
    "for strategy in strategies:\n",
    "    # Preprosesserer data\n",
    "    X_strategy, y_strategy = preprocess_data(strategy, X, y)\n",
    "    \n",
    "    # Splitter data inn i trenings-, validerings- og testsett\n",
    "    X_train, X_val, X_test, y_train, y_val, y_test = split_data(X_strategy, y_strategy)\n",
    "    \n",
    "    # Plotter korrelasjonsmatrise\n",
    "    plot_corr_matrix(X_strategy, strategy)\n",
    "\n",
    "    # Lager preprocessing pipeline\n",
    "    preprocessor = create_preprocessor(X_strategy)\n",
    "\n",
    "    # Trener modeller og evaluerer dem\n",
    "    best_model_name, best_model_pipeline, best_rmse = train_and_evaluate_models(X_train, y_train, X_val, y_val, models, preprocessor)\n",
    "\n",
    "    # Evaluerer prediksjoner innenfor 10 enheter fra de faktiske verdiene\n",
    "    y_val_pred = best_model_pipeline.predict(X_val)\n",
    "    diff = np.abs(y_val - y_val_pred)\n",
    "    within_10_diff_percent = np.sum(diff <= 10) / len(y_val) * 100\n",
    "\n",
    "    # Preprosessering og prediksjon på hele datasettet\n",
    "    X_strategy, y_strategy = preprocess_data('fill_median', X, y)\n",
    "    if strategy == 'knn_imputation': #trengs annerleder preprocess\n",
    "        X_strategy, y_strategy = preprocess_data('knn_imputation', X, y)\n",
    "\n",
    "    y_full_pred = best_model_pipeline.predict(X_strategy)\n",
    "    rmse_full = mean_squared_error(y, y_full_pred, squared=False)\n",
    "    diff_full = np.abs(y - y_full_pred)\n",
    "    within_10_diff_percent_full = np.sum(diff_full <= 10) / len(y) * 100\n",
    "    \n",
    "    # Logger og viser resultater\n",
    "    log_results(strategy, best_model_name, best_rmse, within_10_diff_percent, rmse_full, within_10_diff_percent_full, results, best_model_pipeline)"
   ]
  },
  {
   "cell_type": "markdown",
   "metadata": {},
   "source": [
    "# Predikere ny data med full dataset basert på beste strategi"
   ]
  },
  {
   "cell_type": "code",
   "execution_count": 98,
   "metadata": {},
   "outputs": [],
   "source": [
    "import pandas as pd\n",
    "\n",
    "# Lese inn data og se på de første radene.\n",
    "samp_demographic_df = pd.read_csv('sample_data\\demographic.csv')\n",
    "samp_hospital_df = pd.read_csv('sample_data\\hospital.csv')\n",
    "samp_physiological_df = pd.read_csv('sample_data\\physiological.txt', sep='\\t')\n",
    "samp_severity_df = pd.read_json('sample_data\\severity.json')"
   ]
  },
  {
   "cell_type": "code",
   "execution_count": 99,
   "metadata": {},
   "outputs": [],
   "source": [
    "# Siden severity.df er på annen måte satt opp, må fikse det med explode listene.\n",
    "exp = [col for col in samp_severity_df.columns if samp_severity_df[col].apply(lambda x: isinstance(x, list)).any()]\n",
    "samp_severity_df = samp_severity_df.explode(exp)"
   ]
  },
  {
   "cell_type": "code",
   "execution_count": 100,
   "metadata": {},
   "outputs": [
    {
     "data": {
      "text/html": [
       "<div>\n",
       "<style scoped>\n",
       "    .dataframe tbody tr th:only-of-type {\n",
       "        vertical-align: middle;\n",
       "    }\n",
       "\n",
       "    .dataframe tbody tr th {\n",
       "        vertical-align: top;\n",
       "    }\n",
       "\n",
       "    .dataframe thead th {\n",
       "        text-align: right;\n",
       "    }\n",
       "</style>\n",
       "<table border=\"1\" class=\"dataframe\">\n",
       "  <thead>\n",
       "    <tr style=\"text-align: right;\">\n",
       "      <th></th>\n",
       "      <th>pasient_id</th>\n",
       "      <th>alder</th>\n",
       "      <th>kjønn</th>\n",
       "      <th>utdanning</th>\n",
       "      <th>inntekt</th>\n",
       "      <th>etnisitet</th>\n",
       "      <th>sykehusdød</th>\n",
       "      <th>blodtrykk</th>\n",
       "      <th>hvite_blodlegemer</th>\n",
       "      <th>hjertefrekvens</th>\n",
       "      <th>...</th>\n",
       "      <th>apache_fysiologisk_score</th>\n",
       "      <th>overlevelsesestimat_2mnd</th>\n",
       "      <th>overlevelsesestimat_6mnd</th>\n",
       "      <th>diabetes</th>\n",
       "      <th>demens</th>\n",
       "      <th>kreft</th>\n",
       "      <th>lege_overlevelsesestimat_2mnd</th>\n",
       "      <th>lege_overlevelsesestimat_6mnd</th>\n",
       "      <th>dnr_status</th>\n",
       "      <th>dnr_dag</th>\n",
       "    </tr>\n",
       "  </thead>\n",
       "  <tbody>\n",
       "    <tr>\n",
       "      <th>0</th>\n",
       "      <td>1</td>\n",
       "      <td>62.84998</td>\n",
       "      <td>male</td>\n",
       "      <td>11.0</td>\n",
       "      <td>$11-$25k</td>\n",
       "      <td>other</td>\n",
       "      <td>0</td>\n",
       "      <td>97.0</td>\n",
       "      <td>6.000000</td>\n",
       "      <td>69.0</td>\n",
       "      <td>...</td>\n",
       "      <td>20.0</td>\n",
       "      <td>0.262939</td>\n",
       "      <td>0.036995</td>\n",
       "      <td>0</td>\n",
       "      <td>0</td>\n",
       "      <td>metastatic</td>\n",
       "      <td>0.5</td>\n",
       "      <td>0.25</td>\n",
       "      <td>no dnr</td>\n",
       "      <td>5.0</td>\n",
       "    </tr>\n",
       "    <tr>\n",
       "      <th>1</th>\n",
       "      <td>22</td>\n",
       "      <td>48.70398</td>\n",
       "      <td>male</td>\n",
       "      <td>16.0</td>\n",
       "      <td>NaN</td>\n",
       "      <td>other</td>\n",
       "      <td>0</td>\n",
       "      <td>66.0</td>\n",
       "      <td>12.500000</td>\n",
       "      <td>125.0</td>\n",
       "      <td>...</td>\n",
       "      <td>35.0</td>\n",
       "      <td>0.535889</td>\n",
       "      <td>0.213989</td>\n",
       "      <td>0</td>\n",
       "      <td>0</td>\n",
       "      <td>metastatic</td>\n",
       "      <td>0.5</td>\n",
       "      <td>0.125</td>\n",
       "      <td>dnr ved innleggelse</td>\n",
       "      <td>11.0</td>\n",
       "    </tr>\n",
       "    <tr>\n",
       "      <th>2</th>\n",
       "      <td>25</td>\n",
       "      <td>29.36099</td>\n",
       "      <td>female</td>\n",
       "      <td>17.0</td>\n",
       "      <td>$25-$50k</td>\n",
       "      <td>white</td>\n",
       "      <td>0</td>\n",
       "      <td>96.0</td>\n",
       "      <td>10.599609</td>\n",
       "      <td>112.0</td>\n",
       "      <td>...</td>\n",
       "      <td>10.0</td>\n",
       "      <td>0.853882</td>\n",
       "      <td>0.674927</td>\n",
       "      <td>0</td>\n",
       "      <td>0</td>\n",
       "      <td>metastatic</td>\n",
       "      <td>0.5</td>\n",
       "      <td>0.1</td>\n",
       "      <td>no dnr</td>\n",
       "      <td>4.0</td>\n",
       "    </tr>\n",
       "    <tr>\n",
       "      <th>3</th>\n",
       "      <td>26</td>\n",
       "      <td>53.84000</td>\n",
       "      <td>male</td>\n",
       "      <td>NaN</td>\n",
       "      <td>under $11k</td>\n",
       "      <td>white</td>\n",
       "      <td>0</td>\n",
       "      <td>134.0</td>\n",
       "      <td>7.799805</td>\n",
       "      <td>106.0</td>\n",
       "      <td>...</td>\n",
       "      <td>16.0</td>\n",
       "      <td>0.939941</td>\n",
       "      <td>0.897949</td>\n",
       "      <td>0</td>\n",
       "      <td>0</td>\n",
       "      <td>no</td>\n",
       "      <td>0.9</td>\n",
       "      <td>0.6</td>\n",
       "      <td>dnr ved innleggelse</td>\n",
       "      <td>4.0</td>\n",
       "    </tr>\n",
       "    <tr>\n",
       "      <th>4</th>\n",
       "      <td>29</td>\n",
       "      <td>30.10799</td>\n",
       "      <td>male</td>\n",
       "      <td>NaN</td>\n",
       "      <td>NaN</td>\n",
       "      <td>asian</td>\n",
       "      <td>0</td>\n",
       "      <td>92.0</td>\n",
       "      <td>8.798828</td>\n",
       "      <td>112.0</td>\n",
       "      <td>...</td>\n",
       "      <td>21.0</td>\n",
       "      <td>0.823975</td>\n",
       "      <td>0.764893</td>\n",
       "      <td>0</td>\n",
       "      <td>0</td>\n",
       "      <td>no</td>\n",
       "      <td>None</td>\n",
       "      <td>None</td>\n",
       "      <td>no dnr</td>\n",
       "      <td>10.0</td>\n",
       "    </tr>\n",
       "  </tbody>\n",
       "</table>\n",
       "<p>5 rows × 40 columns</p>\n",
       "</div>"
      ],
      "text/plain": [
       "  pasient_id     alder   kjønn  utdanning     inntekt etnisitet  sykehusdød  \\\n",
       "0          1  62.84998    male       11.0    $11-$25k     other           0   \n",
       "1         22  48.70398    male       16.0         NaN     other           0   \n",
       "2         25  29.36099  female       17.0    $25-$50k     white           0   \n",
       "3         26  53.84000    male        NaN  under $11k     white           0   \n",
       "4         29  30.10799    male        NaN         NaN     asian           0   \n",
       "\n",
       "   blodtrykk  hvite_blodlegemer  hjertefrekvens  ...  \\\n",
       "0       97.0           6.000000            69.0  ...   \n",
       "1       66.0          12.500000           125.0  ...   \n",
       "2       96.0          10.599609           112.0  ...   \n",
       "3      134.0           7.799805           106.0  ...   \n",
       "4       92.0           8.798828           112.0  ...   \n",
       "\n",
       "   apache_fysiologisk_score  overlevelsesestimat_2mnd  \\\n",
       "0                      20.0                  0.262939   \n",
       "1                      35.0                  0.535889   \n",
       "2                      10.0                  0.853882   \n",
       "3                      16.0                  0.939941   \n",
       "4                      21.0                  0.823975   \n",
       "\n",
       "   overlevelsesestimat_6mnd  diabetes  demens       kreft  \\\n",
       "0                  0.036995         0       0  metastatic   \n",
       "1                  0.213989         0       0  metastatic   \n",
       "2                  0.674927         0       0  metastatic   \n",
       "3                  0.897949         0       0          no   \n",
       "4                  0.764893         0       0          no   \n",
       "\n",
       "   lege_overlevelsesestimat_2mnd  lege_overlevelsesestimat_6mnd  \\\n",
       "0                            0.5                           0.25   \n",
       "1                            0.5                          0.125   \n",
       "2                            0.5                            0.1   \n",
       "3                            0.9                            0.6   \n",
       "4                           None                           None   \n",
       "\n",
       "            dnr_status  dnr_dag  \n",
       "0               no dnr      5.0  \n",
       "1  dnr ved innleggelse     11.0  \n",
       "2               no dnr      4.0  \n",
       "3  dnr ved innleggelse      4.0  \n",
       "4               no dnr     10.0  \n",
       "\n",
       "[5 rows x 40 columns]"
      ]
     },
     "execution_count": 100,
     "metadata": {},
     "output_type": "execute_result"
    }
   ],
   "source": [
    "# Merge dataframe\n",
    "sample_combined_df = pd.merge(samp_demographic_df, samp_hospital_df, on='pasient_id', how='left')\n",
    "sample_combined_df = pd.merge(sample_combined_df, samp_physiological_df, on='pasient_id', how='left')\n",
    "sample_combined_df = pd.merge(sample_combined_df, samp_severity_df, on='pasient_id', how='left')\n",
    "\n",
    "# Fjerne duplicates basert på 'pasient_id' som kan skje i mergen.\n",
    "sample_combined_df = sample_combined_df.drop_duplicates(subset=['pasient_id'], keep='first')\n",
    "sample_combined_df.head(5)"
   ]
  },
  {
   "cell_type": "markdown",
   "metadata": {},
   "source": [
    "# Samme variabel utvinning som i datatilbredningen"
   ]
  },
  {
   "cell_type": "code",
   "execution_count": 101,
   "metadata": {},
   "outputs": [],
   "source": [
    "# 1. Aldersgrupper\n",
    "sample_combined_df['alder_gruppe'] = pd.cut(sample_combined_df['alder'], bins=[0, 18, 30, 45, 60, 75, np.inf], \n",
    "                            labels=[0, 1, 2, 3, 4, 5])\n",
    "\n",
    "inntekt_mapping = {\n",
    "    \"under $11k\": 0,\n",
    "    \"$11-$25k\": 1,\n",
    "    \"$25-$50k\": 2,\n",
    "    \">$50k\": 3\n",
    "}\n",
    "\n",
    "# Apply the mapping to the 'inntekt' column\n",
    "sample_combined_df['inntekt'] = sample_combined_df['inntekt'].map(inntekt_mapping)\n",
    "# 1. Proxy for sosioøkonomisk status (basert på 'inntekt' og 'utdanning')\n",
    "# Kombinerer 'inntekt' og 'utdanning' til en enkel sosioøkonomisk score\n",
    "sample_combined_df['sosiooekonomisk_status'] = sample_combined_df[['inntekt', 'utdanning']].apply(lambda x: x.mean() if pd.notnull(x['inntekt']) and pd.notnull(x['utdanning']) else np.nan, axis=1)\n",
    "# 2. en proxy for overlevelsesestimat basert på alle relevante estimater\n",
    "sample_combined_df['overlevelses_proxy'] = sample_combined_df[['overlevelsesestimat_2mnd', 'overlevelsesestimat_6mnd', \n",
    "                               'lege_overlevelsesestimat_2mnd', 'lege_overlevelsesestimat_6mnd','fysiologisk_score',\n",
    "                               'apache_fysiologisk_score']].mean(axis=1)\n",
    "\n",
    "# 3. en proxy for nyrefunksjon basert på sammenhe\n",
    "sample_combined_df['nyrefunksjons_proxy'] = sample_combined_df[['kreatinin', 'blodurea_nitrogen']].mean(axis=1)"
   ]
  },
  {
   "cell_type": "markdown",
   "metadata": {},
   "source": [
    "# Bruke beste modell og strategi"
   ]
  },
  {
   "cell_type": "code",
   "execution_count": 102,
   "metadata": {},
   "outputs": [
    {
     "name": "stdout",
     "output_type": "stream",
     "text": [
      "{'best_model': 'Gradient Boosting', 'validation_rmse': 18.695797059205677, 'model_pipeline': Pipeline(steps=[('preprocessor',\n",
      "                 ColumnTransformer(transformers=[('num',\n",
      "                                                  Pipeline(steps=[('scaler',\n",
      "                                                                   StandardScaler())]),\n",
      "                                                  Index(['alder', 'sykehusdød', 'blodtrykk', 'hvite_blodlegemer',\n",
      "       'hjertefrekvens', 'respirasjonsfrekvens', 'kroppstemperatur',\n",
      "       'lungefunksjon', 'serumalbumin', 'bilirubin', 'natrium', 'blod_ph',\n",
      "       'glukose', 'urinmengde', 'dødsfall', 'antall_komorbidi...\n",
      "                                                 ('cat',\n",
      "                                                  Pipeline(steps=[('converter',\n",
      "                                                                   FunctionTransformer(func=<function convert_to_str at 0x00000132C646E980>)),\n",
      "                                                                  ('onehot',\n",
      "                                                                   OneHotEncoder(handle_unknown='ignore'))]),\n",
      "                                                  Index(['kjønn', 'etnisitet', 'sykdomskategori', 'sykdom_underkategori',\n",
      "       'kreft', 'dnr_status'],\n",
      "      dtype='object'))])),\n",
      "                ('model',\n",
      "                 GradientBoostingRegressor(max_depth=5, n_estimators=50,\n",
      "                                           random_state=24))]), 'within_10_diff_percent': 64.68305304010349, 'full_dataset_rmse': 17.96001996802773, 'within_10_diff_percent_full': 68.83167292017079}\n"
     ]
    }
   ],
   "source": [
    "# Hent den beste modellen for fill_zero-strategien\n",
    "print(results['fill_median'])\n",
    "# Bruk av pippelinen:\n",
    "best_model_pipeline_fill_median = results['fill_median']['model_pipeline'] "
   ]
  },
  {
   "cell_type": "code",
   "execution_count": 103,
   "metadata": {},
   "outputs": [],
   "source": [
    "sample_combined_df.drop('inntekt', axis=1, inplace=True)\n",
    "sample_combined_df.drop('utdanning', axis=1, inplace=True)\n",
    "sample_combined_df.drop('overlevelsesestimat_2mnd', axis=1, inplace=True)\n",
    "sample_combined_df.drop('lege_overlevelsesestimat_2mnd', axis=1, inplace=True)\n",
    "sample_combined_df.drop('overlevelsesestimat_6mnd', axis=1, inplace=True)\n",
    "sample_combined_df.drop('lege_overlevelsesestimat_6mnd', axis=1, inplace=True)\n",
    "sample_combined_df.drop('fysiologisk_score', axis=1, inplace=True)\n",
    "sample_combined_df.drop('apache_fysiologisk_score', axis=1, inplace=True)\n",
    "sample_combined_df.drop('kreatinin', axis=1, inplace=True)\n",
    "sample_combined_df.drop('blodurea_nitrogen', axis=1, inplace=True)"
   ]
  },
  {
   "cell_type": "code",
   "execution_count": 104,
   "metadata": {},
   "outputs": [],
   "source": [
    "#drop = ['pasient_id', 'oppholdslengde']\n",
    "#for i in drop:\n",
    "    #sample_combined_df.drop(i, axis=1, inplace=True)"
   ]
  },
  {
   "cell_type": "code",
   "execution_count": 105,
   "metadata": {},
   "outputs": [
    {
     "name": "stdout",
     "output_type": "stream",
     "text": [
      "Prediksjoner for det nye datasettet: [10.91421795 15.6760653   5.9981046  ... 19.31732584  6.21416509\n",
      " 27.80227459]\n"
     ]
    },
    {
     "name": "stderr",
     "output_type": "stream",
     "text": [
      "C:\\Users\\47476\\AppData\\Local\\Temp\\ipykernel_26584\\645448223.py:25: FutureWarning:\n",
      "\n",
      "A value is trying to be set on a copy of a DataFrame or Series through chained assignment using an inplace method.\n",
      "The behavior will change in pandas 3.0. This inplace method will never work because the intermediate object on which we are setting values always behaves as a copy.\n",
      "\n",
      "For example, when doing 'df[col].method(value, inplace=True)', try using 'df.method({col: value}, inplace=True)' or df[col] = df[col].method(value) instead, to perform the operation inplace on the original object.\n",
      "\n",
      "\n",
      "\n",
      "C:\\Users\\47476\\AppData\\Local\\Temp\\ipykernel_26584\\645448223.py:25: FutureWarning:\n",
      "\n",
      "Downcasting object dtype arrays on .fillna, .ffill, .bfill is deprecated and will change in a future version. Call result.infer_objects(copy=False) instead. To opt-in to the future behavior, set `pd.set_option('future.no_silent_downcasting', True)`\n",
      "\n"
     ]
    }
   ],
   "source": [
    "# Preprosesserer det nye datasettet\n",
    "# Pasient_id er ikke sample. Så blir ikke noe Y\n",
    "X_new_processed, y_new = fill_median(sample_combined_df, sample_combined_df)\n",
    "\n",
    "# Gjør prediksjoner på det nye datasettet med den beste fill_zero-modellen\n",
    "y_new_predictions = best_model_pipeline_fill_median.predict(X_new_processed)\n",
    "# Skriv ut eller lagre prediksjonene\n",
    "print(\"Prediksjoner for det nye datasettet:\", y_new_predictions)\n"
   ]
  },
  {
   "cell_type": "code",
   "execution_count": 106,
   "metadata": {},
   "outputs": [
    {
     "name": "stdout",
     "output_type": "stream",
     "text": [
      "Mean: 16.91\n",
      "Median: 15.64\n",
      "Standard deviation: 8.06\n",
      "Minimum value: 0.94\n",
      "Maximum value: 84.99\n"
     ]
    }
   ],
   "source": [
    "# Kalkulere statistikk for prediksjonene for sammmenligninger\n",
    "mean = np.mean(y_new_predictions)\n",
    "median = np.median(y_new_predictions)\n",
    "std = np.std(y_new_predictions)\n",
    "min_val = np.min(y_new_predictions)\n",
    "max_val = np.max(y_new_predictions) \n",
    "print(f'Mean: {mean:.2f}')\n",
    "print(f'Median: {median:.2f}')\n",
    "print(f'Standard deviation: {std:.2f}')\n",
    "print(f'Minimum value: {min_val:.2f}')\n",
    "print(f'Maximum value: {max_val:.2f}')"
   ]
  },
  {
   "cell_type": "code",
   "execution_count": 107,
   "metadata": {},
   "outputs": [
    {
     "name": "stdout",
     "output_type": "stream",
     "text": [
      "Index(['alder', 'kjønn', 'etnisitet', 'sykehusdød', 'blodtrykk',\n",
      "       'hvite_blodlegemer', 'hjertefrekvens', 'respirasjonsfrekvens',\n",
      "       'kroppstemperatur', 'lungefunksjon', 'serumalbumin', 'bilirubin',\n",
      "       'natrium', 'blod_ph', 'glukose', 'urinmengde', 'sykdomskategori',\n",
      "       'dødsfall', 'sykdom_underkategori', 'antall_komorbiditeter',\n",
      "       'koma_score', 'adl_pasient', 'adl_stedfortreder', 'diabetes', 'demens',\n",
      "       'kreft', 'dnr_status', 'dnr_dag', 'alder_gruppe',\n",
      "       'sosiooekonomisk_status', 'overlevelses_proxy', 'nyrefunksjons_proxy'],\n",
      "      dtype='object')\n"
     ]
    }
   ],
   "source": [
    "print(X.columns)"
   ]
  },
  {
   "cell_type": "code",
   "execution_count": 108,
   "metadata": {},
   "outputs": [],
   "source": [
    "# Lag en DataFrame med pasient_id og prediksjoner\n",
    "# Fjern negative prediksjoner\n",
    "y_new_predictions = np.where(y_new_predictions < 0, 0, y_new_predictions)\n",
    "predictions_df = pd.DataFrame({\n",
    "    'pasient_id': sample_combined_df['pasient_id'], \n",
    "    'prediction': np.round(y_new_predictions)\n",
    "})\n",
    "# Lagre DataFrame til predictions.csv\n",
    "predictions_df.to_csv('predictions.csv', index=False)"
   ]
  },
  {
   "cell_type": "markdown",
   "metadata": {},
   "source": [
    "# Sette opp for bruk flask med pickle"
   ]
  },
  {
   "cell_type": "markdown",
   "metadata": {},
   "source": [
    "Måtte endre lambda funksjon siden den kan ikke være i pickle\n"
   ]
  },
  {
   "cell_type": "code",
   "execution_count": 109,
   "metadata": {},
   "outputs": [],
   "source": [
    "import pickle\n",
    "# Pickle.dump for lagring av modellen\n",
    "pickle.dump(best_model_pipeline_fill_median, open('model.pkl', 'wb'))"
   ]
  }
 ],
 "metadata": {
  "kernelspec": {
   "display_name": "INF161",
   "language": "python",
   "name": "python3"
  },
  "language_info": {
   "codemirror_mode": {
    "name": "ipython",
    "version": 3
   },
   "file_extension": ".py",
   "mimetype": "text/x-python",
   "name": "python",
   "nbconvert_exporter": "python",
   "pygments_lexer": "ipython3",
   "version": "3.11.4"
  }
 },
 "nbformat": 4,
 "nbformat_minor": 2
}
