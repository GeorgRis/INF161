{
 "cells": [
  {
   "cell_type": "markdown",
   "metadata": {},
   "source": [
    "# Data\n",
    "\n",
    "I denne øvelsen vil vi se hvordan du kan manipulere datasett med `numpy` og `pandas`. I data science bruker vi ofte store datasett og det er derfor avgjørende å manipulere datasett på en god måte. \n",
    "\n",
    "I de følgende oppgavene må du alltid erstatte `___` med kode som gjør hva oppgaven spør om. "
   ]
  },
  {
   "cell_type": "markdown",
   "metadata": {},
   "source": [
    "## Grunnlegende om numpy \n",
    "\n",
    "Målet med denne oppgaven er å lære de grunnleggende egenskapene til numpy arrayer og hvordan du effektivt bruker dem i arbeidet ditt. "
   ]
  },
  {
   "cell_type": "markdown",
   "metadata": {},
   "source": [
    "Vi begynner å laste inn `numpy` pakken som `np`. "
   ]
  },
  {
   "cell_type": "code",
   "execution_count": 27,
   "metadata": {},
   "outputs": [],
   "source": [
    "import numpy as np"
   ]
  },
  {
   "cell_type": "markdown",
   "metadata": {},
   "source": [
    "### Lage numpy array\n",
    "\n",
    "Det kan være nyttig å vite hvordan du lager en numpy array fra bunnen av for å teste koden din. For eksempel, når du gjør matematikk med store flerdimensjonale arrays, er det fint å sjekke om matematikken fungerer som forventet på små test arrays før du bruker koden på de større arrayene. numpy har mange alternativer for å lage mindre syntetiske matriser."
   ]
  },
  {
   "cell_type": "markdown",
   "metadata": {},
   "source": [
    "Lag og skriv ut en numpy array som har to rader og fire kolonner fylt med nuller. Tips: Du kan bruke [numpy.zeros](https://numpy.org/doc/stable/reference/generated/numpy.zeros.html) for å gjøre det på en linje. "
   ]
  },
  {
   "cell_type": "code",
   "execution_count": 28,
   "metadata": {},
   "outputs": [
    {
     "name": "stdout",
     "output_type": "stream",
     "text": [
      "[[0. 0. 0. 0.]\n",
      " [0. 0. 0. 0.]]\n"
     ]
    }
   ],
   "source": [
    "# numpy array med nuller\n",
    "zeros_array = np.zeros(shape=(2, 4))\n",
    "print(zeros_array)"
   ]
  },
  {
   "cell_type": "markdown",
   "metadata": {},
   "source": [
    "Lag og skriv ut en numpy array som har tre rader og seks kolonner fylt med uniformt fordelte tilfeldige tall mellom 0 og 1. Tips: Du kan bruke [numpy.random.uniform](https://numpy.org/doc/stable/reference/random/generated/numpy.random.uniform.html) for å gjøre det på en linje. "
   ]
  },
  {
   "cell_type": "code",
   "execution_count": 29,
   "metadata": {},
   "outputs": [
    {
     "name": "stdout",
     "output_type": "stream",
     "text": [
      "[[0.14717789 0.71153564 0.38382584 0.95352593 0.14901926 0.57352234]\n",
      " [0.48383849 0.76023158 0.53585001 0.55392585 0.44265188 0.67438147]\n",
      " [0.50750478 0.19971171 0.36098013 0.79607952 0.02104772 0.86734133]]\n"
     ]
    }
   ],
   "source": [
    "# numpy array med tilfeldige tall\n",
    "random_array = np.random.uniform(low=0.0, high=1.0, size=(3, 6))\n",
    "print(random_array)"
   ]
  },
  {
   "cell_type": "markdown",
   "metadata": {},
   "source": [
    "Lag et 1-dimensjonal numpy array som inneholder 8 jevnt fordelte tall fra 0.3 til 1.7. Tips: Du kan bruke enten [`numpy.arange`](https://numpy.org/doc/stable/reference/generated/numpy.arange.html) eller [`numpy.linspace`](https://numpy.org/doc/stable/reference/generated/numpy.linspace.html) for denne oppgaven. "
   ]
  },
  {
   "cell_type": "code",
   "execution_count": 30,
   "metadata": {},
   "outputs": [
    {
     "name": "stdout",
     "output_type": "stream",
     "text": [
      "[0.3  0.48 0.66 0.84 1.02 1.2  1.38 1.56]\n"
     ]
    }
   ],
   "source": [
    "# numpy array med tall mellom 0.3 og 1.7\n",
    "range_array = np.arange(0.3, 1.7, 0.18)\n",
    "print(range_array)"
   ]
  },
  {
   "cell_type": "markdown",
   "metadata": {},
   "source": [
    "### Dimensjon av numpy array\n",
    "\n",
    "Numpy arrayer har en rekke egenskaper, som størrelsen og antall dimensjoner. Vi må kunne finne de egenskapene. Noen ganger trenger vi også å endre formen på numpy arrayer. "
   ]
  },
  {
   "cell_type": "markdown",
   "metadata": {},
   "source": [
    "Skriv ut formen av `range_array` som du har laget. Tips: Du kan bruke [`shape`](https://numpy.org/doc/stable/reference/generated/numpy.ndarray.shape.html) for å lese formen av en numpy array. "
   ]
  },
  {
   "cell_type": "code",
   "execution_count": 31,
   "metadata": {},
   "outputs": [
    {
     "name": "stdout",
     "output_type": "stream",
     "text": [
      "(8,)\n"
     ]
    }
   ],
   "source": [
    "# formen av range_array\n",
    "array_shape = range_array.shape\n",
    "print(array_shape)"
   ]
  },
  {
   "cell_type": "markdown",
   "metadata": {},
   "source": [
    "Endre dimensjonen til `range_array` sånn at du får et array med 2 kolonner. Målet er å få en array som har tall [0.3, 0.5, 0.7, 0.9] i første kolonnen og tall [1.1, 1.3, 1.5, 1.7] i andre kolonnen. Tips: Du kan løse oppgaven ved å kun bruke [`numpy.reshape`](https://numpy.org/doc/stable/reference/generated/numpy.reshape.html). Alternativt kan du kombinere [`numpy.reshape`](https://numpy.org/doc/stable/reference/generated/numpy.reshape.html) med [`numpy.transpose`](https://numpy.org/doc/stable/reference/generated/numpy.transpose.html) eller med [`numpy.swapaxes`](https://numpy.org/doc/stable/reference/generated/numpy.swapaxes.html) for denne oppgaven. \n",
    "\n",
    "Skriv ut den nye numpy arrayen og dimensjonen av den nye numpy arrayen. "
   ]
  },
  {
   "cell_type": "code",
   "execution_count": 32,
   "metadata": {},
   "outputs": [
    {
     "name": "stdout",
     "output_type": "stream",
     "text": [
      "[[0.3  0.48 0.66 0.84]\n",
      " [1.02 1.2  1.38 1.56]]\n",
      "(2, 4)\n"
     ]
    }
   ],
   "source": [
    "# endre formen\n",
    "reshaped_range_array = np.reshape(range_array, (2,4))\n",
    "print(reshaped_range_array)\n",
    "# formen av den nye arrayen\n",
    "reshaped_array_shape = reshaped_range_array.shape\n",
    "print(reshaped_array_shape)"
   ]
  },
  {
   "cell_type": "markdown",
   "metadata": {},
   "source": [
    "Bruk [`numpy.flatten`](https://numpy.org/doc/stable/reference/generated/numpy.ndarray.flatten.html) for å lage en 1-dimensjonal numpy array ut av `reshaped_range_array`. Skriv den ut. Er det des samme som `range_array` du begynte med?"
   ]
  },
  {
   "cell_type": "code",
   "execution_count": 37,
   "metadata": {},
   "outputs": [
    {
     "name": "stdout",
     "output_type": "stream",
     "text": [
      "[0.3  0.48 0.66 0.84 1.02 1.2  1.38 1.56]\n"
     ]
    }
   ],
   "source": [
    "# flatten\n",
    "flattened_range_array = np.ndarray.flatten(reshaped_range_array)\n",
    "print(flattened_range_array)\n",
    "# Ja, det er samme array som range_array."
   ]
  },
  {
   "cell_type": "markdown",
   "metadata": {},
   "source": [
    "### Kombinere flere array\n",
    "\n",
    "Når vi har data fra forskjellige kilder er det ofte viktig å kunne kombinere de. Her lærer du hvordan å gjøre det med `numpy`. "
   ]
  },
  {
   "cell_type": "markdown",
   "metadata": {},
   "source": [
    "Først lager jeg to matrisser som eksempler. "
   ]
  },
  {
   "cell_type": "code",
   "execution_count": 38,
   "metadata": {},
   "outputs": [
    {
     "name": "stdout",
     "output_type": "stream",
     "text": [
      "[[1. 1. 1. 1.]\n",
      " [1. 1. 1. 1.]\n",
      " [1. 1. 1. 1.]]\n",
      "\n",
      "[[ 2  3  4  5]\n",
      " [ 6  7  8  9]\n",
      " [10 11 12 13]]\n"
     ]
    }
   ],
   "source": [
    "# eksempel matriser\n",
    "mat1 = np.ones(shape=(3, 4))\n",
    "mat2 = np.arange(2, 14).reshape(3, 4)\n",
    "print(mat1)\n",
    "print()\n",
    "print(mat2)"
   ]
  },
  {
   "cell_type": "markdown",
   "metadata": {},
   "source": [
    "Det er mange måter å kombinere de matrissene. Her prøver vi det ut på tre forskjellige måter. Kombiner `mat1` med `mat2`, slik at du får\n",
    "- en ny matrisse med 6 rader og 4 kolonner (Tips: Bruk [`numpy.vstack`](https://numpy.org/doc/stable/reference/generated/numpy.vstack.html)), \n",
    "- en ny matrisse med 3 rader og 8 kolonner (Tips: Bruk [`numpy.hstack`](https://numpy.org/doc/stable/reference/generated/numpy.hstack.html)), \n",
    "- en ny 3-dimensjonal numpy array med form (2, 3, 4) (Tips: Bruk [`numpy.stack`](https://numpy.org/doc/stable/reference/generated/numpy.stack.html)). \n",
    "\n",
    "Det er også et valg hvilken av mat1 og mat2 skal komme først i kombinasjonen. Her tar vi alltid mat1 før mat2. "
   ]
  },
  {
   "cell_type": "code",
   "execution_count": 39,
   "metadata": {},
   "outputs": [
    {
     "name": "stdout",
     "output_type": "stream",
     "text": [
      "[[ 1.  1.  1.  1.]\n",
      " [ 1.  1.  1.  1.]\n",
      " [ 1.  1.  1.  1.]\n",
      " [ 2.  3.  4.  5.]\n",
      " [ 6.  7.  8.  9.]\n",
      " [10. 11. 12. 13.]]\n",
      "(6, 4)\n"
     ]
    }
   ],
   "source": [
    "# kombinere slik at det blir 6 rader og 4 kolonner\n",
    "combined_6x4 = np.vstack([mat1, mat2])\n",
    "print(combined_6x4)\n",
    "print(combined_6x4.shape)"
   ]
  },
  {
   "cell_type": "code",
   "execution_count": 40,
   "metadata": {},
   "outputs": [
    {
     "name": "stdout",
     "output_type": "stream",
     "text": [
      "[[ 1.  1.  1.  1.  2.  3.  4.  5.]\n",
      " [ 1.  1.  1.  1.  6.  7.  8.  9.]\n",
      " [ 1.  1.  1.  1. 10. 11. 12. 13.]]\n",
      "(3, 8)\n"
     ]
    }
   ],
   "source": [
    "# kombinere slik at det blir 3 rader og 8 kolonner\n",
    "combined_3x8 = np.hstack([mat1, mat2])\n",
    "print(combined_3x8)\n",
    "print(combined_3x8.shape)"
   ]
  },
  {
   "cell_type": "code",
   "execution_count": 41,
   "metadata": {},
   "outputs": [
    {
     "name": "stdout",
     "output_type": "stream",
     "text": [
      "[[[ 1.  1.  1.  1.]\n",
      "  [ 1.  1.  1.  1.]\n",
      "  [ 1.  1.  1.  1.]]\n",
      "\n",
      " [[ 2.  3.  4.  5.]\n",
      "  [ 6.  7.  8.  9.]\n",
      "  [10. 11. 12. 13.]]]\n",
      "(2, 3, 4)\n"
     ]
    }
   ],
   "source": [
    "# kombinere slik at det blir en array med shape (2, 3, 4)\n",
    "combined_2x3x4 = np.stack([mat1, mat2], axis=0)\n",
    "print(combined_2x3x4)\n",
    "print(combined_2x3x4.shape)"
   ]
  },
  {
   "cell_type": "markdown",
   "metadata": {},
   "source": [
    "### Undermatriser\n",
    "\n",
    "Når vi har store numpy arrayer, så vil vi ofte kun se på en liten del om gangen. For å gjøre det må vi kunne ta ut undermatrisser. For å velge ut rader og kolonner bruker vi indeksering. Se [`numpy` dokumentasjonen](https://numpy.org/doc/stable/user/basics.indexing.html#basics-indexing) for en god introduksjon til indeksering. \n",
    "\n",
    "Skriv ut følgende undermatriser av `mat2`: \n",
    "  - A: De første to kolonnene\n",
    "  - B: De første to radene og de to første kolonnene. \n",
    "  - C: De siste to radene og kolonnene 0 og 2. \n",
    "  - D: Radene 1 og 2 og kolonnene 0 og 3"
   ]
  },
  {
   "cell_type": "code",
   "execution_count": 52,
   "metadata": {},
   "outputs": [
    {
     "name": "stdout",
     "output_type": "stream",
     "text": [
      "[[ 2  3]\n",
      " [ 6  7]\n",
      " [10 11]]\n"
     ]
    }
   ],
   "source": [
    "# De første to kolonnene\n",
    "matA = mat2[:, :2]\n",
    "print(matA)"
   ]
  },
  {
   "cell_type": "code",
   "execution_count": 53,
   "metadata": {},
   "outputs": [
    {
     "name": "stdout",
     "output_type": "stream",
     "text": [
      "[[2 3]\n",
      " [6 7]]\n"
     ]
    }
   ],
   "source": [
    "# De første to radene og de to første kolonnene. \n",
    "matB = mat2[:2, :2]\n",
    "print(matB)"
   ]
  },
  {
   "cell_type": "code",
   "execution_count": 60,
   "metadata": {},
   "outputs": [
    {
     "name": "stdout",
     "output_type": "stream",
     "text": [
      "[[ 6  8]\n",
      " [10 12]]\n"
     ]
    }
   ],
   "source": [
    "# De siste to radene og kolonnene 0 og 2. \n",
    "matC = mat2[-2:, [0, 2]]\n",
    "print(matC)"
   ]
  },
  {
   "cell_type": "code",
   "execution_count": 62,
   "metadata": {},
   "outputs": [
    {
     "name": "stdout",
     "output_type": "stream",
     "text": [
      "[[ 6  9]\n",
      " [10 13]]\n"
     ]
    }
   ],
   "source": [
    "# Radene 1 og 2 og kolonnene 0 og 3\n",
    "matD = mat2[1:3, [0, 3]]\n",
    "print(matD)"
   ]
  },
  {
   "cell_type": "markdown",
   "metadata": {},
   "source": [
    "### Endre data\n",
    "\n",
    "Når vi har gitt data, så vil vi noen ganger endre på det. For eksempel kan det være at vi har verdier i data som er fysisk umulig, så vi vil sette de til den største mulige verdien."
   ]
  },
  {
   "cell_type": "markdown",
   "metadata": {},
   "source": [
    "Endre `mat2` slik at alle tall mindre enn 5 blir satt til 5 og tall større enn 10 blir satt til 10. Tips: Du kan bruke [`numpy.clip`](https://numpy.org/doc/stable/reference/generated/numpy.clip.html)."
   ]
  },
  {
   "cell_type": "code",
   "execution_count": 63,
   "metadata": {},
   "outputs": [
    {
     "name": "stdout",
     "output_type": "stream",
     "text": [
      "[[ 5  5  5  5]\n",
      " [ 6  7  8  9]\n",
      " [10 10 10 10]]\n"
     ]
    }
   ],
   "source": [
    "# mat2 med verdier mellom 5 og 10\n",
    "clipped_mat2 = np.clip(mat2, 5, 10)\n",
    "print(clipped_mat2)"
   ]
  },
  {
   "cell_type": "markdown",
   "metadata": {},
   "source": [
    "I `mat2`, bytt ut alle oddetallene med verdien 1. "
   ]
  },
  {
   "cell_type": "code",
   "execution_count": 64,
   "metadata": {},
   "outputs": [
    {
     "name": "stdout",
     "output_type": "stream",
     "text": [
      "[[ 2  1  4  1]\n",
      " [ 6  1  8  1]\n",
      " [10  1 12  1]]\n"
     ]
    }
   ],
   "source": [
    "# bytte ut alle oddetallene med verdien 1\n",
    "odd_mat2 = mat2.copy() # kopier mat2 til en ny numpy array odd_mat2\n",
    "oddetall = (odd_mat2 % 2 != 0)\n",
    "odd_mat2[oddetall] = 1\n",
    "print(odd_mat2)"
   ]
  },
  {
   "cell_type": "markdown",
   "metadata": {},
   "source": [
    "Merk at alle tall i `mat2` er lagret som integer. Gjør de om til `float`. Tips: Bruk [numpy.astype](https://numpy.org/doc/stable/reference/generated/numpy.ndarray.astype.html). "
   ]
  },
  {
   "cell_type": "code",
   "execution_count": 67,
   "metadata": {
    "tags": [
     "solution"
    ]
   },
   "outputs": [
    {
     "name": "stdout",
     "output_type": "stream",
     "text": [
      "[[ 2.  3.  4.  5.]\n",
      " [ 6.  7.  8.  9.]\n",
      " [10. 11. 12. 13.]]\n",
      "int32\n",
      "float64\n"
     ]
    }
   ],
   "source": [
    "# gjør om til float\n",
    "mat2_float = np.ndarray.astype(mat2, dtype=np.float64)\n",
    "print(mat2_float)\n",
    "print(mat2.dtype)\n",
    "print(mat2_float.dtype)"
   ]
  },
  {
   "cell_type": "markdown",
   "metadata": {},
   "source": [
    "Når vi skriver det ut så ser vi at float skrives med `2.` mens int skrives `2` uten punktum. "
   ]
  },
  {
   "cell_type": "markdown",
   "metadata": {},
   "source": [
    "### Matematikk med numpy "
   ]
  },
  {
   "cell_type": "markdown",
   "metadata": {},
   "source": [
    "Multipliser alle elementene i `mat2` med `2`. Tips: Ikke bruk løkker, du kan bruke `*` med numpy arrayer. "
   ]
  },
  {
   "cell_type": "code",
   "execution_count": 68,
   "metadata": {},
   "outputs": [
    {
     "name": "stdout",
     "output_type": "stream",
     "text": [
      "[[ 4  6  8 10]\n",
      " [12 14 16 18]\n",
      " [20 22 24 26]]\n"
     ]
    }
   ],
   "source": [
    "# 2 ganger mat2\n",
    "mat_2x2 = mat2*2\n",
    "print(mat_2x2)"
   ]
  },
  {
   "cell_type": "markdown",
   "metadata": {},
   "source": [
    "Regn ut summen av `mat1` og `mat2`. Tips: du kan bruke vanlig `+`. "
   ]
  },
  {
   "cell_type": "code",
   "execution_count": 69,
   "metadata": {},
   "outputs": [
    {
     "name": "stdout",
     "output_type": "stream",
     "text": [
      "[[ 3.  4.  5.  6.]\n",
      " [ 7.  8.  9. 10.]\n",
      " [11. 12. 13. 14.]]\n"
     ]
    }
   ],
   "source": [
    "# summen\n",
    "mat_sum = mat1+mat2\n",
    "print(mat_sum)"
   ]
  },
  {
   "cell_type": "markdown",
   "metadata": {},
   "source": [
    "Regn ut logaritmen av alle elementene i `mat2`. Tips: Bruk [`numpy.log`](https://numpy.org/doc/stable/reference/generated/numpy.log.html)."
   ]
  },
  {
   "cell_type": "code",
   "execution_count": 70,
   "metadata": {},
   "outputs": [
    {
     "name": "stdout",
     "output_type": "stream",
     "text": [
      "[[0.69314718 1.09861229 1.38629436 1.60943791]\n",
      " [1.79175947 1.94591015 2.07944154 2.19722458]\n",
      " [2.30258509 2.39789527 2.48490665 2.56494936]]\n"
     ]
    }
   ],
   "source": [
    "# logaritmen\n",
    "log_mat = np.log(mat2)\n",
    "print(log_mat)"
   ]
  },
  {
   "cell_type": "markdown",
   "metadata": {},
   "source": [
    "Regn ut maksimalverdien i `mat2`. Tips: Bruk [`numpy.max`](https://numpy.org/doc/stable/reference/generated/numpy.ndarray.max.html)."
   ]
  },
  {
   "cell_type": "code",
   "execution_count": 71,
   "metadata": {},
   "outputs": [
    {
     "name": "stdout",
     "output_type": "stream",
     "text": [
      "13\n"
     ]
    }
   ],
   "source": [
    "# maximum\n",
    "mat_max = np.max(mat2)\n",
    "print(mat_max)"
   ]
  },
  {
   "cell_type": "markdown",
   "metadata": {},
   "source": [
    "For hver kolonne i `mat2`, regn ut summen. Tips: Bruk [`numpy.sum`](https://numpy.org/doc/stable/reference/generated/numpy.ndarray.sum.html) med `axis`-argumentet."
   ]
  },
  {
   "cell_type": "code",
   "execution_count": 72,
   "metadata": {},
   "outputs": [
    {
     "name": "stdout",
     "output_type": "stream",
     "text": [
      "[18 21 24 27]\n"
     ]
    }
   ],
   "source": [
    "# summe per kolonne\n",
    "mat_sums = np.sum(mat2, axis=0)\n",
    "print(mat_sums)"
   ]
  },
  {
   "cell_type": "markdown",
   "metadata": {},
   "source": [
    "### Kombiner det du har lært\n",
    "\n",
    "Så lenge fikk du beskjed på hvert steg hva du skal gjøre og hva slags funksjon som du kan bruke. Nå skal vi prøve å kombinere de forskjellige ting du har lært. \n",
    "\n",
    "1. Lag en numpy-array `mat` som består av tre kolonner og 100 rader. Den første kolonnen skal inneholde jevnt fordelte tall fra 0 til 2. Den andre kolonnen skal inneholde uniformt fordelte tilfeldige tall mellom 0 og 5. Den tredje kolonnen skal inneholde et 2-tall hvis den andre kolonnen er større enn 4 og et 0-tall ellers. \n",
    "2. Skriv ut de første 10 radene av `mat`. \n",
    "3. Finn ut hvor mange av radene har en verdi i andre kolonnen som er større enn 4. \n",
    "4. Regn ut maximalverdien av den andre kolonnen. \n",
    "5. Regn ut summen av alle den andre kolonnen for alle rad der den andre kolonnen er større enn 4. \n",
    "6. Endre alle datapunkter som var større enn 4 til 4. Hvordan har resultatene av spørsmål 4 og 5 forandret seg? "
   ]
  },
  {
   "cell_type": "code",
   "execution_count": 76,
   "metadata": {},
   "outputs": [
    {
     "name": "stdout",
     "output_type": "stream",
     "text": [
      "[[0.         2.39822524 0.        ]\n",
      " [0.02020202 4.13768363 2.        ]\n",
      " [0.04040404 4.16194625 2.        ]\n",
      " [0.06060606 3.67131254 0.        ]\n",
      " [0.08080808 3.69574041 0.        ]\n",
      " [0.1010101  0.86408466 0.        ]\n",
      " [0.12121212 1.09588353 0.        ]\n",
      " [0.14141414 2.3388741  0.        ]\n",
      " [0.16161616 3.31565849 0.        ]\n",
      " [0.18181818 1.27072361 0.        ]]\n"
     ]
    }
   ],
   "source": [
    "# din kode her\n",
    "#1\n",
    "kol1 = np.linspace(0, 2, 100)\n",
    "kol2 = np.random.uniform(0, 5, 100)\n",
    "kol3 = np.where(kol2 > 4, 2, 0)\n",
    "#2\n",
    "mat = np.column_stack((kol1, kol2, kol3))\n",
    "print(mat[:10])\n",
    "\n"
   ]
  },
  {
   "cell_type": "code",
   "execution_count": 78,
   "metadata": {},
   "outputs": [
    {
     "name": "stdout",
     "output_type": "stream",
     "text": [
      "23\n"
     ]
    }
   ],
   "source": [
    "#3\n",
    "storre4 = np.sum(mat[:,1]>4)\n",
    "print(storre4)"
   ]
  },
  {
   "cell_type": "code",
   "execution_count": 80,
   "metadata": {},
   "outputs": [
    {
     "name": "stdout",
     "output_type": "stream",
     "text": [
      "4.995458370390534\n"
     ]
    }
   ],
   "source": [
    "#4\n",
    "maks_v  =np.max(mat[:,1])\n",
    "print(maks_v)"
   ]
  },
  {
   "cell_type": "code",
   "execution_count": 81,
   "metadata": {},
   "outputs": [
    {
     "name": "stdout",
     "output_type": "stream",
     "text": [
      "102.19020373051055\n"
     ]
    }
   ],
   "source": [
    "#5\n",
    "sum_storre4 = np.sum(mat[mat[:,1]>4,1])\n",
    "print(sum_storre4)"
   ]
  },
  {
   "cell_type": "code",
   "execution_count": 83,
   "metadata": {},
   "outputs": [
    {
     "name": "stdout",
     "output_type": "stream",
     "text": [
      "4.0 0.0\n"
     ]
    }
   ],
   "source": [
    "#6 \n",
    "mat[:,1] = np.where(mat[:,1]>4, 4, mat[:,1])\n",
    "ny_maks = np.max(mat[:,1])\n",
    "ny_sum = np.sum([mat[mat[:,1]>4,1]])\n",
    "\n",
    "print(f'{ny_maks} {ny_sum}')"
   ]
  },
  {
   "cell_type": "markdown",
   "metadata": {},
   "source": [
    "Maks endret seg til 4 siden det er grensen.\n",
    "Summen ble 0 ettersom ingen tall er større enn 4, og den regner fra alt som er større enn 4"
   ]
  }
 ],
 "metadata": {
  "celltoolbar": "Tags",
  "kernelspec": {
   "display_name": "Python 3 (ipykernel)",
   "language": "python",
   "name": "python3"
  },
  "language_info": {
   "codemirror_mode": {
    "name": "ipython",
    "version": 3
   },
   "file_extension": ".py",
   "mimetype": "text/x-python",
   "name": "python",
   "nbconvert_exporter": "python",
   "pygments_lexer": "ipython3",
   "version": "3.11.4"
  }
 },
 "nbformat": 4,
 "nbformat_minor": 2
}
