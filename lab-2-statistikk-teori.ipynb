{
 "cells": [
  {
   "cell_type": "markdown",
   "metadata": {},
   "source": [
    "## Litt teori\n",
    "\n",
    "Vi starter oppgaven med litt teori om sannsynlighetsfordelinger. "
   ]
  },
  {
   "cell_type": "markdown",
   "metadata": {},
   "source": [
    "I en familie med fire barn, hva er sannsynligheten for at to er gutter og to er jenter?"
   ]
  },
  {
   "cell_type": "markdown",
   "metadata": {},
   "source": [
    "50% sjanse for å få gutt, og 50% for jente, med fire barn. Gir sannsynlighet (0.5)^4 = 0.0625\n",
    "\n",
    "Så finne ut for 2 jenter og 2 gutter\n",
    "4!/2!(4-2)! = 24/4 = 6\n",
    "\n",
    "Total sannsynlighet er da \n",
    "6*0.0625 = 0.375"
   ]
  },
  {
   "cell_type": "markdown",
   "metadata": {},
   "source": [
    "Anta at sannsynligheten $P(A) = 0.3$, og betinget sannsynligheter $P(A|B) = 0.5$ og $P(B|A) = 0.2$. Hva er sannsynligheten $P(B)$?"
   ]
  },
  {
   "cell_type": "markdown",
   "metadata": {},
   "source": [
    "P(B|A)=(P(A|B)*P(B))/P(A) \n",
    "\n",
    "0.2 = (0.5*P(B))/0.3\n",
    "\n",
    "P(B) = 0.2*0.3/0.5 = 0.12 = 12%"
   ]
  },
  {
   "cell_type": "markdown",
   "metadata": {},
   "source": [
    "Vis at hvis $A \\subseteq B$, så er $P(A) \\le P(B)$."
   ]
  },
  {
   "cell_type": "markdown",
   "metadata": {},
   "source": [
    "P(A∪B)=P(B)   (siden A⊆B, altså A∪B=B)\n",
    "\n",
    "P(A∪B) = P(A)+P(B)-P(A∩B)\n",
    "\n",
    "P(A∪B) = P(A)+P(B)-P(A) (siden A⊆B, er A∩B = A)\n",
    "\n",
    "P(B) = P(A)+P(B)-P(A)\n",
    "\n",
    "Bekrefter at P(A) enten er lik eller mindre enn P(B), Hvis A er et subset av B, Som gir mening i logisk tenking og"
   ]
  }
 ],
 "metadata": {
  "celltoolbar": "Tags",
  "kernelspec": {
   "display_name": "Python 3 (ipykernel)",
   "language": "python",
   "name": "python3"
  },
  "language_info": {
   "codemirror_mode": {
    "name": "ipython",
    "version": 3
   },
   "file_extension": ".py",
   "mimetype": "text/x-python",
   "name": "python",
   "nbconvert_exporter": "python",
   "pygments_lexer": "ipython3",
   "version": "3.11.3"
  }
 },
 "nbformat": 4,
 "nbformat_minor": 2
}
